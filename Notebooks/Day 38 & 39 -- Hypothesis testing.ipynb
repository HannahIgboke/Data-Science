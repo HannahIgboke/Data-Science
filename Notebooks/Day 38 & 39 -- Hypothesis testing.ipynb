{
 "cells": [
  {
   "cell_type": "markdown",
   "id": "6f2b527c",
   "metadata": {},
   "source": [
    "# Hypothesis testing\n",
    "\n",
    "A hypothesis is an assertion or guess about the population parameters which needs to be tested so that it can either be upheld or rejected at a certain level of significance. A hypothesis rejected at some level of significance may be accepted at another level of significance. For e.g, a hypothesis rejected at 0.01(1%) level can be accepted at 5% or 10% level of significance.\n",
    "\n",
    "The significance level is also used to deduce how confident the statistician is that the hypothesis is true. E.g at a 1% significance level, it means that the statistician is 99% confident of his hypothesis.\n",
    "\n",
    "Set up a hypothesis based on some observations from your data and then proceed to testing it.\n",
    "\n",
    "1. After formulating a hypotheis, if the data gives us strong evidence that the hypotheis is wrong, we can reject the hypothesis.\n",
    "\n",
    "2. But when we have data that is similar to the hypothesis but not exactly the same, we can fail to reject the hypothesis because it is unclear if the hypothesis should be based on the result of the preliminary experiment or any of the slightly different results during testing.\n",
    "\n",
    "\n",
    "**Null Hypothesis**\n",
    "\n",
    "This is the hypothesis that there is no difference between things. A possible null hypothesis can be: \"`There is no difference in recovery times between Drug C and Drug D.`\" Note that, without the null hypothesis, we need preliminary data in order to make a statement that we can test in follow up experiments. In contrast,the null hypothesis does not require preliminary data because the only value that represents no difference is 0.\n",
    "\n",
    "\n",
    "In order to decide if we reject or fail to reject the null hypothesis, we run the data through something called a statistical test. The output of the statistical test is a decision to reject or fail to reject the null hypothesis.\n",
    "\n",
    "A statistical test needs three things:\n",
    "\n",
    "- Data\n",
    "- Null or primary hypothesis - that is, it needs something to reject or fail to reject\n",
    "- Alternative hypothesis\n",
    "\n",
    "**Alternative hypothesis**\n",
    "\n",
    "When we only have two groups of data, the alternative hypothesis is simply the opposite of the null hypothesis. However, when we have three groups of data, that does not apply. E.g:\n",
    "\n",
    "$H_0:$ there is no difference in recovery times between drugs C,D and E\n",
    "\n",
    "Now we have choices for the alternative hypothesis\n",
    "\n",
    "$H_1:$ Drugs C,D and E are all different from each other \n",
    "\n",
    "$H_2:$ Drugs C,D are the same as Drug E is doing its own thing\n",
    "\n",
    "We now have two alternative hypothesis, and depending on which one we use in the statistical test we can end up making a different decision about the null hypothesis. Therefore, it is important to state which one we want to use. At the end of the day we can say we rejected the null hypothesis in favor of this/that alternative hypothesis."
   ]
  },
  {
   "cell_type": "markdown",
   "id": "0a0b0535",
   "metadata": {},
   "source": [
    "## Understanding hypothesis testing\n",
    "\n",
    "**Step 1:** \n",
    "\n",
    "Null hypothesis (status quo): $H_0\\ \\Rightarrow \\ \\leq, \\ \\geq, \\ = $ (i.e, the null hypothesis can involve any of the relationships highlighted by the signs)\n",
    "\n",
    "Alternative hypothesis (bold claim): $H_1 \\ \\Rightarrow \\ >, \\ <, \\ \\neq$\n",
    "\n",
    "**Step 2:**\n",
    "\n",
    "- Collect a sample of size n\n",
    "- Compute the mean from this sample $\\bar{x}$\n",
    "\n",
    "**Step 3:** Compute the test staistic:\n",
    "\n",
    "- If population variance is known, calculate z-score as:\n",
    "\n",
    "$$z = \\frac{\\bar{x} - \\mu}{\\sigma/\\sqrt{n}}$$\n",
    "\n",
    "- If population variance is unknown, claulate t-score as:\n",
    "$$t = \\frac{\\bar{x} - \\mu}{s/\\sqrt{n}}$$\n",
    "\n",
    "\n",
    "**Step 4:** decide a significance level $\\alpha$. Lower $\\alpha$ means we need a stronger evidence to reject the null hypothesis\n",
    "\n",
    "Where: $significance \\ level = 1 - confidence \\ level$\n",
    "\n",
    "**Step 5.1:** apply decision rule:\n",
    "\n",
    "`A. If test statistic is z-score`\n",
    "\n",
    "- 2 tailed z-test:\n",
    "\n",
    "$$|z| > z_\\frac{\\alpha}{2} \\Rightarrow Accept \\ H_1 \\ or \\ Reject \\ H_0$$\n",
    "\n",
    "- Right tailed z-test:\n",
    "\n",
    "$$z > z_\\alpha \\Rightarrow Accept \\ H_1 \\ or \\ Reject \\ H_0$$\n",
    "\n",
    "- Left tailed z-test:\n",
    "\n",
    "$$z < -z_\\alpha \\Rightarrow Accept \\ H_1 \\ or \\ Reject \\ H_0$$\n",
    "\n",
    "Where $z_\\frac{\\alpha}{2}$ or $z_\\alpha$ are called `critical value`. This critical value is obtained in accordance with the test statistic and is point of demarcation between the acceptance region and the rejection region for the test. This concept also applies to the case where the test statistic is the t-score.\n",
    "\n",
    "`B. If test statistic is t-score`\n",
    "\n",
    "- 2 tailed t-test:\n",
    "\n",
    "$$|t| > t_{n-1,\\frac{\\alpha}{2}} \\Rightarrow Accept \\ H_1 \\ or \\ Reject \\ H_0$$\n",
    "\n",
    "- Right tailed z-test:\n",
    "\n",
    "$$t > t_{n-1,\\alpha} \\Rightarrow Accept \\ H_1 \\ or \\ Reject \\ H_0$$\n",
    "\n",
    "- Left tailed z-test:\n",
    "\n",
    "$$t < t_{n-1,\\alpha} \\Rightarrow Accept \\ H_1 \\ or \\ Reject \\ H_0$$\n",
    "\n",
    "**Step 5.2:** compute the p-value $P(Test \\ statistic|H_0)$\n",
    "\n",
    "- 2 tailed test:\n",
    "\n",
    "$$p \\ value = 2 * (1.0 - cdf(test \\ statistic)) $$\n",
    "\n",
    "- One tailed test:\n",
    "\n",
    "$$p \\ values = (1.0 - cdf(test \\ statistic))$$\n",
    "\n",
    "\n",
    "Now, \n",
    "\n",
    "$$if(p \\ value < \\alpha) \\Rightarrow Accept \\ H_1 \\ or \\ Reject H_0$$\n",
    "\n"
   ]
  },
  {
   "cell_type": "code",
   "execution_count": 1,
   "id": "d1c30036",
   "metadata": {},
   "outputs": [],
   "source": [
    "import pandas as pd\n",
    "import numpy as np\n",
    "import matplotlib.pyplot as plt\n",
    "from scipy.stats import norm"
   ]
  },
  {
   "cell_type": "markdown",
   "id": "0a68d026",
   "metadata": {},
   "source": [
    "### Question 1\n",
    "\n",
    "Pista House selling Peanuts claims that each parcel packet on average has 500 grams of sugar (also mentioned on the label of packet). I am skeptic of their claims and believe that on average each packet does not contain 500grams of sugar. How do I prove my claim? (The population std is 50).\n",
    "\n",
    "\n",
    "**SOLUTION**\n",
    "\n",
    "**Step 1:**\n",
    "My hypothesis is as follows:\n",
    "\n",
    "$H_0 \\ (status \\ quo):$ Peanut packet does not contain 500grams of sugar\n",
    "\n",
    "$H_1 \\ (bold \\ claim):$ Peanut packet contains 500grams of sugar"
   ]
  },
  {
   "cell_type": "code",
   "execution_count": 5,
   "id": "47f31c21",
   "metadata": {},
   "outputs": [
    {
     "data": {
      "text/plain": [
       "465.3"
      ]
     },
     "execution_count": 5,
     "metadata": {},
     "output_type": "execute_result"
    }
   ],
   "source": [
    "## Step 2: collecting sample of peanuts from the population of peanuts\n",
    "\n",
    "sample = [490, 220, 470, 500, 495, 496, 496, 498, 508, 480]\n",
    "\n",
    "##computing the mean for this sample\n",
    "\n",
    "mean = round(np.mean(sample),1)\n",
    "mean"
   ]
  },
  {
   "cell_type": "code",
   "execution_count": 8,
   "id": "b4b1d321",
   "metadata": {},
   "outputs": [],
   "source": [
    "##defining the sample and population parameters\n",
    "\n",
    "sample_size = len(sample)\n",
    "sample_mean = mean\n",
    "pop_mean = 500\n",
    "pop_std = 50"
   ]
  },
  {
   "cell_type": "code",
   "execution_count": 9,
   "id": "8562e8e0",
   "metadata": {},
   "outputs": [
    {
     "name": "stdout",
     "output_type": "stream",
     "text": [
      "-2.1946206961568544\n"
     ]
    }
   ],
   "source": [
    "## Step 3: compute the test statistic, z-score since the pop_std is given\n",
    "\n",
    "#creating a function\n",
    "\n",
    "def z_score(sample_size, sample_mean, pop_mean, pop_std):\n",
    "    numerator = sample_mean - pop_mean\n",
    "    denominator = pop_std/sample_size**0.5\n",
    "    return numerator/denominator\n",
    "\n",
    "z = z_score(sample_size, sample_mean, pop_mean, pop_std)\n",
    "print(z)"
   ]
  },
  {
   "cell_type": "code",
   "execution_count": 12,
   "id": "c0835275",
   "metadata": {},
   "outputs": [
    {
     "data": {
      "text/plain": [
       "0.05"
      ]
     },
     "execution_count": 12,
     "metadata": {},
     "output_type": "execute_result"
    }
   ],
   "source": [
    "## Step 4: deciding on a significance level\n",
    "confidence_level = 0.95\n",
    "alpha = 1-confidence_level\n",
    "round(alpha, 3)"
   ]
  },
  {
   "cell_type": "code",
   "execution_count": 13,
   "id": "0a50452a",
   "metadata": {},
   "outputs": [
    {
     "data": {
      "text/plain": [
       "1.959963984540054"
      ]
     },
     "execution_count": 13,
     "metadata": {},
     "output_type": "execute_result"
    }
   ],
   "source": [
    "## Step 5: conducting a two-tailed test\n",
    "#two tailed z-score for 95% confidence interval\n",
    "\n",
    "z_critical = norm.ppf(1-alpha/2)\n",
    "z_critical"
   ]
  },
  {
   "cell_type": "code",
   "execution_count": 21,
   "id": "56164e9d",
   "metadata": {},
   "outputs": [
    {
     "data": {
      "text/plain": [
       "Text(465.3, 0.0007, 'x_bar')"
      ]
     },
     "execution_count": 21,
     "metadata": {},
     "output_type": "execute_result"
    },
    {
     "data": {
      "image/png": "[encoded data removed]",
      "text/plain": [
       "<Figure size 640x480 with 1 Axes>"
      ]
     },
     "metadata": {},
     "output_type": "display_data"
    }
   ],
   "source": [
    "## plotting the sampling distribution with the rejection regions\n",
    "\n",
    "#defining the min and max values for the x axis\n",
    "x_min = 400\n",
    "x_max = 600\n",
    "\n",
    "#defining the mean and std for the sampling distribution\n",
    "mean =pop_mean\n",
    "std = pop_std/sample_size**0.5\n",
    "\n",
    "#ploting the graph\n",
    "x = np.linspace(x_min, x_max, 100)\n",
    "y = norm.pdf(x, mean, std)\n",
    "plt.xlim(x_min, x_max)\n",
    "plt.plot(x,y)\n",
    "\n",
    "#computing the left and right critical values (two tailed test)\n",
    "z_critical_left =  pop_mean + (- z_critical * std)\n",
    "z_critical_right = pop_mean + (z_critical * std)\n",
    "\n",
    "#shading the left rejection region\n",
    "x1 = np.linspace(x_min, z_critical_left, 100)\n",
    "y1 = norm.pdf(x1, mean, std)\n",
    "plt.fill_between(x1, y1, color='yellow')\n",
    "\n",
    "#shading the right rejection region\n",
    "x2 = np.linspace(z_critical_right, x_max, 100)\n",
    "y2 = norm.pdf(x2, mean, std)\n",
    "plt.fill_between(x2, y2, color='yellow')\n",
    "\n",
    "#let's see where our sample mean falls\n",
    "plt.scatter(sample_mean, 0)\n",
    "plt.annotate('x_bar', (sample_mean, 0.0007))"
   ]
  },
  {
   "cell_type": "markdown",
   "id": "36c64f1f",
   "metadata": {},
   "source": [
    "The position of the x_bar shows that it is within the shaded rejection area. \n",
    "\n",
    "Following the steps, there are two ways we can either accept or reject the hypothesis - the z-test or the p-value"
   ]
  },
  {
   "cell_type": "code",
   "execution_count": 22,
   "id": "dc3ac588",
   "metadata": {},
   "outputs": [
    {
     "name": "stdout",
     "output_type": "stream",
     "text": [
      "Reject the null hypothesis\n"
     ]
    }
   ],
   "source": [
    "#conclusion using the z-test\n",
    "\n",
    "if (np.abs(z) > z_critical):\n",
    "    print('Reject the null hypothesis')\n",
    "else:\n",
    "    print('Fail to the null hypothesis')"
   ]
  },
  {
   "cell_type": "code",
   "execution_count": 23,
   "id": "49d43d49",
   "metadata": {},
   "outputs": [
    {
     "name": "stdout",
     "output_type": "stream",
     "text": [
      "p-value = 0.0282\n",
      "Reject the null hypothesis\n"
     ]
    }
   ],
   "source": [
    "#conclusion using the p-value\n",
    "\n",
    "p_value = 2 * (1.0 - norm.cdf(np.abs(z)))\n",
    "print('p-value =', round(p_value, 4))\n",
    "\n",
    "if (p_value<alpha):\n",
    "    print('Reject the null hypothesis')\n",
    "else:\n",
    "    print('Fail to reject the null hypothesis')"
   ]
  },
  {
   "cell_type": "markdown",
   "id": "21c11ae7",
   "metadata": {},
   "source": [
    "Results show that we can be 95% confident that Pista's peanut contains 500grams of sugar."
   ]
  },
  {
   "cell_type": "markdown",
   "id": "ebec8d5c",
   "metadata": {},
   "source": [
    "### Question 2\n",
    "\n",
    "You have developed a new NLP algorithm and done a user study. You claim that the average rating given by the users is greater than 4 on a scale of 1 to 5. How do you prove this to your client? Given that the population std is 0.5.\n",
    "\n",
    "\n",
    "**SOLUTION**\n",
    "\n",
    "**Step 1:**\n",
    "\n",
    "$H_0 \\ (status \\ quo):$ The average rating is not greater than 4\n",
    "\n",
    "$H_1 \\ (bold \\ claim):$ The average rating of the algorithm is greater than 4"
   ]
  },
  {
   "cell_type": "code",
   "execution_count": 24,
   "id": "9eb0f0b2",
   "metadata": {},
   "outputs": [
    {
     "data": {
      "text/plain": [
       "4.25"
      ]
     },
     "execution_count": 24,
     "metadata": {},
     "output_type": "execute_result"
    }
   ],
   "source": [
    "#sample collection, n=20\n",
    "\n",
    "sam = [4,3,5,4,5,3,5,5,4,2,4,5,5,4,4,5,4,5,4,5]\n",
    "mean = round(np.mean(sam), 2)\n",
    "mean"
   ]
  },
  {
   "cell_type": "code",
   "execution_count": 25,
   "id": "c21fbfcc",
   "metadata": {},
   "outputs": [],
   "source": [
    "sample_size = len(sam)\n",
    "sample_mean = mean\n",
    "pop_mean = 4\n",
    "pop_std = 0.5"
   ]
  },
  {
   "cell_type": "code",
   "execution_count": 26,
   "id": "07b2cc14",
   "metadata": {},
   "outputs": [
    {
     "name": "stdout",
     "output_type": "stream",
     "text": [
      "2.23606797749979\n"
     ]
    }
   ],
   "source": [
    "z = z_score(sample_size, sample_mean, pop_mean, pop_std)\n",
    "print(z)"
   ]
  },
  {
   "cell_type": "code",
   "execution_count": 28,
   "id": "566ec247",
   "metadata": {},
   "outputs": [
    {
     "name": "stdout",
     "output_type": "stream",
     "text": [
      "1.6448536269514722\n"
     ]
    }
   ],
   "source": [
    "## one tail test\n",
    "\n",
    "confidence_level = 0.95\n",
    "alpha = 1 - confidence_level\n",
    "z_critical = norm.ppf(1 - alpha)\n",
    "print(z_critical)"
   ]
  },
  {
   "cell_type": "code",
   "execution_count": 29,
   "id": "03ec5eab",
   "metadata": {},
   "outputs": [
    {
     "data": {
      "text/plain": [
       "Text(4.25, 0.1, 'x_bar')"
      ]
     },
     "execution_count": 29,
     "metadata": {},
     "output_type": "execute_result"
    },
    {
     "data": {
      "image/png": "[encoded data removed]",
      "text/plain": [
       "<Figure size 640x480 with 1 Axes>"
      ]
     },
     "metadata": {},
     "output_type": "display_data"
    }
   ],
   "source": [
    "## plotting the sampling distribution with the rejection regions\n",
    "\n",
    "#defining the min and max values for the x axis\n",
    "x_min = 3.5\n",
    "x_max = 4.5\n",
    "\n",
    "#defining the mean and std for the sampling distribution\n",
    "mean =pop_mean\n",
    "std = pop_std/sample_size**0.5\n",
    "\n",
    "#ploting the graph\n",
    "x = np.linspace(x_min, x_max, 100)\n",
    "y = norm.pdf(x, mean, std)\n",
    "plt.xlim(x_min, x_max)\n",
    "plt.plot(x,y)\n",
    "\n",
    "#computing the left and right critical values (two tailed test)\n",
    "z_critical_right = pop_mean + (z_critical * std)\n",
    "\n",
    "#shading the right rejection region\n",
    "x1 = np.linspace(z_critical_right, x_max, 100)\n",
    "y1 = norm.pdf(x1, mean, std)\n",
    "plt.fill_between(x1, y1, color='yellow')\n",
    "\n",
    "\n",
    "#let's see where our sample mean falls\n",
    "plt.scatter(sample_mean, 0)\n",
    "plt.annotate('x_bar', (sample_mean, 0.1))"
   ]
  },
  {
   "cell_type": "markdown",
   "id": "2bc0a69d",
   "metadata": {},
   "source": [
    "Again, the position of the x_bar is within the shaded rejection area. This shows we can reject the results."
   ]
  },
  {
   "cell_type": "code",
   "execution_count": 30,
   "id": "cf43a065",
   "metadata": {},
   "outputs": [
    {
     "name": "stdout",
     "output_type": "stream",
     "text": [
      "Reject the null hypothesis\n"
     ]
    }
   ],
   "source": [
    "#conclusion using z-test\n",
    "\n",
    "if (z>z_critical):\n",
    "    print('Reject the null hypothesis')\n",
    "else:\n",
    "    print('Fail to reject the hypothesis')"
   ]
  },
  {
   "cell_type": "code",
   "execution_count": 31,
   "id": "f23b5118",
   "metadata": {},
   "outputs": [
    {
     "name": "stdout",
     "output_type": "stream",
     "text": [
      "p-value = 0.0127\n",
      "Reject the null hypothesis\n"
     ]
    }
   ],
   "source": [
    "#using p-value\n",
    "\n",
    "p_value = 1.0 - norm.cdf(np.abs(z))\n",
    "print('p-value =', round(p_value, 4))\n",
    "\n",
    "if (p_value < alpha):\n",
    "    print('Reject the null hypothesis')\n",
    "else:\n",
    "    print('Fail to reject the hypothesis')"
   ]
  },
  {
   "cell_type": "markdown",
   "id": "b5caff22",
   "metadata": {},
   "source": [
    "### Question 3\n",
    "\n",
    "TATA has developed a better fuel management system for the SUV segment. They claim that with this system, on average the SUV's mileage is at least 15km/litre. How do we prove this? The poulation std is given as 1.\n",
    "\n",
    "\n",
    "**SOLUTION**\n",
    "\n",
    "**Step 1:**\n",
    "\n",
    "$H_0 \\ (status \\ quo):$ The average mileage is not up to 15km/litre or above\n",
    "\n",
    "$H_1 \\ (bold \\ claim):$ The new system causes a average mileage of 15km/litre or above"
   ]
  },
  {
   "cell_type": "code",
   "execution_count": 32,
   "id": "7568c024",
   "metadata": {},
   "outputs": [
    {
     "data": {
      "text/plain": [
       "15.1"
      ]
     },
     "execution_count": 32,
     "metadata": {},
     "output_type": "execute_result"
    }
   ],
   "source": [
    "sam = [14.08,14.13,15.65,13.78,16.26,14.97,15.36,15.81,14.53,16.79,15.78,16.98,13.23,15.43,15.46,13.88,14.31,14.41,15.76,15.38]\n",
    "mean = round(np.mean(sam), 1)\n",
    "mean"
   ]
  },
  {
   "cell_type": "code",
   "execution_count": 33,
   "id": "85426ef6",
   "metadata": {},
   "outputs": [],
   "source": [
    "sample_size = len(sam)\n",
    "sample_mean = mean\n",
    "pop_mean = 15\n",
    "pop_std = 1"
   ]
  },
  {
   "cell_type": "code",
   "execution_count": 34,
   "id": "04dd84b4",
   "metadata": {},
   "outputs": [
    {
     "name": "stdout",
     "output_type": "stream",
     "text": [
      "0.4472135954999564\n"
     ]
    }
   ],
   "source": [
    "z = z_score(sample_size, sample_mean, pop_mean, pop_std)\n",
    "print(z)"
   ]
  },
  {
   "cell_type": "code",
   "execution_count": 35,
   "id": "fc0a1534",
   "metadata": {},
   "outputs": [
    {
     "name": "stdout",
     "output_type": "stream",
     "text": [
      "1.6448536269514722\n"
     ]
    }
   ],
   "source": [
    "## one tail test\n",
    "\n",
    "confidence_level = 0.95\n",
    "alpha = 1 - confidence_level\n",
    "z_critical = norm.ppf(1 - alpha)\n",
    "print(z_critical)"
   ]
  },
  {
   "cell_type": "code",
   "execution_count": 36,
   "id": "71151d70",
   "metadata": {},
   "outputs": [
    {
     "data": {
      "text/plain": [
       "Text(15.1, 0.1, 'x_bar')"
      ]
     },
     "execution_count": 36,
     "metadata": {},
     "output_type": "execute_result"
    },
    {
     "data": {
      "image/png": "[encoded data removed]",
      "text/plain": [
       "<Figure size 640x480 with 1 Axes>"
      ]
     },
     "metadata": {},
     "output_type": "display_data"
    }
   ],
   "source": [
    "## plotting the sampling distribution with the rejection regions\n",
    "\n",
    "#defining the min and max values for the x axis\n",
    "x_min = 13\n",
    "x_max = 17\n",
    "\n",
    "#defining the mean and std for the sampling distribution\n",
    "mean =pop_mean\n",
    "std = pop_std/sample_size**0.5\n",
    "\n",
    "#ploting the graph\n",
    "x = np.linspace(x_min, x_max, 100)\n",
    "y = norm.pdf(x, mean, std)\n",
    "plt.xlim(x_min, x_max)\n",
    "plt.plot(x,y)\n",
    "\n",
    "#computing the right critical values\n",
    "z_critical_right = pop_mean + (z_critical * std)\n",
    "\n",
    "#shading the right rejection region\n",
    "x1 = np.linspace(z_critical_right, x_max, 100)\n",
    "y1 = norm.pdf(x1, mean, std)\n",
    "plt.fill_between(x1, y1, color='yellow')\n",
    "\n",
    "\n",
    "#let's see where our sample mean falls\n",
    "plt.scatter(sample_mean, 0)\n",
    "plt.annotate('x_bar', (sample_mean, 0.1))"
   ]
  },
  {
   "cell_type": "markdown",
   "id": "20648a64",
   "metadata": {},
   "source": [
    "The mean falls within the acceptance region, therefore we have to accept the null hypothesis that the mileage is not up to 15km/litre."
   ]
  },
  {
   "cell_type": "code",
   "execution_count": 37,
   "id": "10a2ac89",
   "metadata": {},
   "outputs": [
    {
     "name": "stdout",
     "output_type": "stream",
     "text": [
      "Fail to reject the hypothesis\n"
     ]
    }
   ],
   "source": [
    "#conclusion using z-test\n",
    "\n",
    "if (z>z_critical):\n",
    "    print('Reject the null hypothesis')\n",
    "else:\n",
    "    print('Fail to reject the hypothesis')"
   ]
  },
  {
   "cell_type": "code",
   "execution_count": 38,
   "id": "279033f2",
   "metadata": {},
   "outputs": [
    {
     "name": "stdout",
     "output_type": "stream",
     "text": [
      "p-value = 0.3274\n",
      "Fail to reject the hypothesis\n"
     ]
    }
   ],
   "source": [
    "#using p-value\n",
    "\n",
    "p_value = 1.0 - norm.cdf(np.abs(z))\n",
    "print('p-value =', round(p_value, 4))\n",
    "\n",
    "if (p_value < alpha):\n",
    "    print('Reject the null hypothesis')\n",
    "else:\n",
    "    print('Fail to reject the hypothesis')"
   ]
  },
  {
   "cell_type": "markdown",
   "id": "fbf47a55",
   "metadata": {},
   "source": [
    "### Question 4\n",
    "\n",
    "You have developed a new machine learning application and claim that on average it takes less than 100ms to predict for any future datapoint. How do you convince your client about this claim? (Based on past data you know that the std is 10ms)\n",
    "\n",
    "\n",
    "**SOLUTION**\n",
    "\n",
    "**Step 1:**\n",
    "\n",
    "$H_0 \\ (status \\ quo):$ The app does not take <100ms for prediction\n",
    "\n",
    "$H_1 \\ (bold \\ claim):$ The ML app takes <100ms for prediction"
   ]
  },
  {
   "cell_type": "code",
   "execution_count": 39,
   "id": "baafaea3",
   "metadata": {},
   "outputs": [],
   "source": [
    "sample_size = 100\n",
    "sample_mean = 97.5\n",
    "pop_mean = 100\n",
    "pop_std = 10"
   ]
  },
  {
   "cell_type": "code",
   "execution_count": 40,
   "id": "2ed3a070",
   "metadata": {},
   "outputs": [
    {
     "name": "stdout",
     "output_type": "stream",
     "text": [
      "-2.5\n"
     ]
    }
   ],
   "source": [
    "z = z_score(sample_size, sample_mean, pop_mean, pop_std)\n",
    "print(z)"
   ]
  },
  {
   "cell_type": "code",
   "execution_count": 41,
   "id": "77c55846",
   "metadata": {},
   "outputs": [
    {
     "name": "stdout",
     "output_type": "stream",
     "text": [
      "2.3263478740408408\n"
     ]
    }
   ],
   "source": [
    "## one tail test\n",
    "\n",
    "confidence_level = 0.99\n",
    "alpha = 1 - confidence_level\n",
    "z_critical = norm.ppf(1 - alpha)\n",
    "print(z_critical)"
   ]
  },
  {
   "cell_type": "code",
   "execution_count": 43,
   "id": "4059b5c9",
   "metadata": {},
   "outputs": [
    {
     "data": {
      "text/plain": [
       "Text(97.5, 0.02, 'x_bar')"
      ]
     },
     "execution_count": 43,
     "metadata": {},
     "output_type": "execute_result"
    },
    {
     "data": {
      "image/png": "[encoded data removed]",
      "text/plain": [
       "<Figure size 640x480 with 1 Axes>"
      ]
     },
     "metadata": {},
     "output_type": "display_data"
    }
   ],
   "source": [
    "## plotting the sampling distribution with the rejection regions\n",
    "\n",
    "#defining the min and max values for the x axis\n",
    "x_min = 95\n",
    "x_max = 105\n",
    "\n",
    "#defining the mean and std for the sampling distribution\n",
    "mean =pop_mean\n",
    "std = pop_std/sample_size**0.5\n",
    "\n",
    "#ploting the graph\n",
    "x = np.linspace(x_min, x_max, 100)\n",
    "y = norm.pdf(x, mean, std)\n",
    "plt.xlim(x_min, x_max)\n",
    "plt.plot(x,y)\n",
    "\n",
    "#computing the left critical values\n",
    "z_critical_left = pop_mean + (-z_critical * std)\n",
    "\n",
    "#shading the right rejection region\n",
    "x1 = np.linspace(x_min, z_critical_left, 100)\n",
    "y1 = norm.pdf(x1, mean, std)\n",
    "plt.fill_between(x1, y1, color='yellow')\n",
    "\n",
    "\n",
    "#let's see where our sample mean falls\n",
    "plt.scatter(sample_mean, 0)\n",
    "plt.annotate('x_bar', (sample_mean, 0.02))"
   ]
  },
  {
   "cell_type": "markdown",
   "id": "d47f4a1d",
   "metadata": {},
   "source": [
    "The sample mean falls within the rejection region. We can reject the null hypothesis."
   ]
  },
  {
   "cell_type": "code",
   "execution_count": 45,
   "id": "8b21c974",
   "metadata": {},
   "outputs": [
    {
     "name": "stdout",
     "output_type": "stream",
     "text": [
      "Reject the null hypothesis\n"
     ]
    }
   ],
   "source": [
    "#conclusion using z-test\n",
    "\n",
    "if (z<-z_critical):\n",
    "    print('Reject the null hypothesis')\n",
    "else:\n",
    "    print('Fail to reject the hypothesis')"
   ]
  },
  {
   "cell_type": "code",
   "execution_count": 46,
   "id": "04cef791",
   "metadata": {},
   "outputs": [
    {
     "name": "stdout",
     "output_type": "stream",
     "text": [
      "p-value = 0.0062\n",
      "Reject the null hypothesis\n"
     ]
    }
   ],
   "source": [
    "#using p-value\n",
    "\n",
    "p_value = 1.0 - norm.cdf(np.abs(z))\n",
    "print('p-value =', round(p_value, 4))\n",
    "\n",
    "if (p_value < alpha):\n",
    "    print('Reject the null hypothesis')\n",
    "else:\n",
    "    print('Fail to reject the hypothesis')"
   ]
  },
  {
   "cell_type": "markdown",
   "id": "5bbdc6a8",
   "metadata": {},
   "source": [
    "We are 95% confident that our ML app can make predictions in less than 100ms."
   ]
  },
  {
   "cell_type": "markdown",
   "id": "6a4a9026",
   "metadata": {},
   "source": [
    "While performing a statistical test, it is often done on a sample of data and not in the actual population, therefore, a true hypothesis can be rejected, which leads to error. Some of these cases include:\n",
    "\n",
    "- Rejection of a null hypothesis when it is true = **Type I error**\n",
    "- Acceptance of a null hypothesis when it is false = **Type II error** \n",
    "\n",
    "Usually, we can combat these errors by increasing the sample size, thereby reducing the probability of committing either of these errors"
   ]
  },
  {
   "cell_type": "code",
   "execution_count": null,
   "id": "36685dc3",
   "metadata": {},
   "outputs": [],
   "source": []
  }
 ],
 "metadata": {
  "kernelspec": {
   "display_name": "Python 3 (ipykernel)",
   "language": "python",
   "name": "python3"
  },
  "language_info": {
   "codemirror_mode": {
    "name": "ipython",
    "version": 3
   },
   "file_extension": ".py",
   "mimetype": "text/x-python",
   "name": "python",
   "nbconvert_exporter": "python",
   "pygments_lexer": "ipython3",
   "version": "3.9.13"
  }
 },
 "nbformat": 4,
 "nbformat_minor": 5
}
