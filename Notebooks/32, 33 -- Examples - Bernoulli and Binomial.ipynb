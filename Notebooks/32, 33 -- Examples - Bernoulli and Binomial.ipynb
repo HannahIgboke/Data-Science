{
 "cells": [
  {
   "cell_type": "markdown",
   "id": "8971ba39",
   "metadata": {},
   "source": [
    "# Bernoulli distribution"
   ]
  },
  {
   "cell_type": "markdown",
   "id": "fd955833",
   "metadata": {},
   "source": [
    "In real-life scenarios or applications, it is necessary to keep track of whether a specific event occurs. The outcome of such events is recorded as a success or failure. Some places where bernoulli can be used are:\n",
    "\n",
    "- A newborn child being male or female.\n",
    "- `Healthcare:` Success/failure of a medical treatment\n",
    "- Transmission or non-transmission of a disease\n",
    "- `Quality control`: determine whether an individual product is defective or non-defective.\n",
    "- `Finance`: modeling the deafult or non-default of a loan, evaluating whether a particular investment strategy leads to a gain or loss\n",
    "- `Marketing and customer behaviour`: determine whether a customer makes a purchase (is converted) or not after seeing an advert (this is known as customer conversion)\n",
    "- `Sports analytics`: determine whether a player makes or misses a specfic action like a goal\n",
    "- `IT`: spam detection, system uptime (modeling whether a system is up or down)"
   ]
  },
  {
   "cell_type": "markdown",
   "id": "aaf51bd7",
   "metadata": {},
   "source": [
    "# Bernoulli experiment with n number of trials = AKA Binomial distribution\n",
    "\n",
    "The cases below lead to bernoulli experiments and the binomial distribution. That is, a bernoulli experiment is simply repeated n number of independent trials with each trial having exactly two kinds of outcome.\n",
    "\n",
    "`1. Flip a coin 12 times, count the number of heads (the number of successes) in these trials.`\n",
    "\n",
    "Here each flip is a trial, so that means we have 12 independent trials. Each trial has one and only one outcome heads = success or tails = failure. \n",
    "\n",
    "In each trial, the prob of success is 1/2, i.e p=1/2. \n",
    "\n",
    "The probability of failure is therefore q = 1-p = 1-(1/2) = 1/2.\n",
    "\n",
    "Our interest is in the variable X which counts the number of successes in 12 trials.\n",
    "\n",
    "**P.S: This is a bernoulli experiment with 12 trials**\n",
    "\n",
    "`2. A basketball player takes 4 independent trials with the probability of 0.7 of getting a basket on each shot. What is the count of the number of baskets made.`\n",
    "\n",
    "Here, p = 0.7 based on historical data.\n",
    "\n",
    "By calculation, the probability of failure (q) = 1-p = 1-0.7.\n",
    "\n",
    "There are 4 independent trials. Each trial has one outcome, make the basket (success) or no basket (failure). \n",
    "\n",
    "We are interested in the variable X which counts the number of successs in 4 trials. \n",
    "\n",
    "**P.S: This is a bernoulli experiment with 4 trials**\n",
    "\n",
    "\n",
    "`3. A bag contains 6 red marbles and 4 marbles. Five marbles (5 trials) are drawn from the bag without replacement. What is the number of red marbles observed.` \n",
    "\n",
    "A trial here could consist of drawing a marble from the bag and the success can be defined as getting a red. \n",
    "\n",
    "However, this is not a bernoulli experiment since on each trial, the probability (of success and failure) changes because the balls taken are not replaced. That is , we would have p=6/10 on the first trial, p=5/9 on the second trial ans so forth.\n",
    "\n",
    "`4. A bag contains 6 red marbles and 4 blue marbles. A marble is drawn at random from the bag, its color is noted and then replaced. 5 marbles (5 trials) are drawn in this way and the number of red marbles (successes) are of interest.`\n",
    "\n",
    "In this case, we can say this is a bernoulli experiment where each time we draw a marble represents a trial.\n",
    "\n",
    "The trials are also independent since we draw randomly from the bag and the probability of success is the same on each trial (p=6/10) since we replace the balls after each trial."
   ]
  },
  {
   "cell_type": "markdown",
   "id": "32bfecf3",
   "metadata": {},
   "source": [
    "**Example:**\n",
    "\n",
    "A basketball player takes 4 independent free throws with a probability of 0.7 of getting a basket on each shot. \n",
    "\n",
    "`a) What is the probability that he gets exactly 2 baskets. Let X = the number of baskets he gets.`\n",
    "\n",
    "Therefore, X = 2, n=4, p=0.7\n",
    "\n",
    "The formula for the bernoulli distribution for n number of trials is given as:\n",
    "\n",
    "$$P(X = k) = \\binom{n}{k} p^k (1-p)^{n-k}$$\n",
    "\n",
    "\n",
    "where:\n",
    "- n/k = binomial coefficient, calculated as:\n",
    "\n",
    "$$\\frac {n!}{k!(n-k)!}\\$$\n",
    "\n",
    "- p = probability of success in a single trial\n",
    "- (1-p) = probability of failure in a single trial\n",
    "- n = total number of trials\n",
    "- k = number of successes\n"
   ]
  },
  {
   "cell_type": "markdown",
   "id": "dd8c1602",
   "metadata": {},
   "source": [
    "$$P(X = 2) = \\binom{4}{2} 0.7^2 (1-0.7)^{4-2}$$\n",
    "\n",
    "First calculate the binomial coefficient;\n",
    "\n",
    "$$\\binom{4}{2} = \\frac{4!}{2!(4-2)!} = \\frac{4\\times 3\\times 2\\times 1}{2\\times 1\\times 2\\times 1} = \\frac{4\\times 3}{2\\times 1}\\$$\n",
    "\n",
    "Calculate p^k and (1-p)^(n-k)\n",
    "\n",
    "$$\\ (0.7)^2 = 0.49\\$$\n",
    "\n",
    "$$\\ (1-0.7)^{4-2} = (0.3)^2 = 0.09\\$$\n",
    "\n",
    "Putting things together:\n",
    "\n",
    "$$ \\ P(X=2) = {6\\times 0.49\\times 0.09} = 0.2646\\$$\n",
    "\n",
    "**Therefore the probability of the basketball player getting exactly two baskets out of 4 free throws is approximately 0.26 or 26%**"
   ]
  },
  {
   "cell_type": "markdown",
   "id": "5687149b",
   "metadata": {},
   "source": [
    "`b) What is the probability that he gets all 4 shots/baskets?`\n",
    "\n",
    "$$P(X = k) = \\binom{n}{k} p^k (1-p)^{n-k}$$\n",
    "\n",
    "$$P(X = 4) = \\binom{4}{4} 0.7^4 (1-0.7)^{4-4}$$\n",
    "\n",
    "$$\\binom{4}{4} = \\frac{4!}{4!(4-4)!} = \\frac{4!}{4!(0)!} = \\frac{24}{24} = 1\\$$\n",
    "\n",
    "Calculate p^k and (1-p)^(n-k)\n",
    "\n",
    "$$\\ (0.7)^4 = 0.2401\\$$\n",
    "\n",
    "$$\\ (1-0.7)^{4-4} = (0.3)^0 = 1\\$$\n",
    "\n",
    "Putting things together:\n",
    "\n",
    "$$ \\ P(X=4) = {1\\times 0.2401\\times 1} = 0.2401\\$$\n",
    "\n",
    "**Therefore the probability of the basketball player getting all baskets out of 4 free throws is approximately 0.24 or 24%**\n",
    "\n",
    "\n",
    "**In other words:**\n",
    "\n",
    "$$P(X=k=n) = (p)^n$$\n",
    "\n",
    "**On the flip side:**\n",
    "\n",
    "$$P(X=k=n-n) = (1-p)^n$$\n",
    "\n",
    "The above means that to calculate the probability that the player did not get any basket, i.e, k = 0 (n-n), it becomes the probability of failure (1-p) multiplied by the number of chances(trials = n) which he had."
   ]
  },
  {
   "cell_type": "markdown",
   "id": "2dc0c065",
   "metadata": {},
   "source": [
    "## Binomial random variables\n",
    "\n",
    "For a bernoulli experiment with n trials, X denotes the number of successes in the n trials, where the probability of success in each trial is p. The distribution of the variable X is called `binomial distribution with parameters n,p`\n",
    "\n",
    "Therefore, the expected value of X can be calulated as:\n",
    "\n",
    "$$E(X) = np$$\n",
    "\n",
    "and the standard deviation of X is calculated as:\n",
    "\n",
    "$$\\sigma (X) = \\sqrt{n \\cdot p \\cdot q}$$\n"
   ]
  },
  {
   "cell_type": "markdown",
   "id": "72c78f36",
   "metadata": {},
   "source": [
    "### Example:\n",
    "\n",
    "`1. If a basketball player takes 8 independent free throws, with a probability of 0.7 of getting a basket on each shot. What is the probability that he gets exactly 6 baskets?`\n",
    "\n",
    "$$P(X = 6) = \\binom{8}{6} 0.7^6 (1-0.7)^{8-6}$$\n",
    "\n",
    "First calculate the binomial coefficient;\n",
    "\n",
    "$$\\binom{8}{6} = \\frac{8!}{6!(8-6)!} = \\frac{8\\times 7}{2\\times 1} = \\frac{56}{2} = 28\\$$\n",
    "\n",
    "Calculate p^k and (1-p)^(n-k)\n",
    "\n",
    "$$\\ (0.7)^6 = 0.12\\$$\n",
    "\n",
    "$$\\ (1-0.7)^{8-6} = (0.3)^2 = 0.09\\$$\n",
    "\n",
    "Putting things together:\n",
    "\n",
    "$$ \\ P(X=8) = {28\\times 0.12\\times 0.09} = 0.30 \\$$\n",
    "\n",
    "**The probability of the basketball player getting exactly 6 baskets out of 8 free throws is approximately 0.30 or 30%**\n",
    "\n",
    "`What then is the expected number of baskets that she gets?`\n",
    "\n",
    "$$E(X) = np$$\n",
    "\n",
    "$$np = 8*0.7 = 5.6$$\n",
    "\n",
    "**Not 6, or 5. The expected value doesn't have to be a value that can actually occur**"
   ]
  },
  {
   "cell_type": "markdown",
   "id": "15dda4c7",
   "metadata": {},
   "source": [
    "`2. A student is given a multiple choice exam with 10 questions, each question with 5 possible answers. He guesses randomly for each question, where the probability of getting a question is 0.2.`\n",
    "\n",
    "a) What is the probability that she will get exactly 6 questions correct?\n",
    "\n",
    "b) What is the probability he will get **at least 6** questions correct?\n",
    "\n",
    "c) What is the expected number of correct answers and what is the standard deviation."
   ]
  },
  {
   "cell_type": "markdown",
   "id": "6fd71220",
   "metadata": {},
   "source": [
    "Here, \n",
    "\n",
    "n=10, p=0.2\n",
    "\n",
    "`a) X=6`\n",
    "\n",
    "\n",
    "$$P(X = 6) = \\binom{10}{6} 0.2^6 (1-0.2)^{10-6}$$\n",
    "\n",
    "First calculate the binomial coefficient;\n",
    "\n",
    "$$\\binom{10}{6} = \\frac{10!}{6!(10-6)!} = \\frac{10\\times 9\\times 8\\times 7}{4\\times 3\\times 2\\times 1} = \\frac{5040}{24} = 210\\$$\n",
    "\n",
    "Calculate p^k and (1-p)^(n-k)\n",
    "\n",
    "$$\\ (0.2)^6 = 0.000064\\$$\n",
    "\n",
    "$$\\ (1-0.2)^{10-6} = (0.8)^4 = 0.4096\\$$\n",
    "\n",
    "Putting things together:\n",
    "\n",
    "$$ \\ P(X=6) = {210\\times 0.000064\\times 0.4096} =0.0055 \\$$\n",
    "\n",
    "**The probability of the student getting exactly 6 questions out of 10 is approximately 0.55%**\n",
    "\n",
    "`b) X>=6`\n",
    "\n",
    "**`P(X>=6) = P(X=6) + P(X=7) + P(X=8) + P(X=9) + P(X=10) = 0.0063`**\n",
    "\n",
    "The probability of the student getting at least 6 questions is 0.63%.\n",
    "\n",
    "\n",
    "`c) E(X) and sigma(X)`\n",
    "\n",
    "$$E(X) = np = 10*0.2 = 2$$ \n",
    "\n",
    "The expected number of correct answers is 2, while the standard deviation:\n",
    "\n",
    "$$\\sigma (X) = \\sqrt{10 \\cdot 0.2 \\cdot 0.8} = \\sqrt{1.6} = 1.26$$"
   ]
  },
  {
   "cell_type": "markdown",
   "id": "4660dbd2",
   "metadata": {},
   "source": [
    "`3. The AllWell Lightbulb company produces light bulbs, which are packaged in boxes of 20 for shipment. Tests have shown that 4% of their light bulbs are defective.`\n",
    "\n",
    "a) What is the probability that a box, ready for shipment, contains exactly 3 defective light bulbs?\n",
    "\n",
    "$n = 20, p = 0.04, k=3$\n",
    "\n",
    "$$P(X = k) = \\binom{n}{k} p^k (1-p)^{n-k}$$\n",
    "\n",
    "$$P(X = 3) = \\binom{20}{3} 0.04^3 (1-0.04)^{20-3}$$\n",
    "\n",
    "First calculate the binomial coefficient;\n",
    "\n",
    "$$\\binom{20}{3} = \\frac{20!}{3!(20-3)!} = 1.140\\$$\n",
    "\n",
    "Calculate $p^k$ and $(1-p)^{(n-k)}$\n",
    "\n",
    "$$p^k = \\ (0.04)^3\\$$\n",
    "\n",
    "$$(1-p)^{(n-k)} = \\ (1-0.04)^{20-3} = (0.96)^{17}\\$$\n",
    "\n",
    "Putting things together:\n",
    "\n",
    "$$ \\ P(X=6) = {1.140\\times (0.04)^3\\times (0.96)^{17}} =0.036 \\$$\n",
    "\n",
    "**The probability that a box ready for shipment contains exactly three defective light bulbs is 3.6%.**\n",
    "\n",
    "\n",
    "b) What is the probability that the box contains 3 or more defective bulbs?\n",
    "\n",
    "`P(X>=3) = 1 - (P(X=2) + P(X=1) + P(X=0))`\n",
    "\n",
    "Let:\n",
    "\n",
    "$C = \\binom{n}{k}$\n",
    "\n",
    "$P(X=2) = {190\\times (0.04)^2\\times (0.96)^{18}} = 0.146$\n",
    "\n",
    "\n",
    "$P(X=1) = {20\\times (0.04)^1\\times (0.96)^{19}} = 0.368$\n",
    "\n",
    "\n",
    "$P(X=0) = {1\\times (0.04)^0\\times (0.96)^{20}} = 0.234$\n",
    "\n",
    "$P(X>=3) = 1 - (0.146+0.368+0.234) = 1 - 0.748 = 0.252$\n",
    "\n",
    "**The probability that a box ready for shipment contains three or more defective light bulbs is 25.2%.**"
   ]
  },
  {
   "cell_type": "markdown",
   "id": "402e1373",
   "metadata": {},
   "source": [
    "`4. Suppose that the voting population in Nigeria is 300 million and that 60% of this voting population intend to vote for Xavier in the next election. We take a random sample of 100 persons from this same voting popluation and ask each person chosen whether they will vote for Xavier in the next election or not.`\n",
    "\n",
    "**X is the number of YESes in the sample. The possible values of X (i.e the number of successes) are 0,1,2,3,.....,100. => n = 100, p = 0.6, q=0.4**\n",
    "\n",
    "Calculate:\n",
    "\n",
    "`a) What is the probability that we get exactly 60 YESes P(X=60)`\n",
    "\n",
    "\n",
    "\n",
    "\n",
    "\n",
    "$P(X=60) = 0.0812$\n",
    "\n",
    "\n",
    "`b) What is the probability that we get 20 YESes or less P(X<=20)?`\n",
    "\n",
    "$$P(X<=20) = P(X=20) + P(X=19) + P(X=18) + ..... + P(X=0) = 3.42 * 10^{-16}$$\n",
    "\n",
    "`c) What is the probability that we get more than 70 YESes P(X>70)?`\n",
    "\n",
    "$$P(X>70) = 1 - P(X<=70) = 0.0147$$\n",
    "\n",
    "Here, the equation `P(X>70) = 1 - P(X<=70)` applies because:\n",
    "\n",
    "`P(X<=k)` represents the probability that X takes a value less than or equal to k\n",
    "\n",
    "`P(X>k)` represents the probability that X takes a value greater than k\n",
    "\n",
    "These two probabilities are complementary events, in other words, it is either X <= k or X> k, so we can have:\n",
    "\n",
    "`P(X<=k) + P(X>k) = 1`,\n",
    "\n",
    "Rearranging:\n",
    "\n",
    "`P(X>k) =  1- P(X<=k)`\n",
    "\n",
    "\n",
    "`d) What is the probability that we get less than 50 YESes P(X<50)?`\n",
    "\n",
    "$$P(X<50) = P(X<=49) = 0.0167$$\n",
    "\n",
    "`e) What is the probability that we get between 50 to 60 YESes P(50<= X <=60)?`\n",
    "\n",
    "$$P(50<= X <=60) = P(X=50) + P(X=51) + P(X=52) + ..... + P(X=60) = 0.521$$"
   ]
  },
  {
   "cell_type": "markdown",
   "id": "203ac8cc",
   "metadata": {},
   "source": [
    "**Other forms of complementary rules include:**'\n",
    "\n",
    "Where n=10\n",
    "\n",
    "**1. P(X>=2) = P(X=2) + ..... + P(X=10)**\n",
    "\n",
    "This can be rewritten:\n",
    "\n",
    "$$P(X>=2) + P(X<2) = 1$$\n",
    "\n",
    "Rearranging: $$P(X>=2) = 1-P(X<2)$$\n",
    "\n",
    "Remmeber also that `P(X<2) can be represented as P(X<=1)`\n",
    "\n",
    "$$P(X>=2) = 1-P(X<=1)$$\n",
    "\n",
    "\n",
    "Using scipy.stats cdf, we would have:\n",
    "\n",
    "$$P(X >=2) success \\ out \\ of \\ 10 \\ trials = 1 - stats.binom.cdf(k=1, n=n_{trials}, p={prob_success})$$"
   ]
  },
  {
   "cell_type": "markdown",
   "id": "b406a69b",
   "metadata": {},
   "source": [
    "## Creating functions to get the work done"
   ]
  },
  {
   "cell_type": "code",
   "execution_count": 1,
   "id": "9a178050",
   "metadata": {},
   "outputs": [],
   "source": [
    "from scipy import stats\n",
    "\n",
    "def binomial_proba_exact(k,n,p):\n",
    "    return stats.binom.pmf(k,n,p)"
   ]
  },
  {
   "cell_type": "code",
   "execution_count": 2,
   "id": "5d35ecfe",
   "metadata": {},
   "outputs": [
    {
     "data": {
      "text/plain": [
       "0.08121914499610608"
      ]
     },
     "execution_count": 2,
     "metadata": {},
     "output_type": "execute_result"
    }
   ],
   "source": [
    "prob = binomial_proba_exact(k=60, n=100, p= 0.6)\n",
    "prob"
   ]
  },
  {
   "cell_type": "markdown",
   "id": "6b2c11d5",
   "metadata": {},
   "source": [
    "### Creating a function that calculates the probability for:\n",
    "\n",
    "- A specific number of successes (X = k)\n",
    "- Greater than (X > k) or less than (X < k) a specific number in a binomial distribution\n",
    "- Greater than/equal (X>=k) or Less than/equal(X<=k) \n",
    "\n",
    "\n",
    "**ARGUMENTS:**\n",
    "\n",
    "- n = number of trials\n",
    "\n",
    "- p = probability of success in each trial\n",
    "\n",
    "- k = specific number of successes"
   ]
  },
  {
   "cell_type": "code",
   "execution_count": 3,
   "id": "c68c1d36",
   "metadata": {},
   "outputs": [],
   "source": [
    "def prob_func(n, p, k=None, comparison='equal'): ##default is equal\n",
    "    \n",
    "    if k is not None:\n",
    "        if comparison == 'less_than_equal':\n",
    "            return stats.binom.cdf(k,n,p)\n",
    "        \n",
    "        elif comparison == 'greater_than_equal':\n",
    "            return 1-stats.binom.cdf(k-1, n, p)\n",
    "        \n",
    "        elif comparison == 'greater_than':\n",
    "            return 1-stats.binom.cdf(k, n, p)\n",
    "        \n",
    "        elif comparison == 'less_than':\n",
    "            return 1 - (1- stats.binom.cdf(k-1, n, p))\n",
    "        \n",
    "        elif comparison == 'equal':\n",
    "            return stats.binom.pmf(k,n,p)\n",
    "        \n",
    "        else:\n",
    "            raise ValueError('Invalid comparison. \\n Choose between: less_than_equal, greater_than_equal, greater_than, less_than, or equal')\n",
    "    else:\n",
    "        raise ValueError('Provide k value')"
   ]
  },
  {
   "cell_type": "code",
   "execution_count": 4,
   "id": "d0daddb8",
   "metadata": {},
   "outputs": [
    {
     "ename": "ValueError",
     "evalue": "Invalid comparison. \n Choose between: less_than_equal, greater_than_equal, greater_than, less_than, or equal",
     "output_type": "error",
     "traceback": [
      "\u001b[1;31m---------------------------------------------------------------------------\u001b[0m",
      "\u001b[1;31mValueError\u001b[0m                                Traceback (most recent call last)",
      "\u001b[1;32m~\\AppData\\Local\\Temp\\ipykernel_11888\\764678832.py\u001b[0m in \u001b[0;36m<module>\u001b[1;34m\u001b[0m\n\u001b[1;32m----> 1\u001b[1;33m \u001b[0mprob_func\u001b[0m\u001b[1;33m(\u001b[0m\u001b[0mn\u001b[0m\u001b[1;33m=\u001b[0m\u001b[1;36m100\u001b[0m\u001b[1;33m,\u001b[0m \u001b[0mp\u001b[0m\u001b[1;33m=\u001b[0m\u001b[1;36m0.6\u001b[0m\u001b[1;33m,\u001b[0m \u001b[0mk\u001b[0m\u001b[1;33m=\u001b[0m\u001b[1;36m50\u001b[0m\u001b[1;33m,\u001b[0m \u001b[0mcomparison\u001b[0m\u001b[1;33m=\u001b[0m\u001b[1;34m'less'\u001b[0m\u001b[1;33m)\u001b[0m\u001b[1;33m\u001b[0m\u001b[1;33m\u001b[0m\u001b[0m\n\u001b[0m",
      "\u001b[1;32m~\\AppData\\Local\\Temp\\ipykernel_11888\\2082529033.py\u001b[0m in \u001b[0;36mprob_func\u001b[1;34m(n, p, k, comparison)\u001b[0m\n\u001b[0;32m     18\u001b[0m \u001b[1;33m\u001b[0m\u001b[0m\n\u001b[0;32m     19\u001b[0m         \u001b[1;32melse\u001b[0m\u001b[1;33m:\u001b[0m\u001b[1;33m\u001b[0m\u001b[1;33m\u001b[0m\u001b[0m\n\u001b[1;32m---> 20\u001b[1;33m             \u001b[1;32mraise\u001b[0m \u001b[0mValueError\u001b[0m\u001b[1;33m(\u001b[0m\u001b[1;34m'Invalid comparison. \\n Choose between: less_than_equal, greater_than_equal, greater_than, less_than, or equal'\u001b[0m\u001b[1;33m)\u001b[0m\u001b[1;33m\u001b[0m\u001b[1;33m\u001b[0m\u001b[0m\n\u001b[0m\u001b[0;32m     21\u001b[0m     \u001b[1;32melse\u001b[0m\u001b[1;33m:\u001b[0m\u001b[1;33m\u001b[0m\u001b[1;33m\u001b[0m\u001b[0m\n\u001b[0;32m     22\u001b[0m         \u001b[1;32mraise\u001b[0m \u001b[0mValueError\u001b[0m\u001b[1;33m(\u001b[0m\u001b[1;34m'Provide k value'\u001b[0m\u001b[1;33m)\u001b[0m\u001b[1;33m\u001b[0m\u001b[1;33m\u001b[0m\u001b[0m\n",
      "\u001b[1;31mValueError\u001b[0m: Invalid comparison. \n Choose between: less_than_equal, greater_than_equal, greater_than, less_than, or equal"
     ]
    }
   ],
   "source": [
    "prob_func(n=100, p=0.6, k=50, comparison='less')"
   ]
  },
  {
   "cell_type": "code",
   "execution_count": 6,
   "id": "7190c07d",
   "metadata": {},
   "outputs": [
    {
     "data": {
      "text/plain": [
       "0.0168"
      ]
     },
     "execution_count": 6,
     "metadata": {},
     "output_type": "execute_result"
    }
   ],
   "source": [
    "round(prob_func(n=100, p=0.6, k=50, comparison='less_than'), 4)"
   ]
  },
  {
   "cell_type": "code",
   "execution_count": 7,
   "id": "de9b2aff",
   "metadata": {},
   "outputs": [
    {
     "data": {
      "text/plain": [
       "0.0148"
      ]
     },
     "execution_count": 7,
     "metadata": {},
     "output_type": "execute_result"
    }
   ],
   "source": [
    "round(prob_func(n=100, p=0.6, k=70, comparison='greater_than'), 4)"
   ]
  },
  {
   "cell_type": "code",
   "execution_count": 9,
   "id": "9ee374b8",
   "metadata": {},
   "outputs": [
    {
     "data": {
      "text/plain": [
       "3.420435841660837e-16"
      ]
     },
     "execution_count": 9,
     "metadata": {},
     "output_type": "execute_result"
    }
   ],
   "source": [
    "prob_func(n=100, p=0.6, k=20, comparison='less_than_equal')"
   ]
  },
  {
   "cell_type": "code",
   "execution_count": 15,
   "id": "946ecdbc",
   "metadata": {},
   "outputs": [
    {
     "name": "stdout",
     "output_type": "stream",
     "text": [
      "The probability of selling at least 40 cartons daily = 2.10%\n"
     ]
    }
   ],
   "source": [
    "#using python\n",
    "import scipy.stats as stats\n",
    "\n",
    "n = 100\n",
    "p = 0.3\n",
    "\n",
    "#calculating the cumulative probability P(X <= 39)\n",
    "cdf = stats.binom.cdf(39, n, p)\n",
    "\n",
    "#the probability\n",
    "prob_40 = (1 - cdf)*100\n",
    "\n",
    "print(f'The probability of selling at least 40 cartons daily = {prob_40:.2f}%')"
   ]
  },
  {
   "cell_type": "code",
   "execution_count": 21,
   "id": "d04749d3",
   "metadata": {},
   "outputs": [
    {
     "data": {
      "text/plain": [
       "1.1704179678540452e-06"
      ]
     },
     "execution_count": 21,
     "metadata": {},
     "output_type": "execute_result"
    }
   ],
   "source": [
    "prob_func(n, p, k=10, comparison='equal')"
   ]
  },
  {
   "cell_type": "code",
   "execution_count": null,
   "id": "c27ad5bd",
   "metadata": {},
   "outputs": [],
   "source": []
  }
 ],
 "metadata": {
  "kernelspec": {
   "display_name": "Python 3 (ipykernel)",
   "language": "python",
   "name": "python3"
  },
  "language_info": {
   "codemirror_mode": {
    "name": "ipython",
    "version": 3
   },
   "file_extension": ".py",
   "mimetype": "text/x-python",
   "name": "python",
   "nbconvert_exporter": "python",
   "pygments_lexer": "ipython3",
   "version": "3.9.13"
  }
 },
 "nbformat": 4,
 "nbformat_minor": 5
}
