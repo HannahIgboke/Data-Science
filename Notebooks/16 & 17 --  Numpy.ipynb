{
 "cells": [
  {
   "cell_type": "markdown",
   "id": "fa3a892d",
   "metadata": {},
   "source": [
    "# Numpy"
   ]
  },
  {
   "cell_type": "markdown",
   "id": "3f7b20d3",
   "metadata": {},
   "source": [
    "It was released as an open source project in 2005 with the goal of bringing scientific computing to python. It was based on two earlier packages - Numeric and Numarray. Its strength lies in its ability to work with multi-dimensional array objects much faster. Numpy leverages BLAS - Basic Linear Algebra Subprogram and LAPACK - Linear Algebra PACKage. It uses these to supercharge its linear algebra capabilities. This library is focused solely on numbers and excels in numerical analysis, linear algebra and simulation. However when it comes to data analysis and manipulation working with a wide range of data sources, that's where pandas steps in.\n",
    "\n",
    "### Characteristics of Numpy\n",
    "- Numpy arrays have a fixed size at creation, unlike python lists that can grow dynamically. Changing the size of an ndarray will create a new array and delete the original.\n",
    "\n",
    "\n",
    "- The elements in a numpy array are required to be of a homogenous datatype, hence they will be the same size in memory. Albeit, one can have arrays of objects thereby allowing for arrays of different sized elements.\n",
    "\n",
    "\n",
    "- It supports an object-oriented approach\n",
    "\n",
    "\n",
    "- Numpy is fast due to vectorization and broadcasting capabilities.\n",
    "\n",
    "**Vectorization** describes the absence of explicit looping and indexing. It is more concise and easier to read because they are fewer lines of codes and generally fewer bugs. The code more closely resemebles standard mathematical notation \n",
    "\n",
    "**Broadcasting** describes the implicit element-by-element behaviour of operations. All numpy operations broadcast."
   ]
  },
  {
   "cell_type": "code",
   "execution_count": 1,
   "id": "9085b7f9",
   "metadata": {},
   "outputs": [
    {
     "name": "stdout",
     "output_type": "stream",
     "text": [
      "Requirement already satisfied: numpy in c:\\users\\user\\anaconda3\\lib\\site-packages (1.26.4)\n"
     ]
    }
   ],
   "source": [
    "#installing numpy\n",
    "\n",
    "!pip install numpy"
   ]
  },
  {
   "cell_type": "code",
   "execution_count": 4,
   "id": "372cb87c",
   "metadata": {},
   "outputs": [
    {
     "name": "stdout",
     "output_type": "stream",
     "text": [
      "<class 'list'>\n",
      "List:  [1, 2, 3, 4, 5, 6, 7, 8, 9]\n"
     ]
    }
   ],
   "source": [
    "lst = [1,2,3,4,5,6,7,8,9]\n",
    "print(type(lst))\n",
    "print('List: ', lst)"
   ]
  },
  {
   "cell_type": "markdown",
   "id": "516c5a54",
   "metadata": {},
   "source": [
    "## Creating a numpy array"
   ]
  },
  {
   "cell_type": "code",
   "execution_count": 5,
   "id": "b0849f1a",
   "metadata": {},
   "outputs": [
    {
     "name": "stdout",
     "output_type": "stream",
     "text": [
      "<class 'numpy.ndarray'>\n",
      "Numpy array:  [1 2 3 4 5 6 7 8 9]\n"
     ]
    }
   ],
   "source": [
    "import numpy as np\n",
    "\n",
    "my_array = np.array(lst)\n",
    "print(type(my_array))\n",
    "print('Numpy array: ', my_array)"
   ]
  },
  {
   "cell_type": "markdown",
   "id": "931032f1",
   "metadata": {},
   "source": [
    "## Creating a simple numpy using np.arange\n",
    "\n",
    "It creates arrays of evenly spaced values within a specific range."
   ]
  },
  {
   "cell_type": "code",
   "execution_count": 6,
   "id": "951c01a8",
   "metadata": {},
   "outputs": [
    {
     "name": "stdout",
     "output_type": "stream",
     "text": [
      "<class 'numpy.ndarray'>\n",
      "[ 0  1  2  3  4  5  6  7  8  9 10 11 12 13 14 15 16 17 18 19 20 21 22 23\n",
      " 24 25 26 27 28 29]\n"
     ]
    }
   ],
   "source": [
    "arr = np.arange(30)\n",
    "\n",
    "print(type(arr))\n",
    "print(arr)"
   ]
  },
  {
   "cell_type": "markdown",
   "id": "82f8b6fb",
   "metadata": {},
   "source": [
    "## Comparing lists and numpy"
   ]
  },
  {
   "cell_type": "code",
   "execution_count": 7,
   "id": "461739ad",
   "metadata": {},
   "outputs": [
    {
     "name": "stdout",
     "output_type": "stream",
     "text": [
      "Wall time: 213 ms\n"
     ]
    }
   ],
   "source": [
    "%%time\n",
    "\n",
    "#always put the \"%%time\" at the very beginning of the code, before any comments\n",
    "\n",
    "#what we are trying to do is do an element-wise multiplication between two lists\n",
    "\n",
    "#first list that we defined\n",
    "lst = list(range(1000000))\n",
    "\n",
    "#second list defintion and multiplication\n",
    "\n",
    "for i in range(1000000):\n",
    "    lst[i] * lst[i]\n",
    "    \n",
    "#Note that \"i\" serves as index here to get the current \n",
    "#index value and then multiply it by itself"
   ]
  },
  {
   "cell_type": "code",
   "execution_count": 8,
   "id": "540afbbf",
   "metadata": {},
   "outputs": [
    {
     "name": "stdout",
     "output_type": "stream",
     "text": [
      "Wall time: 6 ms\n"
     ]
    }
   ],
   "source": [
    "%%time\n",
    "\n",
    "arr = np.arange(1000000)\n",
    "\n",
    "arr = arr*arr"
   ]
  },
  {
   "cell_type": "markdown",
   "id": "1ae54eb7",
   "metadata": {},
   "source": [
    "You can note the difference in the computation time. Wall time means the elapsed real time or running time. It is the actual time taken from the start of a process to its completion measured by a real-world clock."
   ]
  },
  {
   "cell_type": "markdown",
   "id": "062ac7c7",
   "metadata": {},
   "source": [
    "## Numpy array and its attributes/properties - reminds me of OOP"
   ]
  },
  {
   "cell_type": "code",
   "execution_count": 17,
   "id": "30b1d279",
   "metadata": {},
   "outputs": [
    {
     "name": "stdout",
     "output_type": "stream",
     "text": [
      "Array: [[1 2 3 4]\n",
      " [3 4 5 6]]\n",
      "Shape:  (2, 4)\n",
      "Dataype:  int32\n",
      "Item size:  4\n",
      "Dimensionality:  2\n"
     ]
    }
   ],
   "source": [
    "import numpy as np\n",
    "\n",
    "arr = np.array([[1,2,3,4], [3,4,5,6]])\n",
    "\n",
    "print(f'Array: {arr}')\n",
    "\n",
    "#print shape of the array\n",
    "print('Shape: ', arr.shape)\n",
    "\n",
    "#print datatype\n",
    "print('Dataype: ', arr.dtype)\n",
    "\n",
    "#print item size in byte of each element\n",
    "print('Item size: ', arr.itemsize)\n",
    "\n",
    "#print the dimensionality of the numpy array\n",
    "print('Dimensionality: ', arr.ndim)"
   ]
  },
  {
   "cell_type": "code",
   "execution_count": 18,
   "id": "28f9324b",
   "metadata": {},
   "outputs": [
    {
     "data": {
      "text/plain": [
       "array([[1, 2, 3, 4],\n",
       "       [3, 4, 5, 6]])"
      ]
     },
     "execution_count": 18,
     "metadata": {},
     "output_type": "execute_result"
    }
   ],
   "source": [
    "arr"
   ]
  },
  {
   "cell_type": "markdown",
   "id": "2c0143fb",
   "metadata": {},
   "source": [
    "## Functions for creating numpy array"
   ]
  },
  {
   "cell_type": "markdown",
   "id": "76e08f93",
   "metadata": {},
   "source": [
    "### 1. np.arange()\n",
    "\n",
    "Takes 1 to 3 arguments.\n",
    "\n",
    "We've seen the one argument case above.\n",
    "\n",
    "Notice also that for np.arange(10) it returns 10 integers, starting from 0 to 9."
   ]
  },
  {
   "cell_type": "code",
   "execution_count": 19,
   "id": "1c8ef283",
   "metadata": {},
   "outputs": [
    {
     "name": "stdout",
     "output_type": "stream",
     "text": [
      "Array:  [1 2 3 4 5 6 7 8 9]\n",
      "Shape: (9,)\n"
     ]
    }
   ],
   "source": [
    "#two argument case\n",
    "\n",
    "import numpy as np\n",
    "arr = np.arange(1, 10) #second parameter defines the stop point. It is exclusive as well\n",
    "\n",
    "print('Array: ', arr)\n",
    "print('Shape:',arr.shape)\n"
   ]
  },
  {
   "cell_type": "code",
   "execution_count": 22,
   "id": "ebf9c675",
   "metadata": {},
   "outputs": [
    {
     "name": "stdout",
     "output_type": "stream",
     "text": [
      "Array: [ 1  3  5  7  9 11 13 15 17 19]\n",
      "Shape:  (10,)\n"
     ]
    }
   ],
   "source": [
    "#three argument case\n",
    "\n",
    "import numpy as np\n",
    "arr = np.arange(1,20,2)\n",
    "\n",
    "print('Array:', arr)\n",
    "print('Shape: ', arr.shape)"
   ]
  },
  {
   "cell_type": "code",
   "execution_count": 23,
   "id": "f47e230c",
   "metadata": {
    "scrolled": true
   },
   "outputs": [
    {
     "name": "stdout",
     "output_type": "stream",
     "text": [
      "Help on built-in function arange in module numpy:\n",
      "\n",
      "arange(...)\n",
      "    arange([start,] stop[, step,], dtype=None, *, like=None)\n",
      "    \n",
      "    Return evenly spaced values within a given interval.\n",
      "    \n",
      "    Values are generated within the half-open interval ``[start, stop)``\n",
      "    (in other words, the interval including `start` but excluding `stop`).\n",
      "    For integer arguments the function is equivalent to the Python built-in\n",
      "    `range` function, but returns an ndarray rather than a list.\n",
      "    \n",
      "    When using a non-integer step, such as 0.1, the results will often not\n",
      "    be consistent.  It is better to use `numpy.linspace` for these cases.\n",
      "    \n",
      "    Parameters\n",
      "    ----------\n",
      "    start : integer or real, optional\n",
      "        Start of interval.  The interval includes this value.  The default\n",
      "        start value is 0.\n",
      "    stop : integer or real\n",
      "        End of interval.  The interval does not include this value, except\n",
      "        in some cases where `step` is not an integer and floating point\n",
      "        round-off affects the length of `out`.\n",
      "    step : integer or real, optional\n",
      "        Spacing between values.  For any output `out`, this is the distance\n",
      "        between two adjacent values, ``out[i+1] - out[i]``.  The default\n",
      "        step size is 1.  If `step` is specified as a position argument,\n",
      "        `start` must also be given.\n",
      "    dtype : dtype\n",
      "        The type of the output array.  If `dtype` is not given, infer the data\n",
      "        type from the other input arguments.\n",
      "    like : array_like\n",
      "        Reference object to allow the creation of arrays which are not\n",
      "        NumPy arrays. If an array-like passed in as ``like`` supports\n",
      "        the ``__array_function__`` protocol, the result will be defined\n",
      "        by it. In this case, it ensures the creation of an array object\n",
      "        compatible with that passed in via this argument.\n",
      "    \n",
      "        .. versionadded:: 1.20.0\n",
      "    \n",
      "    Returns\n",
      "    -------\n",
      "    arange : ndarray\n",
      "        Array of evenly spaced values.\n",
      "    \n",
      "        For floating point arguments, the length of the result is\n",
      "        ``ceil((stop - start)/step)``.  Because of floating point overflow,\n",
      "        this rule may result in the last element of `out` being greater\n",
      "        than `stop`.\n",
      "    \n",
      "    See Also\n",
      "    --------\n",
      "    numpy.linspace : Evenly spaced numbers with careful handling of endpoints.\n",
      "    numpy.ogrid: Arrays of evenly spaced numbers in N-dimensions.\n",
      "    numpy.mgrid: Grid-shaped arrays of evenly spaced numbers in N-dimensions.\n",
      "    \n",
      "    Examples\n",
      "    --------\n",
      "    >>> np.arange(3)\n",
      "    array([0, 1, 2])\n",
      "    >>> np.arange(3.0)\n",
      "    array([ 0.,  1.,  2.])\n",
      "    >>> np.arange(3,7)\n",
      "    array([3, 4, 5, 6])\n",
      "    >>> np.arange(3,7,2)\n",
      "    array([3, 5])\n",
      "\n"
     ]
    }
   ],
   "source": [
    "help(np.arange)"
   ]
  },
  {
   "cell_type": "markdown",
   "id": "bd8a008b",
   "metadata": {},
   "source": [
    "### 2. np.ones()"
   ]
  },
  {
   "cell_type": "code",
   "execution_count": 27,
   "id": "70f01240",
   "metadata": {},
   "outputs": [
    {
     "name": "stdout",
     "output_type": "stream",
     "text": [
      "Array:  [[1. 1. 1.]\n",
      " [1. 1. 1.]\n",
      " [1. 1. 1.]]\n",
      "Shape:  (3, 3)\n",
      "Data type:  float64\n",
      "Item size:  8\n"
     ]
    }
   ],
   "source": [
    "arr = np.ones((3,3))\n",
    "\n",
    "print('Array: ', arr)\n",
    "print('Shape: ', arr.shape)\n",
    "print('Data type: ', arr.dtype)\n",
    "print('Item size: ', arr.itemsize)"
   ]
  },
  {
   "cell_type": "markdown",
   "id": "edab828a",
   "metadata": {},
   "source": [
    "### 3. np.zeros()"
   ]
  },
  {
   "cell_type": "code",
   "execution_count": 28,
   "id": "ec2fa397",
   "metadata": {},
   "outputs": [
    {
     "name": "stdout",
     "output_type": "stream",
     "text": [
      "Array:  [[0. 0. 0.]\n",
      " [0. 0. 0.]\n",
      " [0. 0. 0.]]\n",
      "Shape:  (3, 3)\n",
      "Data type:  float64\n",
      "Item size:  8\n"
     ]
    }
   ],
   "source": [
    "arr = np.zeros((3,3))\n",
    "\n",
    "print('Array: ', arr)\n",
    "print('Shape: ', arr.shape)\n",
    "print('Data type: ', arr.dtype)\n",
    "print('Item size: ', arr.itemsize)"
   ]
  },
  {
   "cell_type": "markdown",
   "id": "db888427",
   "metadata": {},
   "source": [
    "### 4. np.eye()"
   ]
  },
  {
   "cell_type": "code",
   "execution_count": 30,
   "id": "ce81c490",
   "metadata": {},
   "outputs": [
    {
     "name": "stdout",
     "output_type": "stream",
     "text": [
      "Array:  [[1. 0. 0.]\n",
      " [0. 1. 0.]\n",
      " [0. 0. 1.]]\n",
      "Shape:  (3, 3)\n",
      "Data type:  float64\n",
      "Item size:  8\n"
     ]
    }
   ],
   "source": [
    "arr = np.eye(3,3)\n",
    "\n",
    "print('Array: ', arr)\n",
    "print('Shape: ', arr.shape)\n",
    "print('Data type: ', arr.dtype)\n",
    "print('Item size: ', arr.itemsize)"
   ]
  },
  {
   "cell_type": "code",
   "execution_count": 32,
   "id": "846194b9",
   "metadata": {},
   "outputs": [
    {
     "name": "stdout",
     "output_type": "stream",
     "text": [
      "Array:  [[1. 0. 0. 0.]\n",
      " [0. 1. 0. 0.]\n",
      " [0. 0. 1. 0.]]\n",
      "Shape:  (3, 4)\n",
      "Data type:  float64\n",
      "Item size:  8\n"
     ]
    }
   ],
   "source": [
    "arr =np.eye(3,4)\n",
    "\n",
    "print('Array: ', arr)\n",
    "print('Shape: ', arr.shape)\n",
    "print('Data type: ', arr.dtype)\n",
    "print('Item size: ', arr.itemsize)"
   ]
  },
  {
   "cell_type": "markdown",
   "id": "0b36c9bf",
   "metadata": {},
   "source": [
    "## Data types in Numpy"
   ]
  },
  {
   "cell_type": "markdown",
   "id": "909a1de1",
   "metadata": {},
   "source": [
    "- i = integer\n",
    "- b = boolean\n",
    "- str = string\n",
    "- f = float\n",
    "- m = timedelta\n",
    "- M = datetime\n",
    "- O = object\n",
    "- u = unsigned integer\n",
    "- c = complex float\n",
    "- U = unicode string\n",
    "- V = fixed chunk of memory of other tyoe (void)"
   ]
  },
  {
   "cell_type": "code",
   "execution_count": 35,
   "id": "982bf9de",
   "metadata": {},
   "outputs": [
    {
     "name": "stdout",
     "output_type": "stream",
     "text": [
      "Array:  [1 3 5 6 7]\n",
      "Data type:  int8\n"
     ]
    }
   ],
   "source": [
    "import numpy as np\n",
    "\n",
    "arr = np.array([1,3,5,6,7], dtype = 'b')\n",
    "\n",
    "print('Array: ', arr)\n",
    "print('Data type: ', arr.dtype)"
   ]
  },
  {
   "cell_type": "code",
   "execution_count": 36,
   "id": "e617dbec",
   "metadata": {},
   "outputs": [
    {
     "name": "stdout",
     "output_type": "stream",
     "text": [
      "Array:  [1 3 5 6 7]\n",
      "Data type:  int32\n"
     ]
    }
   ],
   "source": [
    "import numpy as np\n",
    "\n",
    "arr = np.array([1,3,5,6,7], dtype = 'i')\n",
    "\n",
    "print('Array: ', arr)\n",
    "print('Data type: ', arr.dtype)"
   ]
  },
  {
   "cell_type": "code",
   "execution_count": 37,
   "id": "5066d230",
   "metadata": {},
   "outputs": [
    {
     "name": "stdout",
     "output_type": "stream",
     "text": [
      "Array:  [1 3 5 6 7]\n",
      "Data type:  object\n"
     ]
    }
   ],
   "source": [
    "import numpy as np\n",
    "\n",
    "arr = np.array([1,3,5,6,7], dtype = 'O')\n",
    "\n",
    "print('Array: ', arr)\n",
    "print('Data type: ', arr.dtype)"
   ]
  },
  {
   "cell_type": "code",
   "execution_count": 38,
   "id": "2bb5f61e",
   "metadata": {},
   "outputs": [
    {
     "name": "stdout",
     "output_type": "stream",
     "text": [
      "Array:  [1 3 5 6 7]\n",
      "Data type:  timedelta64\n"
     ]
    }
   ],
   "source": [
    "import numpy as np\n",
    "\n",
    "arr = np.array([1,3,5,6,7], dtype = 'm')\n",
    "\n",
    "print('Array: ', arr)\n",
    "print('Data type: ', arr.dtype)"
   ]
  },
  {
   "cell_type": "markdown",
   "id": "1bc69042",
   "metadata": {},
   "source": [
    "## Numpy Random numbers\n",
    "\n",
    "1. np.random.rand = generates an array with random numbers that are **uniformly distributed** between 0 and 1\n",
    "\n",
    "\n",
    "2. np.random.randn = generates an array with random numbers that are **normally distributed** with mean  = 0 and stdev = 1\n",
    "\n",
    "\n",
    "3. np.random.randint = generates an array wih random numbers (integers) that are **uniformly distributed** between 0 and a given number\n",
    "\n",
    "\n",
    "4. np.random.uniform = generates an array with random(float) numbers between given numbers."
   ]
  },
  {
   "cell_type": "code",
   "execution_count": 42,
   "id": "24904b0c",
   "metadata": {},
   "outputs": [],
   "source": [
    "# help(np.random)\n",
    "\n",
    "#you can obtain more information on the use of np.random by seeking help as seen above"
   ]
  },
  {
   "cell_type": "code",
   "execution_count": 44,
   "id": "f3406c7a",
   "metadata": {},
   "outputs": [
    {
     "name": "stdout",
     "output_type": "stream",
     "text": [
      "Array:  [0.2261839  0.17714786 0.05305274 0.45187612 0.12897024]\n"
     ]
    }
   ],
   "source": [
    "#random generation of an array from uniform distribution\n",
    "\n",
    "import numpy as np\n",
    "\n",
    "#prints 5 random numbers generated from a uniform distrbution (between 0 and 1)\n",
    "arr = np.random.rand(5)\n",
    "\n",
    "print('Array: ', arr)"
   ]
  },
  {
   "cell_type": "code",
   "execution_count": 45,
   "id": "6b2887a8",
   "metadata": {},
   "outputs": [
    {
     "name": "stdout",
     "output_type": "stream",
     "text": [
      "Array:  [[0.65530671 0.17934809]\n",
      " [0.69203059 0.1417652 ]\n",
      " [0.99304708 0.45380322]\n",
      " [0.6825353  0.16783538]\n",
      " [0.03194995 0.16719442]\n",
      " [0.77207637 0.54592942]\n",
      " [0.69072642 0.38213148]\n",
      " [0.95283933 0.81162294]\n",
      " [0.79492393 0.79651552]\n",
      " [0.6347463  0.34470269]]\n"
     ]
    }
   ],
   "source": [
    "#randonly generate an array with 10 rows and 2 columns from uniform distribution\n",
    "\n",
    "arr = np.random.rand(10,2)\n",
    "print('Array: ', arr)"
   ]
  },
  {
   "cell_type": "markdown",
   "id": "aae5dd1b",
   "metadata": {},
   "source": [
    "Can the precision of these numbers generated be altered? I wonder."
   ]
  },
  {
   "cell_type": "code",
   "execution_count": 47,
   "id": "04353d39",
   "metadata": {},
   "outputs": [
    {
     "name": "stdout",
     "output_type": "stream",
     "text": [
      "Array:  [-0.18218322  0.04749454 -0.98962698  2.01068176 -1.10098055]\n"
     ]
    }
   ],
   "source": [
    "#randomly generate an array from normal distribution\n",
    "\n",
    "import numpy as np\n",
    "\n",
    "arr = np.random.randn(5)\n",
    "print('Array: ', arr)"
   ]
  },
  {
   "cell_type": "code",
   "execution_count": 48,
   "id": "17f1774d",
   "metadata": {},
   "outputs": [
    {
     "name": "stdout",
     "output_type": "stream",
     "text": [
      "Array:  [[-6.29923415e-01 -8.79633452e-01 -4.22773993e-01 -1.09965252e-01]\n",
      " [ 1.12146865e-01 -2.41262694e-01 -2.14369689e+00  3.64377990e-01]\n",
      " [-6.55830159e-01 -3.76506189e-01 -4.48950853e-01  1.56743313e+00]\n",
      " [-7.23262750e-02 -6.40407606e-01 -1.13361504e+00  6.76568877e-01]\n",
      " [-8.65238223e-04 -7.22651899e-01  1.41491735e+00 -6.54596590e-01]]\n"
     ]
    }
   ],
   "source": [
    "#randomly generate an array with 5 rows and 4 columns from a normal distribution\n",
    "\n",
    "import numpy as np\n",
    "\n",
    "arr = np.random.randn(5,4)\n",
    "print('Array: ', arr)"
   ]
  },
  {
   "cell_type": "code",
   "execution_count": 49,
   "id": "abd3948c",
   "metadata": {},
   "outputs": [
    {
     "name": "stdout",
     "output_type": "stream",
     "text": [
      "4\n"
     ]
    }
   ],
   "source": [
    "#generate one random number between 0 to 9\n",
    "\n",
    "import numpy as np\n",
    "\n",
    "value = np.random.randint(10)\n",
    "print(value)"
   ]
  },
  {
   "cell_type": "code",
   "execution_count": 51,
   "id": "3934c6dd",
   "metadata": {},
   "outputs": [
    {
     "name": "stdout",
     "output_type": "stream",
     "text": [
      "Array: \n",
      " [[2 6 7 1]\n",
      " [0 6 6 8]\n",
      " [3 6 0 9]\n",
      " [7 3 1 3]\n",
      " [5 9 0 4]]\n"
     ]
    }
   ],
   "source": [
    "#randomly generate a 5 by 4 array containing values in the range of 0 to 9\n",
    "\n",
    "arr = np.random.randint(10, size = (5,4))\n",
    "\n",
    "print('Array: \\n', arr)"
   ]
  },
  {
   "cell_type": "code",
   "execution_count": 53,
   "id": "938ccd3c",
   "metadata": {},
   "outputs": [
    {
     "name": "stdout",
     "output_type": "stream",
     "text": [
      "Array: \n",
      " [[17 24 43 23 39 32 32 38 38 24]\n",
      " [16 19 39 21 12 27 20 42 27 37]\n",
      " [10 46 28 43 19 28 46 40 44 32]\n",
      " [17 30 42 18 28 30 16 19 10 48]\n",
      " [50 26 15 22 39 19 27 14 46 15]]\n"
     ]
    }
   ],
   "source": [
    "#randomly generating a 5 by 10 array containing values in the range of 10 to 50\n",
    "\n",
    "arr = np.random.randint(10, 51, size = (5, 10))\n",
    "\n",
    "print('Array: \\n', arr)"
   ]
  },
  {
   "cell_type": "code",
   "execution_count": 54,
   "id": "600aa45e",
   "metadata": {},
   "outputs": [
    {
     "name": "stdout",
     "output_type": "stream",
     "text": [
      "3.7037892780723665\n"
     ]
    }
   ],
   "source": [
    "#randomly generate one decimal number between 0 to 10\n",
    "\n",
    "value = np.random.uniform(10)\n",
    "\n",
    "print(value)"
   ]
  },
  {
   "cell_type": "code",
   "execution_count": 56,
   "id": "39a16e44",
   "metadata": {},
   "outputs": [
    {
     "data": {
      "text/plain": [
       "array([[17.02372786, 48.47400111, 16.80233751],\n",
       "       [49.84379724, 24.40858166, 45.41640197]])"
      ]
     },
     "execution_count": 56,
     "metadata": {},
     "output_type": "execute_result"
    }
   ],
   "source": [
    "arr = np.random.uniform(10, 50, size = (2,3))\n",
    "arr"
   ]
  },
  {
   "cell_type": "markdown",
   "id": "b6fbb9f7",
   "metadata": {},
   "source": [
    "## Numpy array - indexing, slicing and updating\n",
    "\n",
    "Data in numpy arrays is stored sequentially, therefore it is possible to access the data with the help of indexing and slicing operations. It offers more indexing facilities than regular python sequences. Also, it is possible to not only index using integers and slices,arrays can be indexed by arrays of integers and arrays of booleans.\n",
    "\n",
    "In addition, numpy arrays are mutable, that is, data stored in numpy arrays can be changed or updated."
   ]
  },
  {
   "cell_type": "markdown",
   "id": "103f4070",
   "metadata": {},
   "source": [
    "### Data accessing using Indexing"
   ]
  },
  {
   "cell_type": "code",
   "execution_count": 57,
   "id": "c791d37e",
   "metadata": {},
   "outputs": [
    {
     "name": "stdout",
     "output_type": "stream",
     "text": [
      "Array:  [50 95 44 85 74]\n"
     ]
    }
   ],
   "source": [
    "#randomly generating 1 dimensional array\n",
    "\n",
    "arr = np.random.randint(100, size = (5,))\n",
    "print('Array: ', arr)"
   ]
  },
  {
   "cell_type": "code",
   "execution_count": 58,
   "id": "da3c9b45",
   "metadata": {},
   "outputs": [
    {
     "name": "stdout",
     "output_type": "stream",
     "text": [
      "44\n",
      "74\n"
     ]
    }
   ],
   "source": [
    "#accessing values at index 2 and 4\n",
    "\n",
    "print(arr[2])\n",
    "print(arr[4])"
   ]
  },
  {
   "cell_type": "code",
   "execution_count": 69,
   "id": "1767a1c7",
   "metadata": {},
   "outputs": [
    {
     "name": "stdout",
     "output_type": "stream",
     "text": [
      "Array: \n",
      " [[39 85 73 21 49 69]\n",
      " [17 41 49 79 11  0]\n",
      " [84 92 70 73 99 94]\n",
      " [86 40  8 24 15 95]]\n"
     ]
    }
   ],
   "source": [
    "#randomly generating 2 dimensional array\n",
    "\n",
    "arr = np.random.randint(100, size = (4,6))\n",
    "print('Array: \\n', arr)"
   ]
  },
  {
   "cell_type": "code",
   "execution_count": 70,
   "id": "27d6ede0",
   "metadata": {},
   "outputs": [
    {
     "name": "stdout",
     "output_type": "stream",
     "text": [
      "[84 92 70 73 99 94]\n"
     ]
    }
   ],
   "source": [
    "## accessing the second index\n",
    "#remember that the result above is a list of list\n",
    "\n",
    "print(arr[2])"
   ]
  },
  {
   "cell_type": "code",
   "execution_count": 71,
   "id": "81e81fd4",
   "metadata": {},
   "outputs": [
    {
     "name": "stdout",
     "output_type": "stream",
     "text": [
      "92\n",
      "92\n"
     ]
    }
   ],
   "source": [
    "#to retrieve the second value of the second list (index 2)\n",
    "\n",
    "print(arr[2,1])\n",
    "\n",
    "#OR \n",
    "\n",
    "print(arr[2][1])\n",
    "#this method is useful to access multiple values"
   ]
  },
  {
   "cell_type": "code",
   "execution_count": 72,
   "id": "f44e9822",
   "metadata": {},
   "outputs": [
    {
     "name": "stdout",
     "output_type": "stream",
     "text": [
      "[21 85]\n"
     ]
    }
   ],
   "source": [
    "#to retrieves the 4th and 2nd values from the first row\n",
    "\n",
    "#the first list specifies the rows to select from\n",
    "#the second list specifies the columns to select from\n",
    "\n",
    "print(arr[[0,0], [3,1]])\n"
   ]
  },
  {
   "cell_type": "code",
   "execution_count": 73,
   "id": "03b794f7",
   "metadata": {},
   "outputs": [
    {
     "name": "stdout",
     "output_type": "stream",
     "text": [
      "[73 24]\n"
     ]
    }
   ],
   "source": [
    "#to retrieves the third value from the first row\n",
    "#and the 4th value from the 4th row\n",
    "\n",
    "print(arr[[0,3], [2,3]])"
   ]
  },
  {
   "cell_type": "markdown",
   "id": "58c00362",
   "metadata": {},
   "source": [
    "### Data accessing using slicing"
   ]
  },
  {
   "cell_type": "code",
   "execution_count": 74,
   "id": "115d2895",
   "metadata": {},
   "outputs": [
    {
     "name": "stdout",
     "output_type": "stream",
     "text": [
      "Array:  [19 51 42 32 62 91 89 59 76 35]\n"
     ]
    }
   ],
   "source": [
    "#randomly generating 1D array\n",
    "\n",
    "import numpy as np\n",
    "\n",
    "arr = np.random.randint(100, size = (10, ))\n",
    "print('Array: ', arr)"
   ]
  },
  {
   "cell_type": "code",
   "execution_count": 77,
   "id": "6629f5e9",
   "metadata": {},
   "outputs": [
    {
     "name": "stdout",
     "output_type": "stream",
     "text": [
      "[51 42 32]\n",
      "[19 51 42 32 62 91]\n"
     ]
    }
   ],
   "source": [
    "#accessing using slicing\n",
    "\n",
    "print(arr[1:4])\n",
    "print(arr[0:-4])"
   ]
  },
  {
   "cell_type": "code",
   "execution_count": 78,
   "id": "ad2d5148",
   "metadata": {},
   "outputs": [
    {
     "name": "stdout",
     "output_type": "stream",
     "text": [
      "[19 42 62 89 76]\n"
     ]
    }
   ],
   "source": [
    "print(arr[::2])"
   ]
  },
  {
   "cell_type": "code",
   "execution_count": 81,
   "id": "cd1eb8c7",
   "metadata": {},
   "outputs": [
    {
     "name": "stdout",
     "output_type": "stream",
     "text": [
      "Array: \n",
      " [[1 2 3 4]\n",
      " [5 6 7 8]\n",
      " [9 0 1 2]\n",
      " [3 4 5 6]]\n",
      "Shape:  (4, 4)\n"
     ]
    }
   ],
   "source": [
    "arr = np.array([[1,2,3,4], [5,6,7,8], [9,0,1,2], [3,4,5,6]])\n",
    "print('Array: \\n', arr)\n",
    "print('Shape: ', arr.shape)"
   ]
  },
  {
   "cell_type": "code",
   "execution_count": 82,
   "id": "744683f7",
   "metadata": {},
   "outputs": [
    {
     "name": "stdout",
     "output_type": "stream",
     "text": [
      "[[3 4]\n",
      " [7 8]]\n"
     ]
    }
   ],
   "source": [
    "#using two way accessing\n",
    "\n",
    "print(arr[0:2, 2:4])"
   ]
  },
  {
   "cell_type": "markdown",
   "id": "3fd0e449",
   "metadata": {},
   "source": [
    "### Indexing with boolean arrays"
   ]
  },
  {
   "cell_type": "code",
   "execution_count": 83,
   "id": "b8c03545",
   "metadata": {},
   "outputs": [
    {
     "name": "stdout",
     "output_type": "stream",
     "text": [
      "Array: [32 53 79 36 87 80 51 75 82 65]\n"
     ]
    }
   ],
   "source": [
    "#randomly generating one dimensional array\n",
    "import numpy as np\n",
    "\n",
    "arr = np.random.randint(100, size = (10,))\n",
    "\n",
    "print('Array:', arr)"
   ]
  },
  {
   "cell_type": "code",
   "execution_count": 84,
   "id": "6c4d0c1a",
   "metadata": {},
   "outputs": [
    {
     "name": "stdout",
     "output_type": "stream",
     "text": [
      "[32 36 80 51 75 65]\n"
     ]
    }
   ],
   "source": [
    "index = [True, False, False, True, False, True, True, True, False, True]\n",
    "\n",
    "print(arr[index])"
   ]
  },
  {
   "cell_type": "markdown",
   "id": "e612b207",
   "metadata": {},
   "source": [
    "### Updating data in numpy arrays"
   ]
  },
  {
   "cell_type": "code",
   "execution_count": 88,
   "id": "460d36f9",
   "metadata": {},
   "outputs": [
    {
     "name": "stdout",
     "output_type": "stream",
     "text": [
      "Original array: \n",
      " [[ 6 12]\n",
      " [43 84]\n",
      " [30 60]\n",
      " [92 11]\n",
      " [91 98]]\n"
     ]
    }
   ],
   "source": [
    "#rabndonly generate a 2 dimensional array\n",
    "\n",
    "arr = np.random.randint(100, size = (5, 2))\n",
    "\n",
    "print('Original array: \\n',arr)"
   ]
  },
  {
   "cell_type": "code",
   "execution_count": 90,
   "id": "db859042",
   "metadata": {},
   "outputs": [
    {
     "name": "stdout",
     "output_type": "stream",
     "text": [
      "Updated array:\n",
      " [[ 6 12]\n",
      " [43 99]\n",
      " [30 60]\n",
      " [92 11]\n",
      " [91 98]]\n"
     ]
    }
   ],
   "source": [
    "arr[1,1] = 99\n",
    "print('Updated array:\\n', arr)"
   ]
  },
  {
   "cell_type": "markdown",
   "id": "d4dac8be",
   "metadata": {},
   "source": [
    "## Numpy Flatten and Ravel"
   ]
  },
  {
   "cell_type": "code",
   "execution_count": 92,
   "id": "21f503ea",
   "metadata": {},
   "outputs": [
    {
     "name": "stdout",
     "output_type": "stream",
     "text": [
      "Array: \n",
      " [[11 31 26 37 24 26 26 35 34 21]\n",
      " [15 27 10 13 36 24 10 14 32 28]\n",
      " [37 18 11 23 31 18 36 15 30 19]\n",
      " [36 36 39 21 37 37 37 39 11 24]\n",
      " [12 15 36 21 11 37 36 11 39 14]]\n",
      "Shape:  (5, 10)\n"
     ]
    }
   ],
   "source": [
    "#randomly generating a 5 by 10 array\n",
    "\n",
    "arr = np.random.randint(10, 40, size = (5,10))\n",
    "\n",
    "print('Array: \\n', arr)\n",
    "print('Shape: ', arr.shape)"
   ]
  },
  {
   "cell_type": "code",
   "execution_count": 94,
   "id": "50311b2d",
   "metadata": {},
   "outputs": [
    {
     "name": "stdout",
     "output_type": "stream",
     "text": [
      "Array: \n",
      " [11 31 26 37 24 26 26 35 34 21 15 27 10 13 36 24 10 14 32 28 37 18 11 23\n",
      " 31 18 36 15 30 19 36 36 39 21 37 37 37 39 11 24 12 15 36 21 11 37 36 11\n",
      " 39 14]\n",
      "Shape:  (50,)\n"
     ]
    }
   ],
   "source": [
    "#using flatten()\n",
    "\n",
    "flatten_arr = arr.flatten()\n",
    "\n",
    "print('Array: \\n', flatten_arr)\n",
    "print('Shape: ', flatten_arr.shape)"
   ]
  },
  {
   "cell_type": "code",
   "execution_count": 95,
   "id": "e1647c90",
   "metadata": {},
   "outputs": [
    {
     "name": "stdout",
     "output_type": "stream",
     "text": [
      "Array: \n",
      " [11 31 26 37 24 26 26 35 34 21 15 27 10 13 36 24 10 14 32 28 37 18 11 23\n",
      " 31 18 36 15 30 19 36 36 39 21 37 37 37 39 11 24 12 15 36 21 11 37 36 11\n",
      " 39 14]\n",
      "Shape:  (50,)\n"
     ]
    }
   ],
   "source": [
    "ravel_arr = arr.ravel()\n",
    "\n",
    "print('Array: \\n', ravel_arr)\n",
    "print('Shape: ', ravel_arr.shape)"
   ]
  },
  {
   "cell_type": "markdown",
   "id": "4775357f",
   "metadata": {},
   "source": [
    "Both functions perform the same action. But what's the difference."
   ]
  },
  {
   "cell_type": "code",
   "execution_count": 97,
   "id": "0a35da3c",
   "metadata": {},
   "outputs": [
    {
     "name": "stdout",
     "output_type": "stream",
     "text": [
      "Original array: \n",
      " [[11 31 26 37 24 26 26 35 34 21]\n",
      " [15 27 10 13 36 24 10 14 32 28]\n",
      " [37 18 11 23 31 18 36 15 30 19]\n",
      " [36 36 39 21 37 37 37 39 11 24]\n",
      " [12 15 36 21 11 37 36 11 39 14]]\n",
      "Updated array: \n",
      " [[11 31 26 37 24 26 26 35 34 21]\n",
      " [15 78 10 13 36 24 10 14 32 28]\n",
      " [37 18 11 23 31 18 36 15 30 19]\n",
      " [36 36 39 21 37 37 37 39 11 24]\n",
      " [12 15 36 21 11 37 36 11 39 14]]\n"
     ]
    }
   ],
   "source": [
    "#updating value in the array\n",
    "print('Original array: \\n', arr)\n",
    "\n",
    "arr[1,1] = 78\n",
    "\n",
    "print('Updated array: \\n', arr)\n"
   ]
  },
  {
   "cell_type": "markdown",
   "id": "c99c765f",
   "metadata": {},
   "source": [
    "The difference between the two are as follows:\n",
    "\n",
    "- Flatten creates a copy of the original array with a flatteneed layout. Any mofdifications made to the flattened array won't affect the original. Also, because it creates a new copy, it consumes more memory.\n",
    "\n",
    "- Ravel returns a view of the original array. It is more memory efficient since it leverages a view when possible. Any changes made to the flattened array will also modify the original array since they point to the same data."
   ]
  },
  {
   "cell_type": "markdown",
   "id": "25d3a92f",
   "metadata": {},
   "source": [
    "## Numpy reshape"
   ]
  },
  {
   "cell_type": "code",
   "execution_count": 98,
   "id": "8053cdc6",
   "metadata": {},
   "outputs": [
    {
     "name": "stdout",
     "output_type": "stream",
     "text": [
      "Array: \n",
      " [[67 84 84 56 83 72 60 68 71 76]\n",
      " [56 67 67 60 85 72 63 60 87 60]\n",
      " [69 80 70 61 70 79 51 81 75 84]\n",
      " [67 60 72 75 81 67 55 79 70 82]\n",
      " [57 64 54 88 51 52 50 64 76 81]]\n",
      "Shape:  (5, 10)\n"
     ]
    }
   ],
   "source": [
    "#randomly generating a 5 by 10 array\n",
    "\n",
    "arr = np.random.randint(50, 90, size = (5,10))\n",
    "\n",
    "print('Array: \\n', arr)\n",
    "print('Shape: ', arr.shape)"
   ]
  },
  {
   "cell_type": "code",
   "execution_count": 99,
   "id": "6a916ed1",
   "metadata": {},
   "outputs": [
    {
     "name": "stdout",
     "output_type": "stream",
     "text": [
      "[[67 84 84 56 83]\n",
      " [72 60 68 71 76]\n",
      " [56 67 67 60 85]\n",
      " [72 63 60 87 60]\n",
      " [69 80 70 61 70]\n",
      " [79 51 81 75 84]\n",
      " [67 60 72 75 81]\n",
      " [67 55 79 70 82]\n",
      " [57 64 54 88 51]\n",
      " [52 50 64 76 81]]\n"
     ]
    }
   ],
   "source": [
    "arr_reshaped = arr.reshape(10,5)\n",
    "print(arr_reshaped)"
   ]
  },
  {
   "cell_type": "code",
   "execution_count": 100,
   "id": "f6c09504",
   "metadata": {},
   "outputs": [
    {
     "name": "stdout",
     "output_type": "stream",
     "text": [
      "[[67 84]\n",
      " [84 56]\n",
      " [83 72]\n",
      " [60 68]\n",
      " [71 76]\n",
      " [56 67]\n",
      " [67 60]\n",
      " [85 72]\n",
      " [63 60]\n",
      " [87 60]\n",
      " [69 80]\n",
      " [70 61]\n",
      " [70 79]\n",
      " [51 81]\n",
      " [75 84]\n",
      " [67 60]\n",
      " [72 75]\n",
      " [81 67]\n",
      " [55 79]\n",
      " [70 82]\n",
      " [57 64]\n",
      " [54 88]\n",
      " [51 52]\n",
      " [50 64]\n",
      " [76 81]]\n"
     ]
    }
   ],
   "source": [
    "arr_reshaped2 = arr.reshape(25,2)\n",
    "print(arr_reshaped2)"
   ]
  },
  {
   "cell_type": "code",
   "execution_count": 101,
   "id": "9d8e1531",
   "metadata": {},
   "outputs": [
    {
     "ename": "ValueError",
     "evalue": "cannot reshape array of size 50 into shape (3,3)",
     "output_type": "error",
     "traceback": [
      "\u001b[1;31m---------------------------------------------------------------------------\u001b[0m",
      "\u001b[1;31mValueError\u001b[0m                                Traceback (most recent call last)",
      "\u001b[1;32m~\\AppData\\Local\\Temp\\ipykernel_10620\\850307611.py\u001b[0m in \u001b[0;36m<module>\u001b[1;34m\u001b[0m\n\u001b[1;32m----> 1\u001b[1;33m \u001b[0marr_reshaped3\u001b[0m \u001b[1;33m=\u001b[0m \u001b[0marr\u001b[0m\u001b[1;33m.\u001b[0m\u001b[0mreshape\u001b[0m\u001b[1;33m(\u001b[0m\u001b[1;36m3\u001b[0m\u001b[1;33m,\u001b[0m\u001b[1;36m3\u001b[0m\u001b[1;33m)\u001b[0m\u001b[1;33m\u001b[0m\u001b[1;33m\u001b[0m\u001b[0m\n\u001b[0m\u001b[0;32m      2\u001b[0m \u001b[0mprint\u001b[0m\u001b[1;33m(\u001b[0m\u001b[0marr_reshaped3\u001b[0m\u001b[1;33m)\u001b[0m\u001b[1;33m\u001b[0m\u001b[1;33m\u001b[0m\u001b[0m\n",
      "\u001b[1;31mValueError\u001b[0m: cannot reshape array of size 50 into shape (3,3)"
     ]
    }
   ],
   "source": [
    "arr_reshaped3 = arr.reshape(3,3)\n",
    "print(arr_reshaped3)"
   ]
  },
  {
   "cell_type": "markdown",
   "id": "9cc46c56",
   "metadata": {},
   "source": [
    "## Iterating over Numpy arrays"
   ]
  },
  {
   "cell_type": "markdown",
   "id": "9e4413b4",
   "metadata": {},
   "source": [
    "### Generating a one dimensional array"
   ]
  },
  {
   "cell_type": "code",
   "execution_count": 114,
   "id": "407a36a9",
   "metadata": {},
   "outputs": [
    {
     "name": "stdout",
     "output_type": "stream",
     "text": [
      "Array: \n",
      " [[80 68 79 83 66 50 64 65 54 66]\n",
      " [56 87 81 62 63 79 77 86 56 67]\n",
      " [52 78 63 50 50 60 52 86 88 84]\n",
      " [89 59 50 67 67 54 86 75 55 60]\n",
      " [50 84 53 59 84 89 62 76 87 77]]\n",
      "Shape:  (5, 10)\n"
     ]
    }
   ],
   "source": [
    "arr1 = np.random.randint(10,49, size = (10,))\n",
    "print('Array: \\n', arr)\n",
    "print('Shape: ', arr.shape)"
   ]
  },
  {
   "cell_type": "code",
   "execution_count": 115,
   "id": "e693574d",
   "metadata": {},
   "outputs": [
    {
     "name": "stdout",
     "output_type": "stream",
     "text": [
      "43\n",
      "21\n",
      "13\n",
      "20\n",
      "26\n",
      "34\n",
      "35\n",
      "27\n",
      "19\n",
      "38\n"
     ]
    }
   ],
   "source": [
    "#looping over items in the array\n",
    "\n",
    "for i in arr1:\n",
    "    print(i, sep = ',')"
   ]
  },
  {
   "cell_type": "code",
   "execution_count": 116,
   "id": "3ae2edaf",
   "metadata": {},
   "outputs": [
    {
     "name": "stdout",
     "output_type": "stream",
     "text": [
      "43 21 13 20 26 34 35 27 19 38 "
     ]
    }
   ],
   "source": [
    "#redoing the above\n",
    "\n",
    "for i in arr1:\n",
    "    print(i, end = ' ')"
   ]
  },
  {
   "cell_type": "markdown",
   "id": "1e4ed631",
   "metadata": {},
   "source": [
    "### Iterating over a 2 dimensional array"
   ]
  },
  {
   "cell_type": "code",
   "execution_count": 117,
   "id": "05c55349",
   "metadata": {},
   "outputs": [
    {
     "name": "stdout",
     "output_type": "stream",
     "text": [
      "Array: \n",
      " [[80 68 79 83 66 50 64 65 54 66]\n",
      " [56 87 81 62 63 79 77 86 56 67]\n",
      " [52 78 63 50 50 60 52 86 88 84]\n",
      " [89 59 50 67 67 54 86 75 55 60]\n",
      " [50 84 53 59 84 89 62 76 87 77]]\n",
      "Shape:  (5, 10)\n"
     ]
    }
   ],
   "source": [
    "#randomly generating a 5 by 10 array\n",
    "\n",
    "arr2 = np.random.randint(50, 90, size = (5,10))\n",
    "\n",
    "print('Array: \\n', arr)\n",
    "print('Shape: ', arr.shape)"
   ]
  },
  {
   "cell_type": "code",
   "execution_count": 118,
   "id": "e081f249",
   "metadata": {},
   "outputs": [
    {
     "name": "stdout",
     "output_type": "stream",
     "text": [
      "[84 78 50 86 59 79 62 77 63 71]\n",
      "[76 82 64 69 51 52 53 82 50 88]\n",
      "[73 57 72 78 59 68 73 64 67 73]\n",
      "[78 84 76 66 59 57 74 67 53 74]\n",
      "[73 79 66 59 63 87 61 62 77 68]\n"
     ]
    }
   ],
   "source": [
    "#looping over rows in the 2D array\n",
    "\n",
    "for row in arr2:\n",
    "    print(row)"
   ]
  },
  {
   "cell_type": "code",
   "execution_count": 119,
   "id": "0c25071f",
   "metadata": {},
   "outputs": [
    {
     "name": "stdout",
     "output_type": "stream",
     "text": [
      "84 78 50 86 59 79 62 77 63 71 76 82 64 69 51 52 53 82 50 88 73 57 72 78 59 68 73 64 67 73 78 84 76 66 59 57 74 67 53 74 73 79 66 59 63 87 61 62 77 68 "
     ]
    }
   ],
   "source": [
    "#looping over each item in the arr array\n",
    "\n",
    "for item in arr2.ravel():\n",
    "    print(item, end = ' ')"
   ]
  },
  {
   "cell_type": "markdown",
   "id": "a5a4338e",
   "metadata": {},
   "source": [
    "### Iterating using np.nditer()"
   ]
  },
  {
   "cell_type": "code",
   "execution_count": 120,
   "id": "3acb763a",
   "metadata": {},
   "outputs": [
    {
     "name": "stdout",
     "output_type": "stream",
     "text": [
      "43 21 13 20 26 34 35 27 19 38 "
     ]
    }
   ],
   "source": [
    "#using nditer for the one dimensional array\n",
    "\n",
    "for item in np.nditer(arr1):\n",
    "    print(item, end = ' ')"
   ]
  },
  {
   "cell_type": "code",
   "execution_count": 121,
   "id": "fb65f247",
   "metadata": {},
   "outputs": [
    {
     "name": "stdout",
     "output_type": "stream",
     "text": [
      "84 78 50 86 59 79 62 77 63 71 76 82 64 69 51 52 53 82 50 88 73 57 72 78 59 68 73 64 67 73 78 84 76 66 59 57 74 67 53 74 73 79 66 59 63 87 61 62 77 68 "
     ]
    }
   ],
   "source": [
    "#using nditer for the 2D array\n",
    "\n",
    "for item in np.nditer(arr2):\n",
    "    print(item, end = ' ')"
   ]
  },
  {
   "cell_type": "code",
   "execution_count": 122,
   "id": "55833040",
   "metadata": {},
   "outputs": [
    {
     "name": "stdout",
     "output_type": "stream",
     "text": [
      "Original array:  [43 21 13 20 26 34 35 27 19 38]\n"
     ]
    },
    {
     "ename": "ValueError",
     "evalue": "assignment destination is read-only",
     "output_type": "error",
     "traceback": [
      "\u001b[1;31m---------------------------------------------------------------------------\u001b[0m",
      "\u001b[1;31mValueError\u001b[0m                                Traceback (most recent call last)",
      "\u001b[1;32m~\\AppData\\Local\\Temp\\ipykernel_10620\\3877888777.py\u001b[0m in \u001b[0;36m<module>\u001b[1;34m\u001b[0m\n\u001b[0;32m      5\u001b[0m \u001b[1;32mfor\u001b[0m \u001b[0mitem\u001b[0m \u001b[1;32min\u001b[0m \u001b[0mnp\u001b[0m\u001b[1;33m.\u001b[0m\u001b[0mnditer\u001b[0m\u001b[1;33m(\u001b[0m\u001b[0marr1\u001b[0m\u001b[1;33m)\u001b[0m\u001b[1;33m:\u001b[0m\u001b[1;33m\u001b[0m\u001b[1;33m\u001b[0m\u001b[0m\n\u001b[0;32m      6\u001b[0m     \u001b[1;32mif\u001b[0m \u001b[0mitem\u001b[0m \u001b[1;33m>\u001b[0m \u001b[1;36m20\u001b[0m\u001b[1;33m:\u001b[0m\u001b[1;33m\u001b[0m\u001b[1;33m\u001b[0m\u001b[0m\n\u001b[1;32m----> 7\u001b[1;33m         \u001b[0mitem\u001b[0m\u001b[1;33m[\u001b[0m\u001b[1;33m...\u001b[0m\u001b[1;33m]\u001b[0m \u001b[1;33m=\u001b[0m \u001b[1;33m(\u001b[0m\u001b[0mitem\u001b[0m\u001b[1;33m*\u001b[0m\u001b[1;36m0\u001b[0m\u001b[1;33m)\u001b[0m\u001b[1;33m\u001b[0m\u001b[1;33m\u001b[0m\u001b[0m\n\u001b[0m\u001b[0;32m      8\u001b[0m \u001b[0mprint\u001b[0m\u001b[1;33m(\u001b[0m\u001b[1;34m'Updated array: '\u001b[0m\u001b[1;33m,\u001b[0m \u001b[0marr1\u001b[0m\u001b[1;33m)\u001b[0m\u001b[1;33m\u001b[0m\u001b[1;33m\u001b[0m\u001b[0m\n",
      "\u001b[1;31mValueError\u001b[0m: assignment destination is read-only"
     ]
    }
   ],
   "source": [
    "#performing some calculations with nditer()\n",
    "\n",
    "print('Original array: ', arr1)\n",
    "\n",
    "for item in np.nditer(arr1):\n",
    "    if item > 20:\n",
    "        item[...] = (item*0)\n",
    "print('Updated array: ', arr1)"
   ]
  },
  {
   "cell_type": "markdown",
   "id": "e6c8c656",
   "metadata": {},
   "source": [
    "We get this error because we use nditer to iterate over the elements of an array. However, it creates a copy of the underlying data for iteration. So when we try to modify, we are attempting to change the copy and not the actual element in the array. The copy is read-only hence the error."
   ]
  },
  {
   "cell_type": "code",
   "execution_count": 123,
   "id": "d44921b0",
   "metadata": {},
   "outputs": [
    {
     "name": "stdout",
     "output_type": "stream",
     "text": [
      "Original array:  [43 21 13 20 26 34 35 27 19 38]\n",
      "Updated array:  [ 0  0 13 20  0  0  0  0 19  0]\n"
     ]
    }
   ],
   "source": [
    "#trying again\n",
    "\n",
    "print('Original array: ', arr1)\n",
    "\n",
    "for item in np.nditer(arr1, op_flags = ['readwrite']):\n",
    "    if item>20:\n",
    "        item[...] = (item * 0)\n",
    "        \n",
    "print('Updated array: ', arr1)"
   ]
  },
  {
   "cell_type": "markdown",
   "id": "8f6ac9cd",
   "metadata": {},
   "source": [
    "### **Exercise 1**\n",
    "\n",
    "Write a program to generate an array with shape 5 by 4 at random containing positive integers. Perform an update by replacing all odd numbers using -1 (Using a loop)"
   ]
  },
  {
   "cell_type": "code",
   "execution_count": 137,
   "id": "74ff0291",
   "metadata": {},
   "outputs": [
    {
     "name": "stdout",
     "output_type": "stream",
     "text": [
      "Original array: \n",
      " [[20 99 20 84]\n",
      " [ 9 84 52 75]\n",
      " [89 20 14 20]\n",
      " [29 15  8 54]\n",
      " [45 68 67 78]]\n",
      "Updated array: \n",
      " [[20 -1 20 84]\n",
      " [-1 84 52 -1]\n",
      " [-1 20 14 20]\n",
      " [-1 -1  8 54]\n",
      " [-1 68 -1 78]]\n"
     ]
    }
   ],
   "source": [
    "my_array = np.random.randint(100, size = (5, 4))\n",
    "\n",
    "print('Original array: \\n', my_array)\n",
    "\n",
    "for item in np.nditer(my_array, op_flags = ['readwrite']):\n",
    "    if item%2 != 0:\n",
    "        item[...] = -1\n",
    "        \n",
    "print('Updated array: \\n', my_array)"
   ]
  },
  {
   "cell_type": "code",
   "execution_count": 138,
   "id": "60c59250",
   "metadata": {},
   "outputs": [],
   "source": [
    "#help(np.nditer)"
   ]
  },
  {
   "cell_type": "markdown",
   "id": "3a974d5c",
   "metadata": {},
   "source": [
    "### **Exercise 2**\n",
    "\n",
    "Given an array [1, -10, 2,3,0,6], print the array in this order [0,6,-10,2,1,3]"
   ]
  },
  {
   "cell_type": "code",
   "execution_count": 166,
   "id": "0da4c781",
   "metadata": {},
   "outputs": [
    {
     "data": {
      "text/plain": [
       "array([  0,   6, -10,   2,   1,   3])"
      ]
     },
     "execution_count": 166,
     "metadata": {},
     "output_type": "execute_result"
    }
   ],
   "source": [
    "array1 = np.array([1,-10, 2,3,0,6])\n",
    "\n",
    "array2 = np.concatenate((array1[4:6], array1[1:3], np.array([array1[0]]), np.array([array1[3]])))\n",
    "\n",
    "array2"
   ]
  },
  {
   "cell_type": "markdown",
   "id": "9208e116",
   "metadata": {},
   "source": [
    "## Python Operators on Numpy Array"
   ]
  },
  {
   "cell_type": "code",
   "execution_count": 10,
   "id": "712b8022",
   "metadata": {},
   "outputs": [
    {
     "name": "stdout",
     "output_type": "stream",
     "text": [
      "Array: \n",
      " [[1 2 5 7 4]\n",
      " [4 7 8 9 0]]\n"
     ]
    }
   ],
   "source": [
    "x = np.array([[1,2,5,7,4], [4,7,8,9,0]])\n",
    "\n",
    "print('Array: \\n', x)"
   ]
  },
  {
   "cell_type": "code",
   "execution_count": 11,
   "id": "6f78fa8c",
   "metadata": {},
   "outputs": [
    {
     "name": "stdout",
     "output_type": "stream",
     "text": [
      "[[ 6  7 10 12  9]\n",
      " [ 9 12 13 14  5]]\n"
     ]
    }
   ],
   "source": [
    "print(x+5)"
   ]
  },
  {
   "cell_type": "code",
   "execution_count": 12,
   "id": "a57392f0",
   "metadata": {},
   "outputs": [
    {
     "name": "stdout",
     "output_type": "stream",
     "text": [
      "[[1 0 1 1 0]\n",
      " [0 1 0 1 0]]\n"
     ]
    }
   ],
   "source": [
    "print(x%2)"
   ]
  },
  {
   "cell_type": "code",
   "execution_count": 13,
   "id": "54c066c1",
   "metadata": {},
   "outputs": [
    {
     "name": "stdout",
     "output_type": "stream",
     "text": [
      "[[False False  True  True  True]\n",
      " [ True  True  True  True False]]\n"
     ]
    }
   ],
   "source": [
    "print(x>=3)"
   ]
  },
  {
   "cell_type": "code",
   "execution_count": 14,
   "id": "14496d3e",
   "metadata": {},
   "outputs": [
    {
     "name": "stdout",
     "output_type": "stream",
     "text": [
      "[[0 1 2 3 2]\n",
      " [2 3 4 4 0]]\n"
     ]
    }
   ],
   "source": [
    "print(x//2)"
   ]
  },
  {
   "cell_type": "markdown",
   "id": "a922b083",
   "metadata": {},
   "source": [
    "### Exercise\n",
    "\n",
    "Write a program to generate an array with shape 5 by 4 at random containing positive integer. Perform an update by replacing all odd numbers with -1. (Without using a Loop)"
   ]
  },
  {
   "cell_type": "code",
   "execution_count": 48,
   "id": "479d8159",
   "metadata": {},
   "outputs": [
    {
     "data": {
      "text/plain": [
       "array([[15, 38, 58, 33],\n",
       "       [18, 18, 12, 39],\n",
       "       [51, 18, 48, 28],\n",
       "       [49, 24, 42, 11],\n",
       "       [23, 29, 17, 53]])"
      ]
     },
     "execution_count": 48,
     "metadata": {},
     "output_type": "execute_result"
    }
   ],
   "source": [
    "my_arr = np.random.randint(10,60, size = (5, 4))\n",
    "my_arr"
   ]
  },
  {
   "cell_type": "code",
   "execution_count": 49,
   "id": "ea9397ac",
   "metadata": {},
   "outputs": [
    {
     "data": {
      "text/plain": [
       "array([[ True, False, False,  True],\n",
       "       [False, False, False,  True],\n",
       "       [ True, False, False, False],\n",
       "       [ True, False, False,  True],\n",
       "       [ True,  True,  True,  True]])"
      ]
     },
     "execution_count": 49,
     "metadata": {},
     "output_type": "execute_result"
    }
   ],
   "source": [
    "index = (my_arr%2!=0)\n",
    "index"
   ]
  },
  {
   "cell_type": "code",
   "execution_count": 50,
   "id": "6b2ad181",
   "metadata": {},
   "outputs": [
    {
     "data": {
      "text/plain": [
       "array([[-1, 38, 58, -1],\n",
       "       [18, 18, 12, -1],\n",
       "       [-1, 18, 48, 28],\n",
       "       [-1, 24, 42, -1],\n",
       "       [-1, -1, -1, -1]])"
      ]
     },
     "execution_count": 50,
     "metadata": {},
     "output_type": "execute_result"
    }
   ],
   "source": [
    "#making a copy of the array\n",
    "\n",
    "arr_copy = my_arr.copy()\n",
    "\n",
    "arr_copy[index] = -1\n",
    "arr_copy"
   ]
  },
  {
   "cell_type": "markdown",
   "id": "d1c06074",
   "metadata": {},
   "source": [
    "The solution is such that it replaces the odd numbers with -1 for areas where the result or index is True."
   ]
  },
  {
   "cell_type": "markdown",
   "id": "407ac260",
   "metadata": {},
   "source": [
    "### Exercise\n",
    "\n",
    "Write a program to filter the values from the array based on below mentioned conditions:\n",
    "\n",
    "- Either value should be divisible by 5.\n",
    "- (or) value should be an odd number and factor of 7."
   ]
  },
  {
   "cell_type": "code",
   "execution_count": 51,
   "id": "b0a89c84",
   "metadata": {},
   "outputs": [
    {
     "data": {
      "text/plain": [
       "array([[15, 38, 58, 33],\n",
       "       [18, 18, 12, 39],\n",
       "       [51, 18, 48, 28],\n",
       "       [49, 24, 42, 11],\n",
       "       [23, 29, 17, 53]])"
      ]
     },
     "execution_count": 51,
     "metadata": {},
     "output_type": "execute_result"
    }
   ],
   "source": [
    "arr_copy2 = my_arr.copy()\n",
    "arr_copy2"
   ]
  },
  {
   "cell_type": "code",
   "execution_count": 54,
   "id": "f22fe2db",
   "metadata": {},
   "outputs": [
    {
     "data": {
      "text/plain": [
       "array([[15,  0,  0,  0],\n",
       "       [ 0,  0,  0,  0],\n",
       "       [ 0,  0,  0,  0],\n",
       "       [49,  0,  0,  0],\n",
       "       [ 0,  0,  0,  0]])"
      ]
     },
     "execution_count": 54,
     "metadata": {},
     "output_type": "execute_result"
    }
   ],
   "source": [
    "for item in np.nditer(arr_copy2, op_flags = ['readwrite']):\n",
    "    if item%5==0 or (item%2 != 0 and item%7 == 0):\n",
    "        item[...] = item\n",
    "    else:\n",
    "        item[...] = 0\n",
    "arr_copy2"
   ]
  },
  {
   "cell_type": "markdown",
   "id": "5eaaa409",
   "metadata": {},
   "source": [
    "## Numpy Maths\n",
    "\n",
    "- `np.sqrt()`\n",
    "- `np.exp()`\n",
    "- `np.sin()`\n",
    "- `np.cos()`\n",
    "- etcetera\n",
    "\n",
    "### Element wise operations\n",
    "\n",
    "- `np.add()`\n",
    "- `np.subtract()`\n",
    "- `np.multiply()`\n",
    "- `np.divide()`\n",
    "\n",
    "### Matrix multiplication\n",
    "Either of the functions below produce the same result\n",
    "\n",
    "- `np.matmul()`\n",
    "- `np.dot()`\n",
    "- `@`\n",
    "\n",
    "### Others\n",
    "- `np.diag()`\n",
    "- `T` - for transpose"
   ]
  },
  {
   "cell_type": "code",
   "execution_count": 58,
   "id": "9b9bc320",
   "metadata": {},
   "outputs": [],
   "source": [
    "#help(np)\n",
    "\n",
    "#you would find more in the documentation for numpy"
   ]
  },
  {
   "cell_type": "code",
   "execution_count": 62,
   "id": "5f5011e3",
   "metadata": {},
   "outputs": [
    {
     "name": "stdout",
     "output_type": "stream",
     "text": [
      "Root: \n",
      " [[1.41421356 1.73205081 2.        ]\n",
      " [2.         2.82842712 3.        ]]\n",
      "Sine values: \n",
      " [[ 0.90929743  0.14112001 -0.7568025 ]\n",
      " [-0.7568025   0.98935825  0.41211849]]\n",
      "Expnonent: \n",
      " [[7.38905610e+00 2.00855369e+01 5.45981500e+01]\n",
      " [5.45981500e+01 2.98095799e+03 8.10308393e+03]]\n",
      "Cosine values: \n",
      " [[-0.41614684 -0.9899925  -0.65364362]\n",
      " [-0.65364362 -0.14550003 -0.91113026]]\n"
     ]
    }
   ],
   "source": [
    "arr = np.array([[2,3,4], [4,8,9]])\n",
    "\n",
    "print('Root: \\n', np.sqrt(arr))\n",
    "print('Sine values: \\n', np.sin(arr))\n",
    "print('Expnonent: \\n', np.exp(arr))\n",
    "print('Cosine values: \\n', np.cos(arr))"
   ]
  },
  {
   "cell_type": "code",
   "execution_count": 65,
   "id": "d7b47df1",
   "metadata": {},
   "outputs": [
    {
     "name": "stdout",
     "output_type": "stream",
     "text": [
      "First array: \n",
      " [[18 10]\n",
      " [15 14]]\n",
      "Second array: \n",
      " [[15 16]\n",
      " [20 12]]\n"
     ]
    }
   ],
   "source": [
    "## Element wise operations\n",
    "x = np.random.randint(10,21, size = (2,2))\n",
    "\n",
    "y = np.random.randint(10,21, size = (2,2))\n",
    "\n",
    "print('First array: \\n', x)\n",
    "print('Second array: \\n', y)"
   ]
  },
  {
   "cell_type": "code",
   "execution_count": 71,
   "id": "113ed8c1",
   "metadata": {},
   "outputs": [
    {
     "name": "stdout",
     "output_type": "stream",
     "text": [
      "EAddition: \n",
      " [[33 26]\n",
      " [35 26]] \n",
      "\n",
      "Esubtraction: \n",
      " [[ 3 -6]\n",
      " [-5  2]] \n",
      "\n",
      "EMultiplication: \n",
      " [[270 160]\n",
      " [300 168]] \n",
      "\n",
      "EDivision: \n",
      " [[1.2        0.625     ]\n",
      " [0.75       1.16666667]] \n",
      "\n"
     ]
    }
   ],
   "source": [
    "#Let E represent \"Elementwise\"\n",
    "\n",
    "print('EAddition: \\n', np.add(x,y),'\\n')\n",
    "print('Esubtraction: \\n', np.subtract(x,y), '\\n')\n",
    "print('EMultiplication: \\n', np.multiply(x,y), '\\n')\n",
    "print('EDivision: \\n', np.divide(x,y), '\\n')"
   ]
  },
  {
   "cell_type": "code",
   "execution_count": 72,
   "id": "5d7f99df",
   "metadata": {},
   "outputs": [
    {
     "name": "stdout",
     "output_type": "stream",
     "text": [
      "MM (way-1): \n",
      " [[470 408]\n",
      " [505 408]] \n",
      "\n",
      "MM (way-2): \n",
      " [[470 408]\n",
      " [505 408]] \n",
      "\n",
      "MM (way-3): \n",
      " [[470 408]\n",
      " [505 408]] \n",
      "\n"
     ]
    }
   ],
   "source": [
    "## Matrix multiplication --> Let MM represent Matrix Multiplication\n",
    "\n",
    "print('MM (way-1): \\n', np.matmul(x,y), '\\n')\n",
    "print('MM (way-2): \\n', np.dot(x,y), '\\n')\n",
    "print('MM (way-3): \\n', x @ y, '\\n')"
   ]
  },
  {
   "cell_type": "code",
   "execution_count": 73,
   "id": "6082f2de",
   "metadata": {},
   "outputs": [
    {
     "name": "stdout",
     "output_type": "stream",
     "text": [
      "Original array: \n",
      " [[14 21 18]\n",
      " [24 13 23]] \n",
      "\n",
      "Diagonal values: \n",
      " [14 13]\n"
     ]
    }
   ],
   "source": [
    "#to retrieve the diagonal elements\n",
    "\n",
    "x = np.random.randint(10,25, size = (2,3))\n",
    "\n",
    "print('Original array: \\n', x, '\\n')\n",
    "\n",
    "print('Diagonal values: \\n', np.diag(x))\n"
   ]
  },
  {
   "cell_type": "code",
   "execution_count": 74,
   "id": "7da96c4a",
   "metadata": {},
   "outputs": [
    {
     "name": "stdout",
     "output_type": "stream",
     "text": [
      "Transposed matrix: \n",
      " [[14 24]\n",
      " [21 13]\n",
      " [18 23]]\n"
     ]
    }
   ],
   "source": [
    "#to transpose an array\n",
    "\n",
    "print('Transposed matrix: \\n', x.T)"
   ]
  },
  {
   "cell_type": "markdown",
   "id": "9bbad715",
   "metadata": {},
   "source": [
    "## Numpy statistics\n",
    "You will often see the need to specific the axis for operation.\n",
    "\n",
    "`axis = 0` ==> Column wise operation\n",
    "\n",
    "`axis = 1` ==> Row wise operation\n",
    "\n",
    "- `np.sum()`\n",
    "- `np.min() and np.max()`\n",
    "- `np.median(), np.mean()`\n",
    "- `np.var()`\n",
    "- `np.std()`\n",
    "- `np.corrcoef()` - calculates the Pearson product-moment correlation coefficient between two sets of data. It indicates the strength and direction of the linear relationship between two variables."
   ]
  },
  {
   "cell_type": "code",
   "execution_count": 75,
   "id": "c51a0038",
   "metadata": {},
   "outputs": [
    {
     "data": {
      "text/plain": [
       "array([[9, 8, 7],\n",
       "       [7, 7, 1],\n",
       "       [3, 1, 9]])"
      ]
     },
     "execution_count": 75,
     "metadata": {},
     "output_type": "execute_result"
    }
   ],
   "source": [
    "arr = np.random.randint(1, 10, size = (3,3))\n",
    "\n",
    "arr"
   ]
  },
  {
   "cell_type": "code",
   "execution_count": 77,
   "id": "d30b874a",
   "metadata": {},
   "outputs": [
    {
     "name": "stdout",
     "output_type": "stream",
     "text": [
      "Min:  1\n",
      "Sum:  52\n",
      "Row-sum:  [24 15 13]\n",
      "Column-sum:  [19 16 17]\n",
      "Row-median:  [8. 7. 3.]\n"
     ]
    }
   ],
   "source": [
    "print('Min: ', np.min(arr))\n",
    "print('Sum: ', np.sum(arr))\n",
    "\n",
    "print('Row-sum: ', np.sum(arr, axis = 1))\n",
    "\n",
    "print('Column-sum: ', np.sum(arr, axis = 0))\n",
    "\n",
    "print('Row-median: ', np.median(arr, axis = 1))"
   ]
  },
  {
   "cell_type": "code",
   "execution_count": 80,
   "id": "a6dddbde",
   "metadata": {},
   "outputs": [
    {
     "data": {
      "text/plain": [
       "array([[ 1.       , -0.0398085],\n",
       "       [-0.0398085,  1.       ]])"
      ]
     },
     "execution_count": 80,
     "metadata": {},
     "output_type": "execute_result"
    }
   ],
   "source": [
    "heights = np.random.randint(150, 200, size = (6,))\n",
    "\n",
    "weights = np.random.randint(40, 61, size = (6,))\n",
    "\n",
    "np.corrcoef(heights, weights)"
   ]
  },
  {
   "cell_type": "markdown",
   "id": "ca6c5e4d",
   "metadata": {},
   "source": [
    "## More functions from Numpy"
   ]
  },
  {
   "cell_type": "markdown",
   "id": "492426f4",
   "metadata": {},
   "source": [
    "### Linspace\n",
    "Generates an array of evenly spaced numbers over a specified interval\n",
    "\n",
    "`Syntax => np.linspace(begin, end, #number of elements)`\n"
   ]
  },
  {
   "cell_type": "code",
   "execution_count": 83,
   "id": "4dacf9c1",
   "metadata": {},
   "outputs": [
    {
     "name": "stdout",
     "output_type": "stream",
     "text": [
      "[ 5.     6.875  8.75  10.625 12.5   14.375 16.25  18.125 20.   ]\n"
     ]
    }
   ],
   "source": [
    "print(np.linspace(5, 20, 9))"
   ]
  },
  {
   "cell_type": "markdown",
   "id": "5f80a6b9",
   "metadata": {},
   "source": [
    "### Sorting\n",
    "\n",
    "Column and row wise sorting works here as well.\n",
    "\n",
    "`Syntax => np.sort(array, axis = )`"
   ]
  },
  {
   "cell_type": "code",
   "execution_count": 85,
   "id": "09b71ea3",
   "metadata": {},
   "outputs": [
    {
     "data": {
      "text/plain": [
       "array([[69, 61, 63, 94, 53, 89, 52, 66, 78, 58],\n",
       "       [98, 82, 83, 94, 84, 56, 82, 81, 81, 56],\n",
       "       [80, 81, 76, 69, 62, 77, 86, 72, 50, 84],\n",
       "       [95, 95, 77, 87, 86, 74, 75, 72, 72, 89],\n",
       "       [62, 92, 69, 76, 51, 52, 74, 67, 62, 91]])"
      ]
     },
     "execution_count": 85,
     "metadata": {},
     "output_type": "execute_result"
    }
   ],
   "source": [
    "arr = np.random.randint(50,100, size = (5,10))\n",
    "arr"
   ]
  },
  {
   "cell_type": "code",
   "execution_count": 86,
   "id": "31150d9b",
   "metadata": {},
   "outputs": [
    {
     "data": {
      "text/plain": [
       "array([[62, 61, 63, 69, 51, 52, 52, 66, 50, 56],\n",
       "       [69, 81, 69, 76, 53, 56, 74, 67, 62, 58],\n",
       "       [80, 82, 76, 87, 62, 74, 75, 72, 72, 84],\n",
       "       [95, 92, 77, 94, 84, 77, 82, 72, 78, 89],\n",
       "       [98, 95, 83, 94, 86, 89, 86, 81, 81, 91]])"
      ]
     },
     "execution_count": 86,
     "metadata": {},
     "output_type": "execute_result"
    }
   ],
   "source": [
    "# Column-wise sorting\n",
    "#This goes to each column and arranges the values from the smaLLest to the largest\n",
    "\n",
    "np.sort(arr, axis = 0)"
   ]
  },
  {
   "cell_type": "code",
   "execution_count": 88,
   "id": "1b0d41ca",
   "metadata": {},
   "outputs": [
    {
     "data": {
      "text/plain": [
       "array([[52, 53, 58, 61, 63, 66, 69, 78, 89, 94],\n",
       "       [56, 56, 81, 81, 82, 82, 83, 84, 94, 98],\n",
       "       [50, 62, 69, 72, 76, 77, 80, 81, 84, 86],\n",
       "       [72, 72, 74, 75, 77, 86, 87, 89, 95, 95],\n",
       "       [51, 52, 62, 62, 67, 69, 74, 76, 91, 92]])"
      ]
     },
     "execution_count": 88,
     "metadata": {},
     "output_type": "execute_result"
    }
   ],
   "source": [
    "#Row-wise sorting\n",
    "\n",
    "np.sort(arr, axis = 1)"
   ]
  },
  {
   "cell_type": "markdown",
   "id": "a53d0967",
   "metadata": {},
   "source": [
    "### Stacking\n",
    "\n",
    "We have the horizonatal stacking = adds arrays side by side. Here, the number of rows in both arrays has to be the same.\n",
    "\n",
    "`Syntax ==> np.hstack([array1, array2])`\n",
    "\n",
    "\n",
    "Vertical stacking = adds arrays on top each other, that is, vertically. Here, the number of rows has to be the same.\n",
    "\n",
    "`Syntax ==> np.vstack([array1, array2])`"
   ]
  },
  {
   "cell_type": "code",
   "execution_count": 95,
   "id": "1da8e50e",
   "metadata": {},
   "outputs": [
    {
     "data": {
      "text/plain": [
       "array([[ 5,  6,  7,  8,  9],\n",
       "       [10, 11, 12, 13, 14]])"
      ]
     },
     "execution_count": 95,
     "metadata": {},
     "output_type": "execute_result"
    }
   ],
   "source": [
    "arr1 = np.arange(5,15).reshape(2,5)\n",
    "arr1"
   ]
  },
  {
   "cell_type": "code",
   "execution_count": 92,
   "id": "65381ff6",
   "metadata": {},
   "outputs": [
    {
     "data": {
      "text/plain": [
       "array([[25, 26, 27, 28, 29],\n",
       "       [30, 31, 32, 33, 34]])"
      ]
     },
     "execution_count": 92,
     "metadata": {},
     "output_type": "execute_result"
    }
   ],
   "source": [
    "arr2 = np.arange(25, 35).reshape(2,5)\n",
    "arr2"
   ]
  },
  {
   "cell_type": "code",
   "execution_count": 96,
   "id": "ae783a93",
   "metadata": {},
   "outputs": [
    {
     "data": {
      "text/plain": [
       "array([[ 5,  6,  7,  8,  9],\n",
       "       [10, 11, 12, 13, 14],\n",
       "       [25, 26, 27, 28, 29],\n",
       "       [30, 31, 32, 33, 34]])"
      ]
     },
     "execution_count": 96,
     "metadata": {},
     "output_type": "execute_result"
    }
   ],
   "source": [
    "#vertical stacking\n",
    "\n",
    "np.vstack([arr1, arr2])"
   ]
  },
  {
   "cell_type": "code",
   "execution_count": 97,
   "id": "abc60c38",
   "metadata": {},
   "outputs": [
    {
     "data": {
      "text/plain": [
       "array([[ 5,  6,  7,  8,  9, 25, 26, 27, 28, 29],\n",
       "       [10, 11, 12, 13, 14, 30, 31, 32, 33, 34]])"
      ]
     },
     "execution_count": 97,
     "metadata": {},
     "output_type": "execute_result"
    }
   ],
   "source": [
    "#horizontal stacking\n",
    "\n",
    "np.hstack([arr1, arr2])"
   ]
  },
  {
   "cell_type": "markdown",
   "id": "a33a909c",
   "metadata": {},
   "source": [
    "### Concatenate\n",
    "\n",
    "- Horizontal concatenation which is also = horizontal (row) stacking\n",
    "`Syntax ==> np.concatenate([array1, array2], axis = 1)`\n",
    "\n",
    "\n",
    "- Vertical concatenation = vertical (column) stacking\n",
    "`Syntax ==> np.concatenate([array1, array2], axis = 0)`"
   ]
  },
  {
   "cell_type": "code",
   "execution_count": 98,
   "id": "ec740394",
   "metadata": {},
   "outputs": [
    {
     "data": {
      "text/plain": [
       "array([[ 5,  6,  7,  8,  9, 25, 26, 27, 28, 29],\n",
       "       [10, 11, 12, 13, 14, 30, 31, 32, 33, 34]])"
      ]
     },
     "execution_count": 98,
     "metadata": {},
     "output_type": "execute_result"
    }
   ],
   "source": [
    "#horizontal concatenate\n",
    "\n",
    "np.concatenate([arr1, arr2], axis = 1)"
   ]
  },
  {
   "cell_type": "code",
   "execution_count": 99,
   "id": "f6fcc4f5",
   "metadata": {},
   "outputs": [
    {
     "data": {
      "text/plain": [
       "array([[ 5,  6,  7,  8,  9],\n",
       "       [10, 11, 12, 13, 14],\n",
       "       [25, 26, 27, 28, 29],\n",
       "       [30, 31, 32, 33, 34]])"
      ]
     },
     "execution_count": 99,
     "metadata": {},
     "output_type": "execute_result"
    }
   ],
   "source": [
    "#vertical concatenate\n",
    "\n",
    "np.concatenate([arr1, arr2], axis = 0)"
   ]
  },
  {
   "cell_type": "markdown",
   "id": "64d25a3e",
   "metadata": {},
   "source": [
    "### Append\n",
    "\n",
    "- Horizontal append = horizontal (row) stacking\n",
    "`Syntax ==> np.append(array1, array2, axis = 1)`\n",
    "\n",
    "\n",
    "- Vertical append = vertical (column) stacking\n",
    "`Syntax ==> np.append(array1, array2, axis = 0)`"
   ]
  },
  {
   "cell_type": "code",
   "execution_count": 100,
   "id": "8599ca59",
   "metadata": {},
   "outputs": [
    {
     "data": {
      "text/plain": [
       "array([[ 5,  6,  7,  8,  9, 25, 26, 27, 28, 29],\n",
       "       [10, 11, 12, 13, 14, 30, 31, 32, 33, 34]])"
      ]
     },
     "execution_count": 100,
     "metadata": {},
     "output_type": "execute_result"
    }
   ],
   "source": [
    "#horizontal append\n",
    "\n",
    "np.append(arr1, arr2, axis = 1)"
   ]
  },
  {
   "cell_type": "code",
   "execution_count": 101,
   "id": "9c6f11aa",
   "metadata": {},
   "outputs": [
    {
     "data": {
      "text/plain": [
       "array([[ 5,  6,  7,  8,  9],\n",
       "       [10, 11, 12, 13, 14],\n",
       "       [25, 26, 27, 28, 29],\n",
       "       [30, 31, 32, 33, 34]])"
      ]
     },
     "execution_count": 101,
     "metadata": {},
     "output_type": "execute_result"
    }
   ],
   "source": [
    "#vertical append\n",
    "\n",
    "np.append(arr1, arr2, axis = 0)"
   ]
  },
  {
   "cell_type": "markdown",
   "id": "339991a1",
   "metadata": {},
   "source": [
    "## Where - np.where()\n",
    "\n",
    "Processes array elements conditionally.\n",
    "\n",
    "`np.where(condition, x,y)\n",
    "\n",
    "This reads: Where True, yield x, otherwise y."
   ]
  },
  {
   "cell_type": "code",
   "execution_count": 102,
   "id": "0d376275",
   "metadata": {},
   "outputs": [
    {
     "data": {
      "text/plain": [
       "array([[50, 51, 52, 53, 54, 55, 56, 57, 58, 59],\n",
       "       [60, 61, 62, 63, 64, 65, 66, 67, 68, 69],\n",
       "       [70, 71, 72, 73, 74, 75, 76, 77, 78, 79],\n",
       "       [80, 81, 82, 83, 84, 85, 86, 87, 88, 89],\n",
       "       [90, 91, 92, 93, 94, 95, 96, 97, 98, 99]])"
      ]
     },
     "execution_count": 102,
     "metadata": {},
     "output_type": "execute_result"
    }
   ],
   "source": [
    "arr = np.arange(50,100).reshape(5,10)\n",
    "arr"
   ]
  },
  {
   "cell_type": "code",
   "execution_count": 103,
   "id": "a9d8203f",
   "metadata": {},
   "outputs": [
    {
     "data": {
      "text/plain": [
       "array([[0, 0, 0, 0, 0, 0, 0, 0, 0, 0],\n",
       "       [1, 1, 1, 1, 1, 1, 1, 1, 1, 1],\n",
       "       [1, 1, 1, 1, 1, 1, 1, 1, 1, 1],\n",
       "       [1, 1, 1, 1, 1, 1, 1, 1, 1, 1],\n",
       "       [1, 1, 1, 1, 1, 1, 1, 1, 1, 1]])"
      ]
     },
     "execution_count": 103,
     "metadata": {},
     "output_type": "execute_result"
    }
   ],
   "source": [
    "#using where\n",
    "\n",
    "np.where(arr < 60, 0, 1)"
   ]
  },
  {
   "cell_type": "code",
   "execution_count": 105,
   "id": "c00540ab",
   "metadata": {},
   "outputs": [
    {
     "data": {
      "text/plain": [
       "array([[50. , 51. , 52. , 53. , 54. , 55. , 56. , 57. , 58. , 59. ],\n",
       "       [60. , 61. , 62. , 63. , 64. , 65. , 66. , 67. , 68. , 69. ],\n",
       "       [70. ,  7.1,  7.2,  7.3,  7.4,  7.5,  7.6,  7.7,  7.8,  7.9],\n",
       "       [ 8. ,  8.1,  8.2,  8.3,  8.4,  8.5,  8.6,  8.7,  8.8,  8.9],\n",
       "       [ 9. ,  9.1,  9.2,  9.3,  9.4,  9.5,  9.6,  9.7,  9.8,  9.9]])"
      ]
     },
     "execution_count": 105,
     "metadata": {},
     "output_type": "execute_result"
    }
   ],
   "source": [
    "#another example\n",
    "#where arr is > 64 return arr/10, else return the arr value\n",
    "\n",
    "np.where(arr>70, arr/10, arr)"
   ]
  },
  {
   "cell_type": "markdown",
   "id": "3167df7e",
   "metadata": {},
   "source": [
    "## argsort\n",
    "\n",
    "Used to sort an array indirectly. \n",
    "\n",
    "- Instead of modifying the original array, it retuns an array of indices sorting the original array in a specific order (usually ascending by default)\n",
    "\n",
    "- This output contains the positions/indices of the elements in the original array that would result in the sorted order\n",
    "\n",
    "- This indices is then used with other functions to get the actual sorted array"
   ]
  },
  {
   "cell_type": "code",
   "execution_count": 106,
   "id": "6d258d2e",
   "metadata": {},
   "outputs": [
    {
     "name": "stdout",
     "output_type": "stream",
     "text": [
      "Indices:  [1 3 2 0]\n",
      "Sorted array:  [-5 -3  7 10]\n"
     ]
    }
   ],
   "source": [
    "arr = np.array([10, -5, 7, -3])\n",
    "\n",
    "print('Indices: ', arr.argsort())\n",
    "\n",
    "print('Sorted array: ', arr[arr.argsort()])"
   ]
  },
  {
   "cell_type": "markdown",
   "id": "a3ac20aa",
   "metadata": {},
   "source": [
    "A bit confusing right?\n",
    "\n",
    "Here's how it works:\n",
    "\n",
    "We know that indexes always start at 0, therefore the array below would have the following indices\n",
    "\n",
    "`[10, -5, 7, -3] = [0, 1, 2, 3]`\n",
    "\n",
    "This is the natural index for the numbers in the array. Now when we use argsort, it uses this natural index to place the numbers where they need to be in an ascending order.\n",
    "\n",
    "`` `My array`       `Natrural index`   `argsort()`\n",
    "\n",
    "`[10, -5, 7, -3]= [0, 1, 2, 3] = [1, 3, 2, 0]`\n",
    "\n"
   ]
  },
  {
   "cell_type": "markdown",
   "id": "08f13aae",
   "metadata": {},
   "source": [
    "## Numpy broadcasting\n",
    "\n",
    "This is a mechanism that allows us perform arithmetic operations on arrays with different shaps under certain conditions. It automates the process of making arrays compatible for element-wise operations. How does it work?\n",
    "\n",
    "- Because numpy needs arrays to be compatible shape wise to allow for element wise operations, broadcasting comes into play where these arrays are not exactly the same.\n",
    "\n",
    "- It allows a smaller array to be stretched to match the shape of the bigger one"
   ]
  },
  {
   "cell_type": "code",
   "execution_count": 107,
   "id": "714d2821",
   "metadata": {},
   "outputs": [
    {
     "name": "stdout",
     "output_type": "stream",
     "text": [
      "[[2 4 6]\n",
      " [5 7 9]]\n"
     ]
    }
   ],
   "source": [
    "arr1 = np.array([[1,2,3], [4,5,6]])\n",
    "\n",
    "arr2 = np.array([1,2,3])\n",
    "\n",
    "print(arr1+arr2)"
   ]
  },
  {
   "cell_type": "code",
   "execution_count": 108,
   "id": "edbc4dbd",
   "metadata": {},
   "outputs": [
    {
     "name": "stdout",
     "output_type": "stream",
     "text": [
      "[[2 3 4]\n",
      " [5 6 7]]\n"
     ]
    }
   ],
   "source": [
    "arr1 = np.array([[1,2,3], [4,5,6]])\n",
    "\n",
    "arr2 = np.array([1])\n",
    "\n",
    "print(arr1+arr2)"
   ]
  },
  {
   "cell_type": "code",
   "execution_count": 112,
   "id": "00024f3e",
   "metadata": {},
   "outputs": [
    {
     "name": "stdout",
     "output_type": "stream",
     "text": [
      "[[2 3 4]\n",
      " [6 7 8]]\n"
     ]
    }
   ],
   "source": [
    "arr1 = np.array([[1,2,3], [4,5,6]])\n",
    "\n",
    "arr2 = np.array([[1],[2]])\n",
    "\n",
    "print(arr1+arr2)"
   ]
  },
  {
   "cell_type": "code",
   "execution_count": 115,
   "id": "d5f4b65b",
   "metadata": {},
   "outputs": [
    {
     "name": "stdout",
     "output_type": "stream",
     "text": [
      "Array 1: \n",
      " [[1]\n",
      " [2]\n",
      " [3]\n",
      " [4]\n",
      " [5]\n",
      " [6]] \n",
      "\n",
      "Array 2: \n",
      " [1 2 3] \n",
      "\n",
      "Result: \n",
      " [[2 3 4]\n",
      " [3 4 5]\n",
      " [4 5 6]\n",
      " [5 6 7]\n",
      " [6 7 8]\n",
      " [7 8 9]]\n"
     ]
    }
   ],
   "source": [
    "arr1 = np.array([[1],[2],[3], [4],[5],[6]])\n",
    "\n",
    "arr2 = np.array([1,2,3])\n",
    "\n",
    "print('Array 1: \\n', arr1, '\\n')\n",
    "\n",
    "print('Array 2: \\n', arr2, '\\n')\n",
    "\n",
    "print('Result: \\n', arr1+arr2)"
   ]
  },
  {
   "cell_type": "markdown",
   "id": "846c3079",
   "metadata": {},
   "source": [
    "## Numpy masking\n",
    "\n",
    "This is the process of creating a boolean array (also called a mask) based on certain conditions applied to another array. This boolean acts as a filter, indicating which elements of the original array satisfy the specified condition. You can use np.where() to create a mask as well."
   ]
  },
  {
   "cell_type": "code",
   "execution_count": 21,
   "id": "ec0489b0",
   "metadata": {},
   "outputs": [
    {
     "name": "stdout",
     "output_type": "stream",
     "text": [
      "Original array:  [12 13 17 14 23 19 27 18 21 29]\n",
      "Mask: [ True False False  True False False False  True False False]\n",
      "Filtered array: [12 14 18]\n"
     ]
    }
   ],
   "source": [
    "import numpy as np\n",
    "\n",
    "arr = np.random.randint(10, 31, size = (10,))\n",
    "\n",
    "#creating a mask for elements that are even\n",
    "mask = arr%2 == 0\n",
    "\n",
    "#using the mask to filter elements from the original array\n",
    "\n",
    "filtered_arr = arr[mask]\n",
    "\n",
    "print('Original array: ', arr)\n",
    "print('Mask:', mask)\n",
    "\n",
    "print('Filtered array:', filtered_arr)"
   ]
  },
  {
   "cell_type": "markdown",
   "id": "bc8d65f8",
   "metadata": {},
   "source": [
    "## Reading CSV into a Numpy Array"
   ]
  },
  {
   "cell_type": "code",
   "execution_count": 19,
   "id": "71bc0a34",
   "metadata": {
    "scrolled": false
   },
   "outputs": [],
   "source": [
    "#help(np.loadtxt)"
   ]
  },
  {
   "cell_type": "code",
   "execution_count": 1,
   "id": "0708623f",
   "metadata": {},
   "outputs": [
    {
     "name": "stdout",
     "output_type": "stream",
     "text": [
      "[['EST' 'Temperature' 'DewPoint' 'Humidity' 'Sea Level PressureIn'\n",
      "  'VisibilityMiles' 'WindSpeedMPH' 'PrecipitationIn' 'CloudCover'\n",
      "  'Events' 'WindDirDegrees']\n",
      " ['1/1/2016' '38' '23' '52' '30.03' '10' '8' '0' '5' '' '281']\n",
      " ['1/2/2016' '36' '18' '46' '30.02' '10' '7' '0' '3' '' '275']\n",
      " ['1/3/2016' '40' '21' '47' '29.86' '10' '8' '0' '1' '' '277']\n",
      " ['1/4/2016' '25' '9' '44' '30.05' '10' '9' '0' '3' '' '345']\n",
      " ['1/5/2016' '20' '-3' '41' '30.57' '10' '5' '0' '0' '' '333']\n",
      " ['1/6/2016' '33' '4' '35' '30.5' '10' '4' '0' '0' '' '259']\n",
      " ['1/7/2016' '39' '11' '33' '30.28' '10' '2' '0' '3' '' '293']\n",
      " ['1/8/2016' '39' '29' '64' '30.2' '10' '4' '0' '8' '' '79']\n",
      " ['1/9/2016' '44' '38' '77' '30.16' '9' '8' 'T' '8' 'Rain' '76']\n",
      " ['1/10/2016' '50' '46' '71' '29.59' '4' '' '1.8' '7' 'Rain' '109']\n",
      " ['1/11/2016' '33' '8' '37' '29.92' '10' '' '0' '1' '' '289']\n",
      " ['1/12/2016' '35' '15' '53' '29.85' '10' '6' 'T' '4' '' '235']\n",
      " ['1/13/2016' '26' '4' '42' '29.94' '10' '10' '0' '0' '' '284']\n",
      " ['1/14/2016' '30' '12' '47' '29.95' '10' '5' 'T' '7' '' '266']\n",
      " ['1/15/2016' '43' '31' '62' '29.82' '9' '5' 'T' '2' '' '101']\n",
      " ['1/16/2016' '47' '37' '70' '29.52' '8' '7' '0.24' '7' 'Rain' '340']\n",
      " ['1/17/2016' '36' '23' '66' '29.78' '8' '6' '0.05' '6' 'Fog-Snow' '345']\n",
      " ['1/18/2016' '25' '6' '53' '29.83' '9' '12' 'T' '2' 'Snow' '293']\n",
      " ['1/19/2016' '22' '3' '42' '30.03' '10' '11' '0' '1' '' '293']\n",
      " ['1/20/2016' '32' '15' '49' '30.13' '10' '6' '0' '2' '' '302']\n",
      " ['1/21/2016' '31' '11' '45' '30.15' '10' '6' '0' '1' '' '312']\n",
      " ['1/22/2016' '26' '6' '41' '30.21' '9' '' '0.01' '3' 'Snow' '34']\n",
      " ['1/23/2016' '26' '21' '78' '29.77' '1' '16' '2.31' '8' 'Fog-Snow' '42']\n",
      " ['1/24/2016' '28' '11' '53' '29.92' '8' '6' 'T' '3' 'Snow' '327']\n",
      " ['1/25/2016' '34' '18' '54' '30.25' '10' '3' '0' '2' '' '286']\n",
      " ['1/26/2016' '43' '29' '56' '30.03' '10' '7' '0' '2' '' '244']\n",
      " ['1/27/2016' '41' '22' '45' '30.03' '10' '7' 'T' '3' 'Rain' '311']\n",
      " ['1/28/2016' '37' '20' '51' '29.9' '10' '5' '0' '1' '' '234']\n",
      " ['1/29/2016' '36' '21' '50' '29.58' '10' '8' '0' '4' '' '298']\n",
      " ['1/30/2016' '34' '16' '46' '30.01' '10' '7' '0' '0' '' '257']\n",
      " ['1/31/2016' '46' '28' '52' '29.9' '10' '5' '0' '0' '' '241']]\n"
     ]
    }
   ],
   "source": [
    "import numpy as np\n",
    "\n",
    "csv_array = np.loadtxt('Data/nyc_weather.csv',dtype = 'str', delimiter = ',')\n",
    "\n",
    "print(csv_array)"
   ]
  },
  {
   "cell_type": "code",
   "execution_count": null,
   "id": "9b6d7171",
   "metadata": {},
   "outputs": [],
   "source": []
  },
  {
   "cell_type": "markdown",
   "id": "000eea14",
   "metadata": {},
   "source": [
    "# Task -  Dice Rolling Simulation\n",
    "\n",
    "Create a simulation of a dice rolling game using NumPy. The game will involve rolling two dice and calculating the sum of their values. Players will guess whether the next roll will result in a higher, lower, or equal sum compared to the previous roll. The simulation will track the player's score based on their guesses."
   ]
  },
  {
   "cell_type": "code",
   "execution_count": 23,
   "id": "4a70da6e",
   "metadata": {},
   "outputs": [
    {
     "name": "stdout",
     "output_type": "stream",
     "text": [
      "\n",
      "Type \"roll\": roll\n",
      "Dice sum: 8\n",
      "\n",
      "Will the next sum be higher, lower, or equal?\n",
      "higher\n",
      "\n",
      "Type \"roll\": roll\n",
      "Dice sum: 5\n",
      "Incorrect guess!\n",
      "\n",
      "\n",
      "Will the next sum be higher, lower, or equal?\n",
      "lower\n",
      "\n",
      "Type \"roll\": roll\n",
      "Dice sum: 5\n",
      "Incorrect guess!\n",
      "\n",
      "\n",
      "Will the next sum be higher, lower, or equal?\n",
      "equal\n",
      "\n",
      "Type \"roll\": roll\n",
      "Dice sum: 4\n",
      "Incorrect guess!\n",
      "\n",
      "\n",
      "Will the next sum be higher, lower, or equal?\n",
      "lower\n",
      "\n",
      "Rounds exhausted! Come back later\n",
      "\n",
      "View of dice rolls:  [8, 5, 5, 4]\n",
      "Your total score: 0\n"
     ]
    }
   ],
   "source": [
    "#number of rounds in the game\n",
    "num_of_rounds = 4\n",
    "\n",
    "#range of possible values for the die roll\n",
    "min_value = 1\n",
    "max_value = 6\n",
    "\n",
    "#intializing player's score\n",
    "score = 0\n",
    "\n",
    "#a list to record the dice sums\n",
    "sums_list = []\n",
    "\n",
    "while num_of_rounds >0 :\n",
    "    rolling = str(input('\\nType \"roll\": '))\n",
    "\n",
    "\n",
    "    if rolling == 'roll':\n",
    "        rolls_array = np.random.randint(min_value, max_value+1, size = (2,))\n",
    "        dice_sums = np.sum(rolls_array)\n",
    "        print (\"Dice sum:\", dice_sums)\n",
    "        sums_list.append(dice_sums)   \n",
    "\n",
    "        if len(sums_list) > 1:\n",
    "            if (guess == 'higher' and (sums_list[-1] > sums_list[-2])) or \\\n",
    "               (guess == 'lower' and (sums_list[-1] < sums_list[-2])) or \\\n",
    "               (guess == 'equal' and (sums_list[-1] == sums_list[-2])):\n",
    "                print('Correct guess!\\n')\n",
    "                score += 1\n",
    "            else:\n",
    "                print('Incorrect guess!\\n')\n",
    "\n",
    "    else:\n",
    "        print('Please type \"roll\".')\n",
    "    \n",
    "    \n",
    "    \n",
    "    print('\\nWill the next sum be higher, lower, or equal?')\n",
    "      \n",
    "    guess = str(input()).strip().lower() \n",
    "\n",
    "    if guess not in [\"higher\", \"lower\", \"equal\"]:\n",
    "        print(\"Invalid input! Please enter 'higher', 'lower', or 'equal'.\")\n",
    "\n",
    "    num_of_rounds -= 1\n",
    "        \n",
    "else:\n",
    "    print('\\nRounds exhausted! Come back later\\n')\n",
    "    print('View of dice rolls: ', sums_list)\n",
    "    print('Your total score:', score)"
   ]
  },
  {
   "cell_type": "markdown",
   "id": "736f886f",
   "metadata": {},
   "source": [
    "**Note:**\n",
    "\n",
    "Whenever you enter \"roll\", the simulation kicks in by generating two random numbers between 1 and 6, and then sums it up before returning the results. It also keeps track of your score which is equal to the number of correct guesses you make."
   ]
  },
  {
   "cell_type": "code",
   "execution_count": null,
   "id": "2a5ec37e",
   "metadata": {},
   "outputs": [],
   "source": []
  }
 ],
 "metadata": {
  "kernelspec": {
   "display_name": "Python 3 (ipykernel)",
   "language": "python",
   "name": "python3"
  },
  "language_info": {
   "codemirror_mode": {
    "name": "ipython",
    "version": 3
   },
   "file_extension": ".py",
   "mimetype": "text/x-python",
   "name": "python",
   "nbconvert_exporter": "python",
   "pygments_lexer": "ipython3",
   "version": "3.9.13"
  }
 },
 "nbformat": 4,
 "nbformat_minor": 5
}
