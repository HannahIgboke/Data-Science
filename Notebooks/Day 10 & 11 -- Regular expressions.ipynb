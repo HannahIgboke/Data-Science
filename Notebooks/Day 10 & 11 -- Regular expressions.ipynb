{
 "cells": [
  {
   "cell_type": "markdown",
   "id": "9e425de6",
   "metadata": {},
   "source": [
    "# REGULAR EXPRESSIONS - REGEX"
   ]
  },
  {
   "cell_type": "markdown",
   "id": "4bf56970",
   "metadata": {},
   "source": [
    "Regular expression is a tool used in text processing to describe and match patterns in strings. It is a sequence of characters that defines a search pattern.\n",
    "\n",
    "### Why is it useful?\n",
    "\n",
    "- **Pattern matching**: to search for specific patterns within a larger body of text. E.g finding specific words, dates, email addresses and other strutured information.\n",
    "\n",
    "\n",
    "- **Text extraction**: useful to extract pieces of information from a document. This information can be anything from a house address to most repeeated phrases in a document.\n",
    "\n",
    "\n",
    "- **Data validation & pattern validation**: useful for validating input data. E.g, checking if the phone number matches the 11 didgit pattern for nigerian contact numbers. It us used to validate whether an input adheres to a format, such as checking if a password being created has at least one capital letter, a digit and special symbols.\n",
    "\n",
    "\n",
    "- **Search and replace**: useful for cases where you need to replace specific patterns with something else. This is especially useful in data cleaning and transformation.\n",
    "\n",
    "\n",
    "- **Web scraping and data extraction**: to locate and extract specific elements and information/data from HTML pages\n",
    "\n",
    "\n",
    "- **Parsing and tokenization**: to break down text into smaller units or tokens. Useful in NLP problems.\n",
    "\n",
    "\n",
    "- **Log file analysis**: used in searching and parsing log files, allowin you to extract important information or identify patterns of interest.\n",
    "\n",
    "\n",
    "- **Search engines and information retrieval**: used for matching user queries to relevant content on websites or databases\n",
    "\n",
    "\n",
    "- **URL routing and validation**: useful for validating URLs to ensure they follow the correct format and extracting speicuf parameters from them\n",
    "\n",
    "\n",
    "- **Network security and firewall rules**: it allows the ability to define custom rules for allowing or blocking specific types of traffic nbased on patterns in network traffic logs\n",
    "\n",
    "\n",
    "- **Extracting meta data from documents**: by parsing documents like PDFs and word documents regex can extract metadata like the titles, authors, etc\n",
    "\n",
    "\n",
    "- **URL rewriting in web servers**: modifying URLs on the fly to improve SEO or to direct traffic to specific pages"
   ]
  },
  {
   "cell_type": "markdown",
   "id": "6ebca549",
   "metadata": {},
   "source": [
    "## User-defined character\n",
    "\n",
    "- `[abc]` - match either a,b/c\n",
    "\n",
    "- `[^abc]` - match any character asides a,b, or c\n",
    "\n",
    "- `[a-z]` - match lower case alphabet\n",
    "\n",
    "- `[A-Z]` - match upper case alphabet\n",
    "- `[a-zA-Z]` - matches any english alphabet - whether lower case or upper case\n",
    "- `[0-9]` - matches any digit character\n",
    "- `[a-zA-Z0-9_]` - matches any alphanumeric character\n",
    "- `[^a-zA-Z0-9_]` - matches any character except alphanumeric characters\n",
    "\n",
    "**NOTE:**\n",
    "\n",
    "1. The pattern [abc] will only match a single a,b, or c letter and nothing else. Therefore, remember to put in the actual string you want to serach for inside the square brackets.\n",
    "\n",
    "2. Dash `-` is used to define the character range, so we can still have  [0-6] as well"
   ]
  },
  {
   "cell_type": "markdown",
   "id": "46e38f1b",
   "metadata": {},
   "source": [
    "## Pre-defined characters\n",
    "They can serve as alternatives to the above.\n",
    "\n",
    "- `\\d = [0-9]`: matches a digit character\n",
    "- `\\D = [^0-9]`: matches any character except digit characters\n",
    "- `\\w` = matches an alphanumeric character\n",
    "- `\\W` = matches any character that is not alphanumeric\n",
    "- `\\s` = matches a space character\n",
    "- `\\S` = match any character except space\n",
    "- `\\t` = matches a tab character\n",
    "- `\\n` = matches a newline character\n",
    "- `\\r` = matches a carriage return\n"
   ]
  },
  {
   "cell_type": "markdown",
   "id": "183f9ed9",
   "metadata": {},
   "source": [
    "## Quantifiers\n",
    "To determine how much or how many of those characters you want to search for\n",
    "\n",
    "- `*` = matches 0 or more number of characters, useful for cases where the character might be there or not\n",
    "- `+` = matches 1 or more number of characters, i.e, it checks for cases where the character appears at anywhere from once to as many times as possible\n",
    "- `?` = matches atmost 1 character, i.e 0 or 1, it indicates that the string to be matched is optional\n",
    "- `a{n}` = matches excatly n number of characters\n",
    "- `a{m,n}` = matches at least m number and at most n number of characters\n",
    "\n",
    "\n",
    "**NOTE:** You can have \\d+, \\d*, \\d{5}"
   ]
  },
  {
   "cell_type": "markdown",
   "id": "64f1145a",
   "metadata": {},
   "source": [
    "## Meta Characters\n",
    "\n",
    "Refers to characters/symbols that are like special key characters. This is to say that if you were to encounter any of them in a document you will need to use `\\` before it to tell the regex matcher that it is an actual symbol in the document you want to find.\n",
    "\n",
    "`.`, `^`, `*`, `+`, `?`, `{}`, `()`, `|`, `\\`, `$`,"
   ]
  },
  {
   "cell_type": "markdown",
   "id": "02532ec7",
   "metadata": {},
   "source": [
    "- `^....$` = **starting and ending**. ^ indicates the start of the string to search for, $ indicates that we have come to a stop\n",
    "\n",
    "\n",
    "- `(string)` = () are used for **matching groups**. It is such that we define groups of characters and capture them using () metacharacter. Any subpattern inside a pair of () will be captured as a group\n",
    "\n",
    "\n",
    "- `(abc(cv))` = **capturing sub groups AKA nested groups**\n",
    "\n",
    "\n",
    "- `(abc|cvb)` = **capturing conditionals** to denote possible sets of characters\n",
    "\n",
    "\n",
    "- `\\b` = **matches boundary between a word and a non-word character, e.g space or a newline**. It is useful in capturing entire words (for example by using the pattern \\w+\\b)\n",
    "\n",
    "\n",
    "- `.*` = **captures all**. This captures all the string in a document"
   ]
  },
  {
   "cell_type": "markdown",
   "id": "d569a256",
   "metadata": {},
   "source": [
    "**For example:**\n",
    "\n",
    "1. `ab?c` = could be abc or ac, b is an optional charcter to search for\n",
    "\n",
    "\n",
    "2. Searching for \"success\" in a log file that also contains instances of \"unsuccessful\". Pattern to search for will be = `^success$`\n",
    "\n",
    "3. \"file_record_transcript.pdf\" and \"file_07241999.pdf\" We need to write a regex that matches only filenames (not including the pdf files). Pattern will be = `^(file_[a-z0-9]*([_a-z]?)+)`\n",
    "\n",
    "4. Searching for instances of \"Buy more milk\", \"Buy more bread\", \"Buy more juice\" \n",
    "The pattern would be `\"Buy more (milk|bread|juice)\"`"
   ]
  },
  {
   "cell_type": "markdown",
   "id": "dcb86c62",
   "metadata": {},
   "source": [
    "## Importing the required module"
   ]
  },
  {
   "cell_type": "code",
   "execution_count": 34,
   "id": "2499bf30",
   "metadata": {},
   "outputs": [],
   "source": [
    "import re"
   ]
  },
  {
   "cell_type": "code",
   "execution_count": 3,
   "id": "13411629",
   "metadata": {
    "scrolled": false
   },
   "outputs": [
    {
     "name": "stdout",
     "output_type": "stream",
     "text": [
      "Help on module re:\n",
      "\n",
      "NAME\n",
      "    re - Support for regular expressions (RE).\n",
      "\n",
      "MODULE REFERENCE\n",
      "    https://docs.python.org/3.9/library/re\n",
      "    \n",
      "    The following documentation is automatically generated from the Python\n",
      "    source files.  It may be incomplete, incorrect or include features that\n",
      "    are considered implementation detail and may vary between Python\n",
      "    implementations.  When in doubt, consult the module reference at the\n",
      "    location listed above.\n",
      "\n",
      "DESCRIPTION\n",
      "    This module provides regular expression matching operations similar to\n",
      "    those found in Perl.  It supports both 8-bit and Unicode strings; both\n",
      "    the pattern and the strings being processed can contain null bytes and\n",
      "    characters outside the US ASCII range.\n",
      "    \n",
      "    Regular expressions can contain both special and ordinary characters.\n",
      "    Most ordinary characters, like \"A\", \"a\", or \"0\", are the simplest\n",
      "    regular expressions; they simply match themselves.  You can\n",
      "    concatenate ordinary characters, so last matches the string 'last'.\n",
      "    \n",
      "    The special characters are:\n",
      "        \".\"      Matches any character except a newline.\n",
      "        \"^\"      Matches the start of the string.\n",
      "        \"$\"      Matches the end of the string or just before the newline at\n",
      "                 the end of the string.\n",
      "        \"*\"      Matches 0 or more (greedy) repetitions of the preceding RE.\n",
      "                 Greedy means that it will match as many repetitions as possible.\n",
      "        \"+\"      Matches 1 or more (greedy) repetitions of the preceding RE.\n",
      "        \"?\"      Matches 0 or 1 (greedy) of the preceding RE.\n",
      "        *?,+?,?? Non-greedy versions of the previous three special characters.\n",
      "        {m,n}    Matches from m to n repetitions of the preceding RE.\n",
      "        {m,n}?   Non-greedy version of the above.\n",
      "        \"\\\\\"     Either escapes special characters or signals a special sequence.\n",
      "        []       Indicates a set of characters.\n",
      "                 A \"^\" as the first character indicates a complementing set.\n",
      "        \"|\"      A|B, creates an RE that will match either A or B.\n",
      "        (...)    Matches the RE inside the parentheses.\n",
      "                 The contents can be retrieved or matched later in the string.\n",
      "        (?aiLmsux) The letters set the corresponding flags defined below.\n",
      "        (?:...)  Non-grouping version of regular parentheses.\n",
      "        (?P<name>...) The substring matched by the group is accessible by name.\n",
      "        (?P=name)     Matches the text matched earlier by the group named name.\n",
      "        (?#...)  A comment; ignored.\n",
      "        (?=...)  Matches if ... matches next, but doesn't consume the string.\n",
      "        (?!...)  Matches if ... doesn't match next.\n",
      "        (?<=...) Matches if preceded by ... (must be fixed length).\n",
      "        (?<!...) Matches if not preceded by ... (must be fixed length).\n",
      "        (?(id/name)yes|no) Matches yes pattern if the group with id/name matched,\n",
      "                           the (optional) no pattern otherwise.\n",
      "    \n",
      "    The special sequences consist of \"\\\\\" and a character from the list\n",
      "    below.  If the ordinary character is not on the list, then the\n",
      "    resulting RE will match the second character.\n",
      "        \\number  Matches the contents of the group of the same number.\n",
      "        \\A       Matches only at the start of the string.\n",
      "        \\Z       Matches only at the end of the string.\n",
      "        \\b       Matches the empty string, but only at the start or end of a word.\n",
      "        \\B       Matches the empty string, but not at the start or end of a word.\n",
      "        \\d       Matches any decimal digit; equivalent to the set [0-9] in\n",
      "                 bytes patterns or string patterns with the ASCII flag.\n",
      "                 In string patterns without the ASCII flag, it will match the whole\n",
      "                 range of Unicode digits.\n",
      "        \\D       Matches any non-digit character; equivalent to [^\\d].\n",
      "        \\s       Matches any whitespace character; equivalent to [ \\t\\n\\r\\f\\v] in\n",
      "                 bytes patterns or string patterns with the ASCII flag.\n",
      "                 In string patterns without the ASCII flag, it will match the whole\n",
      "                 range of Unicode whitespace characters.\n",
      "        \\S       Matches any non-whitespace character; equivalent to [^\\s].\n",
      "        \\w       Matches any alphanumeric character; equivalent to [a-zA-Z0-9_]\n",
      "                 in bytes patterns or string patterns with the ASCII flag.\n",
      "                 In string patterns without the ASCII flag, it will match the\n",
      "                 range of Unicode alphanumeric characters (letters plus digits\n",
      "                 plus underscore).\n",
      "                 With LOCALE, it will match the set [0-9_] plus characters defined\n",
      "                 as letters for the current locale.\n",
      "        \\W       Matches the complement of \\w.\n",
      "        \\\\       Matches a literal backslash.\n",
      "    \n",
      "    This module exports the following functions:\n",
      "        match     Match a regular expression pattern to the beginning of a string.\n",
      "        fullmatch Match a regular expression pattern to all of a string.\n",
      "        search    Search a string for the presence of a pattern.\n",
      "        sub       Substitute occurrences of a pattern found in a string.\n",
      "        subn      Same as sub, but also return the number of substitutions made.\n",
      "        split     Split a string by the occurrences of a pattern.\n",
      "        findall   Find all occurrences of a pattern in a string.\n",
      "        finditer  Return an iterator yielding a Match object for each match.\n",
      "        compile   Compile a pattern into a Pattern object.\n",
      "        purge     Clear the regular expression cache.\n",
      "        escape    Backslash all non-alphanumerics in a string.\n",
      "    \n",
      "    Each function other than purge and escape can take an optional 'flags' argument\n",
      "    consisting of one or more of the following module constants, joined by \"|\".\n",
      "    A, L, and U are mutually exclusive.\n",
      "        A  ASCII       For string patterns, make \\w, \\W, \\b, \\B, \\d, \\D\n",
      "                       match the corresponding ASCII character categories\n",
      "                       (rather than the whole Unicode categories, which is the\n",
      "                       default).\n",
      "                       For bytes patterns, this flag is the only available\n",
      "                       behaviour and needn't be specified.\n",
      "        I  IGNORECASE  Perform case-insensitive matching.\n",
      "        L  LOCALE      Make \\w, \\W, \\b, \\B, dependent on the current locale.\n",
      "        M  MULTILINE   \"^\" matches the beginning of lines (after a newline)\n",
      "                       as well as the string.\n",
      "                       \"$\" matches the end of lines (before a newline) as well\n",
      "                       as the end of the string.\n",
      "        S  DOTALL      \".\" matches any character at all, including the newline.\n",
      "        X  VERBOSE     Ignore whitespace and comments for nicer looking RE's.\n",
      "        U  UNICODE     For compatibility only. Ignored for string patterns (it\n",
      "                       is the default), and forbidden for bytes patterns.\n",
      "    \n",
      "    This module also defines an exception 'error'.\n",
      "\n",
      "CLASSES\n",
      "    builtins.Exception(builtins.BaseException)\n",
      "        error\n",
      "    builtins.object\n",
      "        Match\n",
      "        Pattern\n",
      "    \n",
      "    class Match(builtins.object)\n",
      "     |  The result of re.match() and re.search().\n",
      "     |  Match objects always have a boolean value of True.\n",
      "     |  \n",
      "     |  Methods defined here:\n",
      "     |  \n",
      "     |  __copy__(self, /)\n",
      "     |  \n",
      "     |  __deepcopy__(self, memo, /)\n",
      "     |  \n",
      "     |  __getitem__(self, key, /)\n",
      "     |      Return self[key].\n",
      "     |  \n",
      "     |  __repr__(self, /)\n",
      "     |      Return repr(self).\n",
      "     |  \n",
      "     |  end(self, group=0, /)\n",
      "     |      Return index of the end of the substring matched by group.\n",
      "     |  \n",
      "     |  expand(self, /, template)\n",
      "     |      Return the string obtained by doing backslash substitution on the string template, as done by the sub() method.\n",
      "     |  \n",
      "     |  group(...)\n",
      "     |      group([group1, ...]) -> str or tuple.\n",
      "     |      Return subgroup(s) of the match by indices or names.\n",
      "     |      For 0 returns the entire match.\n",
      "     |  \n",
      "     |  groupdict(self, /, default=None)\n",
      "     |      Return a dictionary containing all the named subgroups of the match, keyed by the subgroup name.\n",
      "     |      \n",
      "     |      default\n",
      "     |        Is used for groups that did not participate in the match.\n",
      "     |  \n",
      "     |  groups(self, /, default=None)\n",
      "     |      Return a tuple containing all the subgroups of the match, from 1.\n",
      "     |      \n",
      "     |      default\n",
      "     |        Is used for groups that did not participate in the match.\n",
      "     |  \n",
      "     |  span(self, group=0, /)\n",
      "     |      For match object m, return the 2-tuple (m.start(group), m.end(group)).\n",
      "     |  \n",
      "     |  start(self, group=0, /)\n",
      "     |      Return index of the start of the substring matched by group.\n",
      "     |  \n",
      "     |  ----------------------------------------------------------------------\n",
      "     |  Class methods defined here:\n",
      "     |  \n",
      "     |  __class_getitem__(...) from builtins.type\n",
      "     |      See PEP 585\n",
      "     |  \n",
      "     |  ----------------------------------------------------------------------\n",
      "     |  Data descriptors defined here:\n",
      "     |  \n",
      "     |  endpos\n",
      "     |      The index into the string beyond which the RE engine will not go.\n",
      "     |  \n",
      "     |  lastgroup\n",
      "     |      The name of the last matched capturing group.\n",
      "     |  \n",
      "     |  lastindex\n",
      "     |      The integer index of the last matched capturing group.\n",
      "     |  \n",
      "     |  pos\n",
      "     |      The index into the string at which the RE engine started looking for a match.\n",
      "     |  \n",
      "     |  re\n",
      "     |      The regular expression object.\n",
      "     |  \n",
      "     |  regs\n",
      "     |  \n",
      "     |  string\n",
      "     |      The string passed to match() or search().\n",
      "    \n",
      "    class Pattern(builtins.object)\n",
      "     |  Compiled regular expression object.\n",
      "     |  \n",
      "     |  Methods defined here:\n",
      "     |  \n",
      "     |  __copy__(self, /)\n",
      "     |  \n",
      "     |  __deepcopy__(self, memo, /)\n",
      "     |  \n",
      "     |  __eq__(self, value, /)\n",
      "     |      Return self==value.\n",
      "     |  \n",
      "     |  __ge__(self, value, /)\n",
      "     |      Return self>=value.\n",
      "     |  \n",
      "     |  __gt__(self, value, /)\n",
      "     |      Return self>value.\n",
      "     |  \n",
      "     |  __hash__(self, /)\n",
      "     |      Return hash(self).\n",
      "     |  \n",
      "     |  __le__(self, value, /)\n",
      "     |      Return self<=value.\n",
      "     |  \n",
      "     |  __lt__(self, value, /)\n",
      "     |      Return self<value.\n",
      "     |  \n",
      "     |  __ne__(self, value, /)\n",
      "     |      Return self!=value.\n",
      "     |  \n",
      "     |  __repr__(self, /)\n",
      "     |      Return repr(self).\n",
      "     |  \n",
      "     |  findall(self, /, string, pos=0, endpos=9223372036854775807)\n",
      "     |      Return a list of all non-overlapping matches of pattern in string.\n",
      "     |  \n",
      "     |  finditer(self, /, string, pos=0, endpos=9223372036854775807)\n",
      "     |      Return an iterator over all non-overlapping matches for the RE pattern in string.\n",
      "     |      \n",
      "     |      For each match, the iterator returns a match object.\n",
      "     |  \n",
      "     |  fullmatch(self, /, string, pos=0, endpos=9223372036854775807)\n",
      "     |      Matches against all of the string.\n",
      "     |  \n",
      "     |  match(self, /, string, pos=0, endpos=9223372036854775807)\n",
      "     |      Matches zero or more characters at the beginning of the string.\n",
      "     |  \n",
      "     |  scanner(self, /, string, pos=0, endpos=9223372036854775807)\n",
      "     |  \n",
      "     |  search(self, /, string, pos=0, endpos=9223372036854775807)\n",
      "     |      Scan through string looking for a match, and return a corresponding match object instance.\n",
      "     |      \n",
      "     |      Return None if no position in the string matches.\n",
      "     |  \n",
      "     |  split(self, /, string, maxsplit=0)\n",
      "     |      Split string by the occurrences of pattern.\n",
      "     |  \n",
      "     |  sub(self, /, repl, string, count=0)\n",
      "     |      Return the string obtained by replacing the leftmost non-overlapping occurrences of pattern in string by the replacement repl.\n",
      "     |  \n",
      "     |  subn(self, /, repl, string, count=0)\n",
      "     |      Return the tuple (new_string, number_of_subs_made) found by replacing the leftmost non-overlapping occurrences of pattern with the replacement repl.\n",
      "     |  \n",
      "     |  ----------------------------------------------------------------------\n",
      "     |  Class methods defined here:\n",
      "     |  \n",
      "     |  __class_getitem__(...) from builtins.type\n",
      "     |      See PEP 585\n",
      "     |  \n",
      "     |  ----------------------------------------------------------------------\n",
      "     |  Data descriptors defined here:\n",
      "     |  \n",
      "     |  flags\n",
      "     |      The regex matching flags.\n",
      "     |  \n",
      "     |  groupindex\n",
      "     |      A dictionary mapping group names to group numbers.\n",
      "     |  \n",
      "     |  groups\n",
      "     |      The number of capturing groups in the pattern.\n",
      "     |  \n",
      "     |  pattern\n",
      "     |      The pattern string from which the RE object was compiled.\n",
      "    \n",
      "    class error(builtins.Exception)\n",
      "     |  error(msg, pattern=None, pos=None)\n",
      "     |  \n",
      "     |  Exception raised for invalid regular expressions.\n",
      "     |  \n",
      "     |  Attributes:\n",
      "     |  \n",
      "     |      msg: The unformatted error message\n",
      "     |      pattern: The regular expression pattern\n",
      "     |      pos: The index in the pattern where compilation failed (may be None)\n",
      "     |      lineno: The line corresponding to pos (may be None)\n",
      "     |      colno: The column corresponding to pos (may be None)\n",
      "     |  \n",
      "     |  Method resolution order:\n",
      "     |      error\n",
      "     |      builtins.Exception\n",
      "     |      builtins.BaseException\n",
      "     |      builtins.object\n",
      "     |  \n",
      "     |  Methods defined here:\n",
      "     |  \n",
      "     |  __init__(self, msg, pattern=None, pos=None)\n",
      "     |      Initialize self.  See help(type(self)) for accurate signature.\n",
      "     |  \n",
      "     |  ----------------------------------------------------------------------\n",
      "     |  Data descriptors defined here:\n",
      "     |  \n",
      "     |  __weakref__\n",
      "     |      list of weak references to the object (if defined)\n",
      "     |  \n",
      "     |  ----------------------------------------------------------------------\n",
      "     |  Static methods inherited from builtins.Exception:\n",
      "     |  \n",
      "     |  __new__(*args, **kwargs) from builtins.type\n",
      "     |      Create and return a new object.  See help(type) for accurate signature.\n",
      "     |  \n",
      "     |  ----------------------------------------------------------------------\n",
      "     |  Methods inherited from builtins.BaseException:\n",
      "     |  \n",
      "     |  __delattr__(self, name, /)\n",
      "     |      Implement delattr(self, name).\n",
      "     |  \n",
      "     |  __getattribute__(self, name, /)\n",
      "     |      Return getattr(self, name).\n",
      "     |  \n",
      "     |  __reduce__(...)\n",
      "     |      Helper for pickle.\n",
      "     |  \n",
      "     |  __repr__(self, /)\n",
      "     |      Return repr(self).\n",
      "     |  \n",
      "     |  __setattr__(self, name, value, /)\n",
      "     |      Implement setattr(self, name, value).\n",
      "     |  \n",
      "     |  __setstate__(...)\n",
      "     |  \n",
      "     |  __str__(self, /)\n",
      "     |      Return str(self).\n",
      "     |  \n",
      "     |  with_traceback(...)\n",
      "     |      Exception.with_traceback(tb) --\n",
      "     |      set self.__traceback__ to tb and return self.\n",
      "     |  \n",
      "     |  ----------------------------------------------------------------------\n",
      "     |  Data descriptors inherited from builtins.BaseException:\n",
      "     |  \n",
      "     |  __cause__\n",
      "     |      exception cause\n",
      "     |  \n",
      "     |  __context__\n",
      "     |      exception context\n",
      "     |  \n",
      "     |  __dict__\n",
      "     |  \n",
      "     |  __suppress_context__\n",
      "     |  \n",
      "     |  __traceback__\n",
      "     |  \n",
      "     |  args\n",
      "\n",
      "FUNCTIONS\n",
      "    compile(pattern, flags=0)\n",
      "        Compile a regular expression pattern, returning a Pattern object.\n",
      "    \n",
      "    escape(pattern)\n",
      "        Escape special characters in a string.\n",
      "    \n",
      "    findall(pattern, string, flags=0)\n",
      "        Return a list of all non-overlapping matches in the string.\n",
      "        \n",
      "        If one or more capturing groups are present in the pattern, return\n",
      "        a list of groups; this will be a list of tuples if the pattern\n",
      "        has more than one group.\n",
      "        \n",
      "        Empty matches are included in the result.\n",
      "    \n",
      "    finditer(pattern, string, flags=0)\n",
      "        Return an iterator over all non-overlapping matches in the\n",
      "        string.  For each match, the iterator returns a Match object.\n",
      "        \n",
      "        Empty matches are included in the result.\n",
      "    \n",
      "    fullmatch(pattern, string, flags=0)\n",
      "        Try to apply the pattern to all of the string, returning\n",
      "        a Match object, or None if no match was found.\n",
      "    \n",
      "    match(pattern, string, flags=0)\n",
      "        Try to apply the pattern at the start of the string, returning\n",
      "        a Match object, or None if no match was found.\n",
      "    \n",
      "    purge()\n",
      "        Clear the regular expression caches\n",
      "    \n",
      "    search(pattern, string, flags=0)\n",
      "        Scan through string looking for a match to the pattern, returning\n",
      "        a Match object, or None if no match was found.\n",
      "    \n",
      "    split(pattern, string, maxsplit=0, flags=0)\n",
      "        Split the source string by the occurrences of the pattern,\n",
      "        returning a list containing the resulting substrings.  If\n",
      "        capturing parentheses are used in pattern, then the text of all\n",
      "        groups in the pattern are also returned as part of the resulting\n",
      "        list.  If maxsplit is nonzero, at most maxsplit splits occur,\n",
      "        and the remainder of the string is returned as the final element\n",
      "        of the list.\n",
      "    \n",
      "    sub(pattern, repl, string, count=0, flags=0)\n",
      "        Return the string obtained by replacing the leftmost\n",
      "        non-overlapping occurrences of the pattern in string by the\n",
      "        replacement repl.  repl can be either a string or a callable;\n",
      "        if a string, backslash escapes in it are processed.  If it is\n",
      "        a callable, it's passed the Match object and must return\n",
      "        a replacement string to be used.\n",
      "    \n",
      "    subn(pattern, repl, string, count=0, flags=0)\n",
      "        Return a 2-tuple containing (new_string, number).\n",
      "        new_string is the string obtained by replacing the leftmost\n",
      "        non-overlapping occurrences of the pattern in the source\n",
      "        string by the replacement repl.  number is the number of\n",
      "        substitutions that were made. repl can be either a string or a\n",
      "        callable; if a string, backslash escapes in it are processed.\n",
      "        If it is a callable, it's passed the Match object and must\n",
      "        return a replacement string to be used.\n",
      "    \n",
      "    template(pattern, flags=0)\n",
      "        Compile a template pattern, returning a Pattern object\n",
      "\n",
      "DATA\n",
      "    A = re.ASCII\n",
      "    ASCII = re.ASCII\n",
      "    DOTALL = re.DOTALL\n",
      "    I = re.IGNORECASE\n",
      "    IGNORECASE = re.IGNORECASE\n",
      "    L = re.LOCALE\n",
      "    LOCALE = re.LOCALE\n",
      "    M = re.MULTILINE\n",
      "    MULTILINE = re.MULTILINE\n",
      "    S = re.DOTALL\n",
      "    U = re.UNICODE\n",
      "    UNICODE = re.UNICODE\n",
      "    VERBOSE = re.VERBOSE\n",
      "    X = re.VERBOSE\n",
      "    __all__ = ['match', 'fullmatch', 'search', 'sub', 'subn', 'split', 'fi...\n",
      "\n",
      "VERSION\n",
      "    2.2.1\n",
      "\n",
      "FILE\n",
      "    c:\\users\\user\\anaconda3\\lib\\re.py\n",
      "\n",
      "\n"
     ]
    }
   ],
   "source": [
    "help(re)"
   ]
  },
  {
   "cell_type": "markdown",
   "id": "f6208af4",
   "metadata": {},
   "source": [
    "### re.fullmatch()\n",
    "\n",
    "Returns a match object **if and only if the entire string matches the pattern**. Otherwise, it will return `None`. This is useful for vaidating data."
   ]
  },
  {
   "cell_type": "code",
   "execution_count": null,
   "id": "2952ca8b",
   "metadata": {
    "scrolled": true
   },
   "outputs": [],
   "source": [
    "#Syntax:\n",
    "\n",
    "import re\n",
    "re.fullmatch(pattern, string)"
   ]
  },
  {
   "cell_type": "markdown",
   "id": "7877cd84",
   "metadata": {},
   "source": [
    "**1. Regex to match a Nigerian contact number**\n",
    "\n",
    "Rules:\n",
    "\n",
    "- It should start with 0\n",
    "\n",
    "- It should contain exactly 11 digits"
   ]
  },
  {
   "cell_type": "code",
   "execution_count": 37,
   "id": "aaca0c25",
   "metadata": {},
   "outputs": [
    {
     "name": "stdout",
     "output_type": "stream",
     "text": [
      "Enter your Nigerian mobile number: 091234567890987\n",
      "Not valid!\n"
     ]
    }
   ],
   "source": [
    "#asking for input \n",
    "mobile_num = input('Enter your Nigerian mobile number: ')\n",
    "\n",
    "#defining the expression/pattern fpr Nigerian phone numbers\n",
    "regex = r'^(0)[7-9]\\d{9}$'\n",
    "\n",
    "#match the regex with the user entered mobile number\n",
    "match = re.fullmatch(regex, mobile_num)\n",
    "\n",
    "#Check to know if the number entered is valid or not\n",
    "if match:\n",
    "    print('Your number is Valid!')\n",
    "else:\n",
    "    print('Not valid!')"
   ]
  },
  {
   "cell_type": "markdown",
   "id": "4f5c7276",
   "metadata": {},
   "source": [
    "**Note:**\n",
    "\n",
    "- [7-9] is used to ensure that the first number after the leading 0 belongs to a mobile operator"
   ]
  },
  {
   "cell_type": "markdown",
   "id": "422dd559",
   "metadata": {},
   "source": [
    "**Preceding `r` in a string**\n",
    "\n",
    "The \"r\" at the start of the pattern string is used to designate a python \"raw\" string. It means that the string is to be treated as a raw string which means all escape codes will be ignored. \n",
    "\n",
    "For example: `\\n` will be treated as a newline character while `r'\\n` refers to the characters \\ followed by n"
   ]
  },
  {
   "cell_type": "markdown",
   "id": "4b791d22",
   "metadata": {},
   "source": [
    "**2. Regex to match to validate a python identifier (AKA user-defined names)**\n",
    "\n",
    "Rules:\n",
    "\n",
    "   - Can be a combination of letters(uppercase and lowercase),digits(0-9)\n",
    "    \n",
    "   - Must start with a letter or an underscore. Digits cannot be the first character.\n",
    "    \n",
    "   - No special characters are allowed except _\n",
    "   \n",
    "   - Reserved words or keywords are not allowed"
   ]
  },
  {
   "cell_type": "code",
   "execution_count": 38,
   "id": "1744dd7a",
   "metadata": {},
   "outputs": [
    {
     "name": "stdout",
     "output_type": "stream",
     "text": [
      "Enter python identifier: break\n",
      "You have entered a python keyword. Please revise.\n"
     ]
    }
   ],
   "source": [
    "#create a list of python keywords\n",
    "keywords = [\"True\", \"False\", \"None\", \"and\", \"or\", \"not\", \"in\", \"is\", \n",
    "            \"if\", \"elif\", \"else\", \"for\", \"while\", \"break\", \"continue\", \n",
    "            \"pass\", \"def\", \"class\", \"with\", \"as\", \"lambda\", \"return\", \n",
    "            \"yield\", \"import\", \"from\", \"try\", \"except\", \"raise\", \"finally\", \"assert\", \"async\", \"await\"]\n",
    "\n",
    "#asking for input \n",
    "my_identifier = input('Enter python identifier: ')\n",
    "\n",
    "#defining the expression/pattern fpr Nigerian phone numbers\n",
    "regex = r\"^[a-zA-Z_][\\w\\_]*\"\n",
    "\n",
    "#match the regex with the user entered mobile number\n",
    "match = re.fullmatch(regex, identifier)\n",
    "\n",
    "#Check to know if the number entered is valid or not\n",
    "if my_identifier in keywords:\n",
    "    print('You have entered a python keyword. Please revise.')\n",
    "elif match:\n",
    "    print('Valid!')\n",
    "else:\n",
    "    print('Not valid!')"
   ]
  },
  {
   "cell_type": "markdown",
   "id": "b5c15a3a",
   "metadata": {},
   "source": [
    "### re.findall()\n",
    "\n",
    "It iterates over a string(document) to **find a subset of characters that match a specified pattern**. It will return a list of every pattern match that occurs in a given string. The string is scanned L-to-R, and matches are returned in the order found. Useful for tasks like data extraction and data cleaning."
   ]
  },
  {
   "cell_type": "code",
   "execution_count": null,
   "id": "5a265e8a",
   "metadata": {},
   "outputs": [],
   "source": [
    "#Syntax:\n",
    "\n",
    "import re\n",
    "re.findall(pattern, string)"
   ]
  },
  {
   "cell_type": "code",
   "execution_count": 45,
   "id": "7afb4e3b",
   "metadata": {},
   "outputs": [
    {
     "data": {
      "text/plain": [
       "['john.doe@example.com.',\n",
       " 'john.doe+info@example.com.',\n",
       " 'jane.doe@example.co.uk.',\n",
       " 'info4567@example.com.',\n",
       " 'support@example.com.',\n",
       " 'sales@example.com.',\n",
       " 'partners@example.com.']"
      ]
     },
     "execution_count": 45,
     "metadata": {},
     "output_type": "execute_result"
    }
   ],
   "source": [
    "import re\n",
    "\n",
    "string = \"\"\"\n",
    "        Hello, my email is john.doe@example.com. \n",
    "        For more information, contact me at john.doe+info@example.com. \n",
    "        You can also reach out to my colleague at jane.doe@example.co.uk.\n",
    "        For general inquiries, please contact us at info4567@example.com. \n",
    "        For technical support, reach out to support@example.com. \n",
    "        For sales inquiries, email sales@example.com. \n",
    "        For partnership opportunities, contact us at partners@example.com.\n",
    "        \"\"\"\n",
    "#extract all email addresses from the string\n",
    "regex = r\"[\\w\\.\\+]+\\@[\\w]+\\.[a-z\\.]+\"\n",
    "\n",
    "re.findall(regex, string)"
   ]
  },
  {
   "cell_type": "markdown",
   "id": "0c2b62b4",
   "metadata": {},
   "source": [
    "### Search and replace\n",
    "\n",
    "### re.sub"
   ]
  },
  {
   "cell_type": "code",
   "execution_count": null,
   "id": "379f3bff",
   "metadata": {},
   "outputs": [],
   "source": [
    "#Syntax:\n",
    "\n",
    "re.sub(pattern, replacement, targetString)"
   ]
  },
  {
   "cell_type": "code",
   "execution_count": 46,
   "id": "fed0e6c1",
   "metadata": {},
   "outputs": [
    {
     "data": {
      "text/plain": [
       "'a#b#c#d#e#f#&*%'"
      ]
     },
     "execution_count": 46,
     "metadata": {},
     "output_type": "execute_result"
    }
   ],
   "source": [
    "import re\n",
    "new = re.sub('\\d', '#', 'a1b2c3d4e4f6&*%')\n",
    "new"
   ]
  },
  {
   "cell_type": "code",
   "execution_count": 49,
   "id": "b57b4131",
   "metadata": {},
   "outputs": [
    {
     "name": "stdout",
     "output_type": "stream",
     "text": [
      "Num1:  123-1234-546-980     \n",
      "Num2:  123|1234|546|980. This is my phone number\n"
     ]
    }
   ],
   "source": [
    "#re.sub(regex, replacement, targetString)\n",
    "\n",
    "import re\n",
    "phone = '123-1234-546-980. This is my phone number'\n",
    "\n",
    "#removing the text part of the string\n",
    "num1 = re.sub('[a-zA-Z\\.]+', '', phone)\n",
    "print('Num1: ', num1)\n",
    "\n",
    "#replacing - with |\n",
    "num2 = re.sub('[\\-]+', '|', phone)\n",
    "print('Num2: ', num2)"
   ]
  },
  {
   "cell_type": "markdown",
   "id": "b7dc0cd8",
   "metadata": {},
   "source": [
    "### re.split()"
   ]
  },
  {
   "cell_type": "code",
   "execution_count": null,
   "id": "1fffdd5a",
   "metadata": {},
   "outputs": [],
   "source": [
    "#Syntax:\n",
    "\n",
    "re.split(pattern, string)"
   ]
  },
  {
   "cell_type": "code",
   "execution_count": 51,
   "id": "1224c50f",
   "metadata": {},
   "outputs": [
    {
     "name": "stdout",
     "output_type": "stream",
     "text": [
      "['abcdef', 'ghij', '1234', 'gmail', 'com']\n"
     ]
    }
   ],
   "source": [
    "import re\n",
    "line = re.split('\\W', 'abcdef&ghij+1234@gmail.com')\n",
    "print(line)"
   ]
  },
  {
   "cell_type": "markdown",
   "id": "1da15729",
   "metadata": {},
   "source": [
    "## Step by Step for creating RegEx\n",
    "\n",
    "### Step 1: Create the pattern object"
   ]
  },
  {
   "cell_type": "code",
   "execution_count": 52,
   "id": "b54a50b5",
   "metadata": {},
   "outputs": [
    {
     "name": "stdout",
     "output_type": "stream",
     "text": [
      "<class 're.Pattern'>\n"
     ]
    }
   ],
   "source": [
    "#compile() ->> converts the pattern into regex object\n",
    "\n",
    "import re\n",
    "pattern = re.compile('Python')\n",
    "\n",
    "print(type(pattern))"
   ]
  },
  {
   "cell_type": "markdown",
   "id": "e3901248",
   "metadata": {},
   "source": [
    "### Step 2: Create matcher object"
   ]
  },
  {
   "cell_type": "code",
   "execution_count": 53,
   "id": "754da2fb",
   "metadata": {},
   "outputs": [
    {
     "name": "stdout",
     "output_type": "stream",
     "text": [
      "<class 'callable_iterator'>\n"
     ]
    }
   ],
   "source": [
    "matcher = pattern.finditer('Does Python use Object Oriented Programming? How many Python libraries do you know of? Python and python')\n",
    "\n",
    "print(type(matcher))"
   ]
  },
  {
   "cell_type": "markdown",
   "id": "c9497520",
   "metadata": {},
   "source": [
    "### Step 3: Iterate over the matcher"
   ]
  },
  {
   "cell_type": "code",
   "execution_count": 54,
   "id": "08ab363b",
   "metadata": {},
   "outputs": [
    {
     "name": "stdout",
     "output_type": "stream",
     "text": [
      "<class 're.Match'>\n",
      "Match is at: 5, End: 11, Pattern found: Python\n",
      "<class 're.Match'>\n",
      "Match is at: 54, End: 60, Pattern found: Python\n",
      "<class 're.Match'>\n",
      "Match is at: 87, End: 93, Pattern found: Python\n",
      "DONE!\n"
     ]
    }
   ],
   "source": [
    "#start() -> starting index of matched string\n",
    "#end() -> end+1 index\n",
    "#group() -> returns matched string\n",
    "\n",
    "for m in matcher:\n",
    "    print(type(m))\n",
    "    print('Match is at: {}, End: {}, Pattern found: {}'.format(m.start(), m.end(), m.group()))\n",
    "print('DONE!')"
   ]
  },
  {
   "cell_type": "markdown",
   "id": "1437523f",
   "metadata": {},
   "source": [
    "## Using various combinations\n",
    "\n",
    "The one we just saw above is the first one."
   ]
  },
  {
   "cell_type": "code",
   "execution_count": 55,
   "id": "13687ddd",
   "metadata": {},
   "outputs": [
    {
     "name": "stdout",
     "output_type": "stream",
     "text": [
      "Match is at: 5, End: 11, Pattern found: Python\n",
      "Match is at: 54, End: 60, Pattern found: Python\n",
      "Match is at: 87, End: 93, Pattern found: Python\n"
     ]
    }
   ],
   "source": [
    "#2nd way\n",
    "\n",
    "import re\n",
    "\n",
    "matcher = re.compile('Python').finditer('Does Python use Object Oriented Programming? How many Python libraries do you know of? Python and python')\n",
    "\n",
    "for m in matcher:\n",
    "    print('Match is at: {}, End: {}, Pattern found: {}'.format(m.start(), m.end(), m.group()))"
   ]
  },
  {
   "cell_type": "code",
   "execution_count": 56,
   "id": "676c7c50",
   "metadata": {},
   "outputs": [
    {
     "name": "stdout",
     "output_type": "stream",
     "text": [
      "Match is at: 5, End: 11, Pattern found: Python\n",
      "Match is at: 54, End: 60, Pattern found: Python\n",
      "Match is at: 87, End: 93, Pattern found: Python\n"
     ]
    }
   ],
   "source": [
    "#3rd way =>> re.finditer(pattern, target)\n",
    "\n",
    "import re\n",
    "\n",
    "matcher = re.finditer('Python', 'Does Python use Object Oriented Programming? How many Python libraries do you know of? Python and python')\n",
    "for m in matcher:\n",
    "    print('Match is at: {}, End: {}, Pattern found: {}'.format(m.start(), m.end(), m.group()))\n"
   ]
  },
  {
   "cell_type": "code",
   "execution_count": 58,
   "id": "390da85c",
   "metadata": {},
   "outputs": [
    {
     "name": "stdout",
     "output_type": "stream",
     "text": [
      "Match is at: 5, End: 11, Pattern found: Python\n",
      "Match is at: 54, End: 60, Pattern found: Python\n",
      "Match is at: 87, End: 93, Pattern found: Python\n",
      "Total patterns found:  3\n"
     ]
    }
   ],
   "source": [
    "import re\n",
    "matcher = re.finditer('Python','Does Python use Object Oriented Programming? How many Python libraries do you know of? Python and python')\n",
    "\n",
    "count = 0\n",
    "\n",
    "for m in matcher:\n",
    "    count += 1\n",
    "    print('Match is at: {}, End: {}, Pattern found: {}'.format(m.start(), m.end(), m.group()))\n",
    "print('Total patterns found: ', count)"
   ]
  },
  {
   "cell_type": "code",
   "execution_count": 59,
   "id": "8196f4ea",
   "metadata": {},
   "outputs": [
    {
     "name": "stdout",
     "output_type": "stream",
     "text": [
      "Match is at: 1, End: 2, Pattern found: 4\n",
      "Match is at: 3, End: 4, Pattern found: &\n",
      "Match is at: 5, End: 6, Pattern found: _\n",
      "Match is at: 11, End: 12, Pattern found: /\n",
      "Match is at: 12, End: 13, Pattern found: >\n",
      "Match is at: 13, End: 14, Pattern found: +\n",
      "Match is at: 14, End: 15, Pattern found:  \n",
      "Match is at: 15, End: 16, Pattern found: D\n",
      "Match is at: 23, End: 24, Pattern found:  \n",
      "Match is at: 30, End: 31, Pattern found: #\n",
      "Match is at: 31, End: 32, Pattern found: @\n",
      "Total patterns found:  11\n"
     ]
    }
   ],
   "source": [
    "matcher = re.finditer('[^a-z]', 'a4b&u_lkegy/>+ Deciimal points#@')\n",
    "\n",
    "count = 0\n",
    "\n",
    "for m in matcher:\n",
    "    count += 1\n",
    "    print('Match is at: {}, End: {}, Pattern found: {}'.format(m.start(), m.end(), m.group()))\n",
    "print('Total patterns found: ', count)"
   ]
  },
  {
   "cell_type": "code",
   "execution_count": 63,
   "id": "ca931be9",
   "metadata": {},
   "outputs": [
    {
     "name": "stdout",
     "output_type": "stream",
     "text": [
      "Match is at: 0, End: 1, Pattern found: a\n",
      "Match is at: 1, End: 1, Pattern found: \n",
      "Match is at: 2, End: 6, Pattern found: aaaa\n",
      "Match is at: 6, End: 6, Pattern found: \n",
      "Match is at: 7, End: 7, Pattern found: \n",
      "Match is at: 8, End: 8, Pattern found: \n",
      "Match is at: 9, End: 10, Pattern found: a\n",
      "Match is at: 10, End: 10, Pattern found: \n",
      "Match is at: 11, End: 11, Pattern found: \n",
      "Match is at: 12, End: 12, Pattern found: \n",
      "Match is at: 13, End: 16, Pattern found: aaa\n",
      "Match is at: 16, End: 16, Pattern found: \n",
      "Match is at: 17, End: 17, Pattern found: \n",
      "Match is at: 18, End: 18, Pattern found: \n",
      "Match is at: 19, End: 22, Pattern found: aaa\n",
      "Match is at: 22, End: 22, Pattern found: \n",
      "Match is at: 23, End: 23, Pattern found: \n",
      "Match is at: 24, End: 24, Pattern found: \n",
      "Match is at: 25, End: 27, Pattern found: aa\n",
      "Match is at: 27, End: 27, Pattern found: \n",
      "Match is at: 28, End: 28, Pattern found: \n",
      "Match is at: 29, End: 29, Pattern found: \n",
      "Match is at: 30, End: 30, Pattern found: \n",
      "Match is at: 31, End: 33, Pattern found: aa\n",
      "Match is at: 33, End: 33, Pattern found: \n",
      "Total patterns found:  25\n"
     ]
    }
   ],
   "source": [
    "matcher = re.finditer('a*', 'abaaaahytajkoaaa7ytaaaweraasdfgaa')\n",
    "\n",
    "count = 0\n",
    "\n",
    "for m in matcher:\n",
    "    count += 1\n",
    "    print('Match is at: {}, End: {}, Pattern found: {}'.format(m.start(), m.end(), m.group()))\n",
    "print('Total patterns found: ', count)"
   ]
  },
  {
   "cell_type": "markdown",
   "id": "d4c06811",
   "metadata": {},
   "source": [
    "### re.match()\n",
    "\n",
    "`re.match(pattern, target)`\n",
    "\n",
    "It is used to match the given patern at the beginning of the target string. If it finds the pattern it returns the match object. If nothing is found, it returns None."
   ]
  },
  {
   "cell_type": "code",
   "execution_count": 65,
   "id": "916e6e9a",
   "metadata": {},
   "outputs": [
    {
     "name": "stdout",
     "output_type": "stream",
     "text": [
      "Enter pattern to search for: efg\n",
      "Match is not available at the beginning of the string\n"
     ]
    }
   ],
   "source": [
    "import re\n",
    "\n",
    "regex = input('Enter pattern to search for: ')\n",
    "\n",
    "m = re.match(regex, 'abcdefghijk')\n",
    "\n",
    "if m == None:\n",
    "    print('Match is not available at the beginning of the string')\n",
    "else:\n",
    "    print('Match found at the beginning of the string.')\n",
    "    print('Match is at: {}, End: {}, Pattern found: {}'.format(m.start(), m.end(), m.group()))"
   ]
  },
  {
   "cell_type": "markdown",
   "id": "0c2e3e3a",
   "metadata": {},
   "source": [
    "### re.search()\n",
    "\n",
    "`re.search(pattern, target)`\n",
    "\n",
    "Searches the target string irrespective of location. If match is found it returns the first occurrence, otherwise it returns None"
   ]
  },
  {
   "cell_type": "code",
   "execution_count": 69,
   "id": "7252b7da",
   "metadata": {},
   "outputs": [
    {
     "name": "stdout",
     "output_type": "stream",
     "text": [
      "Enter pattern to search for: efghi\n",
      "Match available!\n",
      "First occurence at: 4, End: 9, Pattern found: efghi\n"
     ]
    }
   ],
   "source": [
    "import re\n",
    "\n",
    "regex = input('Enter pattern to search for: ')\n",
    "\n",
    "m = re.search(regex, 'abcdefghijk')\n",
    "\n",
    "if m != None:\n",
    "    print('Match available!')\n",
    "    print('First occurence at: {}, End: {}, Pattern found: {}'.format(m.start(), m.end(), m.group()))\n",
    "else:\n",
    "    print('Match was not found in the entire sring.')\n",
    "    "
   ]
  },
  {
   "cell_type": "markdown",
   "id": "2ea05b03",
   "metadata": {},
   "source": [
    "### Ignoring the case of the pattern"
   ]
  },
  {
   "cell_type": "code",
   "execution_count": 74,
   "id": "78d4c94a",
   "metadata": {},
   "outputs": [
    {
     "name": "stdout",
     "output_type": "stream",
     "text": [
      "Nice!\n"
     ]
    }
   ],
   "source": [
    "import re\n",
    "I = re.IGNORECASE  #You can refer to the help(re) results above to understand how to use flags in regex\n",
    "\n",
    "string = 'I am learning Python'\n",
    "\n",
    "match = re.search('python$', string, I)\n",
    "\n",
    "if match:\n",
    "    print('Nice!')\n",
    "else:\n",
    "    print('Oops🙂')"
   ]
  },
  {
   "cell_type": "code",
   "execution_count": null,
   "id": "1fc22857",
   "metadata": {},
   "outputs": [],
   "source": []
  }
 ],
 "metadata": {
  "kernelspec": {
   "display_name": "Python 3 (ipykernel)",
   "language": "python",
   "name": "python3"
  },
  "language_info": {
   "codemirror_mode": {
    "name": "ipython",
    "version": 3
   },
   "file_extension": ".py",
   "mimetype": "text/x-python",
   "name": "python",
   "nbconvert_exporter": "python",
   "pygments_lexer": "ipython3",
   "version": "3.9.13"
  }
 },
 "nbformat": 4,
 "nbformat_minor": 5
}
