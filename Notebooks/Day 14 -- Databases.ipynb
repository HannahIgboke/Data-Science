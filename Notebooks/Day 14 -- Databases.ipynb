{
 "cells": [
  {
   "cell_type": "markdown",
   "id": "f2797f27",
   "metadata": {},
   "source": [
    "# Working with databases in Python\n",
    "### ~Python database programming\n",
    "\n",
    "Python is a popular choice for working with databases due to its flexibility and rich ecosystem of libraries. With python, you can connect to a variety of databases, both relational and non-relational. Python has several libraries available to interact with databases.E.g, sqlite3, mysql-connector-python, etc.\n"
   ]
  },
  {
   "cell_type": "markdown",
   "id": "0a7ed0ca",
   "metadata": {},
   "source": [
    "## SQLite Database\n",
    "\n",
    "\n",
    "### How to connect with database in python\n",
    "1. import db module\n",
    "\n",
    "`import sqlite3`\n",
    "\n",
    "\n",
    "2. Establish connection between the python program and the db\n",
    "\n",
    "`con = sqlite3.connect(name_of_database)`\n",
    "\n",
    "3. To execute mysql query and hold result, a cursor is required\n",
    "\n",
    "`cursor = con.cursor()`\n",
    "\n",
    "4. Execute mysql query with the help of cursor object\n",
    "\n",
    "`cursor.execute(query)`\n",
    "\n",
    "`cursor.executemany()`\n",
    "\n",
    "5. Fetch the result from the cursor object in case of select query\n",
    "\n",
    "`cursor.fetchall()`\n",
    "\n",
    "`cursor.fetchone()`\n",
    "\n",
    "`cursor.fetchmany(n)`\n",
    "\n",
    "6. Commit or rollback changes as required\n",
    "\n",
    "`con.commit()`\n",
    "\n",
    "`con.rollback()`\n",
    "\n",
    "7. Close resources and disconnect database\n",
    "\n",
    "`cursor.close()`\n",
    "\n",
    "`con.close()`"
   ]
  },
  {
   "cell_type": "code",
   "execution_count": 28,
   "id": "8d0ea1a0",
   "metadata": {},
   "outputs": [
    {
     "name": "stdout",
     "output_type": "stream",
     "text": [
      "Connection established\n"
     ]
    }
   ],
   "source": [
    "import sqlite3\n",
    "\n",
    "con = sqlite3.connect('Data/hannah.db')\n",
    "\n",
    "print('Connection established')\n",
    "\n",
    "con.close()"
   ]
  },
  {
   "cell_type": "code",
   "execution_count": 2,
   "id": "4026b539",
   "metadata": {},
   "outputs": [
    {
     "name": "stdout",
     "output_type": "stream",
     "text": [
      "<sqlite3.Connection object at 0x000001ED83B3C5D0>\n",
      "Completed\n"
     ]
    }
   ],
   "source": [
    "import sqlite3\n",
    "\n",
    "try:\n",
    "    con = sqlite3.connect('Data/hannah.db')\n",
    "    print(con)\n",
    "finally:\n",
    "    con.close()\n",
    "    print('Completed')"
   ]
  },
  {
   "cell_type": "markdown",
   "id": "bf7cc59b",
   "metadata": {},
   "source": [
    "### Creating a database table"
   ]
  },
  {
   "cell_type": "code",
   "execution_count": 3,
   "id": "07c1c0af",
   "metadata": {},
   "outputs": [
    {
     "name": "stdout",
     "output_type": "stream",
     "text": [
      "Table created successfully!\n",
      "Completed!\n"
     ]
    }
   ],
   "source": [
    "import sqlite3\n",
    "\n",
    "try:\n",
    "    con = sqlite3.connect('hannah.db')\n",
    "    \n",
    "    cursor = con.cursor()\n",
    "    \n",
    "    query = 'CREATE TABLE employ_ees(eno int(5) primary key,\\\n",
    "                                    ename varchar(10), eage int(3))'\n",
    "    \n",
    "    cursor.execute(query)\n",
    "    \n",
    "    print('Table created successfully!')\n",
    "    con.commit()\n",
    "\n",
    "except sqlite3.DatabaseError as e:\n",
    "    if con:\n",
    "        con.rollback()\n",
    "        print('Problem occured: ', e)\n",
    "        \n",
    "finally:\n",
    "    if cursor:\n",
    "        cursor.close()\n",
    "    if con:\n",
    "        con.close()\n",
    "    print('Completed!')"
   ]
  },
  {
   "cell_type": "markdown",
   "id": "0fcb0d27",
   "metadata": {},
   "source": [
    "### Adding new columns"
   ]
  },
  {
   "cell_type": "code",
   "execution_count": 4,
   "id": "cc788eb3",
   "metadata": {},
   "outputs": [
    {
     "name": "stdout",
     "output_type": "stream",
     "text": [
      "Column added successfully!\n",
      "Done\n"
     ]
    }
   ],
   "source": [
    "import sqlite3\n",
    "\n",
    "try:\n",
    "    con = sqlite3.connect('hannah.db')\n",
    "    cursor = con.cursor()\n",
    "    query = 'alter table employ_ees add column eincome double(10,2)'\n",
    "    cursor.execute(query)\n",
    "    \n",
    "    print('Column added successfully!')\n",
    "    con.commit()\n",
    "    \n",
    "except sqlite3.DatabaseError as e:\n",
    "    if con:\n",
    "        con.rollback()\n",
    "        print('Problem occured: ', e)\n",
    "finally:\n",
    "    if cursor:\n",
    "        cursor.close()\n",
    "    if con:\n",
    "        con.close()\n",
    "    print('Done')"
   ]
  },
  {
   "cell_type": "markdown",
   "id": "d6ea3a87",
   "metadata": {},
   "source": [
    "### Inserting operation"
   ]
  },
  {
   "cell_type": "code",
   "execution_count": 5,
   "id": "3b809e2c",
   "metadata": {},
   "outputs": [
    {
     "name": "stdout",
     "output_type": "stream",
     "text": [
      "Row inserted!\n",
      "All done.\n"
     ]
    }
   ],
   "source": [
    "import sqlite3\n",
    "\n",
    "try:\n",
    "    con = sqlite3.connect('hannah.db')\n",
    "    cursor = con.cursor()\n",
    "    query = 'insert into employ_ees(eno, ename, eage, eincome)\\\n",
    "             values(1, \"LMS\", 23, 345.67)'\n",
    "    cursor.execute(query)\n",
    "    \n",
    "    con.commit()\n",
    "    print('Row inserted!')\n",
    "    \n",
    "except sqlite3.DatabaseError as e:\n",
    "    if con:\n",
    "        con.rollback()\n",
    "        print('Problem occured: ', e)\n",
    "finally:\n",
    "    if cursor:\n",
    "        cursor.close()\n",
    "    if con:\n",
    "        con.close()\n",
    "    print('All done.')"
   ]
  },
  {
   "cell_type": "code",
   "execution_count": 6,
   "id": "16567e8e",
   "metadata": {},
   "outputs": [
    {
     "name": "stdout",
     "output_type": "stream",
     "text": [
      "Table updated\n",
      "Done\n"
     ]
    }
   ],
   "source": [
    "## To add more than one row of data\n",
    "\n",
    "import sqlite3\n",
    "\n",
    "try:\n",
    "    con = sqlite3.connect('hannah.db')\n",
    "    cursor = con.cursor()\n",
    "    query = 'insert into employ_ees(eno, ename, eage, eincome)\\\n",
    "            values(?,?,?,?)'\n",
    "    records = [(3, 'ben', 23, 45.67),(4, 'ann', 56, 7890.8)]\n",
    "    \n",
    "    cursor.executemany(query, records) #note the use of executemany here, since we're performing more than one action\n",
    "    \n",
    "    con.commit()\n",
    "    print('Table updated')\n",
    "    \n",
    "except sqlite3.DatabaseError as e:\n",
    "    if con:\n",
    "        con.rollback()\n",
    "        print('Problem occured: ', e)\n",
    "        \n",
    "finally:\n",
    "    if cursor:\n",
    "        cursor.close()\n",
    "    if con:\n",
    "        con.close()\n",
    "    print('Done')"
   ]
  },
  {
   "cell_type": "markdown",
   "id": "d300ca42",
   "metadata": {},
   "source": [
    "### Read operation"
   ]
  },
  {
   "cell_type": "code",
   "execution_count": 7,
   "id": "af0cf470",
   "metadata": {},
   "outputs": [
    {
     "name": "stdout",
     "output_type": "stream",
     "text": [
      "Eno: 1, Ename: LMS, Eage: 23, Eincome: 345.67\n",
      "Eno: 3, Ename: ben, Eage: 23, Eincome: 45.67\n",
      "Eno: 4, Ename: ann, Eage: 56, Eincome: 7890.8\n",
      "All done!\n"
     ]
    }
   ],
   "source": [
    "import sqlite3\n",
    "\n",
    "try:\n",
    "    con = sqlite3.connect('hannah.db')\n",
    "    cursor = con.cursor()\n",
    "    query = 'select * from employ_ees'\n",
    "    \n",
    "    cursor.execute(query)\n",
    "    \n",
    "    data = cursor.fetchall()\n",
    "    \n",
    "    for row in data:\n",
    "        print('Eno: {}, Ename: {}, Eage: {}, Eincome: {}'.format(row[0], row[1], row[2], row[3]))\n",
    "        \n",
    "except sqlite3.DatabaseError as e:\n",
    "    if con:\n",
    "        con.rollback()\n",
    "        print('Problem occured: ', e)\n",
    "finally:\n",
    "    if cursor:\n",
    "        cursor.close()  #close the cursor first then the connection\n",
    "    if con:\n",
    "        con.close()\n",
    "    print('All done!')"
   ]
  },
  {
   "cell_type": "markdown",
   "id": "553dd1ec",
   "metadata": {},
   "source": [
    "### Update operation"
   ]
  },
  {
   "cell_type": "code",
   "execution_count": 8,
   "id": "39172f2f",
   "metadata": {},
   "outputs": [
    {
     "name": "stdout",
     "output_type": "stream",
     "text": [
      "Done!\n"
     ]
    }
   ],
   "source": [
    "import sqlite3\n",
    "\n",
    "try:\n",
    "    con = sqlite3.connect('hannah.db')\n",
    "    cursor = con.cursor()\n",
    "    \n",
    "    query = 'UPDATE employ_ees SET eage=eage+1 WHERE ename = \"LMS\"'\n",
    "    \n",
    "    cursor.execute(query)\n",
    "    con.commit()\n",
    "    \n",
    "except sqlite3.DatabaseError as e:\n",
    "    if con:\n",
    "        con.rollback()\n",
    "        print('Problem occured: ', e)\n",
    "finally:\n",
    "    if cursor:\n",
    "        cursor.close()\n",
    "    if con:\n",
    "        con.close()\n",
    "    print('Done!')"
   ]
  },
  {
   "cell_type": "markdown",
   "id": "29003c36",
   "metadata": {},
   "source": [
    "### Delete operation"
   ]
  },
  {
   "cell_type": "code",
   "execution_count": 9,
   "id": "ab9c521a",
   "metadata": {},
   "outputs": [
    {
     "name": "stdout",
     "output_type": "stream",
     "text": [
      "Enter age: 34\n",
      "Delete completed!\n",
      "Done\n"
     ]
    }
   ],
   "source": [
    "import sqlite3\n",
    "\n",
    "try:\n",
    "    con = sqlite3.connect('hannah.db')\n",
    "    cursor = con.cursor()\n",
    "    age = input('Enter age: ')\n",
    "    \n",
    "    query = 'DELETE FROM employ_ees WHERE eage ={}'.format(age)\n",
    "    \n",
    "    cursor.execute(query)\n",
    "    \n",
    "    con.commit()\n",
    "    print('Delete completed!')\n",
    "    \n",
    "except sqlite3.DatabaseError as e:\n",
    "    if con:\n",
    "        con.rollback()\n",
    "        print('Problem occured: ', e)\n",
    "        \n",
    "finally:\n",
    "    if cursor:\n",
    "        cursor.close()\n",
    "    if con:\n",
    "        con.close()\n",
    "    print('Done')\n",
    "    "
   ]
  },
  {
   "cell_type": "markdown",
   "id": "9be3f9ae",
   "metadata": {},
   "source": [
    "### Reading the database to pandas"
   ]
  },
  {
   "cell_type": "code",
   "execution_count": 17,
   "id": "f5533fd6",
   "metadata": {},
   "outputs": [
    {
     "data": {
      "text/html": [
       "<div>\n",
       "<style scoped>\n",
       "    .dataframe tbody tr th:only-of-type {\n",
       "        vertical-align: middle;\n",
       "    }\n",
       "\n",
       "    .dataframe tbody tr th {\n",
       "        vertical-align: top;\n",
       "    }\n",
       "\n",
       "    .dataframe thead th {\n",
       "        text-align: right;\n",
       "    }\n",
       "</style>\n",
       "<table border=\"1\" class=\"dataframe\">\n",
       "  <thead>\n",
       "    <tr style=\"text-align: right;\">\n",
       "      <th></th>\n",
       "      <th>Id</th>\n",
       "      <th>EmployeeName</th>\n",
       "      <th>JobTitle</th>\n",
       "      <th>BasePay</th>\n",
       "      <th>OvertimePay</th>\n",
       "      <th>OtherPay</th>\n",
       "      <th>Benefits</th>\n",
       "      <th>TotalPay</th>\n",
       "      <th>TotalPayBenefits</th>\n",
       "      <th>Year</th>\n",
       "      <th>Notes</th>\n",
       "      <th>Agency</th>\n",
       "      <th>Status</th>\n",
       "    </tr>\n",
       "  </thead>\n",
       "  <tbody>\n",
       "    <tr>\n",
       "      <th>0</th>\n",
       "      <td>1</td>\n",
       "      <td>NATHANIEL FORD</td>\n",
       "      <td>GENERAL MANAGER-METROPOLITAN TRANSIT AUTHORITY</td>\n",
       "      <td>167411.18</td>\n",
       "      <td>0</td>\n",
       "      <td>400184.25</td>\n",
       "      <td></td>\n",
       "      <td>567595.43</td>\n",
       "      <td>567595.43</td>\n",
       "      <td>2011</td>\n",
       "      <td></td>\n",
       "      <td>San Francisco</td>\n",
       "      <td></td>\n",
       "    </tr>\n",
       "    <tr>\n",
       "      <th>1</th>\n",
       "      <td>2</td>\n",
       "      <td>GARY JIMENEZ</td>\n",
       "      <td>CAPTAIN III (POLICE DEPARTMENT)</td>\n",
       "      <td>155966.02</td>\n",
       "      <td>245131.88</td>\n",
       "      <td>137811.38</td>\n",
       "      <td></td>\n",
       "      <td>538909.28</td>\n",
       "      <td>538909.28</td>\n",
       "      <td>2011</td>\n",
       "      <td></td>\n",
       "      <td>San Francisco</td>\n",
       "      <td></td>\n",
       "    </tr>\n",
       "    <tr>\n",
       "      <th>2</th>\n",
       "      <td>3</td>\n",
       "      <td>ALBERT PARDINI</td>\n",
       "      <td>CAPTAIN III (POLICE DEPARTMENT)</td>\n",
       "      <td>212739.13</td>\n",
       "      <td>106088.18</td>\n",
       "      <td>16452.6</td>\n",
       "      <td></td>\n",
       "      <td>335279.91</td>\n",
       "      <td>335279.91</td>\n",
       "      <td>2011</td>\n",
       "      <td></td>\n",
       "      <td>San Francisco</td>\n",
       "      <td></td>\n",
       "    </tr>\n",
       "    <tr>\n",
       "      <th>3</th>\n",
       "      <td>4</td>\n",
       "      <td>CHRISTOPHER CHONG</td>\n",
       "      <td>WIRE ROPE CABLE MAINTENANCE MECHANIC</td>\n",
       "      <td>77916</td>\n",
       "      <td>56120.71</td>\n",
       "      <td>198306.9</td>\n",
       "      <td></td>\n",
       "      <td>332343.61</td>\n",
       "      <td>332343.61</td>\n",
       "      <td>2011</td>\n",
       "      <td></td>\n",
       "      <td>San Francisco</td>\n",
       "      <td></td>\n",
       "    </tr>\n",
       "    <tr>\n",
       "      <th>4</th>\n",
       "      <td>5</td>\n",
       "      <td>PATRICK GARDNER</td>\n",
       "      <td>DEPUTY CHIEF OF DEPARTMENT,(FIRE DEPARTMENT)</td>\n",
       "      <td>134401.6</td>\n",
       "      <td>9737</td>\n",
       "      <td>182234.59</td>\n",
       "      <td></td>\n",
       "      <td>326373.19</td>\n",
       "      <td>326373.19</td>\n",
       "      <td>2011</td>\n",
       "      <td></td>\n",
       "      <td>San Francisco</td>\n",
       "      <td></td>\n",
       "    </tr>\n",
       "  </tbody>\n",
       "</table>\n",
       "</div>"
      ],
      "text/plain": [
       "   Id       EmployeeName                                        JobTitle  \\\n",
       "0   1     NATHANIEL FORD  GENERAL MANAGER-METROPOLITAN TRANSIT AUTHORITY   \n",
       "1   2       GARY JIMENEZ                 CAPTAIN III (POLICE DEPARTMENT)   \n",
       "2   3     ALBERT PARDINI                 CAPTAIN III (POLICE DEPARTMENT)   \n",
       "3   4  CHRISTOPHER CHONG            WIRE ROPE CABLE MAINTENANCE MECHANIC   \n",
       "4   5    PATRICK GARDNER    DEPUTY CHIEF OF DEPARTMENT,(FIRE DEPARTMENT)   \n",
       "\n",
       "     BasePay OvertimePay   OtherPay Benefits   TotalPay  TotalPayBenefits  \\\n",
       "0  167411.18           0  400184.25           567595.43         567595.43   \n",
       "1  155966.02   245131.88  137811.38           538909.28         538909.28   \n",
       "2  212739.13   106088.18    16452.6           335279.91         335279.91   \n",
       "3      77916    56120.71   198306.9           332343.61         332343.61   \n",
       "4   134401.6        9737  182234.59           326373.19         326373.19   \n",
       "\n",
       "   Year Notes         Agency Status  \n",
       "0  2011        San Francisco         \n",
       "1  2011        San Francisco         \n",
       "2  2011        San Francisco         \n",
       "3  2011        San Francisco         \n",
       "4  2011        San Francisco         "
      ]
     },
     "execution_count": 17,
     "metadata": {},
     "output_type": "execute_result"
    }
   ],
   "source": [
    "import pandas as pd\n",
    "from sqlalchemy.engine import create_engine\n",
    "\n",
    "#Using sqlalchemy connectable\n",
    "engine = create_engine('sqlite:///Data/database.sqlite')\n",
    "\n",
    "df = pd.read_sql_table('Salaries', engine)\n",
    "df.head()"
   ]
  },
  {
   "cell_type": "code",
   "execution_count": 18,
   "id": "3f5462d1",
   "metadata": {},
   "outputs": [
    {
     "name": "stdout",
     "output_type": "stream",
     "text": [
      "<class 'pandas.core.frame.DataFrame'>\n",
      "RangeIndex: 148654 entries, 0 to 148653\n",
      "Data columns (total 13 columns):\n",
      " #   Column            Non-Null Count   Dtype  \n",
      "---  ------            --------------   -----  \n",
      " 0   Id                148654 non-null  int64  \n",
      " 1   EmployeeName      148654 non-null  object \n",
      " 2   JobTitle          148654 non-null  object \n",
      " 3   BasePay           148654 non-null  object \n",
      " 4   OvertimePay       148654 non-null  object \n",
      " 5   OtherPay          148654 non-null  object \n",
      " 6   Benefits          148654 non-null  object \n",
      " 7   TotalPay          148654 non-null  float64\n",
      " 8   TotalPayBenefits  148654 non-null  float64\n",
      " 9   Year              148654 non-null  int64  \n",
      " 10  Notes             148654 non-null  object \n",
      " 11  Agency            148654 non-null  object \n",
      " 12  Status            148654 non-null  object \n",
      "dtypes: float64(2), int64(2), object(9)\n",
      "memory usage: 14.7+ MB\n"
     ]
    }
   ],
   "source": [
    "df.info()"
   ]
  },
  {
   "cell_type": "code",
   "execution_count": null,
   "id": "332845c3",
   "metadata": {},
   "outputs": [],
   "source": []
  },
  {
   "cell_type": "markdown",
   "id": "918ad56f",
   "metadata": {},
   "source": [
    "## MySQL\n",
    "\n",
    "MySQLdb vs pymysql vs mysql.connector"
   ]
  },
  {
   "cell_type": "code",
   "execution_count": 6,
   "id": "d9f3eea1",
   "metadata": {},
   "outputs": [
    {
     "name": "stdout",
     "output_type": "stream",
     "text": [
      "Collecting mysql.connector\n",
      "  Downloading mysql-connector-2.2.9.tar.gz (11.9 MB)\n",
      "     -------------------------------------- 11.9/11.9 MB 956.7 kB/s eta 0:00:00\n",
      "  Preparing metadata (setup.py): started\n",
      "  Preparing metadata (setup.py): finished with status 'done'\n",
      "Building wheels for collected packages: mysql.connector\n",
      "  Building wheel for mysql.connector (setup.py): started\n",
      "  Building wheel for mysql.connector (setup.py): finished with status 'done'\n",
      "  Created wheel for mysql.connector: filename=mysql_connector-2.2.9-cp39-cp39-win_amd64.whl size=247946 sha256=5fa95af2f923b75633e67f3c748f6a986564720057dffd35a49715fdb57d2df7\n",
      "  Stored in directory: c:\\users\\user\\appdata\\local\\pip\\cache\\wheels\\7b\\14\\39\\5aad423666e827dfe9a1fbcd111ac17171e7c9865d570780ce\n",
      "Successfully built mysql.connector\n",
      "Installing collected packages: mysql.connector\n",
      "Successfully installed mysql.connector-2.2.9\n",
      "Collecting pymysql\n",
      "  Downloading PyMySQL-1.1.0-py3-none-any.whl (44 kB)\n",
      "     -------------------------------------- 44.8/44.8 kB 147.6 kB/s eta 0:00:00\n",
      "Installing collected packages: pymysql\n",
      "Successfully installed pymysql-1.1.0\n"
     ]
    },
    {
     "name": "stderr",
     "output_type": "stream",
     "text": [
      "  WARNING: Retrying (Retry(total=4, connect=None, read=None, redirect=None, status=None)) after connection broken by 'ConnectTimeoutError(<pip._vendor.urllib3.connection.HTTPSConnection object at 0x0000020E52F16280>, 'Connection to files.pythonhosted.org timed out. (connect timeout=15)')': /packages/e5/30/20467e39523d0cfc2b6227902d3687a16364307260c75e6a1cb4422b0c62/PyMySQL-1.1.0-py3-none-any.whl\n"
     ]
    }
   ],
   "source": [
    "#installing libraies\n",
    "\n",
    "!pip install mysql.connector\n",
    "\n",
    "!pip install pymysql"
   ]
  },
  {
   "cell_type": "markdown",
   "id": "0ea9f2e2",
   "metadata": {},
   "source": [
    "### Connecting with a database in python\n",
    "\n",
    "1. import database module\n",
    "\n",
    "`import pymysql as pm`\n",
    "\n",
    "OR\n",
    "\n",
    "`import mysql.connector as pm`\n",
    "\n",
    "\n",
    "2. Establish connection between python program and db\n",
    "\n",
    "`con = pm.connect(host, database, user, password)`\n",
    "\n",
    "3. To execute mysql query and hold result, cursor is required\n",
    "\n",
    "`cursor = con.cursor()`\n",
    "\n",
    "4. Execute mysql query with the help of the cursor object\n",
    "\n",
    "`cursor.execute(query)`\n",
    "\n",
    "`cursor.executemany()`\n",
    "\n",
    "5. Fech results from cursor object in case of a select query\n",
    "\n",
    "`cursor.fetchone()`\n",
    "\n",
    "`cursor.fetchall()`\n",
    "\n",
    "`cursor.fetchmany(n)`\n",
    "\n",
    "6. Commit or rollback changes based on your requirement\n",
    "\n",
    "`con.commit()`\n",
    "\n",
    "`con.rollback()`\n",
    "\n",
    "7. Close resources and disconnect database\n",
    "\n",
    "`cursor.close()`\n",
    "\n",
    "`con.close()`"
   ]
  },
  {
   "cell_type": "markdown",
   "id": "0c5530b4",
   "metadata": {},
   "source": [
    "### Establishing a connection"
   ]
  },
  {
   "cell_type": "code",
   "execution_count": 10,
   "id": "d2966cc5",
   "metadata": {},
   "outputs": [
    {
     "name": "stdout",
     "output_type": "stream",
     "text": [
      "<pymysql.connections.Connection object at 0x000001ED837916D0>\n",
      "Done\n"
     ]
    }
   ],
   "source": [
    "import pymysql as pm\n",
    "\n",
    "try:\n",
    "    con = pm.connect(host='localhost', database='retail_sales',\\\n",
    "                     user='root', password='root') #insert your password here\n",
    "    print(con)\n",
    "\n",
    "finally:\n",
    "    con.close()\n",
    "    print('Done')\n",
    "\n",
    "#note that the database name must exist in your own mysql for the code to work as expected"
   ]
  },
  {
   "cell_type": "markdown",
   "id": "214226d5",
   "metadata": {},
   "source": [
    "### Creating database table"
   ]
  },
  {
   "cell_type": "code",
   "execution_count": 11,
   "id": "db977496",
   "metadata": {},
   "outputs": [
    {
     "name": "stdout",
     "output_type": "stream",
     "text": [
      "Table created successfully\n",
      "Done!\n"
     ]
    }
   ],
   "source": [
    "import pymysql as pm\n",
    "try:\n",
    "    con = pm.connect(host='localhost', database = 'retail_sales',\\\n",
    "                    user = 'root', password = 'root')\n",
    "    \n",
    "    cursor = con.cursor()\n",
    "    \n",
    "    query = 'CREATE TABLE employees1(eno int(5) PRIMARY KEY,\\\n",
    "             ename varchar(10), eage int(3), eincome double(10,2),\\\n",
    "             FOREIGN KEY(eno) REFERENCES employees(eno))' #make sure you have a table called 'employees in your database'\n",
    "    \n",
    "    cursor.execute(query)\n",
    "    \n",
    "    print('Table created successfully')\n",
    "    con.commit()\n",
    "    \n",
    "except pm.DatabaseError as e:\n",
    "    if con:\n",
    "        con.rollback()\n",
    "        print('Problem occured: ', e)\n",
    "        \n",
    "finally:\n",
    "    if cursor:\n",
    "        cursor.close()\n",
    "    if con:\n",
    "        con.close()\n",
    "    print('Done!')\n",
    "        "
   ]
  },
  {
   "cell_type": "markdown",
   "id": "24b29c65",
   "metadata": {},
   "source": [
    "### Insert operation"
   ]
  },
  {
   "cell_type": "code",
   "execution_count": 12,
   "id": "67680e0d",
   "metadata": {},
   "outputs": [
    {
     "name": "stdout",
     "output_type": "stream",
     "text": [
      "Done!\n"
     ]
    },
    {
     "ename": "TypeError",
     "evalue": "not all arguments converted during string formatting",
     "output_type": "error",
     "traceback": [
      "\u001b[1;31m---------------------------------------------------------------------------\u001b[0m",
      "\u001b[1;31mTypeError\u001b[0m                                 Traceback (most recent call last)",
      "\u001b[1;32m~\\AppData\\Local\\Temp\\ipykernel_10932\\2561080645.py\u001b[0m in \u001b[0;36m<module>\u001b[1;34m\u001b[0m\n\u001b[0;32m     11\u001b[0m     \u001b[0mrecords\u001b[0m \u001b[1;33m=\u001b[0m \u001b[1;33m[\u001b[0m\u001b[1;33m(\u001b[0m\u001b[1;36m3\u001b[0m\u001b[1;33m,\u001b[0m \u001b[1;34m'ben'\u001b[0m\u001b[1;33m,\u001b[0m \u001b[1;36m23\u001b[0m\u001b[1;33m,\u001b[0m \u001b[1;36m45.67\u001b[0m\u001b[1;33m)\u001b[0m\u001b[1;33m,\u001b[0m\u001b[1;33m(\u001b[0m\u001b[1;36m4\u001b[0m\u001b[1;33m,\u001b[0m \u001b[1;34m'ann'\u001b[0m\u001b[1;33m,\u001b[0m \u001b[1;36m56\u001b[0m\u001b[1;33m,\u001b[0m \u001b[1;36m7890.8\u001b[0m\u001b[1;33m)\u001b[0m\u001b[1;33m]\u001b[0m\u001b[1;33m\u001b[0m\u001b[1;33m\u001b[0m\u001b[0m\n\u001b[0;32m     12\u001b[0m \u001b[1;33m\u001b[0m\u001b[0m\n\u001b[1;32m---> 13\u001b[1;33m     \u001b[0mcursor\u001b[0m\u001b[1;33m.\u001b[0m\u001b[0mexecutemany\u001b[0m\u001b[1;33m(\u001b[0m\u001b[0mquery\u001b[0m\u001b[1;33m,\u001b[0m \u001b[0mrecords\u001b[0m\u001b[1;33m)\u001b[0m\u001b[1;33m\u001b[0m\u001b[1;33m\u001b[0m\u001b[0m\n\u001b[0m\u001b[0;32m     14\u001b[0m \u001b[1;33m\u001b[0m\u001b[0m\n\u001b[0;32m     15\u001b[0m     \u001b[0mprint\u001b[0m\u001b[1;33m(\u001b[0m\u001b[1;34m'Table created successfully'\u001b[0m\u001b[1;33m)\u001b[0m\u001b[1;33m\u001b[0m\u001b[1;33m\u001b[0m\u001b[0m\n",
      "\u001b[1;32m~\\anaconda3\\lib\\site-packages\\pymysql\\cursors.py\u001b[0m in \u001b[0;36mexecutemany\u001b[1;34m(self, query, args)\u001b[0m\n\u001b[0;32m    189\u001b[0m             )\n\u001b[0;32m    190\u001b[0m \u001b[1;33m\u001b[0m\u001b[0m\n\u001b[1;32m--> 191\u001b[1;33m         \u001b[0mself\u001b[0m\u001b[1;33m.\u001b[0m\u001b[0mrowcount\u001b[0m \u001b[1;33m=\u001b[0m \u001b[0msum\u001b[0m\u001b[1;33m(\u001b[0m\u001b[0mself\u001b[0m\u001b[1;33m.\u001b[0m\u001b[0mexecute\u001b[0m\u001b[1;33m(\u001b[0m\u001b[0mquery\u001b[0m\u001b[1;33m,\u001b[0m \u001b[0marg\u001b[0m\u001b[1;33m)\u001b[0m \u001b[1;32mfor\u001b[0m \u001b[0marg\u001b[0m \u001b[1;32min\u001b[0m \u001b[0margs\u001b[0m\u001b[1;33m)\u001b[0m\u001b[1;33m\u001b[0m\u001b[1;33m\u001b[0m\u001b[0m\n\u001b[0m\u001b[0;32m    192\u001b[0m         \u001b[1;32mreturn\u001b[0m \u001b[0mself\u001b[0m\u001b[1;33m.\u001b[0m\u001b[0mrowcount\u001b[0m\u001b[1;33m\u001b[0m\u001b[1;33m\u001b[0m\u001b[0m\n\u001b[0;32m    193\u001b[0m \u001b[1;33m\u001b[0m\u001b[0m\n",
      "\u001b[1;32m~\\anaconda3\\lib\\site-packages\\pymysql\\cursors.py\u001b[0m in \u001b[0;36m<genexpr>\u001b[1;34m(.0)\u001b[0m\n\u001b[0;32m    189\u001b[0m             )\n\u001b[0;32m    190\u001b[0m \u001b[1;33m\u001b[0m\u001b[0m\n\u001b[1;32m--> 191\u001b[1;33m         \u001b[0mself\u001b[0m\u001b[1;33m.\u001b[0m\u001b[0mrowcount\u001b[0m \u001b[1;33m=\u001b[0m \u001b[0msum\u001b[0m\u001b[1;33m(\u001b[0m\u001b[0mself\u001b[0m\u001b[1;33m.\u001b[0m\u001b[0mexecute\u001b[0m\u001b[1;33m(\u001b[0m\u001b[0mquery\u001b[0m\u001b[1;33m,\u001b[0m \u001b[0marg\u001b[0m\u001b[1;33m)\u001b[0m \u001b[1;32mfor\u001b[0m \u001b[0marg\u001b[0m \u001b[1;32min\u001b[0m \u001b[0margs\u001b[0m\u001b[1;33m)\u001b[0m\u001b[1;33m\u001b[0m\u001b[1;33m\u001b[0m\u001b[0m\n\u001b[0m\u001b[0;32m    192\u001b[0m         \u001b[1;32mreturn\u001b[0m \u001b[0mself\u001b[0m\u001b[1;33m.\u001b[0m\u001b[0mrowcount\u001b[0m\u001b[1;33m\u001b[0m\u001b[1;33m\u001b[0m\u001b[0m\n\u001b[0;32m    193\u001b[0m \u001b[1;33m\u001b[0m\u001b[0m\n",
      "\u001b[1;32m~\\anaconda3\\lib\\site-packages\\pymysql\\cursors.py\u001b[0m in \u001b[0;36mexecute\u001b[1;34m(self, query, args)\u001b[0m\n\u001b[0;32m    149\u001b[0m             \u001b[1;32mpass\u001b[0m\u001b[1;33m\u001b[0m\u001b[1;33m\u001b[0m\u001b[0m\n\u001b[0;32m    150\u001b[0m \u001b[1;33m\u001b[0m\u001b[0m\n\u001b[1;32m--> 151\u001b[1;33m         \u001b[0mquery\u001b[0m \u001b[1;33m=\u001b[0m \u001b[0mself\u001b[0m\u001b[1;33m.\u001b[0m\u001b[0mmogrify\u001b[0m\u001b[1;33m(\u001b[0m\u001b[0mquery\u001b[0m\u001b[1;33m,\u001b[0m \u001b[0margs\u001b[0m\u001b[1;33m)\u001b[0m\u001b[1;33m\u001b[0m\u001b[1;33m\u001b[0m\u001b[0m\n\u001b[0m\u001b[0;32m    152\u001b[0m \u001b[1;33m\u001b[0m\u001b[0m\n\u001b[0;32m    153\u001b[0m         \u001b[0mresult\u001b[0m \u001b[1;33m=\u001b[0m \u001b[0mself\u001b[0m\u001b[1;33m.\u001b[0m\u001b[0m_query\u001b[0m\u001b[1;33m(\u001b[0m\u001b[0mquery\u001b[0m\u001b[1;33m)\u001b[0m\u001b[1;33m\u001b[0m\u001b[1;33m\u001b[0m\u001b[0m\n",
      "\u001b[1;32m~\\anaconda3\\lib\\site-packages\\pymysql\\cursors.py\u001b[0m in \u001b[0;36mmogrify\u001b[1;34m(self, query, args)\u001b[0m\n\u001b[0;32m    127\u001b[0m \u001b[1;33m\u001b[0m\u001b[0m\n\u001b[0;32m    128\u001b[0m         \u001b[1;32mif\u001b[0m \u001b[0margs\u001b[0m \u001b[1;32mis\u001b[0m \u001b[1;32mnot\u001b[0m \u001b[1;32mNone\u001b[0m\u001b[1;33m:\u001b[0m\u001b[1;33m\u001b[0m\u001b[1;33m\u001b[0m\u001b[0m\n\u001b[1;32m--> 129\u001b[1;33m             \u001b[0mquery\u001b[0m \u001b[1;33m=\u001b[0m \u001b[0mquery\u001b[0m \u001b[1;33m%\u001b[0m \u001b[0mself\u001b[0m\u001b[1;33m.\u001b[0m\u001b[0m_escape_args\u001b[0m\u001b[1;33m(\u001b[0m\u001b[0margs\u001b[0m\u001b[1;33m,\u001b[0m \u001b[0mconn\u001b[0m\u001b[1;33m)\u001b[0m\u001b[1;33m\u001b[0m\u001b[1;33m\u001b[0m\u001b[0m\n\u001b[0m\u001b[0;32m    130\u001b[0m \u001b[1;33m\u001b[0m\u001b[0m\n\u001b[0;32m    131\u001b[0m         \u001b[1;32mreturn\u001b[0m \u001b[0mquery\u001b[0m\u001b[1;33m\u001b[0m\u001b[1;33m\u001b[0m\u001b[0m\n",
      "\u001b[1;31mTypeError\u001b[0m: not all arguments converted during string formatting"
     ]
    }
   ],
   "source": [
    "import pymysql as pm\n",
    "try:\n",
    "    con = pm.connect(host='localhost', database = 'retail_sales',\\\n",
    "                    user = 'root', password = 'root')\n",
    "    \n",
    "    cursor = con.cursor()\n",
    "    \n",
    "    query = 'INSERT INTO employees1(eno, ename, eage, eincome)\\\n",
    "            values(?,?,?,?)'\n",
    "    \n",
    "    records = [(3, 'ben', 23, 45.67),(4, 'ann', 56, 7890.8)]\n",
    "    \n",
    "    cursor.executemany(query, records)\n",
    "    \n",
    "    print('Table created successfully')\n",
    "    con.commit()\n",
    "    \n",
    "except pm.DatabaseError as e:\n",
    "    if con:\n",
    "        con.rollback()\n",
    "        print('Problem occured: ', e)\n",
    "        \n",
    "finally:\n",
    "    if cursor:\n",
    "        cursor.close()\n",
    "    if con:\n",
    "        con.close()\n",
    "    print('Done!')\n",
    "        "
   ]
  },
  {
   "cell_type": "code",
   "execution_count": 13,
   "id": "f63e6136",
   "metadata": {},
   "outputs": [
    {
     "name": "stdout",
     "output_type": "stream",
     "text": [
      "Problem occured:  (1452, 'Cannot add or update a child row: a foreign key constraint fails (`retail_sales`.`employees1`, CONSTRAINT `employees1_ibfk_1` FOREIGN KEY (`eno`) REFERENCES `employees` (`eno`))')\n",
      "Done!\n"
     ]
    }
   ],
   "source": [
    "#doing this again\n",
    "#we can convert all arguments during the string formatting\n",
    "\n",
    "import pymysql as pm\n",
    "try:\n",
    "    con = pm.connect(host='localhost', database = 'retail_sales',\\\n",
    "                    user = 'root', password = 'root')\n",
    "    \n",
    "    cursor = con.cursor()\n",
    "    \n",
    "    query = 'INSERT INTO employees1(eno, ename, eage, eincome)\\\n",
    "            values(%s,%s,%s,%s)' ##We used %s here\n",
    "    \n",
    "    records = [(3, 'ben', 23, 45.67),(4, 'ann', 56, 7890.8)]\n",
    "    \n",
    "    cursor.executemany(query, records)\n",
    "    \n",
    "    print('Table created successfully')\n",
    "    con.commit()\n",
    "    \n",
    "except pm.DatabaseError as e:\n",
    "    if con:\n",
    "        con.rollback()\n",
    "        print('Problem occured: ', e)\n",
    "        \n",
    "finally:\n",
    "    if cursor:\n",
    "        cursor.close()\n",
    "    if con:\n",
    "        con.close()\n",
    "    print('Done!')"
   ]
  },
  {
   "cell_type": "markdown",
   "id": "5d336e35",
   "metadata": {},
   "source": [
    "### Read operation"
   ]
  },
  {
   "cell_type": "code",
   "execution_count": 14,
   "id": "ad11204f",
   "metadata": {},
   "outputs": [
    {
     "name": "stdout",
     "output_type": "stream",
     "text": [
      "Done!\n"
     ]
    }
   ],
   "source": [
    "#doing this again\n",
    "#we can convert all arguments during the string formatting\n",
    "\n",
    "import pymysql as pm\n",
    "try:\n",
    "    con = pm.connect(host='localhost', database = 'retail_sales',\\\n",
    "                    user = 'root', password = 'root')\n",
    "    \n",
    "    cursor = con.cursor()\n",
    "    \n",
    "    query = 'SELECT * FROM employees1'\n",
    "    \n",
    "    \n",
    "    cursor.execute(query)\n",
    "    data = cursor.fetchall()\n",
    "    \n",
    "    for row in data:\n",
    "        print('Eno: {}, Ename: {}, Eage: {}, Esalary: {}'\\\n",
    "              .format(row[0], row[1], row[2], row[3]))\n",
    "        \n",
    "    \n",
    "except pm.DatabaseError as e:\n",
    "    if con:\n",
    "        con.rollback()\n",
    "        print('Problem occured: ', e)\n",
    "        \n",
    "finally:\n",
    "    if cursor:\n",
    "        cursor.close()\n",
    "    if con:\n",
    "        con.close()\n",
    "    print('Done!')"
   ]
  },
  {
   "cell_type": "markdown",
   "id": "5929291f",
   "metadata": {},
   "source": [
    "### Update operation"
   ]
  },
  {
   "cell_type": "code",
   "execution_count": 15,
   "id": "5b0aa0c8",
   "metadata": {},
   "outputs": [
    {
     "name": "stdout",
     "output_type": "stream",
     "text": [
      "Done!\n"
     ]
    }
   ],
   "source": [
    "import pymysql as pm\n",
    "try:\n",
    "    con = pm.connect(host='localhost', database = 'retail_sales',\\\n",
    "                    user = 'root', password = 'root')\n",
    "    \n",
    "    cursor = con.cursor()\n",
    "    \n",
    "    query = 'UPDATE employees1 SET eage=eage+1 WHERE ename = \"ben\"'\n",
    "    \n",
    "    \n",
    "    cursor.execute(query)\n",
    "    con.commit()\n",
    "    \n",
    "\n",
    "except pm.DatabaseError as e:\n",
    "    if con:\n",
    "        con.rollback()\n",
    "        print('Problem occured: ', e)\n",
    "        \n",
    "finally:\n",
    "    if cursor:\n",
    "        cursor.close()\n",
    "    if con:\n",
    "        con.close()\n",
    "    print('Done!')"
   ]
  },
  {
   "cell_type": "markdown",
   "id": "45530e58",
   "metadata": {},
   "source": [
    "### Delete operation"
   ]
  },
  {
   "cell_type": "code",
   "execution_count": 16,
   "id": "9a45416a",
   "metadata": {},
   "outputs": [
    {
     "name": "stdout",
     "output_type": "stream",
     "text": [
      "Enter a number: 56\n",
      "Done!\n"
     ]
    }
   ],
   "source": [
    "import pymysql as pm\n",
    "try:\n",
    "    con = pm.connect(host='localhost', database = 'retail_sales',\\\n",
    "                    user = 'root', password = 'root')\n",
    "    \n",
    "    cursor = con.cursor()\n",
    "    \n",
    "    age = input('Enter a number: ')\n",
    "    query = 'DELETE FROM employees1 WHERE eage=\"%s\"'%(age)\n",
    "    \n",
    "    \n",
    "    cursor.execute(query)\n",
    "    con.commit()\n",
    "    \n",
    "\n",
    "except pm.DatabaseError as e:\n",
    "    if con:\n",
    "        con.rollback()\n",
    "        print('Problem occured: ', e)\n",
    "        \n",
    "finally:\n",
    "    if cursor:\n",
    "        cursor.close()\n",
    "    if con:\n",
    "        con.close()\n",
    "    print('Done!')"
   ]
  },
  {
   "cell_type": "markdown",
   "id": "661af7f0",
   "metadata": {},
   "source": [
    "## SQLAlchemy ORM\n",
    "\n",
    "ORM - Object Relational Mapper. It is a python library that simplifies interacting with relational databases. It acts as a bridge between the object-oriented world of python and the structured world of relational databases.\n",
    "\n",
    "**SETUP**\n",
    "\n",
    "- **Step 1: installing the modules**\n",
    "\n",
    "`pip install Flask-SQLAlchemy`\n",
    "\n",
    "`pip install Flask-Migrate`\n",
    "\n",
    "\n",
    "- **Setup 2: create a flask app**\n",
    "\n",
    "from flask import Flask\n",
    "app = Flask(__name__)\n",
    "\n",
    "\n",
    "- **Step 3: import SQLAlchemy and Migrate module**\n",
    "\n",
    "from flask_sqlalchemy import SQLAlchemy\n",
    "\n",
    "from flask_migrate import Migrate\n",
    "\n",
    "\n",
    "- **Step 4: SQLAlchemy Configuration and pass the application into SQLAlchemy class**\n",
    "\n",
    "\n",
    "`basedir` = os.path.abspath(os.path.dirname(__file__))\n",
    "\n",
    "`path` = 'sqlite:///'+os.path.join(basedir, 'data.sqlite')\n",
    "\n",
    "app.config['SQLALCHEMY_DATABASE_URL'] = path\n",
    "app.config['SQLALCHEMY_TRACK_MODIFICATIONS'] = False\n",
    "\n",
    "db = SQLAlchemy(app)\n",
    "Migrate(app, db)\n",
    "\n",
    "\n",
    "- **Step 5: Create a model or table**\n",
    "\n",
    "    - Create a model class\n",
    "    - Inherit from db.Model\n",
    "    - Provide the table name\n",
    "    - Add columns in the model\n",
    "    - Create `_init__`and `__repr__`\n",
    "    \n",
    "    \n",
    "    class Box(db.Model):\n",
    "        __tablename__ = 'boxes'\n",
    "        id = db.Column(db.Integer, primary_key = True)\n",
    "        name = db.Column(db.Text)\n",
    "        mrp = db.Column(db.Integer)\n",
    "        \n",
    "        def __init__(self, name, mrp):\n",
    "            self.name = name\n",
    "            self.mrp = mrp\n",
    "            \n",
    "        def __repr__(self):\n",
    "            return 'Box Name - {} and MRP- {}'.format(self.name, self.mrp)\n",
    "            \n",
    "            \n",
    "            \n",
    "- **Step 6: Run the following commands to migrate the database**\n",
    "\n",
    "- `set FLASK_APP=app.py`\n",
    "\n",
    "- `flask db init`\n",
    "\n",
    "- `flask db migrate -m 'My first DB migrate'`\n",
    "\n",
    "- `flask db upgrade`"
   ]
  },
  {
   "cell_type": "markdown",
   "id": "0c98e546",
   "metadata": {},
   "source": [
    "### Basic CRUD Operations\n",
    "\n",
    "1. Create or Insert Operation\n",
    "\n",
    "`box = Box(name = 'biscuit', price = 10)  #creating an object`\n",
    "\n",
    "`db.session.add(box)`\n",
    "\n",
    "`db.session.commit()`\n",
    "\n",
    "2. Read operation\n",
    "\n",
    "`Box.query.all()`\n",
    "\n",
    "\n",
    "3. Update operation\n",
    "\n",
    "`box = Box.query.get(2)`\n",
    "\n",
    "`box.name = 'aloo'`\n",
    "\n",
    "`db.session.commit()`\n",
    "\n",
    "4. Delete Operation\n",
    "\n",
    "`box = Box.query.get(2)`\n",
    "\n",
    "`db.session.delete(box)`\n",
    "\n",
    "`db.session.commit()`"
   ]
  },
  {
   "cell_type": "markdown",
   "id": "8ea1909d",
   "metadata": {},
   "source": [
    "### Exploring Read Operation usiing filter_by\n",
    "\n",
    "**Syntax** - `MODEL_NAME.query.filter_by(MODEL_COLUMN_NAME='')`\n",
    "\n",
    "1. Getting all the rows if box name is \"biscuit\" from the database table\n",
    "\n",
    "`Box.query.filter_by(name='biscuit').all()`\n",
    "\n",
    "2. Getting only the first row if sabji name is 'biscuit'\n",
    "\n",
    "`Box.query.filter_by(name='biscuit').first()`\n",
    "\n",
    "3. Count of rows if box name is \"biscuit\"\n",
    "\n",
    "`Box.query.filter_by(name='biscuit').count()`\n",
    "\n",
    "4. Getting rows by id\n",
    "\n",
    "`Box.query.filter_by(id=2).first()`\n",
    "\n",
    "OR\n",
    "\n",
    "`Box.query.get(2)`\n",
    "\n"
   ]
  },
  {
   "cell_type": "markdown",
   "id": "d876bd31",
   "metadata": {},
   "source": [
    "### Other powerful queries using `filter`\n",
    "\n",
    "\n",
    "**Note:** `filter_by` is used for simple queries on the column names using regular kwargs like: `User.filter_by(name=\"Joe\")`\n",
    "\n",
    "\n",
    "The same can be accomplished with `filter` not using kwargs, but instead using operators (==, !=, >, <, etc.) which has been overloaded on the db.users,name object like thus: `User.filter(User.name=='Ann')`\n",
    "\n",
    "1. Getting all the boxes with the name not equal to \"biscuit\" from the database table\n",
    "\n",
    "`Box.query.filter(Box.name != \"biscuit\").all()`\n",
    "\n",
    "2. LIKE\n",
    "\n",
    "`Box.query.filter(Box.name.like('%b%')).all()`\n",
    "\n",
    "3. IN\n",
    "\n",
    "`Box.query.filter(Box.name.in_(['biscuit', 'wine'])).all()`\n",
    "\n",
    "\n",
    "4. AND\n",
    "\n",
    "`Box.query.filter(and_Box.name=='biscuit', Box.price>10)).all()`\n",
    "\n",
    "\n",
    "5. OR\n",
    "\n",
    "`Box.query.filter(or_(Box.name=='biscuit', Box.price>10)).all()`\n",
    "\n",
    "\n",
    "### Order By and JOIN\n",
    "\n",
    "1. ORDER BY \n",
    "\n",
    "`Box.query.order_by(Box.name.desc()).all()`  #you can remove the \"desc()\" if not needed\n",
    "\n",
    "2. Join\n",
    "\n",
    "`db.session.query(Box, Vendor).filter(Box.id==Vendor.sabji_id).all()`"
   ]
  },
  {
   "cell_type": "code",
   "execution_count": null,
   "id": "a43d69d6",
   "metadata": {},
   "outputs": [],
   "source": []
  }
 ],
 "metadata": {
  "kernelspec": {
   "display_name": "Python 3 (ipykernel)",
   "language": "python",
   "name": "python3"
  },
  "language_info": {
   "codemirror_mode": {
    "name": "ipython",
    "version": 3
   },
   "file_extension": ".py",
   "mimetype": "text/x-python",
   "name": "python",
   "nbconvert_exporter": "python",
   "pygments_lexer": "ipython3",
   "version": "3.9.13"
  }
 },
 "nbformat": 4,
 "nbformat_minor": 5
}
