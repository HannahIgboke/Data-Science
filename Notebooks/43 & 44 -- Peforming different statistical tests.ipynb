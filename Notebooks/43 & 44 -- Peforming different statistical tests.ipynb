{
 "cells": [
  {
   "cell_type": "markdown",
   "id": "1620106b",
   "metadata": {},
   "source": [
    "# Statistical tests in python"
   ]
  },
  {
   "cell_type": "markdown",
   "id": "0281fdd9",
   "metadata": {},
   "source": [
    "## What is a statistical test?\n",
    "\n",
    "Statistical tests are used in hypothesis testing to:\n",
    "- Determine the relationships beween input and output variables\n",
    "- Estimate the differences between two or  more groups\n",
    "\n",
    "\n",
    "## What is hypothesis testing\n",
    "This is a way for researchers to make decisions about whether their ideas/hypotheses are supported by evidence from their experiemnets or observations. Here is a flow of hoe the hypothesis is used:\n",
    "\n",
    "1. Formulate a hypothesis: start with an idea or gues about something you want to study\n",
    "2. Collect data: conduct experiemnts or gather information to be used to support your hypothesis\n",
    "3. Test your hypothesis: using statistical techniques, analyze the data and determine if it provides strong evidence for or against the hypothesis\n",
    "4. Decide a signifcance level\n",
    "5. Make a conclusion based on the analysis to decide whether the data supports your original idea or if it suggests otherwise."
   ]
  },
  {
   "cell_type": "markdown",
   "id": "aaa231e7",
   "metadata": {},
   "source": [
    "## What is a Type I and Type II error\n",
    "\n",
    "These are concepts related to hypothesis testing.\n",
    "\n",
    "### Type I error (False positive) - Rejected when it was actually correct\n",
    "\n",
    "It occurs when we reject a true null hypothesis, i.e., we incorrectly conclude that there is an effect or difference when there isn't one. It is denoted by $(\\alpha)$, the significance level. For example:\n",
    "\n",
    "- Scenario: checking the innocency of a supposed criminal\n",
    "- $H_0:$ the person is innocent\n",
    "- Type I error $(\\alpha)$: concluding that the individual is guility when actually he is innocent.\n",
    "\n",
    "\n",
    "### Type II error (False negative) - Accepted when it is actually incorrect\n",
    "\n",
    "This occurs when we accept (i.e fail to reject) a false null hypothesis. In this case, there is a true effect/difference, but our test fails to detect it. It is denoted by $(\\beta)$. Example:\n",
    "\n",
    "- Scenario: checking the innocency of a supposed criminal\n",
    "- $H_0:$ the person is innocent\n",
    "- Type II error $(\\beta):$ concluing that the person is innocent when he is actually guility.\n",
    "\n",
    "#### Relationship between the errors\n",
    "- Inverse relationships\n",
    "\n",
    "There is an inverse relationship between Type I and Type II errors. As you decrease the likelihood of one type of error, the likelihood of the other type of error increases.\n",
    "\n",
    "- Adjusting significance level\n",
    "\n",
    "By decreasing the significance level, we decrease the probability of committing a type I error, but the probability of committing a type II error may increase."
   ]
  },
  {
   "cell_type": "markdown",
   "id": "8fb27595",
   "metadata": {},
   "source": [
    "## What p-value?\n",
    "\n",
    "Short for probability value. It quantifies the strength of evidence, i.e how likely the evidence occured by random chance. **The smaller the p-value, the less likely the result occured by a random chance** and the stronger the evidence that you should reject the null hypothesis.\n",
    "\n",
    "To determine whether the p-value is significan or not, we need a significance threshold aka significance level. This threshold is usually set to 0.05. Lower thresholds, e.g., 0.01, require stronger evidence.\n",
    "\n",
    "- If p-value is below the threshold, then we can infer a statistically significant evidence, i.e, the outcome didn't occur randomly.\n",
    "\n",
    "i.e. For p-value < 0.05, reject the null hypothesis\n",
    "\n",
    "- Otherwise, we can infer that there is no statistically signifcant evidence, i.e outcome occured at random.\n",
    "\n",
    "i.e., For p-value > 0.05, accept the null hypothesis (i.e., fail to reject the null hypothesis)"
   ]
  },
  {
   "cell_type": "markdown",
   "id": "bce6a11e",
   "metadata": {},
   "source": [
    "## Different hypothesis tests\n",
    "\n",
    "### Univariate\n",
    "- Chi-square goodness-of-fit test: tests whether the observed frequencies of categorical data match the expected frequencies according to a specified distribution\n",
    "\n",
    "- Shapiro-wilk test: checks whether a dataset follows a normal distribution\n",
    "\n",
    "- Kolmogorov-Smirnov test: tests whether a sample comes from a specific distribution (not limited to normal distribution). It can be used to compare any two continuous distributions\n",
    "\n",
    "- One- sample t-test: tests whether the mean of a single sample is significantly different from a known or hypothesized population mean.\n",
    "\n",
    "### Bivariate\n",
    "- Pearson test: tests whether two sampes have a linear relationship\n",
    "- Two sample t-test: comapres the means of two related samples (e.g., before and after treatment)  to determine if there is a significant difference.\n",
    "- ANOVA(one_way_anova): compares the mean of three or more samples to determine if there is a significant difference between the samples.\n",
    "- Chi-square test of independence: tests whether there is a significant association between two categorical variables in a contigency table"
   ]
  },
  {
   "cell_type": "code",
   "execution_count": 1,
   "id": "5c3e7ac8",
   "metadata": {},
   "outputs": [
    {
     "name": "stderr",
     "output_type": "stream",
     "text": [
      "C:\\Users\\USER\\anaconda3\\lib\\site-packages\\pandas\\core\\arrays\\masked.py:60: UserWarning: Pandas requires version '1.3.6' or newer of 'bottleneck' (version '1.3.5' currently installed).\n",
      "  from pandas.core import (\n",
      "C:\\Users\\USER\\anaconda3\\lib\\site-packages\\scipy\\__init__.py:155: UserWarning: A NumPy version >=1.18.5 and <1.25.0 is required for this version of SciPy (detected version 1.26.4\n",
      "  warnings.warn(f\"A NumPy version >={np_minversion} and <{np_maxversion}\"\n"
     ]
    }
   ],
   "source": [
    "#importing all the required libraries\n",
    "\n",
    "import pandas as pd\n",
    "import numpy as np\n",
    "import matplotlib.pyplot as plt\n",
    "import seaborn as sns\n",
    "from scipy import stats"
   ]
  },
  {
   "cell_type": "code",
   "execution_count": 2,
   "id": "9e4996a7",
   "metadata": {},
   "outputs": [
    {
     "data": {
      "text/html": [
       "<div>\n",
       "<style scoped>\n",
       "    .dataframe tbody tr th:only-of-type {\n",
       "        vertical-align: middle;\n",
       "    }\n",
       "\n",
       "    .dataframe tbody tr th {\n",
       "        vertical-align: top;\n",
       "    }\n",
       "\n",
       "    .dataframe thead th {\n",
       "        text-align: right;\n",
       "    }\n",
       "</style>\n",
       "<table border=\"1\" class=\"dataframe\">\n",
       "  <thead>\n",
       "    <tr style=\"text-align: right;\">\n",
       "      <th></th>\n",
       "      <th>age</th>\n",
       "      <th>workclass</th>\n",
       "      <th>fnlwgt</th>\n",
       "      <th>education</th>\n",
       "      <th>educational-num</th>\n",
       "      <th>marital-status</th>\n",
       "      <th>occupation</th>\n",
       "      <th>relationship</th>\n",
       "      <th>race</th>\n",
       "      <th>gender</th>\n",
       "      <th>capital-gain</th>\n",
       "      <th>capital-loss</th>\n",
       "      <th>hours-per-week</th>\n",
       "      <th>native-country</th>\n",
       "      <th>income</th>\n",
       "    </tr>\n",
       "  </thead>\n",
       "  <tbody>\n",
       "    <tr>\n",
       "      <th>0</th>\n",
       "      <td>25</td>\n",
       "      <td>Private</td>\n",
       "      <td>226802</td>\n",
       "      <td>11th</td>\n",
       "      <td>7</td>\n",
       "      <td>Never-married</td>\n",
       "      <td>Machine-op-inspct</td>\n",
       "      <td>Own-child</td>\n",
       "      <td>Black</td>\n",
       "      <td>Male</td>\n",
       "      <td>0</td>\n",
       "      <td>0</td>\n",
       "      <td>40</td>\n",
       "      <td>United-States</td>\n",
       "      <td>&lt;=50K</td>\n",
       "    </tr>\n",
       "    <tr>\n",
       "      <th>1</th>\n",
       "      <td>38</td>\n",
       "      <td>Private</td>\n",
       "      <td>89814</td>\n",
       "      <td>HS-grad</td>\n",
       "      <td>9</td>\n",
       "      <td>Married-civ-spouse</td>\n",
       "      <td>Farming-fishing</td>\n",
       "      <td>Husband</td>\n",
       "      <td>White</td>\n",
       "      <td>Male</td>\n",
       "      <td>0</td>\n",
       "      <td>0</td>\n",
       "      <td>50</td>\n",
       "      <td>United-States</td>\n",
       "      <td>&lt;=50K</td>\n",
       "    </tr>\n",
       "    <tr>\n",
       "      <th>2</th>\n",
       "      <td>28</td>\n",
       "      <td>Local-gov</td>\n",
       "      <td>336951</td>\n",
       "      <td>Assoc-acdm</td>\n",
       "      <td>12</td>\n",
       "      <td>Married-civ-spouse</td>\n",
       "      <td>Protective-serv</td>\n",
       "      <td>Husband</td>\n",
       "      <td>White</td>\n",
       "      <td>Male</td>\n",
       "      <td>0</td>\n",
       "      <td>0</td>\n",
       "      <td>40</td>\n",
       "      <td>United-States</td>\n",
       "      <td>&gt;50K</td>\n",
       "    </tr>\n",
       "    <tr>\n",
       "      <th>3</th>\n",
       "      <td>44</td>\n",
       "      <td>Private</td>\n",
       "      <td>160323</td>\n",
       "      <td>Some-college</td>\n",
       "      <td>10</td>\n",
       "      <td>Married-civ-spouse</td>\n",
       "      <td>Machine-op-inspct</td>\n",
       "      <td>Husband</td>\n",
       "      <td>Black</td>\n",
       "      <td>Male</td>\n",
       "      <td>7688</td>\n",
       "      <td>0</td>\n",
       "      <td>40</td>\n",
       "      <td>United-States</td>\n",
       "      <td>&gt;50K</td>\n",
       "    </tr>\n",
       "    <tr>\n",
       "      <th>4</th>\n",
       "      <td>18</td>\n",
       "      <td>?</td>\n",
       "      <td>103497</td>\n",
       "      <td>Some-college</td>\n",
       "      <td>10</td>\n",
       "      <td>Never-married</td>\n",
       "      <td>?</td>\n",
       "      <td>Own-child</td>\n",
       "      <td>White</td>\n",
       "      <td>Female</td>\n",
       "      <td>0</td>\n",
       "      <td>0</td>\n",
       "      <td>30</td>\n",
       "      <td>United-States</td>\n",
       "      <td>&lt;=50K</td>\n",
       "    </tr>\n",
       "  </tbody>\n",
       "</table>\n",
       "</div>"
      ],
      "text/plain": [
       "   age  workclass  fnlwgt     education  educational-num      marital-status  \\\n",
       "0   25    Private  226802          11th                7       Never-married   \n",
       "1   38    Private   89814       HS-grad                9  Married-civ-spouse   \n",
       "2   28  Local-gov  336951    Assoc-acdm               12  Married-civ-spouse   \n",
       "3   44    Private  160323  Some-college               10  Married-civ-spouse   \n",
       "4   18          ?  103497  Some-college               10       Never-married   \n",
       "\n",
       "          occupation relationship   race  gender  capital-gain  capital-loss  \\\n",
       "0  Machine-op-inspct    Own-child  Black    Male             0             0   \n",
       "1    Farming-fishing      Husband  White    Male             0             0   \n",
       "2    Protective-serv      Husband  White    Male             0             0   \n",
       "3  Machine-op-inspct      Husband  Black    Male          7688             0   \n",
       "4                  ?    Own-child  White  Female             0             0   \n",
       "\n",
       "   hours-per-week native-country income  \n",
       "0              40  United-States  <=50K  \n",
       "1              50  United-States  <=50K  \n",
       "2              40  United-States   >50K  \n",
       "3              40  United-States   >50K  \n",
       "4              30  United-States  <=50K  "
      ]
     },
     "execution_count": 2,
     "metadata": {},
     "output_type": "execute_result"
    }
   ],
   "source": [
    "df = pd.read_csv('Data/adult.csv')\n",
    "df.head()"
   ]
  },
  {
   "cell_type": "code",
   "execution_count": 3,
   "id": "a459ac6d",
   "metadata": {},
   "outputs": [
    {
     "data": {
      "text/plain": [
       "Index(['age', 'workclass', 'fnlwgt', 'education', 'educational_num',\n",
       "       'marital_status', 'occupation', 'relationship', 'race', 'gender',\n",
       "       'capital_gain', 'capital_loss', 'hours_per_week', 'native_country',\n",
       "       'income'],\n",
       "      dtype='object')"
      ]
     },
     "execution_count": 3,
     "metadata": {},
     "output_type": "execute_result"
    }
   ],
   "source": [
    "#renaming columns\n",
    "\n",
    "df.columns = df.columns.str.strip().str.replace('-', '_')\n",
    "df.columns"
   ]
  },
  {
   "cell_type": "code",
   "execution_count": 4,
   "id": "3cd6e611",
   "metadata": {},
   "outputs": [
    {
     "name": "stdout",
     "output_type": "stream",
     "text": [
      "<class 'pandas.core.frame.DataFrame'>\n",
      "RangeIndex: 48842 entries, 0 to 48841\n",
      "Data columns (total 15 columns):\n",
      " #   Column           Non-Null Count  Dtype \n",
      "---  ------           --------------  ----- \n",
      " 0   age              48842 non-null  int64 \n",
      " 1   workclass        48842 non-null  object\n",
      " 2   fnlwgt           48842 non-null  int64 \n",
      " 3   education        48842 non-null  object\n",
      " 4   educational_num  48842 non-null  int64 \n",
      " 5   marital_status   48842 non-null  object\n",
      " 6   occupation       48842 non-null  object\n",
      " 7   relationship     48842 non-null  object\n",
      " 8   race             48842 non-null  object\n",
      " 9   gender           48842 non-null  object\n",
      " 10  capital_gain     48842 non-null  int64 \n",
      " 11  capital_loss     48842 non-null  int64 \n",
      " 12  hours_per_week   48842 non-null  int64 \n",
      " 13  native_country   48842 non-null  object\n",
      " 14  income           48842 non-null  object\n",
      "dtypes: int64(6), object(9)\n",
      "memory usage: 5.6+ MB\n"
     ]
    }
   ],
   "source": [
    "df.info()"
   ]
  },
  {
   "cell_type": "markdown",
   "id": "d1a550cb",
   "metadata": {},
   "source": [
    "## Univariate analysis - discrete data"
   ]
  },
  {
   "cell_type": "code",
   "execution_count": 5,
   "id": "c9b61b16",
   "metadata": {},
   "outputs": [],
   "source": [
    "discrete_df = df.select_dtypes(include=['object'])\n",
    "numerical_df = df.select_dtypes(include=['int64'])"
   ]
  },
  {
   "cell_type": "code",
   "execution_count": 6,
   "id": "7fc173c5",
   "metadata": {},
   "outputs": [],
   "source": [
    "def discrete_uni_analysis(discrete_data):\n",
    "    for col_name in discrete_data:\n",
    "        print('*'*10, col_name, '*'*10)\n",
    "        print(discrete_data[col_name].agg(['count', 'nunique', 'unique']))\n",
    "        print('Value counts: \\n', discrete_data[col_name].value_counts())\n",
    "        print()"
   ]
  },
  {
   "cell_type": "code",
   "execution_count": 7,
   "id": "c91727dc",
   "metadata": {
    "scrolled": false
   },
   "outputs": [
    {
     "name": "stdout",
     "output_type": "stream",
     "text": [
      "********** workclass **********\n",
      "count                                                  48842\n",
      "nunique                                                    9\n",
      "unique     [Private, Local-gov, ?, Self-emp-not-inc, Fede...\n",
      "Name: workclass, dtype: object\n",
      "Value counts: \n",
      " workclass\n",
      "Private             33906\n",
      "Self-emp-not-inc     3862\n",
      "Local-gov            3136\n",
      "?                    2799\n",
      "State-gov            1981\n",
      "Self-emp-inc         1695\n",
      "Federal-gov          1432\n",
      "Without-pay            21\n",
      "Never-worked           10\n",
      "Name: count, dtype: int64\n",
      "\n",
      "********** education **********\n",
      "count                                                  48842\n",
      "nunique                                                   16\n",
      "unique     [11th, HS-grad, Assoc-acdm, Some-college, 10th...\n",
      "Name: education, dtype: object\n",
      "Value counts: \n",
      " education\n",
      "HS-grad         15784\n",
      "Some-college    10878\n",
      "Bachelors        8025\n",
      "Masters          2657\n",
      "Assoc-voc        2061\n",
      "11th             1812\n",
      "Assoc-acdm       1601\n",
      "10th             1389\n",
      "7th-8th           955\n",
      "Prof-school       834\n",
      "9th               756\n",
      "12th              657\n",
      "Doctorate         594\n",
      "5th-6th           509\n",
      "1st-4th           247\n",
      "Preschool          83\n",
      "Name: count, dtype: int64\n",
      "\n",
      "********** marital_status **********\n",
      "count                                                  48842\n",
      "nunique                                                    7\n",
      "unique     [Never-married, Married-civ-spouse, Widowed, D...\n",
      "Name: marital_status, dtype: object\n",
      "Value counts: \n",
      " marital_status\n",
      "Married-civ-spouse       22379\n",
      "Never-married            16117\n",
      "Divorced                  6633\n",
      "Separated                 1530\n",
      "Widowed                   1518\n",
      "Married-spouse-absent      628\n",
      "Married-AF-spouse           37\n",
      "Name: count, dtype: int64\n",
      "\n",
      "********** occupation **********\n",
      "count                                                  48842\n",
      "nunique                                                   15\n",
      "unique     [Machine-op-inspct, Farming-fishing, Protectiv...\n",
      "Name: occupation, dtype: object\n",
      "Value counts: \n",
      " occupation\n",
      "Prof-specialty       6172\n",
      "Craft-repair         6112\n",
      "Exec-managerial      6086\n",
      "Adm-clerical         5611\n",
      "Sales                5504\n",
      "Other-service        4923\n",
      "Machine-op-inspct    3022\n",
      "?                    2809\n",
      "Transport-moving     2355\n",
      "Handlers-cleaners    2072\n",
      "Farming-fishing      1490\n",
      "Tech-support         1446\n",
      "Protective-serv       983\n",
      "Priv-house-serv       242\n",
      "Armed-Forces           15\n",
      "Name: count, dtype: int64\n",
      "\n",
      "********** relationship **********\n",
      "count                                                  48842\n",
      "nunique                                                    6\n",
      "unique     [Own-child, Husband, Not-in-family, Unmarried,...\n",
      "Name: relationship, dtype: object\n",
      "Value counts: \n",
      " relationship\n",
      "Husband           19716\n",
      "Not-in-family     12583\n",
      "Own-child          7581\n",
      "Unmarried          5125\n",
      "Wife               2331\n",
      "Other-relative     1506\n",
      "Name: count, dtype: int64\n",
      "\n",
      "********** race **********\n",
      "count                                                  48842\n",
      "nunique                                                    5\n",
      "unique     [Black, White, Asian-Pac-Islander, Other, Amer...\n",
      "Name: race, dtype: object\n",
      "Value counts: \n",
      " race\n",
      "White                 41762\n",
      "Black                  4685\n",
      "Asian-Pac-Islander     1519\n",
      "Amer-Indian-Eskimo      470\n",
      "Other                   406\n",
      "Name: count, dtype: int64\n",
      "\n",
      "********** gender **********\n",
      "count               48842\n",
      "nunique                 2\n",
      "unique     [Male, Female]\n",
      "Name: gender, dtype: object\n",
      "Value counts: \n",
      " gender\n",
      "Male      32650\n",
      "Female    16192\n",
      "Name: count, dtype: int64\n",
      "\n",
      "********** native_country **********\n",
      "count                                                  48842\n",
      "nunique                                                   42\n",
      "unique     [United-States, ?, Peru, Guatemala, Mexico, Do...\n",
      "Name: native_country, dtype: object\n",
      "Value counts: \n",
      " native_country\n",
      "United-States                 43832\n",
      "Mexico                          951\n",
      "?                               857\n",
      "Philippines                     295\n",
      "Germany                         206\n",
      "Puerto-Rico                     184\n",
      "Canada                          182\n",
      "El-Salvador                     155\n",
      "India                           151\n",
      "Cuba                            138\n",
      "England                         127\n",
      "China                           122\n",
      "South                           115\n",
      "Jamaica                         106\n",
      "Italy                           105\n",
      "Dominican-Republic              103\n",
      "Japan                            92\n",
      "Guatemala                        88\n",
      "Poland                           87\n",
      "Vietnam                          86\n",
      "Columbia                         85\n",
      "Haiti                            75\n",
      "Portugal                         67\n",
      "Taiwan                           65\n",
      "Iran                             59\n",
      "Greece                           49\n",
      "Nicaragua                        49\n",
      "Peru                             46\n",
      "Ecuador                          45\n",
      "France                           38\n",
      "Ireland                          37\n",
      "Hong                             30\n",
      "Thailand                         30\n",
      "Cambodia                         28\n",
      "Trinadad&Tobago                  27\n",
      "Laos                             23\n",
      "Yugoslavia                       23\n",
      "Outlying-US(Guam-USVI-etc)       23\n",
      "Scotland                         21\n",
      "Honduras                         20\n",
      "Hungary                          19\n",
      "Holand-Netherlands                1\n",
      "Name: count, dtype: int64\n",
      "\n",
      "********** income **********\n",
      "count              48842\n",
      "nunique                2\n",
      "unique     [<=50K, >50K]\n",
      "Name: income, dtype: object\n",
      "Value counts: \n",
      " income\n",
      "<=50K    37155\n",
      ">50K     11687\n",
      "Name: count, dtype: int64\n",
      "\n"
     ]
    }
   ],
   "source": [
    "discrete_uni_analysis(discrete_df)"
   ]
  },
  {
   "cell_type": "code",
   "execution_count": 8,
   "id": "f587192d",
   "metadata": {},
   "outputs": [
    {
     "data": {
      "text/plain": [
       "<AxesSubplot:xlabel='gender', ylabel='count'>"
      ]
     },
     "execution_count": 8,
     "metadata": {},
     "output_type": "execute_result"
    },
    {
     "data": {
      "image/png": "[encoded data removed]",
      "text/plain": [
       "<Figure size 640x480 with 1 Axes>"
      ]
     },
     "metadata": {},
     "output_type": "display_data"
    }
   ],
   "source": [
    "sns.countplot(data=df, x='gender')"
   ]
  },
  {
   "cell_type": "markdown",
   "id": "c3276f1c",
   "metadata": {},
   "source": [
    "### Chi-square test of goodness-of-fit\n",
    "\n",
    "Here, we want to test if the observed frequencies of the categorical data match the expected frequencies according to a distribution we specify.\n",
    "\n",
    "**Assumptions**\n",
    "- Observations in each sample are independent and identically distributed\n",
    "- Observations should be discrete\n",
    "\n",
    "**Interpretation**\n",
    "- $H_0:$ the observed and expected frequencies are matching\n",
    "- $H_1:$ the observed and expected frequencies are not matching"
   ]
  },
  {
   "cell_type": "code",
   "execution_count": 9,
   "id": "af3002a1",
   "metadata": {},
   "outputs": [],
   "source": [
    "def chi_square_good_fit(observed_freq, expected_freq, significance_level):\n",
    "    stat, p_value = stats.chisquare(observed_freq, expected_freq)\n",
    "    \n",
    "    print('stat=%.3f, p_value=%.3f' % (stat, p_value))\n",
    "    \n",
    "    if p_value < significance_level:\n",
    "        print('Reject H_O because the observed and expected frequencies do not match')\n",
    "    else:\n",
    "        print('Accept the H_0 because the observed and expected frequencies match')\n"
   ]
  },
  {
   "cell_type": "code",
   "execution_count": 10,
   "id": "157a728c",
   "metadata": {},
   "outputs": [
    {
     "name": "stdout",
     "output_type": "stream",
     "text": [
      "stat=17.633, p_value=0.000\n",
      "Reject H_O because the observed and expected frequencies do not match\n"
     ]
    }
   ],
   "source": [
    "sample = df['gender'].sample(n=500)\n",
    "\n",
    "observed_freq = sample.value_counts().tolist()\n",
    "expected_freq = [300, 200]\n",
    "\n",
    "chi_square_good_fit(observed_freq, expected_freq, significance_level=0.05)\n"
   ]
  },
  {
   "cell_type": "markdown",
   "id": "cf458ce4",
   "metadata": {},
   "source": [
    "## Univariate analysis - numerical data"
   ]
  },
  {
   "cell_type": "code",
   "execution_count": 11,
   "id": "95a5ecaf",
   "metadata": {},
   "outputs": [],
   "source": [
    "def num_uni_analysis(numerical_data):\n",
    "    for col_name in numerical_data:\n",
    "        print('*'*10, col_name, '*'*10)\n",
    "        print(numerical_data[col_name].agg(['min', 'max', 'mean', 'median', 'std']))\n",
    "        print()"
   ]
  },
  {
   "cell_type": "code",
   "execution_count": 12,
   "id": "26266f0f",
   "metadata": {},
   "outputs": [
    {
     "name": "stdout",
     "output_type": "stream",
     "text": [
      "********** age **********\n",
      "min       17.000000\n",
      "max       90.000000\n",
      "mean      38.643585\n",
      "median    37.000000\n",
      "std       13.710510\n",
      "Name: age, dtype: float64\n",
      "\n",
      "********** fnlwgt **********\n",
      "min       1.228500e+04\n",
      "max       1.490400e+06\n",
      "mean      1.896641e+05\n",
      "median    1.781445e+05\n",
      "std       1.056040e+05\n",
      "Name: fnlwgt, dtype: float64\n",
      "\n",
      "********** educational_num **********\n",
      "min        1.000000\n",
      "max       16.000000\n",
      "mean      10.078089\n",
      "median    10.000000\n",
      "std        2.570973\n",
      "Name: educational_num, dtype: float64\n",
      "\n",
      "********** capital_gain **********\n",
      "min           0.000000\n",
      "max       99999.000000\n",
      "mean       1079.067626\n",
      "median        0.000000\n",
      "std        7452.019058\n",
      "Name: capital_gain, dtype: float64\n",
      "\n",
      "********** capital_loss **********\n",
      "min          0.000000\n",
      "max       4356.000000\n",
      "mean        87.502314\n",
      "median       0.000000\n",
      "std        403.004552\n",
      "Name: capital_loss, dtype: float64\n",
      "\n",
      "********** hours_per_week **********\n",
      "min        1.000000\n",
      "max       99.000000\n",
      "mean      40.422382\n",
      "median    40.000000\n",
      "std       12.391444\n",
      "Name: hours_per_week, dtype: float64\n",
      "\n"
     ]
    }
   ],
   "source": [
    "num_uni_analysis(numerical_df)"
   ]
  },
  {
   "cell_type": "code",
   "execution_count": 13,
   "id": "3e453699",
   "metadata": {},
   "outputs": [
    {
     "data": {
      "image/png": "[encoded data removed]",
      "text/plain": [
       "<Figure size 1000x300 with 3 Axes>"
      ]
     },
     "metadata": {},
     "output_type": "display_data"
    }
   ],
   "source": [
    "#visualizing\n",
    "\n",
    "fig,axs = plt.subplots(1, 3, figsize=(10,3), constrained_layout=True)\n",
    "fig.suptitle('Distribution of age from sample data')\n",
    "\n",
    "axs[0].set_title('Histogram+KDE')\n",
    "sns.histplot(data=df, x= 'age', kde=True, ax=axs[0])\n",
    "\n",
    "axs[1].set_title('Boxplot')\n",
    "sns.boxplot(data=df, x='age', ax=axs[1])\n",
    "\n",
    "stats.probplot(df['age'], dist=stats.norm, plot=axs[2])\n",
    "axs[2].grid()"
   ]
  },
  {
   "cell_type": "markdown",
   "id": "5fa205eb",
   "metadata": {},
   "source": [
    "Age is not normally distributed. We can also test for this using some other kind of statistical test."
   ]
  },
  {
   "cell_type": "markdown",
   "id": "066e1edc",
   "metadata": {},
   "source": [
    "### Shapiro Wilk test\n",
    "\n",
    "This checks if a dataset follows a normal distribution. It tests the null hypothesis tyhat the data is normally distributed\n",
    "\n",
    "**Assumptions**\n",
    "- Observations in each sample are independent and identically distributed\n",
    "\n",
    "**Interpretation**\n",
    "- $H_0:$ the sample has a gaussian distribution\n",
    "- $H_1:$ the sample does not have a gaussian distribution\n",
    "\n",
    "**Drawback**\n",
    "\n",
    "Cannot handle more than 5000 data points"
   ]
  },
  {
   "cell_type": "code",
   "execution_count": 14,
   "id": "d5b1a1b7",
   "metadata": {},
   "outputs": [],
   "source": [
    "def shapiro_wilk(data, significance_level):\n",
    "    stat, p_value = stats.shapiro(data)\n",
    "    \n",
    "    print('stat=%.3f, p_value=%.3f' % (stat, p_value))\n",
    "    \n",
    "    if p_value < significance_level:\n",
    "        print('Reject H_O: probably not gaussian')\n",
    "    else:\n",
    "        print('Accept H_0: probably gaussian')"
   ]
  },
  {
   "cell_type": "code",
   "execution_count": 15,
   "id": "b10a6f77",
   "metadata": {},
   "outputs": [
    {
     "name": "stdout",
     "output_type": "stream",
     "text": [
      "stat=0.967, p_value=0.000\n",
      "Reject H_O: probably not gaussian\n"
     ]
    },
    {
     "name": "stderr",
     "output_type": "stream",
     "text": [
      "C:\\Users\\USER\\anaconda3\\lib\\site-packages\\scipy\\stats\\_morestats.py:1800: UserWarning: p-value may not be accurate for N > 5000.\n",
      "  warnings.warn(\"p-value may not be accurate for N > 5000.\")\n"
     ]
    }
   ],
   "source": [
    "shapiro_wilk(df['age'], 0.05)\n",
    "\n",
    "#using it on the entire population"
   ]
  },
  {
   "cell_type": "code",
   "execution_count": 16,
   "id": "b0bccc20",
   "metadata": {},
   "outputs": [
    {
     "name": "stdout",
     "output_type": "stream",
     "text": [
      "stat=0.968, p_value=0.000\n",
      "Reject H_O: probably not gaussian\n"
     ]
    }
   ],
   "source": [
    "shapiro_wilk(df['age'].sample(n=4500), 0.05)"
   ]
  },
  {
   "cell_type": "markdown",
   "id": "1ee06eb8",
   "metadata": {},
   "source": [
    "### Kolmogorov-Smirnov (KS) test\n",
    "\n",
    "The KS test is used to check if a sample follows a specific distribution\n",
    "\n",
    "**Assumptions**\n",
    "- Observations in each sample are independent and identically distributed\n",
    "\n",
    "**Interpretation**\n",
    "- $H_0:$ the sample has a (state distribution of interest) distribution\n",
    "- $H_1:$ the sample does not have that distribution"
   ]
  },
  {
   "cell_type": "code",
   "execution_count": 17,
   "id": "012e8cc9",
   "metadata": {},
   "outputs": [],
   "source": [
    "def kolmogorov_smirnov(data, significance_level):\n",
    "    stat, p = stats.kstest(data, 'norm')\n",
    "    \n",
    "    print('stat=%.3f, p=%.3f' % (stat, p))\n",
    "    \n",
    "    if p < significance_level:\n",
    "        print('Reject H_0: probably not gaussian')\n",
    "    else:\n",
    "        print('Accept the H_O: probably gaussian')"
   ]
  },
  {
   "cell_type": "code",
   "execution_count": 18,
   "id": "f5bd95bc",
   "metadata": {},
   "outputs": [
    {
     "name": "stdout",
     "output_type": "stream",
     "text": [
      "stat=1.000, p=0.000\n",
      "Reject H_0: probably not gaussian\n"
     ]
    }
   ],
   "source": [
    "kolmogorov_smirnov(df['age'], 0.05)"
   ]
  },
  {
   "cell_type": "markdown",
   "id": "308f57b5",
   "metadata": {},
   "source": [
    "### One-sample t-test\n",
    "\n",
    "Tests if the mean of a single sample is signifucantly different from a known or hypothesized population mean.\n",
    "\n",
    "**Assumptions**\n",
    "- Observations in each sample are independent and identically distributed\n",
    "- Observations are continuous measurements\n",
    "- Data is normally distributed\n",
    "\n",
    "**Interpretation**\n",
    "- $H_0: \\mu_{pop} = m_o$\n",
    "- $H_1:\\mu_{pop} \\ne m_o$"
   ]
  },
  {
   "cell_type": "code",
   "execution_count": 19,
   "id": "e7258b4a",
   "metadata": {},
   "outputs": [],
   "source": [
    "def one_sample_t_test(sample, assumed_pop_mean, signficance_level):\n",
    "    stat, p_value = stats.ttest_1samp(sample, assumed_pop_mean)\n",
    "    \n",
    "    print('stat=%.3f, p_value=%.3f' % (stat, p_value))\n",
    "    \n",
    "    if p_value < signficance_level:\n",
    "        print('Reject H_O: the sample is not equal to the population mean')\n",
    "    else:\n",
    "        print('Accept H_O: the sample is equal to the population mean')"
   ]
  },
  {
   "cell_type": "code",
   "execution_count": 20,
   "id": "1dfc3df7",
   "metadata": {},
   "outputs": [
    {
     "name": "stdout",
     "output_type": "stream",
     "text": [
      "stat=-19.193, p_value=0.000\n",
      "Reject H_O: the sample is not equal to the population mean\n"
     ]
    }
   ],
   "source": [
    "sample = df['age'].sample(n=500)\n",
    "\n",
    "assumed_pop_mean = 50\n",
    "\n",
    "one_sample_t_test(sample, assumed_pop_mean, signficance_level=0.05)"
   ]
  },
  {
   "cell_type": "markdown",
   "id": "e853848d",
   "metadata": {},
   "source": [
    "## Bivariate analysis - numerical vs. numerical"
   ]
  },
  {
   "cell_type": "code",
   "execution_count": 21,
   "id": "f89d0708",
   "metadata": {},
   "outputs": [
    {
     "data": {
      "text/plain": [
       "Index(['age', 'workclass', 'fnlwgt', 'education', 'educational_num',\n",
       "       'marital_status', 'occupation', 'relationship', 'race', 'gender',\n",
       "       'capital_gain', 'capital_loss', 'hours_per_week', 'native_country',\n",
       "       'income'],\n",
       "      dtype='object')"
      ]
     },
     "execution_count": 21,
     "metadata": {},
     "output_type": "execute_result"
    }
   ],
   "source": [
    "df.columns"
   ]
  },
  {
   "cell_type": "code",
   "execution_count": 22,
   "id": "c40852b0",
   "metadata": {},
   "outputs": [
    {
     "data": {
      "text/plain": [
       "<AxesSubplot:xlabel='age', ylabel='capital_loss'>"
      ]
     },
     "execution_count": 22,
     "metadata": {},
     "output_type": "execute_result"
    },
    {
     "data": {
      "image/png": "[encoded data removed]",
      "text/plain": [
       "<Figure size 640x480 with 1 Axes>"
      ]
     },
     "metadata": {},
     "output_type": "display_data"
    }
   ],
   "source": [
    "sns.scatterplot(data=df, x='age', y='capital_loss')"
   ]
  },
  {
   "cell_type": "markdown",
   "id": "09da6c8f",
   "metadata": {},
   "source": [
    "### Pearson's correlation coefficient\n",
    "\n",
    "Tests whether two samples have a linear relationship\n",
    "\n",
    "**Assumptions**\n",
    "- Observations in each sample are independent and identically distributed\n",
    "- Observations in each sample are normally distributed\n",
    "- Observations in each sample have the same variance\n",
    "\n",
    "**Interpretation**\n",
    "- $H_0:$ the two samples are independent\n",
    "- $H_1:$ there is a dependency between the samples"
   ]
  },
  {
   "cell_type": "code",
   "execution_count": 23,
   "id": "53db6e7a",
   "metadata": {},
   "outputs": [],
   "source": [
    "def pearson_test(data1, data2, significance_level):\n",
    "    stat, p_value = stats.pearsonr(data1, data2)\n",
    "    \n",
    "    print('stat=%.3f, p=%.3f' % (stat, p_value))\n",
    "    \n",
    "    if p_value < significance_level:\n",
    "        print('Reject H_0: probably linear relationship exists')\n",
    "    else:\n",
    "        print('Accept the H_0: probably no linear relationship exists')\n",
    "        "
   ]
  },
  {
   "cell_type": "code",
   "execution_count": 24,
   "id": "59c36422",
   "metadata": {},
   "outputs": [
    {
     "name": "stdout",
     "output_type": "stream",
     "text": [
      "stat=0.057, p=0.000\n",
      "Reject H_0: probably linear relationship exists\n"
     ]
    }
   ],
   "source": [
    "pearson_test(df['age'], df['capital_loss'], significance_level=0.05)"
   ]
  },
  {
   "cell_type": "markdown",
   "id": "ae84d901",
   "metadata": {},
   "source": [
    "## Bivariate analysis - categorical vs. categorical"
   ]
  },
  {
   "cell_type": "code",
   "execution_count": 25,
   "id": "eda13ba0",
   "metadata": {},
   "outputs": [
    {
     "data": {
      "text/plain": [
       "Text(0.5, 1.0, 'Incomce vs. workclass')"
      ]
     },
     "execution_count": 25,
     "metadata": {},
     "output_type": "execute_result"
    },
    {
     "data": {
      "image/png": "[encoded data removed]",
      "text/plain": [
       "<Figure size 640x480 with 1 Axes>"
      ]
     },
     "metadata": {},
     "output_type": "display_data"
    }
   ],
   "source": [
    "sns.countplot(data=df, y='occupation', hue = 'income')\n",
    "plt.title('Incomce vs. workclass')"
   ]
  },
  {
   "cell_type": "markdown",
   "id": "533ebf56",
   "metadata": {},
   "source": [
    "### Chi-squared test for independence\n",
    "\n",
    "Tests whether two categorical variables are related or independent.\n",
    "\n",
    "**Assumptions**\n",
    "- Observations used in the calculations of the contigency table are independent\n",
    "- 25 or more examples in each cell of the contigency table\n",
    "\n",
    "**Interpretation**\n",
    "- $H_0:$ the two samples are independent\n",
    "- $H_1:$ there is a dependency between the samples"
   ]
  },
  {
   "cell_type": "code",
   "execution_count": 30,
   "id": "6571d828",
   "metadata": {},
   "outputs": [],
   "source": [
    "def chi_square(freq_table, significance_level):\n",
    "    stat, p_value, dof, expected = stats.chi2_contingency(freq_table)\n",
    "    \n",
    "    print('stat=%3.f, p=%.3f' % (stat, p_value))\n",
    "    \n",
    "    if p_value < significance_level:\n",
    "        print('Reject H_0: probably dependent')\n",
    "    else:\n",
    "        print('Acept the H_0: probably independent')"
   ]
  },
  {
   "cell_type": "code",
   "execution_count": 31,
   "id": "d6795cbb",
   "metadata": {},
   "outputs": [
    {
     "data": {
      "text/html": [
       "<div>\n",
       "<style scoped>\n",
       "    .dataframe tbody tr th:only-of-type {\n",
       "        vertical-align: middle;\n",
       "    }\n",
       "\n",
       "    .dataframe tbody tr th {\n",
       "        vertical-align: top;\n",
       "    }\n",
       "\n",
       "    .dataframe thead th {\n",
       "        text-align: right;\n",
       "    }\n",
       "</style>\n",
       "<table border=\"1\" class=\"dataframe\">\n",
       "  <thead>\n",
       "    <tr style=\"text-align: right;\">\n",
       "      <th>income</th>\n",
       "      <th>&lt;=50K</th>\n",
       "      <th>&gt;50K</th>\n",
       "    </tr>\n",
       "    <tr>\n",
       "      <th>occupation</th>\n",
       "      <th></th>\n",
       "      <th></th>\n",
       "    </tr>\n",
       "  </thead>\n",
       "  <tbody>\n",
       "    <tr>\n",
       "      <th>?</th>\n",
       "      <td>2544</td>\n",
       "      <td>265</td>\n",
       "    </tr>\n",
       "    <tr>\n",
       "      <th>Adm-clerical</th>\n",
       "      <td>4843</td>\n",
       "      <td>768</td>\n",
       "    </tr>\n",
       "    <tr>\n",
       "      <th>Armed-Forces</th>\n",
       "      <td>10</td>\n",
       "      <td>5</td>\n",
       "    </tr>\n",
       "    <tr>\n",
       "      <th>Craft-repair</th>\n",
       "      <td>4729</td>\n",
       "      <td>1383</td>\n",
       "    </tr>\n",
       "    <tr>\n",
       "      <th>Exec-managerial</th>\n",
       "      <td>3178</td>\n",
       "      <td>2908</td>\n",
       "    </tr>\n",
       "    <tr>\n",
       "      <th>Farming-fishing</th>\n",
       "      <td>1317</td>\n",
       "      <td>173</td>\n",
       "    </tr>\n",
       "    <tr>\n",
       "      <th>Handlers-cleaners</th>\n",
       "      <td>1934</td>\n",
       "      <td>138</td>\n",
       "    </tr>\n",
       "    <tr>\n",
       "      <th>Machine-op-inspct</th>\n",
       "      <td>2650</td>\n",
       "      <td>372</td>\n",
       "    </tr>\n",
       "    <tr>\n",
       "      <th>Other-service</th>\n",
       "      <td>4719</td>\n",
       "      <td>204</td>\n",
       "    </tr>\n",
       "    <tr>\n",
       "      <th>Priv-house-serv</th>\n",
       "      <td>239</td>\n",
       "      <td>3</td>\n",
       "    </tr>\n",
       "    <tr>\n",
       "      <th>Prof-specialty</th>\n",
       "      <td>3388</td>\n",
       "      <td>2784</td>\n",
       "    </tr>\n",
       "    <tr>\n",
       "      <th>Protective-serv</th>\n",
       "      <td>675</td>\n",
       "      <td>308</td>\n",
       "    </tr>\n",
       "    <tr>\n",
       "      <th>Sales</th>\n",
       "      <td>4029</td>\n",
       "      <td>1475</td>\n",
       "    </tr>\n",
       "    <tr>\n",
       "      <th>Tech-support</th>\n",
       "      <td>1026</td>\n",
       "      <td>420</td>\n",
       "    </tr>\n",
       "    <tr>\n",
       "      <th>Transport-moving</th>\n",
       "      <td>1874</td>\n",
       "      <td>481</td>\n",
       "    </tr>\n",
       "  </tbody>\n",
       "</table>\n",
       "</div>"
      ],
      "text/plain": [
       "income             <=50K  >50K\n",
       "occupation                    \n",
       "?                   2544   265\n",
       "Adm-clerical        4843   768\n",
       "Armed-Forces          10     5\n",
       "Craft-repair        4729  1383\n",
       "Exec-managerial     3178  2908\n",
       "Farming-fishing     1317   173\n",
       "Handlers-cleaners   1934   138\n",
       "Machine-op-inspct   2650   372\n",
       "Other-service       4719   204\n",
       "Priv-house-serv      239     3\n",
       "Prof-specialty      3388  2784\n",
       "Protective-serv      675   308\n",
       "Sales               4029  1475\n",
       "Tech-support        1026   420\n",
       "Transport-moving    1874   481"
      ]
     },
     "execution_count": 31,
     "metadata": {},
     "output_type": "execute_result"
    }
   ],
   "source": [
    "freq_table = pd.crosstab(df['occupation'], df['income'])\n",
    "freq_table"
   ]
  },
  {
   "cell_type": "code",
   "execution_count": 32,
   "id": "cbd49ddf",
   "metadata": {},
   "outputs": [
    {
     "name": "stdout",
     "output_type": "stream",
     "text": [
      "stat=5983, p=0.000\n",
      "Reject H_0: probably dependent\n"
     ]
    }
   ],
   "source": [
    "chi_square(freq_table, significance_level=0.05)"
   ]
  },
  {
   "cell_type": "markdown",
   "id": "9fd17b27",
   "metadata": {},
   "source": [
    "## Bivariate Analysis - numerical vs. categorical"
   ]
  },
  {
   "cell_type": "code",
   "execution_count": 33,
   "id": "ebc955b6",
   "metadata": {},
   "outputs": [
    {
     "data": {
      "text/plain": [
       "<AxesSubplot:xlabel='gender', ylabel='age'>"
      ]
     },
     "execution_count": 33,
     "metadata": {},
     "output_type": "execute_result"
    },
    {
     "data": {
      "image/png": "[encoded data removed]",
      "text/plain": [
       "<Figure size 640x480 with 1 Axes>"
      ]
     },
     "metadata": {},
     "output_type": "display_data"
    }
   ],
   "source": [
    "sns.boxplot(data=df, x='gender', y='age')"
   ]
  },
  {
   "cell_type": "markdown",
   "id": "b59ed150",
   "metadata": {},
   "source": [
    "### Two sample t-test\n",
    "\n",
    "A two sample t-test is applied when we want to compare the means of two independent groups to determine if they are significantly different from each other. It is used to test if the observed differences in means between the groups are likely to occur due to random chance or if they are statistically significant.\n",
    "\n",
    "**Assumptions**\n",
    "- Observations in each sample are independent and identically distributed\n",
    "- Observations in each sample are normally distributed\n",
    "- Observations in each sample have the same variance\n",
    "\n",
    "**Interpretation**\n",
    "- $H_0:$ the means of the samples are equal\n",
    "- $H_1:$ the means of the samples are unequal\n",
    "\n",
    "**Note**\n",
    "\n",
    "When applying a two-sample t-test, it's important to ensure that the assumptions of normality and equal variance are met. If these assumptions are violated, alternative tests like the Mann-Whitney U test or Welch's test (for unequal variances) may be more appropriate."
   ]
  },
  {
   "cell_type": "code",
   "execution_count": 44,
   "id": "fc908f43",
   "metadata": {},
   "outputs": [],
   "source": [
    "def two_sample_ttest(data1, data2, significance_level):\n",
    "    stat, p_value = stats.ttest_ind(data1, data2)\n",
    "    \n",
    "    print('stat=%.3f, p_value=%.3f' % (stat, p_value))\n",
    "    \n",
    "    if p_value < significance_level:\n",
    "        print('Reject H_0: there is a significant difference between the groups.')\n",
    "    else:\n",
    "        print('Accept H_0: there is no significant difference')"
   ]
  },
  {
   "cell_type": "code",
   "execution_count": 45,
   "id": "f7003ba1",
   "metadata": {},
   "outputs": [
    {
     "data": {
      "text/plain": [
       "gender\n",
       "Male      32650\n",
       "Female    16192\n",
       "Name: count, dtype: int64"
      ]
     },
     "execution_count": 45,
     "metadata": {},
     "output_type": "execute_result"
    }
   ],
   "source": [
    "df['gender'].value_counts()"
   ]
  },
  {
   "cell_type": "code",
   "execution_count": 46,
   "id": "f730a9e7",
   "metadata": {},
   "outputs": [
    {
     "name": "stdout",
     "output_type": "stream",
     "text": [
      "stat=1.486, p_value=0.139\n",
      "Accept H_0: there is no significant difference\n"
     ]
    }
   ],
   "source": [
    "#let's compare the mean age for both the male and females to see if there is a significant difference\n",
    "\n",
    "male_age = df[df['gender']=='Male']['age'].sample(n=100)\n",
    "female_age = df[df['gender']=='Female']['age'].sample(n=100)\n",
    "\n",
    "two_sample_ttest(male_age, female_age, significance_level=0.05)\n"
   ]
  },
  {
   "cell_type": "markdown",
   "id": "5836cbac",
   "metadata": {},
   "source": [
    "#### Marital status vs Age"
   ]
  },
  {
   "cell_type": "code",
   "execution_count": 47,
   "id": "b49b4463",
   "metadata": {},
   "outputs": [
    {
     "data": {
      "text/plain": [
       "marital_status\n",
       "Married-civ-spouse       22379\n",
       "Never-married            16117\n",
       "Divorced                  6633\n",
       "Separated                 1530\n",
       "Widowed                   1518\n",
       "Married-spouse-absent      628\n",
       "Married-AF-spouse           37\n",
       "Name: count, dtype: int64"
      ]
     },
     "execution_count": 47,
     "metadata": {},
     "output_type": "execute_result"
    }
   ],
   "source": [
    "df['marital_status'].value_counts()"
   ]
  },
  {
   "cell_type": "code",
   "execution_count": 48,
   "id": "4acd6b8b",
   "metadata": {},
   "outputs": [
    {
     "data": {
      "text/plain": [
       "<AxesSubplot:xlabel='age', ylabel='marital_status'>"
      ]
     },
     "execution_count": 48,
     "metadata": {},
     "output_type": "execute_result"
    },
    {
     "data": {
      "image/png": "[encoded data removed]",
      "text/plain": [
       "<Figure size 640x480 with 1 Axes>"
      ]
     },
     "metadata": {},
     "output_type": "display_data"
    }
   ],
   "source": [
    "sns.boxplot(y=df['marital_status'], x=df['age'])"
   ]
  },
  {
   "cell_type": "markdown",
   "id": "22602752",
   "metadata": {},
   "source": [
    "### Analysis of Variance test (ANOVA)\n",
    "\n",
    "This is a statistical technique used to compare means between two or more groups. It is used to determine whether there are significant differences among the group means. It is particularly useful when you have more than two groups and you want to test if there are any differences in means across all groups\n",
    "\n",
    "Both the two sample t-test and ANOVA are tests used to comapre means of different groups. Use 2 sample t-test when you have exactly two groups to compare. Use ANOVA when you have more than two groups and want to determine if there is a significant difference in means aming any of the groups.\n",
    "\n",
    "**Types of ANOVA**\n",
    "1. One-way ANOVA: compares means across three or more groups when you have one independent variable\n",
    "\n",
    "2. Two-way ANOVA: examines the effects of 2 independent variables on a dependent variable. It allows you to assess oth main effects and interaction effects\n",
    "\n",
    "\n",
    "**Assumptions**\n",
    "- Observations in each sample are independent and identically distributed\n",
    "- Observations in each sample are normally distributed\n",
    "- Observations in each sample have the same variance\n",
    "\n",
    "**Interpretation**\n",
    "- $H_0:$ the means of the samples are equal\n",
    "- $H_1:$ one or more of the means of the samples are unequal\n",
    "\n",
    "**Note**\n",
    "\n",
    "ANOVA provides information about the group differences, but it doesn't tell you which specific groups are different. Also ensure that your data meets the assumptions of ANOVA (normality, homogeneity of variance) for accurate interpretation\n"
   ]
  },
  {
   "cell_type": "code",
   "execution_count": 49,
   "id": "eb918e72",
   "metadata": {},
   "outputs": [],
   "source": [
    "def one_way_anova(all_groups, significance_level):\n",
    "    stat, p_val = stats.f_oneway(*all_groups)\n",
    "    \n",
    "    print('stat=%.3f, p_val=%.3f' % (stat, p_val))\n",
    "    \n",
    "    if p_val < significance_level:\n",
    "        print('Reject H_0: there is a significant difference between groups')\n",
    "    else:\n",
    "        print('Accept H_0: there is no significant difference')"
   ]
  },
  {
   "cell_type": "code",
   "execution_count": 50,
   "id": "dbcad985",
   "metadata": {},
   "outputs": [
    {
     "name": "stdout",
     "output_type": "stream",
     "text": [
      "stat=721.035, p_val=0.000\n",
      "Reject H_0: there is a significant difference between groups\n"
     ]
    }
   ],
   "source": [
    "divorced_age = df[df['marital_status']=='Divorced']['age'].sample(n=300)\n",
    "never_married_age = df[df['marital_status']=='Never-married']['age'].sample(n=300)\n",
    "widowed_age = df[df['marital_status']=='Widowed']['age'].sample(n=300)\n",
    "\n",
    "all_groups = [divorced_age, never_married_age, widowed_age]\n",
    "one_way_anova(all_groups, significance_level=0.05)"
   ]
  },
  {
   "cell_type": "markdown",
   "id": "67793a9f",
   "metadata": {},
   "source": [
    "## Non-parametric statistics\n",
    "\n",
    "They do not make assumptions about the underlying distribution of the data. They are used when the data may not meet the assumptions of the parametric tests. Examples include:\n",
    "\n",
    "- Spearman's rank correlation (alternative for pearson test)\n",
    "- Mann-Whitney U test(Wilcoxon Rank-Sum test) - alternative for 2-sample t-test\n",
    "- Kruskal-Wallis test - alternative for one way ANOVA test\n",
    "\n",
    "The Mann-Whitney U test and the Kruskal-Wallis test are used to assess whether there are differences between independent groups. They are applicable when the assumptions of parametric tests are not met such as when the data is not normally distributed.\n",
    "\n",
    "\n",
    "### Spearman's rank correlation\n",
    "\n",
    "Tests whether two samples have a monotonic relationship\n",
    "\n",
    "**Assumptions**\n",
    "- Observations in each sample are independent and identically distributed\n",
    "- Observations in each sample can be ranked\n",
    "\n",
    "**Interpretation**\n",
    "- $H_0:$ the two samples are independent\n",
    "- $H_1:$ there is a dependency between the samples\n",
    "\n",
    "\n",
    "### Mann-Whitney U test\n",
    "\n",
    "It is used to determine whether there is a difference in distribution between two independent groups. It is suitable for ordinal and continuous data.\n",
    "\n",
    "- $H_0:$ there is no difference between the distributions of the two groups\n",
    "\n",
    "\n",
    "### Kruskal-Wallis test\n",
    "\n",
    "An extension of Mann-Whitney U test. It is used when there are more than two independent groups. It assesses whether there are any statistically significant differences between the medians of the groups.\n",
    "\n",
    "- $H_0:$ there is no difference in distribution among the groups.\n",
    "\n",
    "\n",
    "These tests are robust to deviations from normality and are often used when analysing data with unknown or non-normal distributions. Remember to check the assumptions and requirements of each test before applying them to your data."
   ]
  },
  {
   "cell_type": "code",
   "execution_count": 51,
   "id": "ffcc5e98",
   "metadata": {},
   "outputs": [],
   "source": [
    "#spearman implementation\n",
    "def spearman(data1, data2, significance_level):\n",
    "    stat, p_value = stats.spearmanr(data1, data2)\n",
    "    \n",
    "    print('stat=%.3f, p_value=%.3f' % (stat, p_value))\n",
    "    \n",
    "    if p_value < significance_level:\n",
    "        print('Reject H_0: probably a monotonic relationship exists')\n",
    "    else:\n",
    "        print('Accept H_0: probably a monotonic relationship does not exist')"
   ]
  },
  {
   "cell_type": "code",
   "execution_count": 55,
   "id": "1e58ff65",
   "metadata": {},
   "outputs": [
    {
     "name": "stdout",
     "output_type": "stream",
     "text": [
      "stat=0.058, p_value=0.000\n",
      "Reject H_0: probably a monotonic relationship exists\n"
     ]
    }
   ],
   "source": [
    "spearman(df['age'], df['capital_loss'], significance_level=0.05)"
   ]
  },
  {
   "cell_type": "code",
   "execution_count": 60,
   "id": "399cd3ad",
   "metadata": {},
   "outputs": [],
   "source": [
    "#mann whithney u test implementation\n",
    "def mann_whitney_u(data1, data2, significance_level):\n",
    "    stat, p_value = stats.mannwhitneyu(data1, data2)\n",
    "    \n",
    "    print('stat=%.3f, p_value=%.3f' % (stat, p_value))\n",
    "    \n",
    "    if p_value < significance_level:\n",
    "        print('Reject H_0: there is a difference in the distributions')\n",
    "    else:\n",
    "        print('Accept H_0: there is no difference in distribution among the groups.')"
   ]
  },
  {
   "cell_type": "code",
   "execution_count": 62,
   "id": "2ade4ff3",
   "metadata": {},
   "outputs": [
    {
     "name": "stdout",
     "output_type": "stream",
     "text": [
      "stat=141236.000, p_value=0.000\n",
      "Reject H_0: there is a difference in the distributions\n"
     ]
    }
   ],
   "source": [
    "male_age = df[df['gender']=='Male']['age'].sample(n=500)\n",
    "female_age = df[df['gender']=='Female']['age'].sample(n=500)\n",
    "\n",
    "mann_whitney_u(male_age, female_age, significance_level=0.05)"
   ]
  },
  {
   "cell_type": "code",
   "execution_count": 58,
   "id": "610ce38e",
   "metadata": {},
   "outputs": [],
   "source": [
    "#kruskal test implementation\n",
    "def kruskal(all_groups, significance_level):\n",
    "    stat, p_value = stats.kruskal(*all_groups)\n",
    "    \n",
    "    print('stat=%.3f, p_value=%.3f' % (stat, p_value))\n",
    "    \n",
    "    if p_value < significance_level:\n",
    "        print('Reject H_0: there is a significant difference between the groups')\n",
    "    else:\n",
    "        print('Accept H_0: there is no significant difference')\n",
    "        "
   ]
  },
  {
   "cell_type": "code",
   "execution_count": 59,
   "id": "a6366173",
   "metadata": {},
   "outputs": [
    {
     "name": "stdout",
     "output_type": "stream",
     "text": [
      "stat=563.053, p_value=0.000\n",
      "Reject H_0: there is a significant difference between the groups\n"
     ]
    }
   ],
   "source": [
    "kruskal(all_groups, significance_level=0.05)"
   ]
  },
  {
   "cell_type": "markdown",
   "id": "acfb4a63",
   "metadata": {},
   "source": [
    "## Conclusion\n",
    "\n",
    "| Application | Statistical Test | Type | Purpose | \n",
    "|:---|:---|:---|:---|\n",
    "| **UNIVARIATE** - Discrete Data | Chi-Square Test for Goodness-of-Fit | `Parametric` | Tests whether the observed frequencies of categorical data match the expected frequencies according to a specified distribution. | \n",
    "| Univariate - Continuous Data | Kolmogorov-Smirnov Test | `Parametric` | Tests whether a sample comes from a specific distribution (not limited to normal distribution). It can be used to compare any two continuous distributions. | \n",
    "| Univariate - Continuous Data | One-Sample t-test | `Parametric` | Tests whether the mean of a single sample is significantly different from a known or hypothesized population mean. | \n",
    "| **BIVARIATE** - Continuous vs Continuous Data | Pearson Test | `Parametric` | Tests whether two samples have a linear relationship. | \n",
    "| Bivariate - Categorical vs Categorical Data | Chi-Square Test of Independence | `Parametric` | Tests whether there is a significant association between two categorical variables in a contingency table. |\n",
    "| Bivariate - Categorical vs Numerical Data | Two-Sample t-test | `Parametric` | Compares the means of two related samples (e.g., before and after treatment) to determine if there is a significant difference. |\n",
    "| Bivariate - Categorical vs Numerical Data | One-Way ANOVA | `Parametric` | Compares the mean of three or more samples. It helps determine if there is a significant difference between the samples. |\n",
    "|                                           |               |                  |                    |\n",
    "| Bivariate - Continuous vs Continuous Data | Spearman Test | `Non-Parametric` | Tests whether two samples have a monotonic relationship. | \n",
    "| Bivariate - Categorical vs Numerical Data | Mann-Whitney U Test | `Non-Parametric` | Compares the means of two related samples (e.g., before and after treatment) to determine if there is a significant difference. |\n",
    "| Bivariate - Categorical vs Numerical Data | Kruskal-Wallis Test | `Non-Parametric` | Compares the mean of three or more samples. It helps determine if there is a significant difference between the samples. |"
   ]
  },
  {
   "cell_type": "code",
   "execution_count": null,
   "id": "78500736",
   "metadata": {},
   "outputs": [],
   "source": []
  }
 ],
 "metadata": {
  "kernelspec": {
   "display_name": "Python 3 (ipykernel)",
   "language": "python",
   "name": "python3"
  },
  "language_info": {
   "codemirror_mode": {
    "name": "ipython",
    "version": 3
   },
   "file_extension": ".py",
   "mimetype": "text/x-python",
   "name": "python",
   "nbconvert_exporter": "python",
   "pygments_lexer": "ipython3",
   "version": "3.9.13"
  }
 },
 "nbformat": 4,
 "nbformat_minor": 5
}
