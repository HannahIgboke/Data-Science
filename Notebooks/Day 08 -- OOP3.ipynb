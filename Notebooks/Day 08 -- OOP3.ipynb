{
 "cells": [
  {
   "cell_type": "markdown",
   "id": "4d3d020a",
   "metadata": {},
   "source": [
    "# Advanced OOP\n",
    "\n",
    "Code reusability is a big advantage in OOP which is made possible due to the relationships between the classes and the objects. OOP supports 2 types of relationships\n",
    "\n"
   ]
  },
  {
   "cell_type": "markdown",
   "id": "06145458",
   "metadata": {},
   "source": [
    "## 1. Inheritance\n",
    "Inheritance in OOP represents an `IS-A` relationship. This means that the child class is a type of parent class. For example, a bicycle `is a` vehicle.\n",
    "\n",
    "\n",
    "- Generalization\n",
    "\n",
    "Called parent-child relationship like we saw in the various types of inheritance. It describes all traits a subclass has with its parents or ancestor classes, hence subclasses are considered to have an `IS-A` relationship with their parents.\n",
    "\n",
    "\n",
    "- Realization\n",
    "\n",
    "Here, it describes all the customization of a subclass, i.e, what attributes make it differ from its ancestor classes.\n"
   ]
  },
  {
   "cell_type": "code",
   "execution_count": 1,
   "id": "b0498d5e",
   "metadata": {},
   "outputs": [],
   "source": [
    "class Parent:\n",
    "    def __init__(self, name, message):\n",
    "        self.name = name\n",
    "        self.message = message\n",
    "    def display(self):\n",
    "        print(f'Message: {self.message } \\nby {self.name}')\n",
    "        \n",
    "class Child(Parent):\n",
    "    def __init__(self, name, message, age):\n",
    "        super().__init__(name, message)\n",
    "        self.age = age\n",
    "    def display(self):\n",
    "        super().display()\n",
    "        print(f'Age: {self.age}')"
   ]
  },
  {
   "cell_type": "markdown",
   "id": "47bb21c9",
   "metadata": {},
   "source": [
    "## 2. Association\n",
    "\n",
    "Association relationship is dynamic (run time) binding while inheritance is a static (compile time) binding. \n",
    "\n",
    "- If you feel there is a relationship between two entities, Apple is a fruit, Dog is an animal, etc -- Use inheritance\n",
    "\n",
    "- If yoou want to reuse the code and you know that the two are not of the same kind and just merely related -- Use association, example, An oven is not a kitchen, rather a kitchen `HAS-A` oven."
   ]
  },
  {
   "cell_type": "markdown",
   "id": "e19ac5d8",
   "metadata": {},
   "source": [
    "### 2a) Aggregation\n",
    "\n",
    "Here, we are creating instances which have references to other objects.\n",
    "\n",
    "We have a container object with several references to other objects. The object's life cycles are not bound to each other in aggregation. Therefore, the referring object may get destroyed (deleted) before/after the referenced object.\n",
    "\n",
    "It is a weaker association compared to composition and promotes loose coupling between objects making your code more flexible and easier to maintain."
   ]
  },
  {
   "cell_type": "code",
   "execution_count": 11,
   "id": "ba3a7640",
   "metadata": {},
   "outputs": [],
   "source": [
    "class Department:\n",
    "    def __init__(self, name):\n",
    "        self.name=name\n",
    "\n",
    "class Student ():\n",
    "    def __init__(self, student_name, department):\n",
    "        self.student_name = student_name\n",
    "        self.department = department  #references to the department object\n"
   ]
  },
  {
   "cell_type": "markdown",
   "id": "df8ab144",
   "metadata": {},
   "source": [
    "Here, a student has a department they belong to. The student object can exist independently of the department and vice versa.\n",
    "\n",
    "The student holds a reference to the department object, allowing it to access the department's information. \n",
    "\n",
    "Destroying the student object won't destroy the department, and vice versa."
   ]
  },
  {
   "cell_type": "code",
   "execution_count": 15,
   "id": "ad237e64",
   "metadata": {},
   "outputs": [
    {
     "name": "stdout",
     "output_type": "stream",
     "text": [
      "Hannah Igboke graduated from Chemical engineering department.\n"
     ]
    }
   ],
   "source": [
    "#creating department objects\n",
    "\n",
    "che = Department('Chemical engineering')\n",
    "\n",
    "#creating student object with department references\n",
    "Hannah = Student('Hannah Igboke', che)\n",
    "\n",
    "#access departments information through student objects\n",
    "print(Hannah.student_name, 'graduated from', Hannah.department.name, 'department.')"
   ]
  },
  {
   "cell_type": "markdown",
   "id": "e070b287",
   "metadata": {},
   "source": [
    "### 2b) Composition\n",
    "\n",
    "A form of association that occurs when an object's life cycle is tightly bound to another object's life. When the main object dies (deleted), all the objects that are associated with that object also dies. This means that the referenced object is solely contained by the referring object. "
   ]
  },
  {
   "cell_type": "code",
   "execution_count": 17,
   "id": "f6ad05d5",
   "metadata": {},
   "outputs": [],
   "source": [
    "class Person:\n",
    "    def __init__(self, name):\n",
    "        self.name = name\n",
    "        \n",
    "    class Head:\n",
    "        def __init__(self):\n",
    "            self.message = 'This is the head'\n",
    "            \n",
    "#Here, a person has a head, if the person dies, so does the head."
   ]
  },
  {
   "cell_type": "markdown",
   "id": "9613b5c9",
   "metadata": {},
   "source": [
    "That's it for OOP!\n",
    "\n",
    "I have also gotten to understand the difference between modules, packages and libraries.\n",
    "\n",
    "1. Module\n",
    "\n",
    "This is a collection of functions. It is simply a python file containing several function definitions. An example of this is the `math` module. The functions contained are geared towards solving one kind of problem, in this case, mathematics related problems.\n",
    "\n",
    "2. Package\n",
    "\n",
    "A package is a collection of different modules, each to tackle specific tasks. For example in a game development project, you can have a module that handles sound, another for movement and so on.\n",
    "\n",
    "3. Libraries\n",
    "\n",
    "It is a collection of packages. It is similar to packages."
   ]
  },
  {
   "cell_type": "code",
   "execution_count": null,
   "id": "f28b2543",
   "metadata": {},
   "outputs": [],
   "source": []
  }
 ],
 "metadata": {
  "kernelspec": {
   "display_name": "Python 3 (ipykernel)",
   "language": "python",
   "name": "python3"
  },
  "language_info": {
   "codemirror_mode": {
    "name": "ipython",
    "version": 3
   },
   "file_extension": ".py",
   "mimetype": "text/x-python",
   "name": "python",
   "nbconvert_exporter": "python",
   "pygments_lexer": "ipython3",
   "version": "3.9.13"
  }
 },
 "nbformat": 4,
 "nbformat_minor": 5
}
