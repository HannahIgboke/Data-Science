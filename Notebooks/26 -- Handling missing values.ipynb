{
 "cells": [
  {
   "cell_type": "markdown",
   "id": "c2a73d35",
   "metadata": {},
   "source": [
    "# Missing values\n"
   ]
  },
  {
   "cell_type": "markdown",
   "id": "28abd2ab",
   "metadata": {},
   "source": [
    "## About missing values\n",
    "`NaN` is usually used as the placeholder for missing values. However, this enforces the data type to be a float and prevents you from converting to an integer if need be. The parameter `missing_values` in sklearn.impute algorithms allows us to specify other placeholders such as integers, e.g, -1.\n",
    "\n",
    "\n",
    "## How to identify missing values\n",
    "\n",
    "`df.isnull()`: this returns True if values are missing.\n",
    "    \n",
    "## How to deal with missing values\n",
    "\n",
    "1. Drop the missing values\n",
    "- By dropping the entire row\n",
    "\n",
    "- By dropping the entire column\n",
    "\n",
    "2. Replace the missing value - imputation\n",
    "\n",
    "- Use business understanding\n",
    "- Statistical methods: imputation using mean, median or mode (most_frequent)\n",
    "\n",
    "`df['col_name'].fillna(df.col_name.mean(), inplace=True)`\n",
    "\n",
    "- Imputation algorithms(sklearn.impute)\n",
    "    - SimpleImputer\n",
    "    - IterativeImputer\n",
    "    - KNNImputer"
   ]
  },
  {
   "cell_type": "code",
   "execution_count": 1,
   "id": "f98761d6",
   "metadata": {},
   "outputs": [
    {
     "data": {
      "text/html": [
       "<div>\n",
       "<style scoped>\n",
       "    .dataframe tbody tr th:only-of-type {\n",
       "        vertical-align: middle;\n",
       "    }\n",
       "\n",
       "    .dataframe tbody tr th {\n",
       "        vertical-align: top;\n",
       "    }\n",
       "\n",
       "    .dataframe thead th {\n",
       "        text-align: right;\n",
       "    }\n",
       "</style>\n",
       "<table border=\"1\" class=\"dataframe\">\n",
       "  <thead>\n",
       "    <tr style=\"text-align: right;\">\n",
       "      <th></th>\n",
       "      <th>FirstName</th>\n",
       "      <th>LastName</th>\n",
       "      <th>Age</th>\n",
       "      <th>Sex</th>\n",
       "      <th>preTestScore</th>\n",
       "      <th>postTestScore</th>\n",
       "      <th>location</th>\n",
       "    </tr>\n",
       "  </thead>\n",
       "  <tbody>\n",
       "    <tr>\n",
       "      <th>0</th>\n",
       "      <td>abc</td>\n",
       "      <td>mno</td>\n",
       "      <td>12.0</td>\n",
       "      <td>m</td>\n",
       "      <td>90.0</td>\n",
       "      <td>65.0</td>\n",
       "      <td>NaN</td>\n",
       "    </tr>\n",
       "    <tr>\n",
       "      <th>1</th>\n",
       "      <td>NaN</td>\n",
       "      <td>NaN</td>\n",
       "      <td>NaN</td>\n",
       "      <td>NaN</td>\n",
       "      <td>90.0</td>\n",
       "      <td>?</td>\n",
       "      <td>NaN</td>\n",
       "    </tr>\n",
       "    <tr>\n",
       "      <th>2</th>\n",
       "      <td>ghi</td>\n",
       "      <td>pqr</td>\n",
       "      <td>12.0</td>\n",
       "      <td>f</td>\n",
       "      <td>-</td>\n",
       "      <td>65.0</td>\n",
       "      <td>?</td>\n",
       "    </tr>\n",
       "    <tr>\n",
       "      <th>3</th>\n",
       "      <td>jkl</td>\n",
       "      <td>stu</td>\n",
       "      <td>12.0</td>\n",
       "      <td>f</td>\n",
       "      <td>90.0</td>\n",
       "      <td>62.0</td>\n",
       "      <td>NaN</td>\n",
       "    </tr>\n",
       "    <tr>\n",
       "      <th>4</th>\n",
       "      <td>mno</td>\n",
       "      <td>vwx</td>\n",
       "      <td>12.0</td>\n",
       "      <td>m</td>\n",
       "      <td>89.0</td>\n",
       "      <td>63.0</td>\n",
       "      <td>NaN</td>\n",
       "    </tr>\n",
       "  </tbody>\n",
       "</table>\n",
       "</div>"
      ],
      "text/plain": [
       "  FirstName LastName   Age  Sex preTestScore postTestScore location\n",
       "0       abc      mno  12.0    m         90.0          65.0      NaN\n",
       "1       NaN      NaN   NaN  NaN         90.0             ?      NaN\n",
       "2       ghi      pqr  12.0    f            -          65.0        ?\n",
       "3       jkl      stu  12.0    f         90.0          62.0      NaN\n",
       "4       mno      vwx  12.0    m         89.0          63.0      NaN"
      ]
     },
     "execution_count": 1,
     "metadata": {},
     "output_type": "execute_result"
    }
   ],
   "source": [
    "import pandas as pd\n",
    "import numpy as np\n",
    "df = pd.read_csv('Data/data.csv')\n",
    "df"
   ]
  },
  {
   "cell_type": "code",
   "execution_count": 3,
   "id": "5009915e",
   "metadata": {},
   "outputs": [
    {
     "name": "stdout",
     "output_type": "stream",
     "text": [
      "<class 'pandas.core.frame.DataFrame'>\n",
      "RangeIndex: 5 entries, 0 to 4\n",
      "Data columns (total 7 columns):\n",
      " #   Column         Non-Null Count  Dtype  \n",
      "---  ------         --------------  -----  \n",
      " 0   FirstName      4 non-null      object \n",
      " 1   LastName       4 non-null      object \n",
      " 2   Age            4 non-null      float64\n",
      " 3   Sex            4 non-null      object \n",
      " 4   preTestScore   5 non-null      object \n",
      " 5   postTestScore  5 non-null      object \n",
      " 6   location       1 non-null      object \n",
      "dtypes: float64(1), object(6)\n",
      "memory usage: 408.0+ bytes\n"
     ]
    }
   ],
   "source": [
    "df.info()"
   ]
  },
  {
   "cell_type": "code",
   "execution_count": 4,
   "id": "4a7a8aa4",
   "metadata": {},
   "outputs": [
    {
     "data": {
      "text/html": [
       "<div>\n",
       "<style scoped>\n",
       "    .dataframe tbody tr th:only-of-type {\n",
       "        vertical-align: middle;\n",
       "    }\n",
       "\n",
       "    .dataframe tbody tr th {\n",
       "        vertical-align: top;\n",
       "    }\n",
       "\n",
       "    .dataframe thead th {\n",
       "        text-align: right;\n",
       "    }\n",
       "</style>\n",
       "<table border=\"1\" class=\"dataframe\">\n",
       "  <thead>\n",
       "    <tr style=\"text-align: right;\">\n",
       "      <th></th>\n",
       "      <th>FirstName</th>\n",
       "      <th>LastName</th>\n",
       "      <th>Age</th>\n",
       "      <th>Sex</th>\n",
       "      <th>preTestScore</th>\n",
       "      <th>postTestScore</th>\n",
       "      <th>location</th>\n",
       "    </tr>\n",
       "  </thead>\n",
       "  <tbody>\n",
       "    <tr>\n",
       "      <th>0</th>\n",
       "      <td>abc</td>\n",
       "      <td>mno</td>\n",
       "      <td>12.0</td>\n",
       "      <td>m</td>\n",
       "      <td>90.0</td>\n",
       "      <td>65.0</td>\n",
       "      <td>NaN</td>\n",
       "    </tr>\n",
       "    <tr>\n",
       "      <th>1</th>\n",
       "      <td>NaN</td>\n",
       "      <td>NaN</td>\n",
       "      <td>NaN</td>\n",
       "      <td>NaN</td>\n",
       "      <td>90.0</td>\n",
       "      <td>NaN</td>\n",
       "      <td>NaN</td>\n",
       "    </tr>\n",
       "    <tr>\n",
       "      <th>2</th>\n",
       "      <td>ghi</td>\n",
       "      <td>pqr</td>\n",
       "      <td>12.0</td>\n",
       "      <td>f</td>\n",
       "      <td>NaN</td>\n",
       "      <td>65.0</td>\n",
       "      <td>NaN</td>\n",
       "    </tr>\n",
       "    <tr>\n",
       "      <th>3</th>\n",
       "      <td>jkl</td>\n",
       "      <td>stu</td>\n",
       "      <td>12.0</td>\n",
       "      <td>f</td>\n",
       "      <td>90.0</td>\n",
       "      <td>62.0</td>\n",
       "      <td>NaN</td>\n",
       "    </tr>\n",
       "    <tr>\n",
       "      <th>4</th>\n",
       "      <td>mno</td>\n",
       "      <td>vwx</td>\n",
       "      <td>12.0</td>\n",
       "      <td>m</td>\n",
       "      <td>89.0</td>\n",
       "      <td>63.0</td>\n",
       "      <td>NaN</td>\n",
       "    </tr>\n",
       "  </tbody>\n",
       "</table>\n",
       "</div>"
      ],
      "text/plain": [
       "  FirstName LastName   Age  Sex  preTestScore  postTestScore  location\n",
       "0       abc      mno  12.0    m          90.0           65.0       NaN\n",
       "1       NaN      NaN   NaN  NaN          90.0            NaN       NaN\n",
       "2       ghi      pqr  12.0    f           NaN           65.0       NaN\n",
       "3       jkl      stu  12.0    f          90.0           62.0       NaN\n",
       "4       mno      vwx  12.0    m          89.0           63.0       NaN"
      ]
     },
     "execution_count": 4,
     "metadata": {},
     "output_type": "execute_result"
    }
   ],
   "source": [
    "#the missing values are represented in more than one form\n",
    "missing_vals = ['n/a', '-', '?']\n",
    "df = pd.read_csv('Data/data.csv', na_values=missing_vals) \n",
    "df"
   ]
  },
  {
   "cell_type": "markdown",
   "id": "3a20c51c",
   "metadata": {},
   "source": [
    "All representations of null values have been formatted to be represented as NaN."
   ]
  },
  {
   "cell_type": "code",
   "execution_count": 5,
   "id": "ea61de7e",
   "metadata": {},
   "outputs": [
    {
     "name": "stdout",
     "output_type": "stream",
     "text": [
      "<class 'pandas.core.frame.DataFrame'>\n",
      "RangeIndex: 5 entries, 0 to 4\n",
      "Data columns (total 7 columns):\n",
      " #   Column         Non-Null Count  Dtype  \n",
      "---  ------         --------------  -----  \n",
      " 0   FirstName      4 non-null      object \n",
      " 1   LastName       4 non-null      object \n",
      " 2   Age            4 non-null      float64\n",
      " 3   Sex            4 non-null      object \n",
      " 4   preTestScore   4 non-null      float64\n",
      " 5   postTestScore  4 non-null      float64\n",
      " 6   location       0 non-null      float64\n",
      "dtypes: float64(4), object(3)\n",
      "memory usage: 408.0+ bytes\n"
     ]
    }
   ],
   "source": [
    "df.info()"
   ]
  },
  {
   "cell_type": "markdown",
   "id": "2e2ca9d4",
   "metadata": {},
   "source": [
    "## How to identify missing values"
   ]
  },
  {
   "cell_type": "code",
   "execution_count": 6,
   "id": "4d71b5f1",
   "metadata": {},
   "outputs": [
    {
     "data": {
      "text/html": [
       "<div>\n",
       "<style scoped>\n",
       "    .dataframe tbody tr th:only-of-type {\n",
       "        vertical-align: middle;\n",
       "    }\n",
       "\n",
       "    .dataframe tbody tr th {\n",
       "        vertical-align: top;\n",
       "    }\n",
       "\n",
       "    .dataframe thead th {\n",
       "        text-align: right;\n",
       "    }\n",
       "</style>\n",
       "<table border=\"1\" class=\"dataframe\">\n",
       "  <thead>\n",
       "    <tr style=\"text-align: right;\">\n",
       "      <th></th>\n",
       "      <th>FirstName</th>\n",
       "      <th>LastName</th>\n",
       "      <th>Age</th>\n",
       "      <th>Sex</th>\n",
       "      <th>preTestScore</th>\n",
       "      <th>postTestScore</th>\n",
       "      <th>location</th>\n",
       "    </tr>\n",
       "  </thead>\n",
       "  <tbody>\n",
       "    <tr>\n",
       "      <th>0</th>\n",
       "      <td>False</td>\n",
       "      <td>False</td>\n",
       "      <td>False</td>\n",
       "      <td>False</td>\n",
       "      <td>False</td>\n",
       "      <td>False</td>\n",
       "      <td>True</td>\n",
       "    </tr>\n",
       "    <tr>\n",
       "      <th>1</th>\n",
       "      <td>True</td>\n",
       "      <td>True</td>\n",
       "      <td>True</td>\n",
       "      <td>True</td>\n",
       "      <td>False</td>\n",
       "      <td>True</td>\n",
       "      <td>True</td>\n",
       "    </tr>\n",
       "    <tr>\n",
       "      <th>2</th>\n",
       "      <td>False</td>\n",
       "      <td>False</td>\n",
       "      <td>False</td>\n",
       "      <td>False</td>\n",
       "      <td>True</td>\n",
       "      <td>False</td>\n",
       "      <td>True</td>\n",
       "    </tr>\n",
       "    <tr>\n",
       "      <th>3</th>\n",
       "      <td>False</td>\n",
       "      <td>False</td>\n",
       "      <td>False</td>\n",
       "      <td>False</td>\n",
       "      <td>False</td>\n",
       "      <td>False</td>\n",
       "      <td>True</td>\n",
       "    </tr>\n",
       "    <tr>\n",
       "      <th>4</th>\n",
       "      <td>False</td>\n",
       "      <td>False</td>\n",
       "      <td>False</td>\n",
       "      <td>False</td>\n",
       "      <td>False</td>\n",
       "      <td>False</td>\n",
       "      <td>True</td>\n",
       "    </tr>\n",
       "  </tbody>\n",
       "</table>\n",
       "</div>"
      ],
      "text/plain": [
       "   FirstName  LastName    Age    Sex  preTestScore  postTestScore  location\n",
       "0      False     False  False  False         False          False      True\n",
       "1       True      True   True   True         False           True      True\n",
       "2      False     False  False  False          True          False      True\n",
       "3      False     False  False  False         False          False      True\n",
       "4      False     False  False  False         False          False      True"
      ]
     },
     "execution_count": 6,
     "metadata": {},
     "output_type": "execute_result"
    }
   ],
   "source": [
    "df.isnull()"
   ]
  },
  {
   "cell_type": "code",
   "execution_count": 7,
   "id": "0276bd87",
   "metadata": {},
   "outputs": [
    {
     "data": {
      "text/plain": [
       "FirstName        1\n",
       "LastName         1\n",
       "Age              1\n",
       "Sex              1\n",
       "preTestScore     1\n",
       "postTestScore    1\n",
       "location         5\n",
       "dtype: int64"
      ]
     },
     "execution_count": 7,
     "metadata": {},
     "output_type": "execute_result"
    }
   ],
   "source": [
    "#to identify the number of missing values in each column\n",
    "df.isnull().sum()"
   ]
  },
  {
   "cell_type": "code",
   "execution_count": 8,
   "id": "22d120e8",
   "metadata": {},
   "outputs": [
    {
     "data": {
      "text/plain": [
       "FirstName        True\n",
       "LastName         True\n",
       "Age              True\n",
       "Sex              True\n",
       "preTestScore     True\n",
       "postTestScore    True\n",
       "location         True\n",
       "dtype: bool"
      ]
     },
     "execution_count": 8,
     "metadata": {},
     "output_type": "execute_result"
    }
   ],
   "source": [
    "#to identify columns with at least one missing values\n",
    "df.isnull().any(axis=0)"
   ]
  },
  {
   "cell_type": "code",
   "execution_count": 9,
   "id": "ace73694",
   "metadata": {},
   "outputs": [
    {
     "data": {
      "text/plain": [
       "FirstName        False\n",
       "LastName         False\n",
       "Age              False\n",
       "Sex              False\n",
       "preTestScore     False\n",
       "postTestScore    False\n",
       "location          True\n",
       "dtype: bool"
      ]
     },
     "execution_count": 9,
     "metadata": {},
     "output_type": "execute_result"
    }
   ],
   "source": [
    "#to identfy columns that have missing values throughout the column\n",
    "df.isnull().all(axis=0)"
   ]
  },
  {
   "cell_type": "code",
   "execution_count": 10,
   "id": "489d5522",
   "metadata": {},
   "outputs": [
    {
     "data": {
      "text/plain": [
       "1"
      ]
     },
     "execution_count": 10,
     "metadata": {},
     "output_type": "execute_result"
    }
   ],
   "source": [
    "#number of columns with all missing values\n",
    "df.isnull().all(axis=0).sum()"
   ]
  },
  {
   "cell_type": "code",
   "execution_count": 11,
   "id": "06416b93",
   "metadata": {},
   "outputs": [
    {
     "data": {
      "text/plain": [
       "0    True\n",
       "1    True\n",
       "2    True\n",
       "3    True\n",
       "4    True\n",
       "dtype: bool"
      ]
     },
     "execution_count": 11,
     "metadata": {},
     "output_type": "execute_result"
    }
   ],
   "source": [
    "#rows with at least one missing values\n",
    "df.isnull().any(axis=1)"
   ]
  },
  {
   "cell_type": "code",
   "execution_count": 12,
   "id": "31515823",
   "metadata": {},
   "outputs": [
    {
     "data": {
      "text/plain": [
       "0    False\n",
       "1    False\n",
       "2    False\n",
       "3    False\n",
       "4    False\n",
       "dtype: bool"
      ]
     },
     "execution_count": 12,
     "metadata": {},
     "output_type": "execute_result"
    }
   ],
   "source": [
    "#rows with all missing values\n",
    "df.isnull().all(axis=1)"
   ]
  },
  {
   "cell_type": "code",
   "execution_count": 13,
   "id": "d280366e",
   "metadata": {},
   "outputs": [
    {
     "data": {
      "text/plain": [
       "0"
      ]
     },
     "execution_count": 13,
     "metadata": {},
     "output_type": "execute_result"
    }
   ],
   "source": [
    "#number of rows with all missing values\n",
    "df.isnull().all(axis=1).sum()"
   ]
  },
  {
   "cell_type": "markdown",
   "id": "a43c4342",
   "metadata": {},
   "source": [
    "## Missing values treatment in columns\n"
   ]
  },
  {
   "cell_type": "code",
   "execution_count": 15,
   "id": "4ddd33bb",
   "metadata": {},
   "outputs": [
    {
     "data": {
      "text/plain": [
       "FirstName         20.0\n",
       "LastName          20.0\n",
       "Age               20.0\n",
       "Sex               20.0\n",
       "preTestScore      20.0\n",
       "postTestScore     20.0\n",
       "location         100.0\n",
       "dtype: float64"
      ]
     },
     "execution_count": 15,
     "metadata": {},
     "output_type": "execute_result"
    }
   ],
   "source": [
    "#calculating the percent of null values for each column\n",
    "(df.isnull().sum()/len(df.index))*100"
   ]
  },
  {
   "cell_type": "code",
   "execution_count": 20,
   "id": "cad3641f",
   "metadata": {},
   "outputs": [
    {
     "data": {
      "text/html": [
       "<div>\n",
       "<style scoped>\n",
       "    .dataframe tbody tr th:only-of-type {\n",
       "        vertical-align: middle;\n",
       "    }\n",
       "\n",
       "    .dataframe tbody tr th {\n",
       "        vertical-align: top;\n",
       "    }\n",
       "\n",
       "    .dataframe thead th {\n",
       "        text-align: right;\n",
       "    }\n",
       "</style>\n",
       "<table border=\"1\" class=\"dataframe\">\n",
       "  <thead>\n",
       "    <tr style=\"text-align: right;\">\n",
       "      <th></th>\n",
       "      <th>FirstName</th>\n",
       "      <th>LastName</th>\n",
       "      <th>Age</th>\n",
       "      <th>Sex</th>\n",
       "      <th>preTestScore</th>\n",
       "      <th>postTestScore</th>\n",
       "    </tr>\n",
       "  </thead>\n",
       "  <tbody>\n",
       "    <tr>\n",
       "      <th>0</th>\n",
       "      <td>abc</td>\n",
       "      <td>mno</td>\n",
       "      <td>12.0</td>\n",
       "      <td>m</td>\n",
       "      <td>90.0</td>\n",
       "      <td>65.0</td>\n",
       "    </tr>\n",
       "    <tr>\n",
       "      <th>1</th>\n",
       "      <td>NaN</td>\n",
       "      <td>NaN</td>\n",
       "      <td>NaN</td>\n",
       "      <td>NaN</td>\n",
       "      <td>90.0</td>\n",
       "      <td>NaN</td>\n",
       "    </tr>\n",
       "    <tr>\n",
       "      <th>2</th>\n",
       "      <td>ghi</td>\n",
       "      <td>pqr</td>\n",
       "      <td>12.0</td>\n",
       "      <td>f</td>\n",
       "      <td>NaN</td>\n",
       "      <td>65.0</td>\n",
       "    </tr>\n",
       "    <tr>\n",
       "      <th>3</th>\n",
       "      <td>jkl</td>\n",
       "      <td>stu</td>\n",
       "      <td>12.0</td>\n",
       "      <td>f</td>\n",
       "      <td>90.0</td>\n",
       "      <td>62.0</td>\n",
       "    </tr>\n",
       "    <tr>\n",
       "      <th>4</th>\n",
       "      <td>mno</td>\n",
       "      <td>vwx</td>\n",
       "      <td>12.0</td>\n",
       "      <td>m</td>\n",
       "      <td>89.0</td>\n",
       "      <td>63.0</td>\n",
       "    </tr>\n",
       "  </tbody>\n",
       "</table>\n",
       "</div>"
      ],
      "text/plain": [
       "  FirstName LastName   Age  Sex  preTestScore  postTestScore\n",
       "0       abc      mno  12.0    m          90.0           65.0\n",
       "1       NaN      NaN   NaN  NaN          90.0            NaN\n",
       "2       ghi      pqr  12.0    f           NaN           65.0\n",
       "3       jkl      stu  12.0    f          90.0           62.0\n",
       "4       mno      vwx  12.0    m          89.0           63.0"
      ]
     },
     "execution_count": 20,
     "metadata": {},
     "output_type": "execute_result"
    }
   ],
   "source": [
    "#the location has 100%, which means that the entire column is made up of null values\n",
    "#removing the location column\n",
    "\n",
    "df.dropna(axis=1, how='all', inplace=True)\n",
    "df\n",
    "\n",
    "#this removes columns where \"all\" the values are NaN"
   ]
  },
  {
   "cell_type": "markdown",
   "id": "e546c274",
   "metadata": {},
   "source": [
    "## Missing values treatment in rows"
   ]
  },
  {
   "cell_type": "code",
   "execution_count": 21,
   "id": "11ee348c",
   "metadata": {},
   "outputs": [
    {
     "data": {
      "text/html": [
       "<div>\n",
       "<style scoped>\n",
       "    .dataframe tbody tr th:only-of-type {\n",
       "        vertical-align: middle;\n",
       "    }\n",
       "\n",
       "    .dataframe tbody tr th {\n",
       "        vertical-align: top;\n",
       "    }\n",
       "\n",
       "    .dataframe thead th {\n",
       "        text-align: right;\n",
       "    }\n",
       "</style>\n",
       "<table border=\"1\" class=\"dataframe\">\n",
       "  <thead>\n",
       "    <tr style=\"text-align: right;\">\n",
       "      <th></th>\n",
       "      <th>FirstName</th>\n",
       "      <th>LastName</th>\n",
       "      <th>Age</th>\n",
       "      <th>Sex</th>\n",
       "      <th>preTestScore</th>\n",
       "      <th>postTestScore</th>\n",
       "    </tr>\n",
       "  </thead>\n",
       "  <tbody>\n",
       "    <tr>\n",
       "      <th>1</th>\n",
       "      <td>NaN</td>\n",
       "      <td>NaN</td>\n",
       "      <td>NaN</td>\n",
       "      <td>NaN</td>\n",
       "      <td>90.0</td>\n",
       "      <td>NaN</td>\n",
       "    </tr>\n",
       "  </tbody>\n",
       "</table>\n",
       "</div>"
      ],
      "text/plain": [
       "  FirstName LastName  Age  Sex  preTestScore  postTestScore\n",
       "1       NaN      NaN  NaN  NaN          90.0            NaN"
      ]
     },
     "execution_count": 21,
     "metadata": {},
     "output_type": "execute_result"
    }
   ],
   "source": [
    "df[df.isnull().sum(axis=1)>=4]"
   ]
  },
  {
   "cell_type": "code",
   "execution_count": 23,
   "id": "72e0e698",
   "metadata": {},
   "outputs": [
    {
     "data": {
      "text/html": [
       "<div>\n",
       "<style scoped>\n",
       "    .dataframe tbody tr th:only-of-type {\n",
       "        vertical-align: middle;\n",
       "    }\n",
       "\n",
       "    .dataframe tbody tr th {\n",
       "        vertical-align: top;\n",
       "    }\n",
       "\n",
       "    .dataframe thead th {\n",
       "        text-align: right;\n",
       "    }\n",
       "</style>\n",
       "<table border=\"1\" class=\"dataframe\">\n",
       "  <thead>\n",
       "    <tr style=\"text-align: right;\">\n",
       "      <th></th>\n",
       "      <th>FirstName</th>\n",
       "      <th>LastName</th>\n",
       "      <th>Age</th>\n",
       "      <th>Sex</th>\n",
       "      <th>preTestScore</th>\n",
       "      <th>postTestScore</th>\n",
       "    </tr>\n",
       "  </thead>\n",
       "  <tbody>\n",
       "    <tr>\n",
       "      <th>0</th>\n",
       "      <td>abc</td>\n",
       "      <td>mno</td>\n",
       "      <td>12.0</td>\n",
       "      <td>m</td>\n",
       "      <td>90.0</td>\n",
       "      <td>65.0</td>\n",
       "    </tr>\n",
       "    <tr>\n",
       "      <th>2</th>\n",
       "      <td>ghi</td>\n",
       "      <td>pqr</td>\n",
       "      <td>12.0</td>\n",
       "      <td>f</td>\n",
       "      <td>NaN</td>\n",
       "      <td>65.0</td>\n",
       "    </tr>\n",
       "    <tr>\n",
       "      <th>3</th>\n",
       "      <td>jkl</td>\n",
       "      <td>stu</td>\n",
       "      <td>12.0</td>\n",
       "      <td>f</td>\n",
       "      <td>90.0</td>\n",
       "      <td>62.0</td>\n",
       "    </tr>\n",
       "    <tr>\n",
       "      <th>4</th>\n",
       "      <td>mno</td>\n",
       "      <td>vwx</td>\n",
       "      <td>12.0</td>\n",
       "      <td>m</td>\n",
       "      <td>89.0</td>\n",
       "      <td>63.0</td>\n",
       "    </tr>\n",
       "  </tbody>\n",
       "</table>\n",
       "</div>"
      ],
      "text/plain": [
       "  FirstName LastName   Age Sex  preTestScore  postTestScore\n",
       "0       abc      mno  12.0   m          90.0           65.0\n",
       "2       ghi      pqr  12.0   f           NaN           65.0\n",
       "3       jkl      stu  12.0   f          90.0           62.0\n",
       "4       mno      vwx  12.0   m          89.0           63.0"
      ]
     },
     "execution_count": 23,
     "metadata": {},
     "output_type": "execute_result"
    }
   ],
   "source": [
    "#retaining the rows having <=4 NaNs\n",
    "\n",
    "df = df[df.isnull().sum(axis=1)<=4]\n",
    "df"
   ]
  },
  {
   "cell_type": "code",
   "execution_count": 24,
   "id": "2c69b30f",
   "metadata": {},
   "outputs": [
    {
     "data": {
      "text/plain": [
       "count     3.000000\n",
       "mean     89.666667\n",
       "std       0.577350\n",
       "min      89.000000\n",
       "25%      89.500000\n",
       "50%      90.000000\n",
       "75%      90.000000\n",
       "max      90.000000\n",
       "Name: preTestScore, dtype: float64"
      ]
     },
     "execution_count": 24,
     "metadata": {},
     "output_type": "execute_result"
    }
   ],
   "source": [
    "df['preTestScore'].describe()"
   ]
  },
  {
   "cell_type": "markdown",
   "id": "0b5ce1fb",
   "metadata": {},
   "source": [
    "## Imputation using mean"
   ]
  },
  {
   "cell_type": "code",
   "execution_count": 25,
   "id": "0b7c5912",
   "metadata": {},
   "outputs": [
    {
     "data": {
      "text/html": [
       "<div>\n",
       "<style scoped>\n",
       "    .dataframe tbody tr th:only-of-type {\n",
       "        vertical-align: middle;\n",
       "    }\n",
       "\n",
       "    .dataframe tbody tr th {\n",
       "        vertical-align: top;\n",
       "    }\n",
       "\n",
       "    .dataframe thead th {\n",
       "        text-align: right;\n",
       "    }\n",
       "</style>\n",
       "<table border=\"1\" class=\"dataframe\">\n",
       "  <thead>\n",
       "    <tr style=\"text-align: right;\">\n",
       "      <th></th>\n",
       "      <th>FirstName</th>\n",
       "      <th>LastName</th>\n",
       "      <th>Age</th>\n",
       "      <th>Sex</th>\n",
       "      <th>preTestScore</th>\n",
       "      <th>postTestScore</th>\n",
       "    </tr>\n",
       "  </thead>\n",
       "  <tbody>\n",
       "    <tr>\n",
       "      <th>0</th>\n",
       "      <td>abc</td>\n",
       "      <td>mno</td>\n",
       "      <td>12.0</td>\n",
       "      <td>m</td>\n",
       "      <td>90.000000</td>\n",
       "      <td>65.0</td>\n",
       "    </tr>\n",
       "    <tr>\n",
       "      <th>2</th>\n",
       "      <td>ghi</td>\n",
       "      <td>pqr</td>\n",
       "      <td>12.0</td>\n",
       "      <td>f</td>\n",
       "      <td>89.666667</td>\n",
       "      <td>65.0</td>\n",
       "    </tr>\n",
       "    <tr>\n",
       "      <th>3</th>\n",
       "      <td>jkl</td>\n",
       "      <td>stu</td>\n",
       "      <td>12.0</td>\n",
       "      <td>f</td>\n",
       "      <td>90.000000</td>\n",
       "      <td>62.0</td>\n",
       "    </tr>\n",
       "    <tr>\n",
       "      <th>4</th>\n",
       "      <td>mno</td>\n",
       "      <td>vwx</td>\n",
       "      <td>12.0</td>\n",
       "      <td>m</td>\n",
       "      <td>89.000000</td>\n",
       "      <td>63.0</td>\n",
       "    </tr>\n",
       "  </tbody>\n",
       "</table>\n",
       "</div>"
      ],
      "text/plain": [
       "  FirstName LastName   Age Sex  preTestScore  postTestScore\n",
       "0       abc      mno  12.0   m     90.000000           65.0\n",
       "2       ghi      pqr  12.0   f     89.666667           65.0\n",
       "3       jkl      stu  12.0   f     90.000000           62.0\n",
       "4       mno      vwx  12.0   m     89.000000           63.0"
      ]
     },
     "execution_count": 25,
     "metadata": {},
     "output_type": "execute_result"
    }
   ],
   "source": [
    "df['preTestScore'].fillna(df['preTestScore'].mean(), inplace=True)\n",
    "df"
   ]
  },
  {
   "cell_type": "markdown",
   "id": "6276b578",
   "metadata": {},
   "source": [
    "## sk.learn.impute\n",
    "By default, the scikit-learn imputers will drop fully empty features, i.e. columns containing only missing values. This would also return the values in an array.\n",
    "\n",
    "\n",
    "Transformers for missing value imputation:\n",
    "1. IterativeImputer: multivariate imputer that estimates each feature from all the others\n",
    "\n",
    "2. KNNImputer: imputation for completing missing values using k-nearest neighbors\n",
    "\n",
    "3. MissingIndicator: binary indicators for missing values\n",
    "\n",
    "4. SimpleImputer: univariate imputer for completing missing values with simple strategies\n"
   ]
  },
  {
   "cell_type": "code",
   "execution_count": 42,
   "id": "d05d4b1e",
   "metadata": {},
   "outputs": [
    {
     "data": {
      "text/html": [
       "<div>\n",
       "<style scoped>\n",
       "    .dataframe tbody tr th:only-of-type {\n",
       "        vertical-align: middle;\n",
       "    }\n",
       "\n",
       "    .dataframe tbody tr th {\n",
       "        vertical-align: top;\n",
       "    }\n",
       "\n",
       "    .dataframe thead th {\n",
       "        text-align: right;\n",
       "    }\n",
       "</style>\n",
       "<table border=\"1\" class=\"dataframe\">\n",
       "  <thead>\n",
       "    <tr style=\"text-align: right;\">\n",
       "      <th></th>\n",
       "      <th>Age</th>\n",
       "      <th>preTestScore</th>\n",
       "      <th>postTestScore</th>\n",
       "      <th>location</th>\n",
       "    </tr>\n",
       "  </thead>\n",
       "  <tbody>\n",
       "    <tr>\n",
       "      <th>0</th>\n",
       "      <td>12.0</td>\n",
       "      <td>90.0</td>\n",
       "      <td>65.0</td>\n",
       "      <td>NaN</td>\n",
       "    </tr>\n",
       "    <tr>\n",
       "      <th>1</th>\n",
       "      <td>NaN</td>\n",
       "      <td>90.0</td>\n",
       "      <td>NaN</td>\n",
       "      <td>NaN</td>\n",
       "    </tr>\n",
       "    <tr>\n",
       "      <th>2</th>\n",
       "      <td>12.0</td>\n",
       "      <td>NaN</td>\n",
       "      <td>65.0</td>\n",
       "      <td>NaN</td>\n",
       "    </tr>\n",
       "    <tr>\n",
       "      <th>3</th>\n",
       "      <td>12.0</td>\n",
       "      <td>90.0</td>\n",
       "      <td>62.0</td>\n",
       "      <td>NaN</td>\n",
       "    </tr>\n",
       "    <tr>\n",
       "      <th>4</th>\n",
       "      <td>12.0</td>\n",
       "      <td>89.0</td>\n",
       "      <td>63.0</td>\n",
       "      <td>NaN</td>\n",
       "    </tr>\n",
       "  </tbody>\n",
       "</table>\n",
       "</div>"
      ],
      "text/plain": [
       "    Age  preTestScore  postTestScore  location\n",
       "0  12.0          90.0           65.0       NaN\n",
       "1   NaN          90.0            NaN       NaN\n",
       "2  12.0           NaN           65.0       NaN\n",
       "3  12.0          90.0           62.0       NaN\n",
       "4  12.0          89.0           63.0       NaN"
      ]
     },
     "execution_count": 42,
     "metadata": {},
     "output_type": "execute_result"
    }
   ],
   "source": [
    "df = pd.read_csv('Data/data.csv', na_values=missing_vals)\n",
    "df_num = df.select_dtypes(include=['number'])\n",
    "df_num2 = df_num.drop(['location'], axis=1)\n",
    "df_num"
   ]
  },
  {
   "cell_type": "markdown",
   "id": "b623f675",
   "metadata": {},
   "source": [
    "### IterativeImputer"
   ]
  },
  {
   "cell_type": "code",
   "execution_count": 44,
   "id": "d631e5ef",
   "metadata": {},
   "outputs": [
    {
     "data": {
      "text/html": [
       "<div>\n",
       "<style scoped>\n",
       "    .dataframe tbody tr th:only-of-type {\n",
       "        vertical-align: middle;\n",
       "    }\n",
       "\n",
       "    .dataframe tbody tr th {\n",
       "        vertical-align: top;\n",
       "    }\n",
       "\n",
       "    .dataframe thead th {\n",
       "        text-align: right;\n",
       "    }\n",
       "</style>\n",
       "<table border=\"1\" class=\"dataframe\">\n",
       "  <thead>\n",
       "    <tr style=\"text-align: right;\">\n",
       "      <th></th>\n",
       "      <th>Age</th>\n",
       "      <th>preTestScore</th>\n",
       "      <th>postTestScore</th>\n",
       "    </tr>\n",
       "  </thead>\n",
       "  <tbody>\n",
       "    <tr>\n",
       "      <th>0</th>\n",
       "      <td>12.0</td>\n",
       "      <td>90.000000</td>\n",
       "      <td>65.000000</td>\n",
       "    </tr>\n",
       "    <tr>\n",
       "      <th>1</th>\n",
       "      <td>12.0</td>\n",
       "      <td>90.000000</td>\n",
       "      <td>63.750226</td>\n",
       "    </tr>\n",
       "    <tr>\n",
       "      <th>2</th>\n",
       "      <td>12.0</td>\n",
       "      <td>89.751133</td>\n",
       "      <td>65.000000</td>\n",
       "    </tr>\n",
       "    <tr>\n",
       "      <th>3</th>\n",
       "      <td>12.0</td>\n",
       "      <td>90.000000</td>\n",
       "      <td>62.000000</td>\n",
       "    </tr>\n",
       "    <tr>\n",
       "      <th>4</th>\n",
       "      <td>12.0</td>\n",
       "      <td>89.000000</td>\n",
       "      <td>63.000000</td>\n",
       "    </tr>\n",
       "  </tbody>\n",
       "</table>\n",
       "</div>"
      ],
      "text/plain": [
       "    Age  preTestScore  postTestScore\n",
       "0  12.0     90.000000      65.000000\n",
       "1  12.0     90.000000      63.750226\n",
       "2  12.0     89.751133      65.000000\n",
       "3  12.0     90.000000      62.000000\n",
       "4  12.0     89.000000      63.000000"
      ]
     },
     "execution_count": 44,
     "metadata": {},
     "output_type": "execute_result"
    }
   ],
   "source": [
    "#explicitly ask for this experimental feature\n",
    "\n",
    "from sklearn.experimental import enable_iterative_imputer\n",
    "from sklearn.impute import IterativeImputer\n",
    "iterimp =IterativeImputer()\n",
    "df_iterimp = pd.DataFrame(iterimp.fit_transform(df_num2),\n",
    "                         columns=df_num2.columns,\n",
    "                         index=df_num2.index)\n",
    "df_iterimp.head()"
   ]
  },
  {
   "cell_type": "code",
   "execution_count": 45,
   "id": "7eb1975b",
   "metadata": {},
   "outputs": [
    {
     "name": "stderr",
     "output_type": "stream",
     "text": [
      "C:\\Users\\USER\\anaconda3\\lib\\site-packages\\sklearn\\impute\\_base.py:577: UserWarning: Skipping features without any observed values: [3]. At least one non-missing value is needed for imputation with strategy='mean'.\n",
      "  warnings.warn(\n"
     ]
    },
    {
     "data": {
      "text/plain": [
       "array([[12.        , 90.        , 65.        ],\n",
       "       [12.        , 90.        , 63.75022648],\n",
       "       [12.        , 89.75113289, 65.        ],\n",
       "       [12.        , 90.        , 62.        ],\n",
       "       [12.        , 89.        , 63.        ]])"
      ]
     },
     "execution_count": 45,
     "metadata": {},
     "output_type": "execute_result"
    }
   ],
   "source": [
    "#dropping the location column since it contains all null values\n",
    "\n",
    "iterimp.fit_transform(df_num)"
   ]
  },
  {
   "cell_type": "markdown",
   "id": "9a3dd493",
   "metadata": {},
   "source": [
    "### SimpleImputer"
   ]
  },
  {
   "cell_type": "code",
   "execution_count": 46,
   "id": "2e315049",
   "metadata": {},
   "outputs": [
    {
     "data": {
      "text/html": [
       "<div>\n",
       "<style scoped>\n",
       "    .dataframe tbody tr th:only-of-type {\n",
       "        vertical-align: middle;\n",
       "    }\n",
       "\n",
       "    .dataframe tbody tr th {\n",
       "        vertical-align: top;\n",
       "    }\n",
       "\n",
       "    .dataframe thead th {\n",
       "        text-align: right;\n",
       "    }\n",
       "</style>\n",
       "<table border=\"1\" class=\"dataframe\">\n",
       "  <thead>\n",
       "    <tr style=\"text-align: right;\">\n",
       "      <th></th>\n",
       "      <th>Age</th>\n",
       "      <th>preTestScore</th>\n",
       "      <th>postTestScore</th>\n",
       "    </tr>\n",
       "  </thead>\n",
       "  <tbody>\n",
       "    <tr>\n",
       "      <th>0</th>\n",
       "      <td>12.0</td>\n",
       "      <td>90.00</td>\n",
       "      <td>65.00</td>\n",
       "    </tr>\n",
       "    <tr>\n",
       "      <th>1</th>\n",
       "      <td>12.0</td>\n",
       "      <td>90.00</td>\n",
       "      <td>63.75</td>\n",
       "    </tr>\n",
       "    <tr>\n",
       "      <th>2</th>\n",
       "      <td>12.0</td>\n",
       "      <td>89.75</td>\n",
       "      <td>65.00</td>\n",
       "    </tr>\n",
       "    <tr>\n",
       "      <th>3</th>\n",
       "      <td>12.0</td>\n",
       "      <td>90.00</td>\n",
       "      <td>62.00</td>\n",
       "    </tr>\n",
       "    <tr>\n",
       "      <th>4</th>\n",
       "      <td>12.0</td>\n",
       "      <td>89.00</td>\n",
       "      <td>63.00</td>\n",
       "    </tr>\n",
       "  </tbody>\n",
       "</table>\n",
       "</div>"
      ],
      "text/plain": [
       "    Age  preTestScore  postTestScore\n",
       "0  12.0         90.00          65.00\n",
       "1  12.0         90.00          63.75\n",
       "2  12.0         89.75          65.00\n",
       "3  12.0         90.00          62.00\n",
       "4  12.0         89.00          63.00"
      ]
     },
     "execution_count": 46,
     "metadata": {},
     "output_type": "execute_result"
    }
   ],
   "source": [
    "from sklearn.impute import SimpleImputer\n",
    "\n",
    "mean_imputer = SimpleImputer(strategy='mean')\n",
    "df_mean_imp = pd.DataFrame(mean_imputer.fit_transform(df_num2),\n",
    "                          columns=df_num2.columns,\n",
    "                          index=df_num2.index)\n",
    "df_mean_imp.head()"
   ]
  },
  {
   "cell_type": "code",
   "execution_count": 47,
   "id": "18b2f8fc",
   "metadata": {},
   "outputs": [
    {
     "name": "stderr",
     "output_type": "stream",
     "text": [
      "C:\\Users\\USER\\anaconda3\\lib\\site-packages\\sklearn\\impute\\_base.py:577: UserWarning: Skipping features without any observed values: ['location']. At least one non-missing value is needed for imputation with strategy='mean'.\n",
      "  warnings.warn(\n"
     ]
    },
    {
     "data": {
      "text/plain": [
       "array([[12.  , 90.  , 65.  ],\n",
       "       [12.  , 90.  , 63.75],\n",
       "       [12.  , 89.75, 65.  ],\n",
       "       [12.  , 90.  , 62.  ],\n",
       "       [12.  , 89.  , 63.  ]])"
      ]
     },
     "execution_count": 47,
     "metadata": {},
     "output_type": "execute_result"
    }
   ],
   "source": [
    "mean_imputer.fit_transform(df_num)"
   ]
  },
  {
   "cell_type": "markdown",
   "id": "f761db87",
   "metadata": {},
   "source": [
    "### KNNImputer"
   ]
  },
  {
   "cell_type": "code",
   "execution_count": 35,
   "id": "fa20a0af",
   "metadata": {},
   "outputs": [
    {
     "data": {
      "text/html": [
       "<div>\n",
       "<style scoped>\n",
       "    .dataframe tbody tr th:only-of-type {\n",
       "        vertical-align: middle;\n",
       "    }\n",
       "\n",
       "    .dataframe tbody tr th {\n",
       "        vertical-align: top;\n",
       "    }\n",
       "\n",
       "    .dataframe thead th {\n",
       "        text-align: right;\n",
       "    }\n",
       "</style>\n",
       "<table border=\"1\" class=\"dataframe\">\n",
       "  <thead>\n",
       "    <tr style=\"text-align: right;\">\n",
       "      <th></th>\n",
       "      <th>Age</th>\n",
       "      <th>preTestScore</th>\n",
       "      <th>postTestScore</th>\n",
       "    </tr>\n",
       "  </thead>\n",
       "  <tbody>\n",
       "    <tr>\n",
       "      <th>0</th>\n",
       "      <td>12.0</td>\n",
       "      <td>90.000000</td>\n",
       "      <td>65.000000</td>\n",
       "    </tr>\n",
       "    <tr>\n",
       "      <th>1</th>\n",
       "      <td>12.0</td>\n",
       "      <td>90.000000</td>\n",
       "      <td>63.333333</td>\n",
       "    </tr>\n",
       "    <tr>\n",
       "      <th>2</th>\n",
       "      <td>12.0</td>\n",
       "      <td>89.666667</td>\n",
       "      <td>65.000000</td>\n",
       "    </tr>\n",
       "    <tr>\n",
       "      <th>3</th>\n",
       "      <td>12.0</td>\n",
       "      <td>90.000000</td>\n",
       "      <td>62.000000</td>\n",
       "    </tr>\n",
       "    <tr>\n",
       "      <th>4</th>\n",
       "      <td>12.0</td>\n",
       "      <td>89.000000</td>\n",
       "      <td>63.000000</td>\n",
       "    </tr>\n",
       "  </tbody>\n",
       "</table>\n",
       "</div>"
      ],
      "text/plain": [
       "    Age  preTestScore  postTestScore\n",
       "0  12.0     90.000000      65.000000\n",
       "1  12.0     90.000000      63.333333\n",
       "2  12.0     89.666667      65.000000\n",
       "3  12.0     90.000000      62.000000\n",
       "4  12.0     89.000000      63.000000"
      ]
     },
     "execution_count": 35,
     "metadata": {},
     "output_type": "execute_result"
    }
   ],
   "source": [
    "from sklearn.impute import KNNImputer\n",
    "knn_imputer = KNNImputer(n_neighbors=3)\n",
    "\n",
    "df_knn_imp = pd.DataFrame(knn_imputer.fit_transform(df_num),\n",
    "                         columns=df_num.columns,\n",
    "                         index=df_num.index)\n",
    "df_knn_imp.head()"
   ]
  },
  {
   "cell_type": "code",
   "execution_count": 48,
   "id": "83a553b7",
   "metadata": {},
   "outputs": [
    {
     "data": {
      "text/plain": [
       "array([[12.        , 90.        , 65.        ],\n",
       "       [12.        , 90.        , 63.33333333],\n",
       "       [12.        , 89.66666667, 65.        ],\n",
       "       [12.        , 90.        , 62.        ],\n",
       "       [12.        , 89.        , 63.        ]])"
      ]
     },
     "execution_count": 48,
     "metadata": {},
     "output_type": "execute_result"
    }
   ],
   "source": [
    "knn_imputer.fit_transform(df_num)"
   ]
  },
  {
   "cell_type": "markdown",
   "id": "e939def2",
   "metadata": {},
   "source": [
    "## Marking the imputed values using MissingIndicator"
   ]
  },
  {
   "cell_type": "markdown",
   "id": "b37352f7",
   "metadata": {},
   "source": [
    "The `MissingIndicator` transformer is useful to transform a dataset into corresponding binary matrix indicating the presence of missing values in the data. This is useful when used in conjunction with imputation to preserve information about which values had been missing.\n",
    "\n",
    "    P.S. `SimpleImputer` and `IterativeImputer` have the parameter `add_indicator` (False by default). When set to True, it provides a convenient way of stacking the output of the `MissingIndicator` transformer withthe output of the imputer."
   ]
  },
  {
   "cell_type": "code",
   "execution_count": 51,
   "id": "c012082c",
   "metadata": {},
   "outputs": [
    {
     "data": {
      "text/plain": [
       "array([[ True,  True, False],\n",
       "       [False, False,  True],\n",
       "       [ True, False, False]])"
      ]
     },
     "execution_count": 51,
     "metadata": {},
     "output_type": "execute_result"
    }
   ],
   "source": [
    "from sklearn.impute import MissingIndicator\n",
    "x_array = np.array([[-1, -1, 3, 7],\n",
    "                   [4, 6, 0, -1],\n",
    "                   [-1, 1, 6,2]])\n",
    "\n",
    "indicator = MissingIndicator(missing_values = -1)\n",
    "\n",
    "mask_missing_values_only = indicator.fit_transform(x_array)\n",
    "mask_missing_values_only"
   ]
  },
  {
   "cell_type": "markdown",
   "id": "fc1650aa",
   "metadata": {},
   "source": [
    "This only returns columns where a null value was found.In order to return all columns regardless, we use the `features` parameter.\n",
    "\n",
    "This parameter is used to choose the features for which the mask is constructed. By default, it is `missing-only`, which retuens the imputer mask of the features containing missing values at fit time.\n",
    "\n",
    "The `features` parameter can be set to \"all\" to return all features whether or not they contain missing values."
   ]
  },
  {
   "cell_type": "code",
   "execution_count": 52,
   "id": "8e5989cf",
   "metadata": {},
   "outputs": [
    {
     "data": {
      "text/plain": [
       "array([0, 1, 3], dtype=int64)"
      ]
     },
     "execution_count": 52,
     "metadata": {},
     "output_type": "execute_result"
    }
   ],
   "source": [
    "#to check the columns that were returned\n",
    "\n",
    "indicator.features_"
   ]
  },
  {
   "cell_type": "code",
   "execution_count": 53,
   "id": "179363f5",
   "metadata": {},
   "outputs": [
    {
     "data": {
      "text/plain": [
       "array([[ True,  True, False, False],\n",
       "       [False, False, False,  True],\n",
       "       [ True, False, False, False]])"
      ]
     },
     "execution_count": 53,
     "metadata": {},
     "output_type": "execute_result"
    }
   ],
   "source": [
    "indicator = MissingIndicator(missing_values= -1, features='all')\n",
    "mask_all = indicator.fit_transform(x_array)\n",
    "mask_all"
   ]
  },
  {
   "cell_type": "code",
   "execution_count": 54,
   "id": "1aed0352",
   "metadata": {},
   "outputs": [
    {
     "data": {
      "text/plain": [
       "array([0, 1, 2, 3])"
      ]
     },
     "execution_count": 54,
     "metadata": {},
     "output_type": "execute_result"
    }
   ],
   "source": [
    "indicator.features_"
   ]
  },
  {
   "cell_type": "code",
   "execution_count": 61,
   "id": "d4d3e60a",
   "metadata": {},
   "outputs": [
    {
     "data": {
      "text/html": [
       "<div>\n",
       "<style scoped>\n",
       "    .dataframe tbody tr th:only-of-type {\n",
       "        vertical-align: middle;\n",
       "    }\n",
       "\n",
       "    .dataframe tbody tr th {\n",
       "        vertical-align: top;\n",
       "    }\n",
       "\n",
       "    .dataframe thead th {\n",
       "        text-align: right;\n",
       "    }\n",
       "</style>\n",
       "<table border=\"1\" class=\"dataframe\">\n",
       "  <thead>\n",
       "    <tr style=\"text-align: right;\">\n",
       "      <th></th>\n",
       "      <th>0</th>\n",
       "      <th>1</th>\n",
       "      <th>2</th>\n",
       "      <th>3</th>\n",
       "      <th>4</th>\n",
       "      <th>5</th>\n",
       "    </tr>\n",
       "  </thead>\n",
       "  <tbody>\n",
       "    <tr>\n",
       "      <th>0</th>\n",
       "      <td>12.0</td>\n",
       "      <td>90.00</td>\n",
       "      <td>65.00</td>\n",
       "      <td>0.0</td>\n",
       "      <td>0.0</td>\n",
       "      <td>0.0</td>\n",
       "    </tr>\n",
       "    <tr>\n",
       "      <th>1</th>\n",
       "      <td>12.0</td>\n",
       "      <td>90.00</td>\n",
       "      <td>63.75</td>\n",
       "      <td>1.0</td>\n",
       "      <td>0.0</td>\n",
       "      <td>1.0</td>\n",
       "    </tr>\n",
       "    <tr>\n",
       "      <th>2</th>\n",
       "      <td>12.0</td>\n",
       "      <td>89.75</td>\n",
       "      <td>65.00</td>\n",
       "      <td>0.0</td>\n",
       "      <td>1.0</td>\n",
       "      <td>0.0</td>\n",
       "    </tr>\n",
       "    <tr>\n",
       "      <th>3</th>\n",
       "      <td>12.0</td>\n",
       "      <td>90.00</td>\n",
       "      <td>62.00</td>\n",
       "      <td>0.0</td>\n",
       "      <td>0.0</td>\n",
       "      <td>0.0</td>\n",
       "    </tr>\n",
       "    <tr>\n",
       "      <th>4</th>\n",
       "      <td>12.0</td>\n",
       "      <td>89.00</td>\n",
       "      <td>63.00</td>\n",
       "      <td>0.0</td>\n",
       "      <td>0.0</td>\n",
       "      <td>0.0</td>\n",
       "    </tr>\n",
       "  </tbody>\n",
       "</table>\n",
       "</div>"
      ],
      "text/plain": [
       "      0      1      2    3    4    5\n",
       "0  12.0  90.00  65.00  0.0  0.0  0.0\n",
       "1  12.0  90.00  63.75  1.0  0.0  1.0\n",
       "2  12.0  89.75  65.00  0.0  1.0  0.0\n",
       "3  12.0  90.00  62.00  0.0  0.0  0.0\n",
       "4  12.0  89.00  63.00  0.0  0.0  0.0"
      ]
     },
     "execution_count": 61,
     "metadata": {},
     "output_type": "execute_result"
    }
   ],
   "source": [
    "from sklearn.impute import SimpleImputer, MissingIndicator\n",
    "from sklearn.pipeline import FeatureUnion\n",
    "\n",
    "transformer = FeatureUnion(\n",
    "                      transformer_list =[\n",
    "                          ('features', SimpleImputer(strategy='mean')),\n",
    "                          ('indicators', MissingIndicator())\n",
    "                      ])\n",
    "results = pd.DataFrame(transformer.fit_transform(df_num2), \n",
    "                       #columns=df_num2.columns,\n",
    "                       index=df_num2.index)\n",
    "results"
   ]
  },
  {
   "cell_type": "raw",
   "id": "9da6ac1f",
   "metadata": {},
   "source": [
    "Where 1.0 means there was a null value there and 0.0 means otherwise."
   ]
  },
  {
   "cell_type": "code",
   "execution_count": 62,
   "id": "1c558036",
   "metadata": {},
   "outputs": [
    {
     "data": {
      "text/html": [
       "<div>\n",
       "<style scoped>\n",
       "    .dataframe tbody tr th:only-of-type {\n",
       "        vertical-align: middle;\n",
       "    }\n",
       "\n",
       "    .dataframe tbody tr th {\n",
       "        vertical-align: top;\n",
       "    }\n",
       "\n",
       "    .dataframe thead th {\n",
       "        text-align: right;\n",
       "    }\n",
       "</style>\n",
       "<table border=\"1\" class=\"dataframe\">\n",
       "  <thead>\n",
       "    <tr style=\"text-align: right;\">\n",
       "      <th></th>\n",
       "      <th>Age</th>\n",
       "      <th>preTestScore</th>\n",
       "      <th>postTestScore</th>\n",
       "      <th>is_null_age</th>\n",
       "      <th>is_null_preTest</th>\n",
       "      <th>is_null_postTest</th>\n",
       "    </tr>\n",
       "  </thead>\n",
       "  <tbody>\n",
       "    <tr>\n",
       "      <th>0</th>\n",
       "      <td>12.0</td>\n",
       "      <td>90.00</td>\n",
       "      <td>65.00</td>\n",
       "      <td>0.0</td>\n",
       "      <td>0.0</td>\n",
       "      <td>0.0</td>\n",
       "    </tr>\n",
       "    <tr>\n",
       "      <th>1</th>\n",
       "      <td>12.0</td>\n",
       "      <td>90.00</td>\n",
       "      <td>63.75</td>\n",
       "      <td>1.0</td>\n",
       "      <td>0.0</td>\n",
       "      <td>1.0</td>\n",
       "    </tr>\n",
       "    <tr>\n",
       "      <th>2</th>\n",
       "      <td>12.0</td>\n",
       "      <td>89.75</td>\n",
       "      <td>65.00</td>\n",
       "      <td>0.0</td>\n",
       "      <td>1.0</td>\n",
       "      <td>0.0</td>\n",
       "    </tr>\n",
       "    <tr>\n",
       "      <th>3</th>\n",
       "      <td>12.0</td>\n",
       "      <td>90.00</td>\n",
       "      <td>62.00</td>\n",
       "      <td>0.0</td>\n",
       "      <td>0.0</td>\n",
       "      <td>0.0</td>\n",
       "    </tr>\n",
       "    <tr>\n",
       "      <th>4</th>\n",
       "      <td>12.0</td>\n",
       "      <td>89.00</td>\n",
       "      <td>63.00</td>\n",
       "      <td>0.0</td>\n",
       "      <td>0.0</td>\n",
       "      <td>0.0</td>\n",
       "    </tr>\n",
       "  </tbody>\n",
       "</table>\n",
       "</div>"
      ],
      "text/plain": [
       "    Age  preTestScore  postTestScore  is_null_age  is_null_preTest  \\\n",
       "0  12.0         90.00          65.00          0.0              0.0   \n",
       "1  12.0         90.00          63.75          1.0              0.0   \n",
       "2  12.0         89.75          65.00          0.0              1.0   \n",
       "3  12.0         90.00          62.00          0.0              0.0   \n",
       "4  12.0         89.00          63.00          0.0              0.0   \n",
       "\n",
       "   is_null_postTest  \n",
       "0               0.0  \n",
       "1               1.0  \n",
       "2               0.0  \n",
       "3               0.0  \n",
       "4               0.0  "
      ]
     },
     "execution_count": 62,
     "metadata": {},
     "output_type": "execute_result"
    }
   ],
   "source": [
    "results.columns = ['Age', 'preTestScore', 'postTestScore', 'is_null_age', 'is_null_preTest', 'is_null_postTest']\n",
    "results"
   ]
  },
  {
   "cell_type": "markdown",
   "id": "75bad308",
   "metadata": {},
   "source": [
    "## Estimators that can handle NaN values\n",
    "\n",
    "NaN values can be pain points for certain ML algorithms and woukd therefore require you to preprocess the data by filling in the missing values (imputation) or removing rows/columns with them.\n",
    "\n",
    "However, in scikit-learn, there are several esyimators that can work directly with data containing NaN values. They can work with NaN values without any preprocvessing by:\n",
    "\n",
    "- Ignoring these data points with NaN values, e.g KNN\n",
    "- Estimating the mssing value by using mean/median of the existing data points in the same column\n",
    "- Using statistcal techniques to estimate missing value\n",
    "- Specific handling built-in mechanism, e.g decision tree algorithm can treat NaNs as a seperate category during splitting.\n",
    "\n",
    "The specific way any algorithm handles NaNs is usually documented within the scikit-learn documentation for that particular estimator.\n",
    "\n",
    "According to scikit-learn, the following algorithms classified by type (cluster, regressor, classifier, transform) fall under this category:\n",
    "\n",
    "1. Estimators that allow NaN values for type **cluster**:\n",
    "`HDBSCAN`\n",
    "        \n",
    "2. Estimators that allow NaN values for type **regressor**:\n",
    "\n",
    "`BaggingRegressor`\n",
    "\n",
    "`DecisionTreeRegressor`\n",
    "\n",
    "`HistGradientBoostingRegressor`\n",
    "\n",
    "`RandomForestRegressor`\n",
    "\n",
    "`StackingRegressor`\n",
    "\n",
    "`VotingRegressor`\n",
    "\n",
    "3. Estimators that allow NaN values for type **classifier**:\n",
    "\n",
    "`BaggingClassifier`\n",
    "\n",
    "`DecisionTreeClassifier`\n",
    "\n",
    "`HistGradientBoostingClassifier`\n",
    "\n",
    "`RandomForestClassifier`\n",
    "\n",
    "`StackingClassifier`\n",
    "\n",
    "`VotingClassifier`\n",
    "\n",
    "4. Estimators that allow NaN values for type **transformer**:\n",
    "\n",
    "`IterativeImputer`\n",
    "\n",
    "`KNNImputer`\n",
    "\n",
    "`MaxAbsScaler`\n",
    "\n",
    "`MinMaxScaler`\n",
    "\n",
    "`MissingIndicator`\n",
    "\n",
    "`OneHotEncoder`\n",
    "\n",
    "`OrdinalEncoder`\n",
    "\n",
    "`PowerTransformer`\n",
    "\n",
    "`QuantileTransformer`\n",
    "\n",
    "`RobustScaler`\n",
    "\n",
    "`SimpleImputer`\n",
    "\n",
    "`StackingClassifier`\n",
    "\n",
    "`StackingRegressor`\n",
    "\n",
    "`StandardScaler`\n",
    "\n",
    "`TargetEncoder`\n",
    "\n",
    "`VarianceThreshold`\n",
    "\n",
    "`VotingClassifier`\n",
    "\n",
    "`VotingRegressor`"
   ]
  },
  {
   "cell_type": "code",
   "execution_count": null,
   "id": "4746df09",
   "metadata": {},
   "outputs": [],
   "source": []
  }
 ],
 "metadata": {
  "kernelspec": {
   "display_name": "Python 3 (ipykernel)",
   "language": "python",
   "name": "python3"
  },
  "language_info": {
   "codemirror_mode": {
    "name": "ipython",
    "version": 3
   },
   "file_extension": ".py",
   "mimetype": "text/x-python",
   "name": "python",
   "nbconvert_exporter": "python",
   "pygments_lexer": "ipython3",
   "version": "3.9.13"
  }
 },
 "nbformat": 4,
 "nbformat_minor": 5
}
