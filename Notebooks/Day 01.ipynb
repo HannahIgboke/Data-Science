{
 "cells": [
  {
   "cell_type": "markdown",
   "id": "6d1488c9",
   "metadata": {},
   "source": [
    "# Intro to Python"
   ]
  },
  {
   "cell_type": "code",
   "execution_count": 1,
   "id": "1f340e10",
   "metadata": {},
   "outputs": [
    {
     "name": "stdout",
     "output_type": "stream",
     "text": [
      "50\n",
      "50\n"
     ]
    }
   ],
   "source": [
    "var = input()\n",
    "print(var)"
   ]
  },
  {
   "cell_type": "code",
   "execution_count": 2,
   "id": "389f6a76",
   "metadata": {},
   "outputs": [
    {
     "name": "stdout",
     "output_type": "stream",
     "text": [
      "<class 'str'>\n"
     ]
    }
   ],
   "source": [
    "print(type(var))"
   ]
  },
  {
   "cell_type": "code",
   "execution_count": 3,
   "id": "955fa8de",
   "metadata": {},
   "outputs": [
    {
     "name": "stdout",
     "output_type": "stream",
     "text": [
      "45\n",
      "<class 'int'>\n"
     ]
    }
   ],
   "source": [
    "var = int(input())\n",
    "print(type(var))"
   ]
  },
  {
   "cell_type": "markdown",
   "id": "cd48cf13",
   "metadata": {},
   "source": [
    "## Using placeholder symbols and % for mapping"
   ]
  },
  {
   "cell_type": "code",
   "execution_count": 17,
   "id": "8706a592",
   "metadata": {},
   "outputs": [
    {
     "name": "stdout",
     "output_type": "stream",
     "text": [
      "Please enter a number: 50\n",
      "User has entered 50. Thank you\n"
     ]
    }
   ],
   "source": [
    "num = int(input(\"Please enter a number: \"))\n",
    "print('User has entered %d. Thank you' % num)\n",
    "\n",
    "# %d serves as a placeholder for a decimal interger\n",
    "# %s serves as a placeholder for a string\n",
    "# % is used to map the placeholders to the respective values."
   ]
  },
  {
   "cell_type": "code",
   "execution_count": 10,
   "id": "12f98d69",
   "metadata": {},
   "outputs": [
    {
     "name": "stdout",
     "output_type": "stream",
     "text": [
      "<class 'str'>\n"
     ]
    }
   ],
   "source": [
    "print(type(num))"
   ]
  },
  {
   "cell_type": "code",
   "execution_count": 16,
   "id": "0f773f68",
   "metadata": {},
   "outputs": [
    {
     "name": "stdout",
     "output_type": "stream",
     "text": [
      "5 6 string\n",
      "5 6 string\n"
     ]
    }
   ],
   "source": [
    "a = 5\n",
    "b = 6\n",
    "c = 'string'\n",
    "\n",
    "print(a,b,c)\n",
    "print('%d %d %s' % (a,b,c))\n",
    "\n",
    "#Note that %d is used to format as decimal or a number\n",
    "#and %s us used to format as a string"
   ]
  },
  {
   "cell_type": "markdown",
   "id": "4f48107d",
   "metadata": {},
   "source": [
    "## Using seperator and end function"
   ]
  },
  {
   "cell_type": "code",
   "execution_count": 68,
   "id": "d1c0544b",
   "metadata": {},
   "outputs": [
    {
     "name": "stdout",
     "output_type": "stream",
     "text": [
      "this line won't be displayed\n",
      "545454545454\n",
      "5 6 7\n",
      "5,6,7\n",
      "1|2|3##"
     ]
    }
   ],
   "source": [
    "print(\"this line won't be displayed\")\n",
    "print('54'*6)\n",
    "\n",
    "print(5,6,7)\n",
    "\n",
    "print(5,6,7, sep = ',')\n",
    "print(1,2,3, sep = '|', end = '##')"
   ]
  },
  {
   "cell_type": "code",
   "execution_count": 26,
   "id": "90ae4191",
   "metadata": {},
   "outputs": [
    {
     "name": "stdout",
     "output_type": "stream",
     "text": [
      "this is\n",
      "a multi\tline\n",
      "statement\n"
     ]
    }
   ],
   "source": [
    "print('this is\\na multi\\tline\\nstatement')"
   ]
  },
  {
   "cell_type": "markdown",
   "id": "e22dd764",
   "metadata": {},
   "source": [
    "## Operators"
   ]
  },
  {
   "cell_type": "code",
   "execution_count": 39,
   "id": "c7661ed5",
   "metadata": {},
   "outputs": [
    {
     "name": "stdout",
     "output_type": "stream",
     "text": [
      "with modulo operator:  1  the remainder is returned\n",
      "with the floor division operator:  13  the largest number of times 3 goes into 40 is returned\n",
      "with exponentiation:  125 where 5 is raised to the power of 3, i.e 5 is multiplied 3 times\n"
     ]
    }
   ],
   "source": [
    "d = 40\n",
    "b = 5\n",
    "c = 3\n",
    "\n",
    "\n",
    "print('with modulo operator: ', d % c , ' the remainder is returned')\n",
    "print('with the floor division operator: ', d//c , ' the largest number of times 3 goes into 40 is returned')\n",
    "print('with exponentiation: ', b**c ,'where 5 is raised to the power of 3, i.e 5 is multiplied 3 times')"
   ]
  },
  {
   "cell_type": "code",
   "execution_count": 33,
   "id": "24fea340",
   "metadata": {},
   "outputs": [
    {
     "name": "stdout",
     "output_type": "stream",
     "text": [
      "<class 'int'>\n"
     ]
    }
   ],
   "source": [
    "print(type(d))"
   ]
  },
  {
   "cell_type": "code",
   "execution_count": 40,
   "id": "13ed55f9",
   "metadata": {},
   "outputs": [
    {
     "name": "stdout",
     "output_type": "stream",
     "text": [
      "55\n"
     ]
    }
   ],
   "source": [
    "x = 50\n",
    "x += 5\n",
    "\n",
    "print(x)"
   ]
  },
  {
   "cell_type": "markdown",
   "id": "4759d8b1",
   "metadata": {},
   "source": [
    "## Shift operators\n",
    "\n",
    "shift the bits of a number to the left(<<) or right(>>) by a specified number of positions"
   ]
  },
  {
   "cell_type": "code",
   "execution_count": 41,
   "id": "6be54c2b",
   "metadata": {},
   "outputs": [
    {
     "name": "stdout",
     "output_type": "stream",
     "text": [
      "20\n"
     ]
    }
   ],
   "source": [
    "print(10<<1)"
   ]
  },
  {
   "cell_type": "code",
   "execution_count": 42,
   "id": "31f50bb6",
   "metadata": {},
   "outputs": [
    {
     "name": "stdout",
     "output_type": "stream",
     "text": [
      "40\n"
     ]
    }
   ],
   "source": [
    "print(10<<2)"
   ]
  },
  {
   "cell_type": "code",
   "execution_count": 43,
   "id": "ce80f757",
   "metadata": {},
   "outputs": [
    {
     "name": "stdout",
     "output_type": "stream",
     "text": [
      "80\n"
     ]
    }
   ],
   "source": [
    "print(10<<3)"
   ]
  },
  {
   "cell_type": "code",
   "execution_count": 44,
   "id": "6f0eb21c",
   "metadata": {},
   "outputs": [
    {
     "name": "stdout",
     "output_type": "stream",
     "text": [
      "160\n"
     ]
    }
   ],
   "source": [
    "print(10<<4)"
   ]
  },
  {
   "cell_type": "code",
   "execution_count": 45,
   "id": "d76f40e0",
   "metadata": {},
   "outputs": [
    {
     "name": "stdout",
     "output_type": "stream",
     "text": [
      "5\n",
      "2\n",
      "1\n",
      "0\n"
     ]
    }
   ],
   "source": [
    "print(10>>1)\n",
    "print(10>>2)\n",
    "print(10>>3)\n",
    "print(10>>4)"
   ]
  },
  {
   "cell_type": "code",
   "execution_count": 46,
   "id": "73d2e939",
   "metadata": {},
   "outputs": [
    {
     "name": "stdout",
     "output_type": "stream",
     "text": [
      "5 15\n"
     ]
    }
   ],
   "source": [
    "w = 5 if (5<6) else 6\n",
    "y = 15 if (15>6) else 7\n",
    "\n",
    "print(w, y)"
   ]
  },
  {
   "cell_type": "code",
   "execution_count": 47,
   "id": "45095844",
   "metadata": {},
   "outputs": [
    {
     "name": "stdout",
     "output_type": "stream",
     "text": [
      "20\n"
     ]
    }
   ],
   "source": [
    "print(w+y)"
   ]
  },
  {
   "cell_type": "markdown",
   "id": "23685f01",
   "metadata": {},
   "source": [
    "## Swapping two numbers"
   ]
  },
  {
   "cell_type": "code",
   "execution_count": 52,
   "id": "3fc36441",
   "metadata": {},
   "outputs": [
    {
     "name": "stdout",
     "output_type": "stream",
     "text": [
      "457,90\n"
     ]
    }
   ],
   "source": [
    "#using a temp variable\n",
    "\n",
    "t =90\n",
    "g=457\n",
    "\n",
    "new_var = t\n",
    "\n",
    "t = g\n",
    "g = new_var\n",
    "\n",
    "print(t,g, sep =',')"
   ]
  },
  {
   "cell_type": "markdown",
   "id": "81708d8d",
   "metadata": {},
   "source": [
    "## Swapping two numbers without a third number\n",
    "\n"
   ]
  },
  {
   "cell_type": "code",
   "execution_count": 54,
   "id": "ee75efda",
   "metadata": {},
   "outputs": [
    {
     "name": "stdout",
     "output_type": "stream",
     "text": [
      "98,34\n"
     ]
    }
   ],
   "source": [
    "#using tuple unpacking\n",
    "\n",
    "a = 34\n",
    "b =98\n",
    "\n",
    "a,b = b,a\n",
    "\n",
    "print(a,b, sep = ',')"
   ]
  },
  {
   "cell_type": "markdown",
   "id": "b4dc8e08",
   "metadata": {},
   "source": [
    "## Extracting the ith bit of a number\n",
    "\n"
   ]
  },
  {
   "cell_type": "code",
   "execution_count": 60,
   "id": "9fef7270",
   "metadata": {},
   "outputs": [
    {
     "data": {
      "text/plain": [
       "'8'"
      ]
     },
     "execution_count": 60,
     "metadata": {},
     "output_type": "execute_result"
    }
   ],
   "source": [
    "benson = str(678905647845)\n",
    "\n",
    "var = benson[2]\n",
    "\n",
    "var"
   ]
  },
  {
   "cell_type": "markdown",
   "id": "2a441d1f",
   "metadata": {},
   "source": [
    "## Given three numbers, one of them is different. Find the different number."
   ]
  },
  {
   "cell_type": "code",
   "execution_count": 66,
   "id": "a2337a8e",
   "metadata": {},
   "outputs": [
    {
     "name": "stdout",
     "output_type": "stream",
     "text": [
      "var b is different\n"
     ]
    }
   ],
   "source": [
    "a = 34\n",
    "b = 67\n",
    "c= 34\n",
    "\n",
    "#logic - we are to check if each of the variable is different from the next one, e.g, is a different from b, is it different from c as well?\n",
    "#the different number would be such that from each side of the coin, each of the logic results in true\n",
    "\n",
    "\n",
    "if a!=b and a!=c:     #we had True and False\n",
    "    print('var a is different')\n",
    "elif b!=a and b!=c:  #we had True and True #which means that it is true that b does not equal a or c\n",
    "    print('var b is different')\n",
    "else:                          #c!=a and c!=b  #we had False and True\n",
    "    print('var c is different')"
   ]
  },
  {
   "cell_type": "code",
   "execution_count": null,
   "id": "39b115d4",
   "metadata": {},
   "outputs": [],
   "source": []
  }
 ],
 "metadata": {
  "kernelspec": {
   "display_name": "Python 3 (ipykernel)",
   "language": "python",
   "name": "python3"
  },
  "language_info": {
   "codemirror_mode": {
    "name": "ipython",
    "version": 3
   },
   "file_extension": ".py",
   "mimetype": "text/x-python",
   "name": "python",
   "nbconvert_exporter": "python",
   "pygments_lexer": "ipython3",
   "version": "3.9.13"
  }
 },
 "nbformat": 4,
 "nbformat_minor": 5
}
