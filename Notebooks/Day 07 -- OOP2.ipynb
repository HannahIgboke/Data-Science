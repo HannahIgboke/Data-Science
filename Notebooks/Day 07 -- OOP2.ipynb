{
 "cells": [
  {
   "cell_type": "markdown",
   "id": "2e8979e5",
   "metadata": {},
   "source": [
    "# Object Oriented Programming Continued...........\n",
    "\n",
    "**Encapsulation**: groups related functions and variables together = reduce complexity and increase reusability\n",
    "\n",
    "**Abstraction**: hides the details and complexities and shows the essential = reduces complexity and isolates the impact of changes in the code\n",
    "\n",
    "**Inheritance**: eliminates redundant code\n",
    "\n",
    "**Polymorphism**: refactor ugly switch/case statements"
   ]
  },
  {
   "cell_type": "markdown",
   "id": "5bd39901",
   "metadata": {},
   "source": [
    "## Inheritance\n",
    "\n",
    "It is the ability of one class to derive or inherit the properties from another class. It also has it's types.\n",
    "\n",
    "- It represents real world relationships\n",
    "- We don't have to write the same code again and again and we can add more features to a clas without modifying it"
   ]
  },
  {
   "cell_type": "markdown",
   "id": "b32c723c",
   "metadata": {},
   "source": [
    "### 1. Single inheritance\n",
    "\n",
    "A single parent to child relationship"
   ]
  },
  {
   "cell_type": "code",
   "execution_count": 3,
   "id": "80618aa6",
   "metadata": {},
   "outputs": [],
   "source": [
    "# What the code looks like without any inheritance\n",
    "\n",
    "class A:\n",
    "    def m1():\n",
    "        pass\n",
    "    def m2():\n",
    "        pass\n",
    "\n",
    "class B:\n",
    "    def m1():\n",
    "        pass\n",
    "    def m2():\n",
    "        pass\n",
    "    def m3():\n",
    "        pass\n",
    "    def m4():\n",
    "        pass\n",
    "\n",
    "#Notice how we had to copy and paste all the methods from classA to ClassB, imagine we have these for a more complex code"
   ]
  },
  {
   "cell_type": "code",
   "execution_count": 4,
   "id": "940040ca",
   "metadata": {},
   "outputs": [],
   "source": [
    "# With inheritance\n",
    "\n",
    "#This is the parent class\n",
    "class A:\n",
    "    def m1(self):\n",
    "        print('Class A, method 1')\n",
    "        \n",
    "    def m2(self):\n",
    "        print('Class A, method 2')\n",
    "\n",
    "#the child inheriting from the first class       \n",
    "class B(A):\n",
    "    def m3(self):\n",
    "        print('Class B, method 3')\n",
    "    \n",
    "    def m4(self):\n",
    "        print('Class B, method 4')"
   ]
  },
  {
   "cell_type": "code",
   "execution_count": 5,
   "id": "3022f353",
   "metadata": {},
   "outputs": [
    {
     "name": "stdout",
     "output_type": "stream",
     "text": [
      "Class A, method 1\n",
      "Class B, method 3\n"
     ]
    }
   ],
   "source": [
    "#testing the concept\n",
    "\n",
    "b = B()\n",
    "\n",
    "b.m1()\n",
    "b.m3()"
   ]
  },
  {
   "cell_type": "markdown",
   "id": "24470adf",
   "metadata": {},
   "source": [
    "### 2. Multilevel inheritance\n",
    "\n",
    "A single parent, a child and a grandchild (as you know, from the child)\n",
    "\n",
    "Parent -> Child1 -> grandchild"
   ]
  },
  {
   "cell_type": "code",
   "execution_count": 7,
   "id": "3060f5cd",
   "metadata": {},
   "outputs": [],
   "source": [
    "## What the code looks like without inheritance\n",
    "\n",
    "class A:\n",
    "    def m1():\n",
    "        pass\n",
    "    def m2():\n",
    "        pass\n",
    "\n",
    "class B:\n",
    "    def m1():\n",
    "        pass\n",
    "    def m2():\n",
    "        pass\n",
    "    def m3():\n",
    "        pass\n",
    "    def m4():\n",
    "        pass\n",
    "\n",
    "class C:\n",
    "    def m1():\n",
    "        pass\n",
    "    def m2():\n",
    "        pass\n",
    "    def m3():\n",
    "        pass\n",
    "    def m4():\n",
    "        pass\n",
    "    def m5():\n",
    "        pass\n",
    "    def m6():\n",
    "        pass\n",
    "\n"
   ]
  },
  {
   "cell_type": "code",
   "execution_count": 10,
   "id": "b7c223d0",
   "metadata": {},
   "outputs": [],
   "source": [
    "#How multilevel inheritance solves this problem\n",
    "\n",
    "#parent\n",
    "class A:\n",
    "    def m1(self):\n",
    "        print('Class A, method 1')\n",
    "    def m2(self):\n",
    "        print('Class A, method 2')\n",
    "\n",
    "#child \n",
    "class B(A):\n",
    "    def m3(self):\n",
    "        print('Class B, method 3')\n",
    "    def m4(self):\n",
    "        print('Class B, method 4')\n",
    "\n",
    "#grandchild        \n",
    "class C(B):\n",
    "    def m5(self):\n",
    "        print('Class C, method 5')\n",
    "    def m6(self):\n",
    "        print('Class C, method 6')"
   ]
  },
  {
   "cell_type": "code",
   "execution_count": 12,
   "id": "9a9a2021",
   "metadata": {},
   "outputs": [
    {
     "name": "stdout",
     "output_type": "stream",
     "text": [
      "Class A, method 2\n",
      "None\n",
      "Class A, method 1\n",
      "None\n"
     ]
    }
   ],
   "source": [
    "#testing the concept\n",
    "b = B()\n",
    "c = C()\n",
    "\n",
    "print(b.m2())\n",
    "print(c.m1())\n",
    "\n",
    "#rmember why we see 'None' in the output right? Yes. It's because we used print in the function call instead of return"
   ]
  },
  {
   "cell_type": "markdown",
   "id": "eef9d817",
   "metadata": {},
   "source": [
    "### 3. Multiple inheritance\n",
    "\n",
    "One child inheriting from two parents"
   ]
  },
  {
   "cell_type": "code",
   "execution_count": null,
   "id": "8d849345",
   "metadata": {},
   "outputs": [],
   "source": [
    "#parent\n",
    "class A:\n",
    "    def m1(self):\n",
    "        print('Class A, method 1')\n",
    "    def m2(self):\n",
    "        print('Class A, method 2')\n",
    "\n",
    "#parent\n",
    "class B:\n",
    "    def m3(self):\n",
    "        print('Class B, method 3')\n",
    "    def m4(self):\n",
    "        print('Class B, method 4')\n",
    "\n",
    "#child\n",
    "class C(A,B):\n",
    "    def m5(self):\n",
    "        print('Class C, method 5')\n",
    "    def m6(self):\n",
    "        print('Class C, method 6')"
   ]
  },
  {
   "cell_type": "markdown",
   "id": "5f4bb356",
   "metadata": {},
   "source": [
    "### 4. Hirerachical inheritance\n",
    "\n",
    "Two children inheriting from a single parent"
   ]
  },
  {
   "cell_type": "code",
   "execution_count": 1,
   "id": "2af9f0fc",
   "metadata": {},
   "outputs": [],
   "source": [
    "#keep in mind the last code without inheritance we wrote\n",
    "\n",
    "#parent\n",
    "class A:\n",
    "    def m1(self):\n",
    "        print('Class A, method 1')\n",
    "    def m2(self):\n",
    "        print('Class A, method 2')\n",
    "\n",
    "#first child\n",
    "class B(A):\n",
    "    def m3(self):\n",
    "        print('Class B, method 3')\n",
    "    def m4(self):\n",
    "        print('Class B, method 4')\n",
    "\n",
    "#second child\n",
    "class C(A):\n",
    "    def m5(self):\n",
    "        print('Class C, method 5')\n",
    "    def m6(self):\n",
    "        print('Class C, method 6')"
   ]
  },
  {
   "cell_type": "code",
   "execution_count": 2,
   "id": "409c6d6e",
   "metadata": {},
   "outputs": [
    {
     "name": "stdout",
     "output_type": "stream",
     "text": [
      "Class A, method 2\n"
     ]
    }
   ],
   "source": [
    "c = C()\n",
    "\n",
    "c.m2()"
   ]
  },
  {
   "cell_type": "code",
   "execution_count": 16,
   "id": "929b2482",
   "metadata": {},
   "outputs": [
    {
     "name": "stdout",
     "output_type": "stream",
     "text": [
      "Class A, method 2\n"
     ]
    }
   ],
   "source": [
    "c.m2()"
   ]
  },
  {
   "cell_type": "markdown",
   "id": "998f58ea",
   "metadata": {},
   "source": [
    "### 5. Hybrid inheritance\n",
    "\n",
    "A combination of all the above types of inheritance.\n"
   ]
  },
  {
   "cell_type": "code",
   "execution_count": 18,
   "id": "8d867f70",
   "metadata": {},
   "outputs": [],
   "source": [
    "#parent\n",
    "class A:\n",
    "    pass\n",
    "\n",
    "#first child of A\n",
    "class B(A):\n",
    "    pass\n",
    "\n",
    "#second child of A\n",
    "class C(A):\n",
    "    pass\n",
    "\n",
    "#child benefiting from other children\n",
    "class D(B, C):\n",
    "    pass\n",
    "\n",
    "\n",
    "#Class B and C share the same parent - hirerachical\n",
    "#Class D has a direct relationship with the parent and the second child"
   ]
  },
  {
   "cell_type": "markdown",
   "id": "5d03aaef",
   "metadata": {},
   "source": [
    "### Using super() to access the constructor and methods of the parent class\n"
   ]
  },
  {
   "cell_type": "code",
   "execution_count": 3,
   "id": "72bce316",
   "metadata": {},
   "outputs": [],
   "source": [
    "class A:\n",
    "    def m1(self):\n",
    "        print('Class A, method 1')\n",
    "    def m2(self):\n",
    "        print('Class A, method 2')\n",
    "\n",
    "class B:\n",
    "    def m3(self):\n",
    "        super().m1()\n",
    "        print('Class B, method 3')\n",
    "    def m4(self):\n",
    "        super().m2()\n",
    "        print('Class B, method 4')"
   ]
  },
  {
   "cell_type": "markdown",
   "id": "a03aabac",
   "metadata": {},
   "source": [
    "## Polymorphism\n",
    "\n",
    "Means that one thing can take multiple forms. Thinking about this literally, we human beings are polymorphic, we have different forms, as the situation changes, we change ourselves, the way we behave around friends, is not the same way we behave in the office. \n",
    "\n",
    "In OOP therefore, objects can have multiple forms. There are 4 kinds of polymorphism:\n",
    "\n",
    "- Duck typing\n",
    "- Operator overloading\n",
    "- Method overloading\n",
    "- Method overriding"
   ]
  },
  {
   "cell_type": "markdown",
   "id": "4d80f286",
   "metadata": {},
   "source": [
    "### 1. Duck typing\n",
    "\n",
    "- Here we have a function that takes an object and calls a method on it without caring about the object's type\n",
    "- Duck typing means that as long as the object has the required method, it can be used without caring about the object's type\n",
    "- Example: a duck and a dog can both have the quack() method and therefore can be treated the same in the code without checking for their specifc types"
   ]
  },
  {
   "cell_type": "code",
   "execution_count": 49,
   "id": "ded2d477",
   "metadata": {},
   "outputs": [],
   "source": [
    "class Duck:\n",
    "    def quack(self):\n",
    "        return('Quack')\n",
    "    \n",
    "class Dog:\n",
    "    def quack(self):\n",
    "        return('Woof')\n",
    "\n",
    "def make_sound(animal):\n",
    "    animal.quack()"
   ]
  },
  {
   "cell_type": "code",
   "execution_count": 50,
   "id": "d6884f60",
   "metadata": {},
   "outputs": [
    {
     "name": "stdout",
     "output_type": "stream",
     "text": [
      "Woof\n",
      "Quack\n"
     ]
    }
   ],
   "source": [
    "#creating the objects\n",
    "\n",
    "duck = Duck()\n",
    "dog = Dog()\n",
    "\n",
    "print(dog.quack())\n",
    "print(duck.quack())"
   ]
  },
  {
   "cell_type": "markdown",
   "id": "d0c4ac4e",
   "metadata": {},
   "source": []
  },
  {
   "cell_type": "code",
   "execution_count": 1,
   "id": "b7872915",
   "metadata": {},
   "outputs": [
    {
     "name": "stdout",
     "output_type": "stream",
     "text": [
      "16\n",
      "4\n"
     ]
    }
   ],
   "source": [
    "#python functions displaying polymorphism\n",
    "\n",
    "print(len('Data engineering'))\n",
    "print(len([123, 456, 789, 102]))"
   ]
  },
  {
   "cell_type": "markdown",
   "id": "3bf14457",
   "metadata": {},
   "source": [
    "The len function exhibits polymorphism because it can be used with different types of objects (strings and lists in this case) that provide the required len method. \n",
    "\n",
    "This code demonstrates duck typing because it doesn't explicity check the object's class(it doesn't care)."
   ]
  },
  {
   "cell_type": "markdown",
   "id": "e298a48f",
   "metadata": {},
   "source": [
    "### 2. Operator overloading\n",
    "\n",
    "- Arithmetic operations like +,-, *,/ are actions I can perform on objects\n",
    "- Operator loading therefore lets me  define what those actions mean for instances of my own classes\n",
    "- This is done using '__add__'"
   ]
  },
  {
   "cell_type": "code",
   "execution_count": 23,
   "id": "a20a89e5",
   "metadata": {},
   "outputs": [],
   "source": [
    "class Point:\n",
    "    def __init__(self, x, y):\n",
    "        self.x = x\n",
    "        self.y = y\n",
    "        \n",
    "    \n",
    "    def __add__(self,other):\n",
    "        return Point(self.x+other.x, self.y+other.y)"
   ]
  },
  {
   "cell_type": "code",
   "execution_count": 24,
   "id": "f751b653",
   "metadata": {},
   "outputs": [
    {
     "name": "stdout",
     "output_type": "stream",
     "text": [
      "<__main__.Point object at 0x00000127606CBE80>\n"
     ]
    }
   ],
   "source": [
    "#creating two objects with the same blueprint\n",
    "\n",
    "p1 = Point(2,3)\n",
    "p2 = Point(3,4)\n",
    "\n",
    "result = p1 + p2\n",
    "print(result)"
   ]
  },
  {
   "cell_type": "code",
   "execution_count": 25,
   "id": "e2fcaca9",
   "metadata": {},
   "outputs": [
    {
     "name": "stdout",
     "output_type": "stream",
     "text": [
      "5 7\n"
     ]
    }
   ],
   "source": [
    "print(result.x, result.y)"
   ]
  },
  {
   "cell_type": "markdown",
   "id": "7074191d",
   "metadata": {},
   "source": [
    "### 3. Method overloading\n",
    "\n",
    "- Here we have a method with the capacity to house or take in different number of parameters - a very good example here is our round() method\n",
    "- Method overloading allows me to define multiple versions of a method with different parameter lists\n",
    "- When you call the method, the appropriate version is choosen based on the arguments you provide"
   ]
  },
  {
   "cell_type": "code",
   "execution_count": 26,
   "id": "e8204eb4",
   "metadata": {},
   "outputs": [
    {
     "name": "stdout",
     "output_type": "stream",
     "text": [
      "46\n",
      "45.981\n"
     ]
    }
   ],
   "source": [
    "#see what I mean\n",
    "\n",
    "#first form - pass only the number you wish to round up - default state says it rounds the number to a whole number\n",
    "check1 = round(45.9800001)\n",
    "print(check1)\n",
    "\n",
    "#second form - pass the number and the number of decimal places\n",
    "check2 = round(45.98076512, 3)\n",
    "print(check2)"
   ]
  },
  {
   "cell_type": "code",
   "execution_count": 33,
   "id": "a3a12300",
   "metadata": {},
   "outputs": [],
   "source": [
    "#let me create something similar\n",
    "\n",
    "class Calculator:\n",
    "    def calculate(self, a, b=None):\n",
    "        if b is None:\n",
    "            return a*2\n",
    "        else:\n",
    "            return a*b\n",
    "my_calc = Calculator()"
   ]
  },
  {
   "cell_type": "code",
   "execution_count": 34,
   "id": "c4474626",
   "metadata": {},
   "outputs": [
    {
     "name": "stdout",
     "output_type": "stream",
     "text": [
      "10\n",
      "50\n"
     ]
    }
   ],
   "source": [
    "print(my_calc.calculate(5))\n",
    "print(my_calc.calculate(5,10))"
   ]
  },
  {
   "cell_type": "markdown",
   "id": "f10cd9b2",
   "metadata": {},
   "source": [
    "### 4. Method overriding\n",
    "\n",
    "- First I have a parent class with a method\n",
    "- When I create a subclas, I can now define the same method with the **same name**\n",
    "- Method overriding means that I am replacing the parent's method with a new implementation in the subclass\n",
    "- This allows me to customize the behaviour of the method for the subclass without changing the parent's behaviour"
   ]
  },
  {
   "cell_type": "code",
   "execution_count": 4,
   "id": "474d6a16",
   "metadata": {},
   "outputs": [],
   "source": [
    "class A:\n",
    "    def m1(self):\n",
    "        print('Class A, method 1')\n",
    "    def m2(self):\n",
    "        print('Class A, method 2')\n",
    "\n",
    "class B(A):\n",
    "    def m1(self):\n",
    "        super().m1()\n",
    "        print('I changed the output!')\n"
   ]
  },
  {
   "cell_type": "code",
   "execution_count": 5,
   "id": "d28bad50",
   "metadata": {},
   "outputs": [
    {
     "name": "stdout",
     "output_type": "stream",
     "text": [
      "Class A, method 1\n",
      "I changed the output!\n"
     ]
    }
   ],
   "source": [
    "b = B()\n",
    "\n",
    "#method overriding in action\n",
    "b.m1()"
   ]
  },
  {
   "cell_type": "markdown",
   "id": "43a4b600",
   "metadata": {},
   "source": [
    "## Abstraction\n",
    "\n",
    "This means hiding. It simplifies complex functionalities by focussing on what an object does rather than how it does it. It hides the inner workings of an object and exposes only the essential features you need to interact with it.\n",
    "\n",
    "For example, the light switch is an abstracted object of all the internal workings behind it. We only know that when we flip the switch it either comes on or not."
   ]
  },
  {
   "cell_type": "markdown",
   "id": "d390fab2",
   "metadata": {},
   "source": [
    "## Encapsulation\n",
    "\n",
    "This hides data from external world. It protects the data within the class and exposes methods to the world."
   ]
  },
  {
   "cell_type": "markdown",
   "id": "3947a275",
   "metadata": {},
   "source": [
    "### 1. Private methods"
   ]
  },
  {
   "cell_type": "code",
   "execution_count": 9,
   "id": "1e26ffbe",
   "metadata": {},
   "outputs": [],
   "source": [
    "class Car:\n",
    "    def __init__(self):\n",
    "        self.__updateSoftware()\n",
    "        \n",
    "    def drive(self):\n",
    "        print('Driving')\n",
    "        \n",
    "    def __updateSoftware(self):\n",
    "        print('Updating software....')\n"
   ]
  },
  {
   "cell_type": "code",
   "execution_count": 10,
   "id": "7dff5afd",
   "metadata": {},
   "outputs": [
    {
     "name": "stdout",
     "output_type": "stream",
     "text": [
      "Updating software\n",
      "Driving\n"
     ]
    }
   ],
   "source": [
    "myCar = Car()\n",
    "myCar.drive()"
   ]
  },
  {
   "cell_type": "markdown",
   "id": "eec4c992",
   "metadata": {},
   "source": [
    "### 2. Private variables"
   ]
  },
  {
   "cell_type": "code",
   "execution_count": 11,
   "id": "bf54805d",
   "metadata": {},
   "outputs": [],
   "source": [
    "class Car:\n",
    "    __maxSpeed = 0\n",
    "    __name = ''\n",
    "    \n",
    "    def __init__(self):\n",
    "        self.__maxSpeed = 200\n",
    "        self.__name = 'Super car'\n",
    "    \n",
    "    def drive(self):\n",
    "        print('Max speed is: ', self.__maxSpeed)"
   ]
  },
  {
   "cell_type": "code",
   "execution_count": 12,
   "id": "574e1495",
   "metadata": {},
   "outputs": [
    {
     "name": "stdout",
     "output_type": "stream",
     "text": [
      "Max speed is:  200\n"
     ]
    }
   ],
   "source": [
    "myCar = Car()\n",
    "myCar.drive()"
   ]
  },
  {
   "cell_type": "markdown",
   "id": "9d3025e4",
   "metadata": {},
   "source": [
    "### Using setter and getter"
   ]
  },
  {
   "cell_type": "code",
   "execution_count": 19,
   "id": "542dc74e",
   "metadata": {},
   "outputs": [],
   "source": [
    "class Student:\n",
    "    \n",
    "    __college = 'LMN'\n",
    "    def __init__(self, name, rno, marks):\n",
    "        self.__name = name\n",
    "        self.__rno = rno\n",
    "        self.__marks = marks\n",
    "        \n",
    "    def display(self):\n",
    "        print('Name: {}, Roll_number: {}, Marks: {}'.format(self.name, self.rno, self.marks))\n",
    "        print('College:', self.__college)\n",
    "        \n",
    "    def setCollege(self, cname):\n",
    "        self.__college = cname\n",
    "        \n",
    "    def getName(self):\n",
    "        return self.__name"
   ]
  },
  {
   "cell_type": "code",
   "execution_count": 20,
   "id": "0b65fea0",
   "metadata": {},
   "outputs": [
    {
     "name": "stdout",
     "output_type": "stream",
     "text": [
      "Help on class Student in module __main__:\n",
      "\n",
      "class Student(builtins.object)\n",
      " |  Student(name, rno, marks)\n",
      " |  \n",
      " |  Methods defined here:\n",
      " |  \n",
      " |  __init__(self, name, rno, marks)\n",
      " |      Initialize self.  See help(type(self)) for accurate signature.\n",
      " |  \n",
      " |  display(self)\n",
      " |  \n",
      " |  getName(self)\n",
      " |  \n",
      " |  setCollege(self, cname)\n",
      " |  \n",
      " |  ----------------------------------------------------------------------\n",
      " |  Data descriptors defined here:\n",
      " |  \n",
      " |  __dict__\n",
      " |      dictionary for instance variables (if defined)\n",
      " |  \n",
      " |  __weakref__\n",
      " |      list of weak references to the object (if defined)\n",
      "\n"
     ]
    }
   ],
   "source": [
    "help(Student)"
   ]
  },
  {
   "cell_type": "markdown",
   "id": "dfb08089",
   "metadata": {},
   "source": [
    "Notice in the above that the __college data (it is a private variable remember) is not included in the docs when we called help(Student). "
   ]
  },
  {
   "cell_type": "code",
   "execution_count": 22,
   "id": "b105319c",
   "metadata": {},
   "outputs": [],
   "source": [
    "class Student2:\n",
    "    \n",
    "    __college = 'LMN'\n",
    "    \n",
    "    #I added a static variable here\n",
    "    college2 = 'LMER'\n",
    "    \n",
    "    def __init__(self, name, rno, marks):\n",
    "        self.__name = name\n",
    "        self.__rno = rno\n",
    "        self.__marks = marks\n",
    "        \n",
    "    def display(self):\n",
    "        print('Name: {}, Roll_number: {}, Marks: {}'.format(self.name, self.rno, self.marks))\n",
    "        print('College:', self.__college)\n",
    "        \n",
    "    def setCollege(self, cname):\n",
    "        self.__college = cname\n",
    "        \n",
    "    def getName(self):\n",
    "        return self.__name"
   ]
  },
  {
   "cell_type": "code",
   "execution_count": 23,
   "id": "20d06fb5",
   "metadata": {},
   "outputs": [
    {
     "name": "stdout",
     "output_type": "stream",
     "text": [
      "Help on class Student2 in module __main__:\n",
      "\n",
      "class Student2(builtins.object)\n",
      " |  Student2(name, rno, marks)\n",
      " |  \n",
      " |  Methods defined here:\n",
      " |  \n",
      " |  __init__(self, name, rno, marks)\n",
      " |      Initialize self.  See help(type(self)) for accurate signature.\n",
      " |  \n",
      " |  display(self)\n",
      " |  \n",
      " |  getName(self)\n",
      " |  \n",
      " |  setCollege(self, cname)\n",
      " |  \n",
      " |  ----------------------------------------------------------------------\n",
      " |  Data descriptors defined here:\n",
      " |  \n",
      " |  __dict__\n",
      " |      dictionary for instance variables (if defined)\n",
      " |  \n",
      " |  __weakref__\n",
      " |      list of weak references to the object (if defined)\n",
      " |  \n",
      " |  ----------------------------------------------------------------------\n",
      " |  Data and other attributes defined here:\n",
      " |  \n",
      " |  college2 = 'LMER'\n",
      "\n"
     ]
    }
   ],
   "source": [
    "help(Student2)"
   ]
  },
  {
   "cell_type": "markdown",
   "id": "fc86257b",
   "metadata": {},
   "source": [
    "Here, the data is shown here"
   ]
  },
  {
   "cell_type": "markdown",
   "id": "86130401",
   "metadata": {},
   "source": [
    "## Create a class Animal as a base class and define method animal_attribute. Create another class Tiger which is inheriting Animal and access the base class method."
   ]
  },
  {
   "cell_type": "code",
   "execution_count": 49,
   "id": "2d958c16",
   "metadata": {},
   "outputs": [],
   "source": [
    "class Animal:\n",
    "    def animal_attribute(self, sound, color):\n",
    "        self.sound = sound\n",
    "        self.color = color\n",
    "        return('My pet {} and is {} in color'.format(self.sound, self.color))\n",
    "\n",
    "class Tiger(Animal):\n",
    "    def new_func(self):\n",
    "        print('New function')"
   ]
  },
  {
   "cell_type": "code",
   "execution_count": 51,
   "id": "ade263ce",
   "metadata": {},
   "outputs": [
    {
     "name": "stdout",
     "output_type": "stream",
     "text": [
      "My pet roars and is black in color\n"
     ]
    }
   ],
   "source": [
    "pet = Tiger()\n",
    "\n",
    "print(pet.animal_attribute('roars', 'black'))"
   ]
  },
  {
   "cell_type": "markdown",
   "id": "7cbfa8ad",
   "metadata": {},
   "source": [
    "## Create a class Cop. Initialize its name, age , work experience. Define methods to display and update the details. Create another class Mission which extends the class Cop. Define method add_mission _details. Select an object of Cop and access methods of base class to get information for a particular cop and make it available for mission."
   ]
  },
  {
   "cell_type": "code",
   "execution_count": 62,
   "id": "149445e1",
   "metadata": {},
   "outputs": [],
   "source": [
    "class Cop:\n",
    "    \n",
    "    def __init__(self, name, age, work, experience):\n",
    "        self.name = name\n",
    "        self.age = age\n",
    "        self.work = work\n",
    "        self.experience = experience\n",
    "    \n",
    "    def display(self):\n",
    "        return(self.name, self.age, self.work, self.experience)\n",
    "    \n",
    "    def update_details(self, name, age, work, experience):\n",
    "        self.name = name\n",
    "        self.age = age\n",
    "        self.work = work\n",
    "        self.experience = experience\n",
    "        return 'Update completed!'\n",
    "     \n",
    "class Mission(Cop):\n",
    "    def add_mission_details(self, country, LGA):\n",
    "        self.country = country\n",
    "        self.LGA = LGA\n",
    "        print('Name: {}, Age: {}, Work: {}, Experience: {}'.format(self.name, self.age, self.work, self.experience))\n",
    "        return('Posted to {} in {} LGA'.format(self.country, self.LGA))\n",
    "         "
   ]
  },
  {
   "cell_type": "code",
   "execution_count": 63,
   "id": "d1d71293",
   "metadata": {},
   "outputs": [],
   "source": [
    "police = Mission('Ken', 50, 'Director General', 'High')"
   ]
  },
  {
   "cell_type": "code",
   "execution_count": 64,
   "id": "18b94d26",
   "metadata": {},
   "outputs": [
    {
     "name": "stdout",
     "output_type": "stream",
     "text": [
      "Name: Ken, Age: 50, Work: Director General, Experience: High\n",
      "Posted to Nigeria in Chikun LGA\n"
     ]
    }
   ],
   "source": [
    "print(police.add_mission_details('Nigeria', 'Chikun'))"
   ]
  },
  {
   "cell_type": "code",
   "execution_count": null,
   "id": "a02fed45",
   "metadata": {},
   "outputs": [],
   "source": []
  }
 ],
 "metadata": {
  "kernelspec": {
   "display_name": "Python 3 (ipykernel)",
   "language": "python",
   "name": "python3"
  },
  "language_info": {
   "codemirror_mode": {
    "name": "ipython",
    "version": 3
   },
   "file_extension": ".py",
   "mimetype": "text/x-python",
   "name": "python",
   "nbconvert_exporter": "python",
   "pygments_lexer": "ipython3",
   "version": "3.9.13"
  }
 },
 "nbformat": 4,
 "nbformat_minor": 5
}
