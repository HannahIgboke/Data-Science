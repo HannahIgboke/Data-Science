{
 "cells": [
  {
   "cell_type": "markdown",
   "id": "3c1dafe1",
   "metadata": {},
   "source": [
    "# Decision control statements"
   ]
  },
  {
   "cell_type": "code",
   "execution_count": 1,
   "id": "26e9685d",
   "metadata": {},
   "outputs": [
    {
     "name": "stdout",
     "output_type": "stream",
     "text": [
      "Eligible\n"
     ]
    }
   ],
   "source": [
    "age = 34\n",
    "\n",
    "if age > 30:\n",
    "    print('Eligible')\n",
    "else:\n",
    "    print('Underage')"
   ]
  },
  {
   "cell_type": "code",
   "execution_count": 2,
   "id": "81262c79",
   "metadata": {},
   "outputs": [
    {
     "name": "stdout",
     "output_type": "stream",
     "text": [
      "Eligible\n"
     ]
    }
   ],
   "source": [
    "#Another way to write the above\n",
    "\n",
    "if age > 30:\n",
    "    message = 'Eligible'\n",
    "else: \n",
    "    message = 'Not eligible'\n",
    "print(message)"
   ]
  },
  {
   "cell_type": "code",
   "execution_count": 5,
   "id": "b84b1045",
   "metadata": {},
   "outputs": [
    {
     "name": "stdout",
     "output_type": "stream",
     "text": [
      "Eligible\n"
     ]
    }
   ],
   "source": [
    "#An even better way to write the above\n",
    "# This is known as ternary operators\n",
    "\n",
    "message = 'Eligible' if age>30 else 'Not Eligible'\n",
    "print(message)"
   ]
  },
  {
   "cell_type": "markdown",
   "id": "56797165",
   "metadata": {},
   "source": [
    "## Nested if-else statements"
   ]
  },
  {
   "cell_type": "code",
   "execution_count": 9,
   "id": "cb3b7990",
   "metadata": {},
   "outputs": [
    {
     "name": "stdout",
     "output_type": "stream",
     "text": [
      "You are up to age but not a citizen of Nigeria.\n"
     ]
    }
   ],
   "source": [
    "#these are useful when you have a series of conditions to check and different actions to take based on those conditions\n",
    "\n",
    "age = 34\n",
    "country = 'USA'\n",
    "\n",
    "if age >= 18:\n",
    "    if country == 'Nigeria':\n",
    "        print('You can proceed to vote')\n",
    "    else:\n",
    "        print('You are up to age but not a citizen of Nigeria.')\n",
    "else:\n",
    "    print('You are not of age to vote')"
   ]
  },
  {
   "cell_type": "code",
   "execution_count": 18,
   "id": "f3efb076",
   "metadata": {},
   "outputs": [
    {
     "name": "stdout",
     "output_type": "stream",
     "text": [
      "Hannah got a passing grrade of: A\n"
     ]
    }
   ],
   "source": [
    "#the idea here is that for a particular grade, we want to check if it falls within a standard range and tehn print out the grades accordingly\n",
    "#if the grade received is between 65 and 100 then we proceed to finding what grade suits the student best\n",
    "#if however, the grade entered is above 100,the corresponding output is displayed\n",
    "\n",
    "grade = 91\n",
    "\n",
    "if grade >=65 and grade <=100:\n",
    "    print('Hannah got a passing grrade of:', end = ' ')\n",
    "    \n",
    "    if grade >= 90:\n",
    "        print('A')\n",
    "    elif grade >= 80:\n",
    "        print('B')\n",
    "    elif grade >= 70:\n",
    "        print('C')\n",
    "    elif grade >=65:\n",
    "        print('D')\n",
    "elif grade > 100:\n",
    "    print('Invalid input')\n",
    "else:\n",
    "    print('Failing grade')"
   ]
  },
  {
   "cell_type": "markdown",
   "id": "e3d7dffc",
   "metadata": {},
   "source": [
    "## Loops"
   ]
  },
  {
   "cell_type": "markdown",
   "id": "6df5e85c",
   "metadata": {},
   "source": [
    "### For loops\n",
    "\n",
    "![For loop](for-loop-python.jpg)"
   ]
  },
  {
   "cell_type": "code",
   "execution_count": 19,
   "id": "6ef80539",
   "metadata": {},
   "outputs": [],
   "source": [
    "integers = [1,2,3,4,5,6,7]"
   ]
  },
  {
   "cell_type": "code",
   "execution_count": 20,
   "id": "eae4377b",
   "metadata": {},
   "outputs": [
    {
     "name": "stdout",
     "output_type": "stream",
     "text": [
      "1\n",
      "2\n",
      "3\n",
      "4\n",
      "5\n",
      "6\n",
      "7\n"
     ]
    }
   ],
   "source": [
    "#where num is a temporary variable\n",
    "#for each number in the integers list\n",
    "\n",
    "for num in integers:\n",
    "    print(num)"
   ]
  },
  {
   "cell_type": "code",
   "execution_count": 21,
   "id": "845b89f9",
   "metadata": {},
   "outputs": [
    {
     "name": "stdout",
     "output_type": "stream",
     "text": [
      "2\n",
      "4\n",
      "6\n",
      "8\n",
      "10\n",
      "12\n",
      "14\n"
     ]
    }
   ],
   "source": [
    "for num in integers:\n",
    "    print(num+num)"
   ]
  },
  {
   "cell_type": "markdown",
   "id": "1aea134d",
   "metadata": {},
   "source": [
    "### with dictionaries"
   ]
  },
  {
   "cell_type": "code",
   "execution_count": 22,
   "id": "5ba1678b",
   "metadata": {},
   "outputs": [],
   "source": [
    "ice_cream ={'name': 'Cocoa', \"weekly intake\": 5, 'fav ice cream': ['MCC', 'Chocolate']}"
   ]
  },
  {
   "cell_type": "code",
   "execution_count": 24,
   "id": "9a5c9d7a",
   "metadata": {},
   "outputs": [
    {
     "name": "stdout",
     "output_type": "stream",
     "text": [
      "Cocoa\n",
      "5\n",
      "['MCC', 'Chocolate']\n"
     ]
    }
   ],
   "source": [
    "#when iterating over a dictionary we need to specify what we want to pull from the dictionary\n",
    "\n",
    "for cream in ice_cream.values():\n",
    "    print(cream)"
   ]
  },
  {
   "cell_type": "code",
   "execution_count": 28,
   "id": "3b9ec9dd",
   "metadata": {},
   "outputs": [
    {
     "name": "stdout",
     "output_type": "stream",
     "text": [
      "name -> Cocoa\n",
      "weekly intake -> 5\n",
      "fav ice cream -> ['MCC', 'Chocolate']\n"
     ]
    }
   ],
   "source": [
    "for key, value in ice_cream.items():\n",
    "    print(key, '->', value)"
   ]
  },
  {
   "cell_type": "code",
   "execution_count": 18,
   "id": "3b32b8ab",
   "metadata": {},
   "outputs": [
    {
     "name": "stdout",
     "output_type": "stream",
     "text": [
      "10\n",
      "20\n",
      "30\n",
      "Finish\n"
     ]
    }
   ],
   "source": [
    "tup = (10,20,30)\n",
    "\n",
    "for tp in tup:\n",
    "    print(tp)\n",
    "print('Finish')"
   ]
  },
  {
   "cell_type": "code",
   "execution_count": 19,
   "id": "ca78fa6f",
   "metadata": {},
   "outputs": [
    {
     "name": "stdout",
     "output_type": "stream",
     "text": [
      "Product = 120\n"
     ]
    }
   ],
   "source": [
    "tup = (1,2,3,4,5)\n",
    "prod =1\n",
    "\n",
    "for item in tup:\n",
    "    prod *= item\n",
    "print('Product = {}'.format(prod))"
   ]
  },
  {
   "cell_type": "code",
   "execution_count": 21,
   "id": "70d3ccb3",
   "metadata": {},
   "outputs": [
    {
     "name": "stdout",
     "output_type": "stream",
     "text": [
      "The count is:  1\n",
      "The count is:  3\n",
      "The count is:  5\n",
      "The count is:  7\n",
      "The count is:  9\n",
      "Done with the loop!\n"
     ]
    }
   ],
   "source": [
    "#iterating over a range where 1 = start point, 10 = end point, 2 = increments\n",
    "\n",
    "for count in range(1,10,2):\n",
    "    print('The count is: ', count)\n",
    "print('Done with the loop!')"
   ]
  },
  {
   "cell_type": "code",
   "execution_count": 24,
   "id": "f9092c6d",
   "metadata": {},
   "outputs": [
    {
     "name": "stdout",
     "output_type": "stream",
     "text": [
      "10\n",
      "0\n",
      "20\n",
      "1\n",
      "30\n",
      "2\n",
      "40\n",
      "3\n",
      "60\n",
      "4\n"
     ]
    }
   ],
   "source": [
    "my_list = [10,20,30,40,60]\n",
    "\n",
    "for tp in range(len(my_list)):\n",
    "    print(my_list[tp])\n",
    "    print(tp)"
   ]
  },
  {
   "cell_type": "code",
   "execution_count": 27,
   "id": "379ed2d1",
   "metadata": {},
   "outputs": [
    {
     "name": "stdout",
     "output_type": "stream",
     "text": [
      "Dict iteration\n",
      "num 1\n",
      "num 2\n"
     ]
    }
   ],
   "source": [
    "print('Dict iteration')\n",
    "\n",
    "dict = {}\n",
    "dict['num 1'] = 'Hannah'\n",
    "dict['num 2'] = 'Jane'\n",
    "\n",
    "for key in dict.keys():\n",
    "    print(key)"
   ]
  },
  {
   "cell_type": "markdown",
   "id": "2733e493",
   "metadata": {},
   "source": [
    "## nested for loops - a for loop within a for loop\n"
   ]
  },
  {
   "cell_type": "code",
   "execution_count": 29,
   "id": "30823e47",
   "metadata": {},
   "outputs": [],
   "source": [
    "flavors = ['vanilla', 'choco', 'cookie dough']\n",
    "\n",
    "toppings = ['marsh', 'oreo', 'hot fudge']"
   ]
  },
  {
   "cell_type": "code",
   "execution_count": 33,
   "id": "fb6d09bb",
   "metadata": {},
   "outputs": [
    {
     "name": "stdout",
     "output_type": "stream",
     "text": [
      "vanilla topped with marsh\n",
      "vanilla topped with oreo\n",
      "vanilla topped with hot fudge\n",
      "choco topped with marsh\n",
      "choco topped with oreo\n",
      "choco topped with hot fudge\n",
      "cookie dough topped with marsh\n",
      "cookie dough topped with oreo\n",
      "cookie dough topped with hot fudge\n"
     ]
    }
   ],
   "source": [
    "for one in flavors:\n",
    "    for two in toppings:\n",
    "        print(one, 'topped with', two)"
   ]
  },
  {
   "cell_type": "markdown",
   "id": "41311361",
   "metadata": {},
   "source": [
    "## While loops\n",
    "\n",
    "![While](while-loop.jpg)"
   ]
  },
  {
   "cell_type": "code",
   "execution_count": 34,
   "id": "9f9e2489",
   "metadata": {},
   "outputs": [
    {
     "name": "stdout",
     "output_type": "stream",
     "text": [
      "0\n",
      "1\n",
      "2\n",
      "3\n",
      "4\n"
     ]
    }
   ],
   "source": [
    "number = 0\n",
    "while number < 5:\n",
    "    print(number)\n",
    "    number = number + 1 #a counter"
   ]
  },
  {
   "cell_type": "code",
   "execution_count": 35,
   "id": "e0eaf6c6",
   "metadata": {},
   "outputs": [
    {
     "name": "stdout",
     "output_type": "stream",
     "text": [
      "1\n",
      "2\n",
      "3\n",
      "4\n",
      "5\n"
     ]
    }
   ],
   "source": [
    "number = 0\n",
    "while number < 5:\n",
    "    number = number + 1\n",
    "    print(number)    "
   ]
  },
  {
   "cell_type": "code",
   "execution_count": 39,
   "id": "be704360",
   "metadata": {},
   "outputs": [
    {
     "name": "stdout",
     "output_type": "stream",
     "text": [
      "0\n",
      "1\n",
      "2\n",
      "3\n"
     ]
    }
   ],
   "source": [
    "number = 0\n",
    "\n",
    "while number < 5:\n",
    "    print(number)\n",
    "    if number == 3:\n",
    "        break  #stops the code execution at 3\n",
    "    number = number + 1"
   ]
  },
  {
   "cell_type": "code",
   "execution_count": 41,
   "id": "e73b5e12",
   "metadata": {},
   "outputs": [
    {
     "name": "stdout",
     "output_type": "stream",
     "text": [
      "0\n",
      "1\n",
      "2\n",
      "3\n",
      "4\n",
      "No longer < 5\n"
     ]
    }
   ],
   "source": [
    "number = 0\n",
    "\n",
    "while number < 5:\n",
    "    print(number)\n",
    "    if number == 6:\n",
    "        break\n",
    "    number = number + 1\n",
    "else:\n",
    "    print('No longer < 5')"
   ]
  },
  {
   "cell_type": "code",
   "execution_count": 3,
   "id": "8f24d9f8",
   "metadata": {
    "scrolled": false
   },
   "outputs": [],
   "source": [
    "## WARNING - INFINITE LOOP - your tab might crash\n",
    "#number = 0\n",
    "\n",
    "#while number < 5:\n",
    "    #print(number)\n",
    "    \n",
    "    #if number == 3:\n",
    "        #continue  #anything beneath this continue functgion is not executed, it just keeps going back to the start of the for loop and results in an infinite loop\n",
    "    #number = number +1\n",
    "#else:\n",
    "    #print('No longer < 5')"
   ]
  },
  {
   "cell_type": "code",
   "execution_count": 4,
   "id": "dcfdfc74",
   "metadata": {},
   "outputs": [
    {
     "name": "stdout",
     "output_type": "stream",
     "text": [
      "1\n",
      "2\n",
      "4\n",
      "5\n",
      "No longer <5\n"
     ]
    }
   ],
   "source": [
    "number = 0\n",
    "\n",
    "while number < 5:\n",
    "    number = number + 1\n",
    "    if number == 3:\n",
    "        continue\n",
    "    print(number)\n",
    "else:\n",
    "    print('No longer <5')"
   ]
  },
  {
   "cell_type": "code",
   "execution_count": 5,
   "id": "cf7cb205",
   "metadata": {},
   "outputs": [
    {
     "name": "stdout",
     "output_type": "stream",
     "text": [
      "The count is:  0\n",
      "The count is:  1\n",
      "The count is:  2\n",
      "Good bye! count is:  3\n"
     ]
    }
   ],
   "source": [
    "count = 0\n",
    "while count<3:\n",
    "    print('The count is: ', count)\n",
    "    count = count+1\n",
    "print('Good bye! count is: ', count)"
   ]
  },
  {
   "cell_type": "code",
   "execution_count": 6,
   "id": "92777137",
   "metadata": {},
   "outputs": [
    {
     "name": "stdout",
     "output_type": "stream",
     "text": [
      "Product = 120\n"
     ]
    }
   ],
   "source": [
    "tup = (1,2,3,4,5)\n",
    "\n",
    "prod = 1\n",
    "index = 0\n",
    "\n",
    "while index < len(tup):\n",
    "    prod *= tup[index]   #multiply the current value of prod by tup[index] #'index' is used as a variable to index the values\n",
    "    index +=1\n",
    "print('Product = {}'.format(prod))"
   ]
  },
  {
   "cell_type": "markdown",
   "id": "db07403b",
   "metadata": {},
   "source": [
    "## Membership operators\n",
    "\n",
    "'in' and 'not in'\n",
    "These membership operators are used to find whether a value or variable is found in a sequence"
   ]
  },
  {
   "cell_type": "code",
   "execution_count": 12,
   "id": "bc92bbf1",
   "metadata": {},
   "outputs": [
    {
     "name": "stdout",
     "output_type": "stream",
     "text": [
      "False\n",
      "True\n"
     ]
    }
   ],
   "source": [
    "my_list = [1,3,5,6,7,9]\n",
    "dict = {1:'a', 2: 'b'}\n",
    "s = 'Hannah'\n",
    "\n",
    "print(2 in my_list)\n",
    "print(2 not in my_list)"
   ]
  },
  {
   "cell_type": "code",
   "execution_count": 14,
   "id": "7c2d83d2",
   "metadata": {},
   "outputs": [
    {
     "name": "stdout",
     "output_type": "stream",
     "text": [
      "False\n"
     ]
    }
   ],
   "source": [
    "print('a' in dict)"
   ]
  },
  {
   "cell_type": "code",
   "execution_count": 15,
   "id": "4c82daef",
   "metadata": {},
   "outputs": [
    {
     "name": "stdout",
     "output_type": "stream",
     "text": [
      "True\n"
     ]
    }
   ],
   "source": [
    "print('H' in s)"
   ]
  },
  {
   "cell_type": "markdown",
   "id": "cf41db13",
   "metadata": {},
   "source": [
    "## Task\n",
    "\n",
    "Create a quiz game with multiple-choice questions, branching based on user input and calculating scores."
   ]
  },
  {
   "cell_type": "code",
   "execution_count": 1,
   "id": "184c7c4d",
   "metadata": {},
   "outputs": [
    {
     "name": "stdout",
     "output_type": "stream",
     "text": [
      "What has long neck and likes to eat leaves\n",
      "Giraffe\n",
      "Correct answer, you have:  1 point\n"
     ]
    }
   ],
   "source": [
    "# 1st attempt - testing a theory I had\n",
    "\n",
    "Question = 'What has long neck and likes to eat leaves'\n",
    "print(Question)\n",
    "\n",
    "Answer = str(input())\n",
    "\n",
    "if Answer == 'Giraffe':\n",
    "    point = 1\n",
    "    print('Correct answer, you have: ', point, 'point')\n",
    "else:\n",
    "    print('Wrong answer, you have ', 0, 'points')"
   ]
  },
  {
   "cell_type": "code",
   "execution_count": 2,
   "id": "e3a952c0",
   "metadata": {},
   "outputs": [
    {
     "name": "stdout",
     "output_type": "stream",
     "text": [
      "What has long neck and likes to eat leaves?\n",
      "Giraffe\n",
      "Correct answer, you have:  1 point\n",
      "What animal can fly?\n",
      "Dove\n",
      "Wrong answer, you have  0 points\n",
      "What is a group of lions called?\n",
      "Pride\n",
      "Correct! Total points:  2\n"
     ]
    }
   ],
   "source": [
    "#2nd attempt - expanded my theory\n",
    "#this worked but not as much as I wanted it to\n",
    "\n",
    "#Testing 1\n",
    "Questions = ['What has long neck and likes to eat leaves?', 'What animal can fly?', 'What is a group of lions called?']\n",
    "\n",
    "for question in Questions:\n",
    "    print(question)\n",
    "    Answer = str(input())\n",
    "    \n",
    "    if Answer == 'Giraffe':\n",
    "        point = 1\n",
    "        print('Correct answer, you have: ', point, 'point')\n",
    "        \n",
    "    elif Answer == 'Bird':\n",
    "        point = point+1\n",
    "        print('Correct! You have ', point, 'points')\n",
    "    \n",
    "    elif Answer == 'Pride':\n",
    "        point = point+1\n",
    "        print('Correct! Total points: ', point)\n",
    "    \n",
    "    else:\n",
    "        print('Wrong answer, you have ', 0, 'points')    "
   ]
  },
  {
   "cell_type": "code",
   "execution_count": 3,
   "id": "12269840",
   "metadata": {},
   "outputs": [
    {
     "name": "stdout",
     "output_type": "stream",
     "text": [
      "What has long neck and likes to eat leaves?\n",
      "Rabbit\n",
      "Wrong answer, you have  0 points\n",
      "What animal can fly?\n",
      "Dove\n",
      "Wrong answer, you have  0 points\n",
      "What is a group of lions called?\n",
      "Pride\n",
      "Correct! Total points:  3\n"
     ]
    }
   ],
   "source": [
    "#2nd attempt \n",
    "\n",
    "#Testing 2 - this iteration didn't work as expected\n",
    "\n",
    "Questions = ['What has long neck and likes to eat leaves?', 'What animal can fly?', 'What is a group of lions called?']\n",
    "\n",
    "for question in Questions:\n",
    "    print(question)\n",
    "    Answer = str(input())\n",
    "    \n",
    "    if Answer == 'Giraffe':\n",
    "        point = 1\n",
    "        print('Correct answer, you have: ', point, 'point')\n",
    "        \n",
    "    elif Answer == 'Bird':\n",
    "        point = point+1\n",
    "        print('Correct! You have ', point, 'points')\n",
    "    \n",
    "    elif Answer == 'Pride':\n",
    "        point = point+1\n",
    "        print('Correct! Total points: ', point)\n",
    "    \n",
    "    else:\n",
    "        print('Wrong answer, you have ', 0, 'points')    "
   ]
  },
  {
   "cell_type": "code",
   "execution_count": 3,
   "id": "cd1edafa",
   "metadata": {},
   "outputs": [
    {
     "name": "stdout",
     "output_type": "stream",
     "text": [
      "\n",
      "What has long neck and likes to eat leaves?\n",
      "Rabbit\n",
      "\n",
      "Wrong answer!\n",
      "\n",
      "What animal can fly?\n",
      "Dove\n",
      "\n",
      "Wrong answer!\n",
      "\n",
      "What is a group of lions called?\n",
      "School\n",
      "\n",
      "Wrong answer!\n",
      "\n",
      "\n",
      "Total points = 0\n"
     ]
    }
   ],
   "source": [
    "#3rd attempt \n",
    "\n",
    "# Though a bit longer, it worked\n",
    "# I intialized the score variable outside the for loop\n",
    "# Calculated the total score for each question and printed the total score outside the for loop\n",
    "\n",
    "\n",
    "Questions = ['What has long neck and likes to eat leaves?', 'What animal can fly?', 'What is a group of lions called?']\n",
    "\n",
    "score = 0\n",
    "\n",
    "for question in Questions:\n",
    "    print(f'\\n{question}')\n",
    "    Answer = str(input())\n",
    "    \n",
    "    if Answer == 'Giraffe':\n",
    "        point = 1\n",
    "        score += 1\n",
    "        print('\\nCorrect! ', point, 'point')\n",
    "        \n",
    "    elif Answer == 'Bird':\n",
    "        point = 1\n",
    "        score += 1\n",
    "        print('\\nCorrect! ', point, 'points')\n",
    "    \n",
    "    elif Answer == 'Pride':\n",
    "        point = 1\n",
    "        score += 1\n",
    "        print('\\nCorrect! Total point ', point)\n",
    "    \n",
    "    else:\n",
    "        print('\\nWrong answer!')    \n",
    "print(f'\\n\\nTotal points = {score}')"
   ]
  },
  {
   "cell_type": "code",
   "execution_count": 4,
   "id": "4daa8e79",
   "metadata": {},
   "outputs": [
    {
     "name": "stdout",
     "output_type": "stream",
     "text": [
      "\n",
      "What has long neck and likes to eat leaves?\n",
      "Giraffe\n",
      "\n",
      "Correct!  1 point\n",
      "\n",
      "What animal can fly?\n",
      "Bird\n",
      "\n",
      "Correct!  1 points\n",
      "\n",
      "What is a group of lions called?\n",
      "School\n",
      "\n",
      "Wrong answer!\n",
      "\n",
      "\n",
      "Total points = 2\n"
     ]
    }
   ],
   "source": [
    "\n",
    "Questions = ['What has long neck and likes to eat leaves?', 'What animal can fly?', 'What is a group of lions called?']\n",
    "\n",
    "score = 0\n",
    "\n",
    "for question in Questions:\n",
    "    print(f'\\n{question}')\n",
    "    Answer = str(input())\n",
    "    \n",
    "    if Answer == 'Giraffe':\n",
    "        point = 1\n",
    "        score += 1\n",
    "        print('\\nCorrect! ', point, 'point')\n",
    "        \n",
    "    elif Answer == 'Bird':\n",
    "        point = 1\n",
    "        score += 1\n",
    "        print('\\nCorrect! ', point, 'points')\n",
    "    \n",
    "    elif Answer == 'Pride':\n",
    "        point = 1\n",
    "        score += 1\n",
    "        print('\\nCorrect! Total point ', point)\n",
    "    \n",
    "    else:\n",
    "        print('\\nWrong answer!')    \n",
    "print(f'\\n\\nTotal points = {score}')"
   ]
  },
  {
   "cell_type": "markdown",
   "id": "57b5f789",
   "metadata": {},
   "source": [
    "### I am happy I was able to do this. I also know this code can be further improved upon and I look forward to doing that."
   ]
  }
 ],
 "metadata": {
  "kernelspec": {
   "display_name": "Python 3 (ipykernel)",
   "language": "python",
   "name": "python3"
  },
  "language_info": {
   "codemirror_mode": {
    "name": "ipython",
    "version": 3
   },
   "file_extension": ".py",
   "mimetype": "text/x-python",
   "name": "python",
   "nbconvert_exporter": "python",
   "pygments_lexer": "ipython3",
   "version": "3.9.13"
  }
 },
 "nbformat": 4,
 "nbformat_minor": 5
}
