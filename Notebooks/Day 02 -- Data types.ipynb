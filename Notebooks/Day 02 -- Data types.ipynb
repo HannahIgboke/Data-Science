{
 "cells": [
  {
   "cell_type": "markdown",
   "id": "26124090",
   "metadata": {},
   "source": [
    "# Data types and structures"
   ]
  },
  {
   "cell_type": "code",
   "execution_count": 2,
   "id": "46605222",
   "metadata": {},
   "outputs": [
    {
     "name": "stdout",
     "output_type": "stream",
     "text": [
      "25\n",
      "e\n",
      "n\n",
      "We are learning python ! there\n",
      "we are learning python ! \n",
      "WE ARE LEARNING PYTHON ! \n",
      "We are learning python !\n"
     ]
    }
   ],
   "source": [
    "s = \"We are learning python ! \"\n",
    "\n",
    "print(len(s))\n",
    "print(s[1])\n",
    "print(s[-4])\n",
    "print(s+ 'there')\n",
    "print(s.lower())\n",
    "print(s.upper())\n",
    "print(s.strip())"
   ]
  },
  {
   "cell_type": "code",
   "execution_count": 3,
   "id": "dda6dfad",
   "metadata": {},
   "outputs": [
    {
     "name": "stdout",
     "output_type": "stream",
     "text": [
      "7\n"
     ]
    }
   ],
   "source": [
    "print(s.find('learning'))\n",
    "\n",
    "#returns the index at which the word \"learning\" starts"
   ]
  },
  {
   "cell_type": "code",
   "execution_count": 4,
   "id": "78ab9e4d",
   "metadata": {},
   "outputs": [
    {
     "data": {
      "text/plain": [
       "'We are studying python ! '"
      ]
     },
     "execution_count": 4,
     "metadata": {},
     "output_type": "execute_result"
    }
   ],
   "source": [
    "s = s.replace('learning', 'studying')\n",
    "s"
   ]
  },
  {
   "cell_type": "code",
   "execution_count": 5,
   "id": "501a3bdc",
   "metadata": {},
   "outputs": [
    {
     "data": {
      "text/plain": [
       "['We', 'are', 'studying', 'python', '!', '']"
      ]
     },
     "execution_count": 5,
     "metadata": {},
     "output_type": "execute_result"
    }
   ],
   "source": [
    "s_splitted = s.split(\" \")\n",
    "\n",
    "s_splitted"
   ]
  },
  {
   "cell_type": "code",
   "execution_count": 6,
   "id": "6eb57348",
   "metadata": {},
   "outputs": [
    {
     "name": "stdout",
     "output_type": "stream",
     "text": [
      "<class 'list'>\n"
     ]
    }
   ],
   "source": [
    "print(type(s_splitted))"
   ]
  },
  {
   "cell_type": "code",
   "execution_count": 7,
   "id": "4dadbf81",
   "metadata": {},
   "outputs": [
    {
     "data": {
      "text/plain": [
       "'We are studying python ! '"
      ]
     },
     "execution_count": 7,
     "metadata": {},
     "output_type": "execute_result"
    }
   ],
   "source": [
    "#joining a list of elements into a single string\n",
    "#this joins the elements of thes_splitted variable into a sentence or single string with each word seperated from the other by spaces\n",
    "\n",
    "s_joined = ' '.join(s_splitted)\n",
    "\n",
    "s_joined"
   ]
  },
  {
   "cell_type": "code",
   "execution_count": 8,
   "id": "907e108c",
   "metadata": {},
   "outputs": [
    {
     "name": "stdout",
     "output_type": "stream",
     "text": [
      "T\n",
      "ThatA\n",
      "TaAgy\n",
      "TAy\n",
      "yugIAtahT\n"
     ]
    }
   ],
   "source": [
    "y = 'ThatAIguy'\n",
    "\n",
    "print(y[-9])\n",
    "print(y[:5])\n",
    "print(y[::2])  #loops over the string and selects the second letter at each interval\n",
    "print(y[::4])\n",
    "print(y[::-1])"
   ]
  },
  {
   "cell_type": "markdown",
   "id": "9e8453e7",
   "metadata": {},
   "source": [
    "## Lists"
   ]
  },
  {
   "cell_type": "code",
   "execution_count": 9,
   "id": "b6fccb02",
   "metadata": {},
   "outputs": [
    {
     "name": "stdout",
     "output_type": "stream",
     "text": [
      "<class 'list'>\n"
     ]
    }
   ],
   "source": [
    "mental = []\n",
    "print(type(mental))"
   ]
  },
  {
   "cell_type": "code",
   "execution_count": 10,
   "id": "e7ebfdf2",
   "metadata": {},
   "outputs": [
    {
     "name": "stdout",
     "output_type": "stream",
     "text": [
      "<class 'list'>\n",
      "4\n",
      "['shark', 'cuttleship']\n"
     ]
    }
   ],
   "source": [
    "mental = ['shark', 'cuttleship', 'octopus', 'anemone']\n",
    "print(type(mental))\n",
    "print(len(mental))\n",
    "\n",
    "print(mental[: 2])"
   ]
  },
  {
   "cell_type": "code",
   "execution_count": 11,
   "id": "da9a2354",
   "metadata": {},
   "outputs": [
    {
     "data": {
      "text/plain": [
       "['shark',\n",
       " 'cuttleship',\n",
       " 'octopus',\n",
       " 'anemone',\n",
       " True,\n",
       " 'NASA',\n",
       " 20.098,\n",
       " [34, 56, 'Yacht']]"
      ]
     },
     "execution_count": 11,
     "metadata": {},
     "output_type": "execute_result"
    }
   ],
   "source": [
    "mental.append(True)\n",
    "mental.append('NASA')\n",
    "mental.append(20.098)\n",
    "mental.append([34, 56, 'Yacht'])\n",
    "\n",
    "mental"
   ]
  },
  {
   "cell_type": "code",
   "execution_count": 15,
   "id": "093bc67d",
   "metadata": {},
   "outputs": [
    {
     "name": "stdout",
     "output_type": "stream",
     "text": [
      "Yacht\n"
     ]
    }
   ],
   "source": [
    "print(mental[7][2])"
   ]
  },
  {
   "cell_type": "code",
   "execution_count": 16,
   "id": "47e7608a",
   "metadata": {},
   "outputs": [
    {
     "name": "stdout",
     "output_type": "stream",
     "text": [
      "56\n"
     ]
    }
   ],
   "source": [
    "print(mental[7][1])"
   ]
  },
  {
   "cell_type": "code",
   "execution_count": 17,
   "id": "b07a8215",
   "metadata": {},
   "outputs": [
    {
     "data": {
      "text/plain": [
       "['shark',\n",
       " 'cuttleship',\n",
       " 'octopus',\n",
       " 'I will work at NASA someday.',\n",
       " True,\n",
       " 'NASA',\n",
       " 20.098,\n",
       " [34, 'United states of America', 'Yacht']]"
      ]
     },
     "execution_count": 17,
     "metadata": {},
     "output_type": "execute_result"
    }
   ],
   "source": [
    "#lists are mutable that means that they can be mofified after they have been created\n",
    "\n",
    "mental[3] = 'I will work at NASA someday.'\n",
    "mental[7][1] = 'United states of America'\n",
    "mental"
   ]
  },
  {
   "cell_type": "code",
   "execution_count": 18,
   "id": "61bcb377",
   "metadata": {},
   "outputs": [
    {
     "name": "stdout",
     "output_type": "stream",
     "text": [
      "list before sorting:  [1, 5, 90, 87, 56, 43, 23, 21, 12, 34, 1, 2]\n",
      "list after sorting:  [1, 1, 2, 5, 12, 21, 23, 34, 43, 56, 87, 90]\n"
     ]
    }
   ],
   "source": [
    "#sorting a list - the list to be sorted should be homogenuous\n",
    "\n",
    "fold = [1,5,90, 87, 56, 43, 23, 21, 12, 34, 1, 2]\n",
    "\n",
    "print('list before sorting: ', fold)\n",
    "\n",
    "fold.sort()\n",
    "\n",
    "print('list after sorting: ', fold)"
   ]
  },
  {
   "cell_type": "code",
   "execution_count": 45,
   "id": "dfe366e1",
   "metadata": {},
   "outputs": [
    {
     "data": {
      "text/plain": [
       "['shark',\n",
       " 'cuttleship',\n",
       " 'octopus',\n",
       " 'I will work at NASA someday.',\n",
       " True,\n",
       " 'NASA',\n",
       " 20.098,\n",
       " True,\n",
       " 'NASA',\n",
       " 20.098,\n",
       " [34, 'United states of America', 'Yacht'],\n",
       " 1,\n",
       " 1,\n",
       " 2,\n",
       " 5,\n",
       " 12,\n",
       " 21,\n",
       " 23,\n",
       " 34,\n",
       " 43,\n",
       " 56,\n",
       " 87,\n",
       " 90,\n",
       " 1,\n",
       " 1,\n",
       " 2,\n",
       " 5,\n",
       " 12,\n",
       " 21,\n",
       " 23,\n",
       " 34,\n",
       " 43,\n",
       " 56,\n",
       " 87,\n",
       " 90,\n",
       " 1,\n",
       " 1,\n",
       " 2,\n",
       " 5,\n",
       " 12,\n",
       " 21,\n",
       " 23,\n",
       " 34,\n",
       " 43,\n",
       " 56,\n",
       " 87,\n",
       " 90,\n",
       " 1,\n",
       " 1,\n",
       " 2,\n",
       " 5,\n",
       " 12,\n",
       " 21,\n",
       " 23,\n",
       " 34,\n",
       " 43,\n",
       " 56,\n",
       " 87,\n",
       " 90]"
      ]
     },
     "execution_count": 45,
     "metadata": {},
     "output_type": "execute_result"
    }
   ],
   "source": [
    "#extending the mental list with the fold list\n",
    "mental.extend(fold)\n",
    "\n",
    "mental"
   ]
  },
  {
   "cell_type": "code",
   "execution_count": 21,
   "id": "3d46cf44",
   "metadata": {},
   "outputs": [
    {
     "data": {
      "text/plain": [
       "[90, 87, 56, 43, 34, 23, 21, 12, 5, 2, 1, 1]"
      ]
     },
     "execution_count": 21,
     "metadata": {},
     "output_type": "execute_result"
    }
   ],
   "source": [
    "fold.reverse()\n",
    "fold"
   ]
  },
  {
   "cell_type": "code",
   "execution_count": 22,
   "id": "e175e618",
   "metadata": {},
   "outputs": [
    {
     "name": "stdout",
     "output_type": "stream",
     "text": [
      "['shark', 'cuttleship', 'octopus', 'I will work at NASA someday.', True, 'NASA', 20.098, [34, 'United states of America', 'Yacht'], 90, 87, 56, 43, 34, 23, 21, 12, 5, 2, 1, 1]\n"
     ]
    }
   ],
   "source": [
    "#concatenated list\n",
    "print(mental+fold)"
   ]
  },
  {
   "cell_type": "markdown",
   "id": "e6d0e75b",
   "metadata": {},
   "source": [
    "## Tuple"
   ]
  },
  {
   "cell_type": "code",
   "execution_count": 23,
   "id": "6f7bbfba",
   "metadata": {},
   "outputs": [
    {
     "name": "stdout",
     "output_type": "stream",
     "text": [
      "<class 'tuple'>\n"
     ]
    }
   ],
   "source": [
    "table = ()\n",
    "print(type(table))"
   ]
  },
  {
   "cell_type": "code",
   "execution_count": 31,
   "id": "56cac511",
   "metadata": {},
   "outputs": [
    {
     "name": "stdout",
     "output_type": "stream",
     "text": [
      "<class 'tuple'>\n",
      "8\n",
      "('NASA', 1)\n"
     ]
    }
   ],
   "source": [
    "table = (1, 'NASA', 'NASA', 1, 1, 'FalseTrue', ('Another tuple'), [1,2,3,4,5])\n",
    "\n",
    "print(type(table))\n",
    "print(len(table))\n",
    "print(table[2:4])"
   ]
  },
  {
   "cell_type": "code",
   "execution_count": 27,
   "id": "edf65898",
   "metadata": {},
   "outputs": [
    {
     "ename": "TypeError",
     "evalue": "'tuple' object does not support item assignment",
     "output_type": "error",
     "traceback": [
      "\u001b[1;31m---------------------------------------------------------------------------\u001b[0m",
      "\u001b[1;31mTypeError\u001b[0m                                 Traceback (most recent call last)",
      "\u001b[1;32m~\\AppData\\Local\\Temp\\ipykernel_1176\\3425368320.py\u001b[0m in \u001b[0;36m<module>\u001b[1;34m\u001b[0m\n\u001b[0;32m      1\u001b[0m \u001b[1;31m#tuples are immutable\u001b[0m\u001b[1;33m\u001b[0m\u001b[1;33m\u001b[0m\u001b[0m\n\u001b[0;32m      2\u001b[0m \u001b[1;33m\u001b[0m\u001b[0m\n\u001b[1;32m----> 3\u001b[1;33m \u001b[0mtable\u001b[0m\u001b[1;33m[\u001b[0m\u001b[1;36m2\u001b[0m\u001b[1;33m]\u001b[0m \u001b[1;33m=\u001b[0m \u001b[1;34m'Positive'\u001b[0m\u001b[1;33m\u001b[0m\u001b[1;33m\u001b[0m\u001b[0m\n\u001b[0m",
      "\u001b[1;31mTypeError\u001b[0m: 'tuple' object does not support item assignment"
     ]
    }
   ],
   "source": [
    "#tuples are immutable\n",
    "\n",
    "table[2] = 'Positive'"
   ]
  },
  {
   "cell_type": "code",
   "execution_count": 34,
   "id": "75452c76",
   "metadata": {},
   "outputs": [
    {
     "name": "stdout",
     "output_type": "stream",
     "text": [
      "2\n"
     ]
    }
   ],
   "source": [
    "#methods\n",
    "\n",
    "print(table.count('NASA'))\n"
   ]
  },
  {
   "cell_type": "markdown",
   "id": "023cd8c6",
   "metadata": {},
   "source": [
    "## Sets"
   ]
  },
  {
   "cell_type": "code",
   "execution_count": 35,
   "id": "ee682801",
   "metadata": {},
   "outputs": [
    {
     "name": "stdout",
     "output_type": "stream",
     "text": [
      "<class 'set'>\n"
     ]
    }
   ],
   "source": [
    "#one way to intialize sets\n",
    "this_set = set()\n",
    "print(type(this_set))"
   ]
  },
  {
   "cell_type": "code",
   "execution_count": 37,
   "id": "a4164e10",
   "metadata": {},
   "outputs": [
    {
     "name": "stdout",
     "output_type": "stream",
     "text": [
      "{1, 2, 4, 5, 'NASA'}\n"
     ]
    }
   ],
   "source": [
    "this_set = set([1,1,2,4,5,'NASA'])\n",
    "\n",
    "print(this_set)\n",
    "#sets do not allow duplicate values"
   ]
  },
  {
   "cell_type": "code",
   "execution_count": 38,
   "id": "c15cabbd",
   "metadata": {},
   "outputs": [
    {
     "name": "stdout",
     "output_type": "stream",
     "text": [
      "<class 'dict'>\n"
     ]
    }
   ],
   "source": [
    "s = {}\n",
    "print(type(s))"
   ]
  },
  {
   "cell_type": "code",
   "execution_count": 39,
   "id": "beb43efe",
   "metadata": {},
   "outputs": [
    {
     "name": "stdout",
     "output_type": "stream",
     "text": [
      "<class 'set'>\n"
     ]
    }
   ],
   "source": [
    "#second way to intialize sets\n",
    "s = {1,2,3,4}\n",
    "print(type(s))"
   ]
  },
  {
   "cell_type": "code",
   "execution_count": 57,
   "id": "f49eae92",
   "metadata": {},
   "outputs": [
    {
     "ename": "TypeError",
     "evalue": "'set' object does not support item assignment",
     "output_type": "error",
     "traceback": [
      "\u001b[1;31m---------------------------------------------------------------------------\u001b[0m",
      "\u001b[1;31mTypeError\u001b[0m                                 Traceback (most recent call last)",
      "\u001b[1;32m~\\AppData\\Local\\Temp\\ipykernel_1176\\2334259192.py\u001b[0m in \u001b[0;36m<module>\u001b[1;34m\u001b[0m\n\u001b[0;32m      1\u001b[0m \u001b[1;31m#sets cannot be indexed\u001b[0m\u001b[1;33m\u001b[0m\u001b[1;33m\u001b[0m\u001b[0m\n\u001b[1;32m----> 2\u001b[1;33m \u001b[0ms\u001b[0m\u001b[1;33m[\u001b[0m\u001b[1;36m2\u001b[0m\u001b[1;33m]\u001b[0m \u001b[1;33m=\u001b[0m \u001b[1;36m5\u001b[0m\u001b[1;33m\u001b[0m\u001b[1;33m\u001b[0m\u001b[0m\n\u001b[0m",
      "\u001b[1;31mTypeError\u001b[0m: 'set' object does not support item assignment"
     ]
    }
   ],
   "source": [
    "#sets cannot be indexed\n",
    "s[2] = 5"
   ]
  },
  {
   "cell_type": "code",
   "execution_count": 46,
   "id": "7e92b4a9",
   "metadata": {},
   "outputs": [
    {
     "name": "stdout",
     "output_type": "stream",
     "text": [
      "{1, 2, 3, 4, 5, 6, 7}\n",
      "{1, 2, 3, 4, 5, 6, 7}\n",
      "{4}\n",
      "{4}\n",
      "{1, 2, 3}\n",
      "{1, 2, 3}\n",
      "{5, 6, 7}\n",
      "{1, 2, 3, 5, 6, 7}\n"
     ]
    }
   ],
   "source": [
    "set1 = {1,2,3,4}\n",
    "set2 = {5,6,7,4}\n",
    "\n",
    "#concatenation or union\n",
    "print(set1|set2)  \n",
    "print(set1.union(set2))\n",
    "\n",
    "#intersection\n",
    "print(set1&set2)\n",
    "print(set1.intersection(set2))\n",
    "\n",
    "#difference\n",
    "print(set1-set2)\n",
    "print(set1.difference(set2))\n",
    "print(set2-set1)\n",
    "\n",
    "#\n",
    "print(set1^set2)"
   ]
  },
  {
   "cell_type": "code",
   "execution_count": 60,
   "id": "ed4cf9e2",
   "metadata": {},
   "outputs": [
    {
     "name": "stdout",
     "output_type": "stream",
     "text": [
      "{0, 3, 5, 7, 8, 'NASA'}\n",
      "{0, 3, 7, 8, 'NASA'}\n"
     ]
    }
   ],
   "source": [
    "#are sets mutable?\n",
    "#yes, but not in the same way as lists\n",
    "\n",
    "my_set = {3,5,7,8,0}\n",
    "\n",
    "my_set.add('NASA')\n",
    "print(my_set)\n",
    "\n",
    "my_set.remove(5)\n",
    "print(my_set)"
   ]
  },
  {
   "cell_type": "markdown",
   "id": "57c974c2",
   "metadata": {},
   "source": [
    "## Dictionary"
   ]
  },
  {
   "cell_type": "code",
   "execution_count": 47,
   "id": "5853fff7",
   "metadata": {},
   "outputs": [
    {
     "name": "stdout",
     "output_type": "stream",
     "text": [
      "{'name': 'Hannah', 'food': 'beans', 'instition': 'NASA', 'snack': 'peanut'}\n"
     ]
    }
   ],
   "source": [
    "dine = {}\n",
    "\n",
    "dine = {'name': 'Hannah', 'food': 'beans', 'instition': 'NASA', 'snack': 'peanut'}\n",
    "\n",
    "print(dine)"
   ]
  },
  {
   "cell_type": "code",
   "execution_count": 50,
   "id": "81d07536",
   "metadata": {},
   "outputs": [
    {
     "name": "stdout",
     "output_type": "stream",
     "text": [
      "Hannah\n"
     ]
    }
   ],
   "source": [
    "print(dine['name'])"
   ]
  },
  {
   "cell_type": "code",
   "execution_count": 54,
   "id": "d8f830ac",
   "metadata": {},
   "outputs": [
    {
     "data": {
      "text/plain": [
       "{'name': 'Hannah',\n",
       " 'food': 'rice and beans with plantain and vegetable sauce🤗',\n",
       " 'instition': 'NASA',\n",
       " 'snack': 'peanut',\n",
       " 'school1': 'FUTO',\n",
       " 'school2': 'Stanford',\n",
       " 'book': 'Harry Potter',\n",
       " 'book2': 'GOT'}"
      ]
     },
     "execution_count": 54,
     "metadata": {},
     "output_type": "execute_result"
    }
   ],
   "source": [
    "#updating dictioanries - keys are immutable while values are mutable\n",
    "\n",
    "dine['food'] = 'rice and beans with plantain and vegetable sauce🤗'\n",
    "dine['school1'] = 'FUTO'\n",
    "dine['school2'] = 'Stanford'\n",
    "dine['book'] = 'Harry Potter'\n",
    "dine['book2'] = 'GOT'\n",
    "dine"
   ]
  },
  {
   "cell_type": "code",
   "execution_count": 55,
   "id": "78f14fbf",
   "metadata": {},
   "outputs": [
    {
     "data": {
      "text/plain": [
       "{'name': 'Hannah',\n",
       " 'food': 'rice and beans with plantain and vegetable sauce🤗',\n",
       " 'instition': 'NASA',\n",
       " 'snack': 'peanut',\n",
       " 'school1': 'FUTO',\n",
       " 'school2': 'Stanford',\n",
       " 'book': 'Harry Potter'}"
      ]
     },
     "execution_count": 55,
     "metadata": {},
     "output_type": "execute_result"
    }
   ],
   "source": [
    "del dine['book2']\n",
    "dine"
   ]
  },
  {
   "cell_type": "code",
   "execution_count": 103,
   "id": "97f1e684",
   "metadata": {},
   "outputs": [
    {
     "name": "stdout",
     "output_type": "stream",
     "text": [
      "dict_keys(['name', 'food', 'instition', 'snack', 'school1', 'school2', 'book'])\n",
      "dict_items([('name', 'Hannah'), ('food', 'rice and beans with plantain and vegetable sauce🤗'), ('instition', 'NASA'), ('snack', 'peanut'), ('school1', 'FUTO'), ('school2', 'Stanford'), ('book', 'Harry Potter')])\n"
     ]
    }
   ],
   "source": [
    "print(dine.keys())\n",
    "print(dine.items())"
   ]
  },
  {
   "cell_type": "markdown",
   "id": "4b09b556",
   "metadata": {},
   "source": [
    "# Summary\n",
    "\n",
    "Lists:\n",
    "\n",
    "- Mutable\n",
    "- Dynamic as they can increase or be decreased in size\n",
    "- Ordered collection of items which means it can be indexed and sliced\n",
    "\n",
    "Tuples:\n",
    "- Similar to lists\n",
    "- Immutable\n",
    "- Allows slicing and indexing\n",
    "\n",
    "Dictionary:\n",
    "- Keys are immutable and unique, values are mutable\n",
    "- Unordered collection of items which means they cannot be indexed\n",
    "\n",
    "Sets:\n",
    "- No duplicates are allowed\n",
    "- Unordered collection of items which means they do not allow indexing or slicing\n",
    "- They are mutable\n",
    "\n"
   ]
  },
  {
   "cell_type": "markdown",
   "id": "9bb8aa7e",
   "metadata": {},
   "source": [
    "# Task\n",
    "\n",
    "A a program to manage tasks, or a to-do list"
   ]
  },
  {
   "cell_type": "code",
   "execution_count": 96,
   "id": "39795331",
   "metadata": {},
   "outputs": [
    {
     "name": "stdout",
     "output_type": "stream",
     "text": [
      "Tasks           Time(mins)      Status         \n",
      "Morning routine 120             Done           \n",
      "Chess practice  20              Done           \n",
      "Read book       60              Done           \n",
      "RAG task        120             Not done       \n",
      "JIN SM          30              Done           \n",
      "Day 2 DS        90              In progress    \n"
     ]
    }
   ],
   "source": [
    "task_status = {'Done', 'In progress', 'Not done'}\n",
    "\n",
    "my_to_do = {'Tasks': ['Morning routine', 'Chess practice', 'Read book', 'RAG task', 'JIN SM', 'Day 2 DS'],\n",
    "            'Time(mins)': [120, 20, 60, 120, 30, 90],\n",
    "            'Status': ['Done', 'Done', 'Done', 'Not done', 'Done', 'In progress']\n",
    "           }\n",
    "\n",
    "print(\"{:<15} {:<15} {:<15}\".format('Tasks', 'Time(mins)', 'Status'))\n",
    "\n",
    "for task, time, status in zip(my_to_do['Tasks'], my_to_do['Time(mins)'], my_to_do['Status']):\n",
    "    print(\"{:<15} {:<15} {:15}\".format(task, time, status))"
   ]
  },
  {
   "cell_type": "code",
   "execution_count": 97,
   "id": "c0fd181f",
   "metadata": {},
   "outputs": [
    {
     "name": "stdout",
     "output_type": "stream",
     "text": [
      "Morning routine 120             Done           \n",
      "Chess practice  20              Done           \n",
      "Read book       60              Done           \n",
      "RAG task        120             Not done       \n",
      "JIN SM          30              Done           \n",
      "Day 2 DS        90              In progress    \n",
      "Sleep           60              Done           \n"
     ]
    }
   ],
   "source": [
    "## Features for the program\n",
    "\n",
    "#1 Add tasks to the to-do list.\n",
    "\n",
    "new_task = 'Sleep'\n",
    "time = 60\n",
    "status = 'Done'\n",
    "\n",
    "my_to_do['Tasks'].append(new_task)\n",
    "my_to_do['Time(mins)'].append(time)\n",
    "my_to_do['Status'].append(status)\n",
    "\n",
    "for task, time, status in zip(my_to_do['Tasks'], my_to_do['Time(mins)'], my_to_do['Status']):\n",
    "    print(\"{:<15} {:<15} {:15}\".format(task, time, status))"
   ]
  },
  {
   "cell_type": "code",
   "execution_count": 98,
   "id": "29037915",
   "metadata": {},
   "outputs": [
    {
     "name": "stdout",
     "output_type": "stream",
     "text": [
      "Morning routine 120             Done           \n",
      "Chess practice  20              Done           \n",
      "Read book       60              Done           \n",
      "RAG task        120             Not done       \n",
      "JIN SM          30              Done           \n",
      "Day 2 DS        90              In progress    \n"
     ]
    }
   ],
   "source": [
    "#2 removing tasks from the to_do list\n",
    "\n",
    "del my_to_do['Tasks'][6]\n",
    "\n",
    "my_to_do\n",
    "\n",
    "for task, time, status in zip(my_to_do['Tasks'], my_to_do['Time(mins)'], my_to_do['Status']):\n",
    "    print(\"{:<15} {:<15} {:15}\".format(task, time, status))"
   ]
  },
  {
   "cell_type": "code",
   "execution_count": 100,
   "id": "7bc1cdd2",
   "metadata": {},
   "outputs": [
    {
     "name": "stdout",
     "output_type": "stream",
     "text": [
      "Morning routine 120             Done           \n",
      "Chess practice  20              Done           \n",
      "Read book       60              Done           \n",
      "RAG task        120             Not done       \n",
      "JIN SM          30              Done           \n",
      "Day 2 DS        90              Done           \n"
     ]
    }
   ],
   "source": [
    "#3 updating tasks\n",
    "\n",
    "my_to_do['Status'][5] = 'Done'\n",
    "\n",
    "for task, time, status in zip(my_to_do['Tasks'], my_to_do['Time(mins)'], my_to_do['Status']):\n",
    "    print(\"{:<15} {:<15} {:<15}\".format(task, time, status))"
   ]
  },
  {
   "cell_type": "code",
   "execution_count": null,
   "id": "7b47ebee",
   "metadata": {},
   "outputs": [],
   "source": []
  }
 ],
 "metadata": {
  "kernelspec": {
   "display_name": "Python 3 (ipykernel)",
   "language": "python",
   "name": "python3"
  },
  "language_info": {
   "codemirror_mode": {
    "name": "ipython",
    "version": 3
   },
   "file_extension": ".py",
   "mimetype": "text/x-python",
   "name": "python",
   "nbconvert_exporter": "python",
   "pygments_lexer": "ipython3",
   "version": "3.9.13"
  }
 },
 "nbformat": 4,
 "nbformat_minor": 5
}
