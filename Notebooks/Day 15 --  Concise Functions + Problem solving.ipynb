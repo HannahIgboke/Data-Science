{
 "cells": [
  {
   "cell_type": "markdown",
   "id": "f08f62d0",
   "metadata": {},
   "source": [
    "# CONCISE FUNCTIONS"
   ]
  },
  {
   "cell_type": "markdown",
   "id": "b7250399",
   "metadata": {},
   "source": [
    "## List Comprehension\n",
    "\n",
    "They offer a more concise way to create new lists in python. They offer a one-line alternative to using traditional for loops and append statements."
   ]
  },
  {
   "cell_type": "code",
   "execution_count": 2,
   "id": "573743fb",
   "metadata": {},
   "outputs": [
    {
     "name": "stdout",
     "output_type": "stream",
     "text": [
      "[34, 56, 98, 66, 12]\n"
     ]
    }
   ],
   "source": [
    "#Here, we have a list of numbers. We want to check for thr numbers which\n",
    "#even and then append those values to the nums list\n",
    "\n",
    "nums = [34, 56, 77, 98, 66, 55, 33, 31, 12, 237]\n",
    "\n",
    "evens = []\n",
    "\n",
    "##Solution\n",
    "for num in nums:\n",
    "    if num%2 == 0:\n",
    "        evens.append(num)\n",
    "print(evens)\n"
   ]
  },
  {
   "cell_type": "code",
   "execution_count": 3,
   "id": "ace4f68e",
   "metadata": {},
   "outputs": [
    {
     "name": "stdout",
     "output_type": "stream",
     "text": [
      "[34, 56, 98, 66, 12]\n"
     ]
    }
   ],
   "source": [
    "## List comprehension can do this in a better way\n",
    "\n",
    "evens = [num for num in nums if num%2 == 0]\n",
    "\n",
    "print(evens)"
   ]
  },
  {
   "cell_type": "markdown",
   "id": "ebd2357c",
   "metadata": {},
   "source": [
    "**Syntax**\n",
    "\n",
    "lst = [expression for i in sequence]\n",
    "\n",
    "This says for every i in the sequence, apply the expression and add that expression value to the lst"
   ]
  },
  {
   "cell_type": "code",
   "execution_count": 4,
   "id": "8a095533",
   "metadata": {},
   "outputs": [
    {
     "data": {
      "text/plain": [
       "['P', 'Y', 'T', 'H', 'O', 'N']"
      ]
     },
     "execution_count": 4,
     "metadata": {},
     "output_type": "execute_result"
    }
   ],
   "source": [
    "#example 1\n",
    "\n",
    "lst = [a for a in 'PYTHON']\n",
    "\n",
    "lst"
   ]
  },
  {
   "cell_type": "code",
   "execution_count": 6,
   "id": "d55297bb",
   "metadata": {},
   "outputs": [
    {
     "name": "stdout",
     "output_type": "stream",
     "text": [
      "[1, 9, 25, 49, 81, 121, 169, 225, 289, 361]\n"
     ]
    }
   ],
   "source": [
    "#example 2\n",
    "\n",
    "lst = [i**2 for i in range(1,20) if i%2 != 0]\n",
    "print(lst)\n",
    "\n",
    "\n",
    "#Here, we are saying that for every i value in the sequence,\n",
    "#if the i value is an odd number then square it and append to the lst list\n",
    "\n",
    "#Typically the even numbers will be [1, 3, 5, 7, 9, 11, 13, 15, 17, 19]\n",
    "#And when you square these, you'll see the output"
   ]
  },
  {
   "cell_type": "code",
   "execution_count": 7,
   "id": "bb2f10dd",
   "metadata": {},
   "outputs": [
    {
     "data": {
      "text/plain": [
       "['B', 'H', 'D']"
      ]
     },
     "execution_count": 7,
     "metadata": {},
     "output_type": "execute_result"
    }
   ],
   "source": [
    "#example 3\n",
    "\n",
    "heros = ['Black Widow', 'Hawkeye', 'Doctor Strange']\n",
    "\n",
    "#extracting the first character of each name into a list\n",
    "\n",
    "lst = [word[0] for word in heros]\n",
    "lst"
   ]
  },
  {
   "cell_type": "code",
   "execution_count": 11,
   "id": "011b7726",
   "metadata": {},
   "outputs": [
    {
     "name": "stdout",
     "output_type": "stream",
     "text": [
      "[['T', 1], ['H', 1], ['E', 1], [' ', 1], ['Q', 1], ['U', 1], ['I', 1], ['C', 1], ['K', 1], [' ', 1], ['F', 1], ['O', 1], ['X', 1], [' ', 1], ['A', 1], ['N', 1], ['D', 1], [' ', 1], ['T', 1], ['H', 1], ['E', 1], [' ', 1], ['S', 1], ['L', 1], ['O', 1], ['W', 1], [' ', 1], ['T', 1], ['O', 1], ['R', 1], ['T', 1], ['O', 1], ['I', 1], ['S', 1], ['E', 1], [' ', 1], ['W', 1], ['E', 1], ['R', 1], ['E', 1], [' ', 1], ['F', 1], ['R', 1], ['I', 1], ['E', 1], ['N', 1], ['D', 1], ['S', 1], [' ', 1], ['A', 1], [' ', 1], ['L', 1], ['O', 1], ['N', 1], ['G', 1], [' ', 1], ['T', 1], ['I', 1], ['M', 1], ['E', 1], [' ', 1], ['A', 1], ['G', 1], ['O', 1]]\n"
     ]
    }
   ],
   "source": [
    "#example 4\n",
    "\n",
    "string = 'The quick fox and the slow tortoise were friends a long time ago'\n",
    "\n",
    "#convert each word into upper case \n",
    "#and count the number of characters in each word\n",
    "\n",
    "lst = [[word.upper(), len(word)] for word in string]\n",
    "print(lst)"
   ]
  },
  {
   "cell_type": "code",
   "execution_count": 12,
   "id": "c9714a46",
   "metadata": {},
   "outputs": [
    {
     "data": {
      "text/plain": [
       "[['THE', 3],\n",
       " ['QUICK', 5],\n",
       " ['FOX', 3],\n",
       " ['AND', 3],\n",
       " ['THE', 3],\n",
       " ['SLOW', 4],\n",
       " ['TORTOISE', 8],\n",
       " ['WERE', 4],\n",
       " ['FRIENDS', 7],\n",
       " ['A', 1],\n",
       " ['LONG', 4],\n",
       " ['TIME', 4],\n",
       " ['AGO', 3]]"
      ]
     },
     "execution_count": 12,
     "metadata": {},
     "output_type": "execute_result"
    }
   ],
   "source": [
    "#the above capitalizes each letter but this is not what we desire\n",
    "#to rectify this we use split to seoerate the words from each other \n",
    "\n",
    "lst = [[word.upper(), len(word)] for word in string.split(' ')]\n",
    "lst"
   ]
  },
  {
   "cell_type": "markdown",
   "id": "4eca2669",
   "metadata": {},
   "source": [
    "## Anonymous Functions\n",
    "\n",
    "AKA lambda functions. These are functions defined without qa name using the lambda keyword. They are defined in a sinbgle line of code and can only contain one expression which repesents the function's body and return value.\n",
    "\n",
    "**Syntax:** lambda arguments: expression"
   ]
  },
  {
   "cell_type": "code",
   "execution_count": 14,
   "id": "fa34dde6",
   "metadata": {},
   "outputs": [
    {
     "name": "stdout",
     "output_type": "stream",
     "text": [
      "25\n"
     ]
    }
   ],
   "source": [
    "# normal function definition\n",
    "\n",
    "def square(n):\n",
    "    return n**2\n",
    "print(square(5))"
   ]
  },
  {
   "cell_type": "code",
   "execution_count": 15,
   "id": "671d7bf5",
   "metadata": {},
   "outputs": [
    {
     "name": "stdout",
     "output_type": "stream",
     "text": [
      "25\n"
     ]
    }
   ],
   "source": [
    "#using lambda\n",
    "\n",
    "lambda_sq = lambda n: n**2\n",
    "\n",
    "print(lambda_sq(5))"
   ]
  },
  {
   "cell_type": "code",
   "execution_count": 16,
   "id": "1d62f3d2",
   "metadata": {},
   "outputs": [
    {
     "name": "stdout",
     "output_type": "stream",
     "text": [
      "12\n"
     ]
    }
   ],
   "source": [
    "#using lambda with two arguments\n",
    "\n",
    "prod = lambda a,b: a*b\n",
    "\n",
    "print(prod(3,4))"
   ]
  },
  {
   "cell_type": "code",
   "execution_count": 17,
   "id": "cc6f4b7c",
   "metadata": {},
   "outputs": [
    {
     "name": "stdout",
     "output_type": "stream",
     "text": [
      "67849\n"
     ]
    }
   ],
   "source": [
    "#using lambda again and a concept from list comprehension\n",
    "\n",
    "greater = lambda a,b: a if a>b else b\n",
    "\n",
    "print(greater(345, 67849))"
   ]
  },
  {
   "cell_type": "markdown",
   "id": "490acbbc",
   "metadata": {},
   "source": [
    "## filter()\n",
    "\n",
    "A built-in python functions that allows you to efficiently process an iterable like a tuple, list or string and return a new iterator containing only the elements that meet a certain condition\n",
    "\n",
    "**Syntax:** filter(function, sequence)"
   ]
  },
  {
   "cell_type": "markdown",
   "id": "dada135d",
   "metadata": {},
   "source": [
    "**Problem:**\n",
    "We have 10 numbers and we want to filter only the even numbers from that list."
   ]
  },
  {
   "cell_type": "code",
   "execution_count": 19,
   "id": "6060e4d8",
   "metadata": {},
   "outputs": [
    {
     "name": "stdout",
     "output_type": "stream",
     "text": [
      "<filter object at 0x000001ADBA1D2790>\n",
      "<class 'filter'>\n"
     ]
    }
   ],
   "source": [
    "#Using traditional means of problem solving\n",
    "\n",
    "def isEven(x):\n",
    "    if x%2 == 0:\n",
    "        return True\n",
    "    else:\n",
    "        return False\n",
    "\n",
    "lst = [0,1,2,3,4,5,6,7,8,9,10]\n",
    "\n",
    "filtered_list = filter(isEven, lst)\n",
    "\n",
    "print(filtered_list)\n",
    "print(type(filtered_list))"
   ]
  },
  {
   "cell_type": "code",
   "execution_count": 20,
   "id": "efeff726",
   "metadata": {},
   "outputs": [
    {
     "name": "stdout",
     "output_type": "stream",
     "text": [
      "[0, 2, 4, 6, 8, 10]\n",
      "<class 'list'>\n"
     ]
    }
   ],
   "source": [
    "#from the above we can see the result and type of the results, so we need to convert the results to a list\n",
    "\n",
    "filtered_list = list(filter(isEven, lst))\n",
    "\n",
    "print(filtered_list)\n",
    "print(type(filtered_list))"
   ]
  },
  {
   "cell_type": "code",
   "execution_count": 22,
   "id": "a2c662c6",
   "metadata": {},
   "outputs": [
    {
     "name": "stdout",
     "output_type": "stream",
     "text": [
      "[0, 2, 4, 6, 8, 10]\n"
     ]
    }
   ],
   "source": [
    "#Using concise problem solving\n",
    "\n",
    "lst = [0,1,2,3,4,5,6,7,8,9,10]\n",
    "\n",
    "filtered_list = list(filter(lambda x: x%2 == 0, lst))\n",
    "\n",
    "print(filtered_list)"
   ]
  },
  {
   "cell_type": "markdown",
   "id": "8f12d5e5",
   "metadata": {},
   "source": [
    "## map()\n",
    "\n",
    "Built-in python function used to apply a function to all elements of an iterable and return a new iterator containing the results\n",
    "\n",
    "**Synatx:** map(function, sequence)"
   ]
  },
  {
   "cell_type": "code",
   "execution_count": 23,
   "id": "48c1ee57",
   "metadata": {},
   "outputs": [
    {
     "data": {
      "text/plain": [
       "[2, 4, 8, 10, 12]"
      ]
     },
     "execution_count": 23,
     "metadata": {},
     "output_type": "execute_result"
    }
   ],
   "source": [
    "#EXAMPLE 1\n",
    "#traditional problem solving\n",
    "\n",
    "def double(x):\n",
    "    return 2*x\n",
    "\n",
    "lst = [1,2,4,5,6]\n",
    "\n",
    "new_list = list(map(double, lst))\n",
    "new_list"
   ]
  },
  {
   "cell_type": "code",
   "execution_count": 24,
   "id": "1e484efc",
   "metadata": {},
   "outputs": [
    {
     "data": {
      "text/plain": [
       "[2, 4, 8, 10, 12]"
      ]
     },
     "execution_count": 24,
     "metadata": {},
     "output_type": "execute_result"
    }
   ],
   "source": [
    "#concise problem solving\n",
    "\n",
    "new_list = list(map(lambda x: 2*x, lst))\n",
    "new_list"
   ]
  },
  {
   "cell_type": "code",
   "execution_count": 26,
   "id": "047c951b",
   "metadata": {},
   "outputs": [
    {
     "data": {
      "text/plain": [
       "[4, 10, 18]"
      ]
     },
     "execution_count": 26,
     "metadata": {},
     "output_type": "execute_result"
    }
   ],
   "source": [
    "#EXAMPLE 2\n",
    "\n",
    "#multiplying two lists element wise\n",
    "list1 = [1,2,3]\n",
    "list2 = [4,5,6]\n",
    "\n",
    "new_list = list(map(lambda x,y: x*y, list1, list2))\n",
    "new_list"
   ]
  },
  {
   "cell_type": "markdown",
   "id": "c21a880f",
   "metadata": {},
   "source": [
    "## reduce()\n",
    "\n",
    "This function is used to reduce a sequence of elements nto a single element by applying the specified function\n",
    "\n",
    "It is present in the functools module.\n",
    "\n",
    "**Syntax**\n",
    "\n",
    "`from functools import *`\n",
    "\n",
    "`reduce(function, sequence)`"
   ]
  },
  {
   "cell_type": "code",
   "execution_count": 27,
   "id": "b193e192",
   "metadata": {},
   "outputs": [
    {
     "data": {
      "text/plain": [
       "45"
      ]
     },
     "execution_count": 27,
     "metadata": {},
     "output_type": "execute_result"
    }
   ],
   "source": [
    "from functools import *\n",
    "\n",
    "lst = [1,2,3,4,5,6,7,8,9]\n",
    "\n",
    "reduced_list = reduce(lambda x,y: x+y, lst)\n",
    "\n",
    "reduced_list"
   ]
  },
  {
   "cell_type": "markdown",
   "id": "0750c6e0",
   "metadata": {},
   "source": [
    "# PROBLEM SOLVING QUESTIONS"
   ]
  },
  {
   "cell_type": "markdown",
   "id": "2ad9e671",
   "metadata": {},
   "source": [
    "### **1. Swapping two numbers**"
   ]
  },
  {
   "cell_type": "markdown",
   "id": "2db51b17",
   "metadata": {},
   "source": [
    "**a. swapping using an extra variable**"
   ]
  },
  {
   "cell_type": "code",
   "execution_count": 29,
   "id": "c283ca71",
   "metadata": {},
   "outputs": [
    {
     "name": "stdout",
     "output_type": "stream",
     "text": [
      "3,4\n"
     ]
    }
   ],
   "source": [
    "a = 4\n",
    "b = 3\n",
    "\n",
    "temp = a\n",
    "a = b\n",
    "b = temp\n",
    "\n",
    "print(a,b, sep = ',')"
   ]
  },
  {
   "cell_type": "markdown",
   "id": "0d85bd50",
   "metadata": {},
   "source": [
    "**b. swapping using 2 variables and arithmetic operations**\n",
    "\n",
    "AKA\n",
    "\n",
    "**You are not using any new variables**"
   ]
  },
  {
   "cell_type": "code",
   "execution_count": 34,
   "id": "0bc1ca3e",
   "metadata": {},
   "outputs": [
    {
     "name": "stdout",
     "output_type": "stream",
     "text": [
      "Initials: 5, 6\n",
      "After swapping: 6, 5\n"
     ]
    }
   ],
   "source": [
    "a = 5\n",
    "b = 6\n",
    "print('Initials: {}, {}'.format(a, b))\n",
    "\n",
    "#using arithmetic operations\n",
    "\n",
    "#first add the numbers together\n",
    "a = a+b  #11\n",
    "\n",
    "#now minus the value of b being 6 from the sum stored in a\n",
    "b = a-b #5\n",
    "\n",
    "#then, minus the value b which is 6 from the total sum being 11, stored in a  \n",
    "a = a-b #6\n",
    "\n",
    "print('After swapping: {}, {}'.format(a,b))\n"
   ]
  },
  {
   "cell_type": "markdown",
   "id": "0c8d6d8b",
   "metadata": {},
   "source": [
    "**c. swapping by using 2 variables and bitwise XOR (^)**\n",
    "\n",
    "XOR ensures that we do not waste extra bits during calculation like we would when we use the arithmetic operations.\n",
    "\n",
    "XOR means exclusive OR, it can operate on two inputs and returns a result based on whether the inputs are the same or different. If they are the same it returns 1 (meaning True), if different, it returns 0 (meaning False)"
   ]
  },
  {
   "cell_type": "code",
   "execution_count": 35,
   "id": "dfa2f1cc",
   "metadata": {},
   "outputs": [
    {
     "name": "stdout",
     "output_type": "stream",
     "text": [
      "Initials: 8, 9\n",
      "After swapping: 9, 8\n"
     ]
    }
   ],
   "source": [
    "a = 8\n",
    "b = 9\n",
    "print('Initials: {}, {}'.format(a, b))\n",
    "\n",
    "#using ^\n",
    "# 8 in binary is 1000\n",
    "# 11 in binary is 1011\n",
    "\n",
    "a = a^b\n",
    "\n",
    "\n",
    "b = a^b\n",
    "\n",
    "\n",
    "a = a^b\n",
    "\n",
    "print('After swapping: {}, {}'.format(a,b))"
   ]
  },
  {
   "cell_type": "markdown",
   "id": "829f2a85",
   "metadata": {},
   "source": [
    "**d. swapping using 2 variables**"
   ]
  },
  {
   "cell_type": "code",
   "execution_count": 36,
   "id": "52a70775",
   "metadata": {},
   "outputs": [
    {
     "name": "stdout",
     "output_type": "stream",
     "text": [
      "Initials: 5, 9\n",
      "After swapping: 9, 5\n"
     ]
    }
   ],
   "source": [
    "a = 5\n",
    "b = 9\n",
    "\n",
    "print('Initials: {}, {}'.format(a, b))\n",
    "\n",
    "\n",
    "a, b = b,a\n",
    "print('After swapping: {}, {}'.format(a,b))"
   ]
  },
  {
   "cell_type": "markdown",
   "id": "cbf2f816",
   "metadata": {},
   "source": [
    "### **2. Factorial of a number**"
   ]
  },
  {
   "cell_type": "code",
   "execution_count": 37,
   "id": "dc856c5b",
   "metadata": {},
   "outputs": [],
   "source": [
    "#5! = 5*4*3*2*1"
   ]
  },
  {
   "cell_type": "code",
   "execution_count": 38,
   "id": "c5dfca10",
   "metadata": {},
   "outputs": [
    {
     "name": "stdout",
     "output_type": "stream",
     "text": [
      "7\n",
      "5040\n"
     ]
    }
   ],
   "source": [
    "import math\n",
    "\n",
    "user_input = int(input())\n",
    "\n",
    "print(math.factorial(user_input))"
   ]
  },
  {
   "cell_type": "code",
   "execution_count": 40,
   "id": "f2251b36",
   "metadata": {},
   "outputs": [
    {
     "name": "stdout",
     "output_type": "stream",
     "text": [
      "7\n",
      "5040\n"
     ]
    }
   ],
   "source": [
    "#implementing using a for loop\n",
    "\n",
    "user_input = int(input())\n",
    "output = 1\n",
    "\n",
    "for i in range(1, user_input + 1):\n",
    "    output = output*i\n",
    "\n",
    "print(output)\n",
    "\n",
    "''' \n",
    "What happens here is that for each number in the range between 1 and the last \n",
    "(we obtain the last digit by adding 1 to the input, this will ensure that the range stops at the value before the input+1).\n",
    "\n",
    "So for each number in that range, the output is equal to the output\n",
    "already initialized, multiplied by the current number in that range\n",
    "this process continues till the last value in the range, that is the \n",
    "user's input is reached\n",
    "'''"
   ]
  },
  {
   "cell_type": "markdown",
   "id": "c358f642",
   "metadata": {},
   "source": [
    "### **3. Fibobonnacci sequence**\n",
    "\n",
    "This is the sequence of numbers where each number is te sum of the two preceeding ones. It starts with 0 and 1.\n",
    "\n",
    "F(n) = F(n-1) + F(n-2)\n",
    "\n",
    "F(3) = F(3-1) + F(3-2) = F(2) + F(1)"
   ]
  },
  {
   "cell_type": "code",
   "execution_count": 44,
   "id": "0f9357a4",
   "metadata": {},
   "outputs": [
    {
     "name": "stdout",
     "output_type": "stream",
     "text": [
      "1\n",
      "[0, 1]\n"
     ]
    }
   ],
   "source": [
    "#Writing this logic using python\n",
    "\n",
    "n = int(input())\n",
    "\n",
    "#intializing the series/sequence\n",
    "#remember that we can access each value in the list by indexing\n",
    "\n",
    "list_start = [0,1]\n",
    "\n",
    "for i in range(2, n):\n",
    "    list_start.append(list_start[i-1]+list_start[i-2])\n",
    "    \n",
    "print(list_start)"
   ]
  },
  {
   "cell_type": "markdown",
   "id": "f0c6f2d9",
   "metadata": {},
   "source": [
    "### **4. Reversing a list**"
   ]
  },
  {
   "cell_type": "code",
   "execution_count": 45,
   "id": "5a06aff6",
   "metadata": {},
   "outputs": [
    {
     "name": "stdout",
     "output_type": "stream",
     "text": [
      "[9, 8, 15, 4, 2, 10]\n"
     ]
    }
   ],
   "source": [
    "first = [10,2,4,15, 8,9]\n",
    "\n",
    "second = []\n",
    "\n",
    "for i in range(len(first)):\n",
    "    second.append(first[len(first)-1-i]) \n",
    "print(second)"
   ]
  },
  {
   "cell_type": "markdown",
   "id": "1b8e416a",
   "metadata": {},
   "source": [
    "This is what the code does:\n",
    "\n",
    "len(first) = 6\n",
    "\n",
    "That means we would have 5 iterations starting from 0,1,2,3,4,5\n",
    "\n",
    "**1. iteration 1 (i = 0)**\n",
    "\n",
    "`first[len(first) - 1 -i] ==> first[6-1-0] ==> first[5] ==> 9`\n",
    "\n",
    "Then append 9 to the second list\n",
    "\n",
    "**2. iteration 2 (i = 1)**\n",
    "\n",
    "`first[len(first) - 1-i] ==> first[6-1-1] ==> first[4] ==> 8`\n",
    "\n",
    "\n",
    "And the loop continues till the last number is reached.."
   ]
  },
  {
   "cell_type": "code",
   "execution_count": 48,
   "id": "6746ff94",
   "metadata": {},
   "outputs": [
    {
     "name": "stdout",
     "output_type": "stream",
     "text": [
      "[0, 5, 6, 2, 0, 23]\n",
      "[23, 0, 2, 6, 5, 0]\n"
     ]
    }
   ],
   "source": [
    "my_list = [0,5,6,2,0,23]\n",
    "\n",
    "print(my_list)\n",
    "\n",
    "my_list.reverse()\n",
    "print(my_list)"
   ]
  },
  {
   "cell_type": "markdown",
   "id": "cf1711b9",
   "metadata": {},
   "source": [
    "### **5. Palindrome number**\n",
    "\n",
    "This is a number that reads the same backward and forward. In other words if you reverse the digits of the number, you get the same number.\n",
    "\n",
    "1-digit numbers are all considered to be palindromic."
   ]
  },
  {
   "cell_type": "code",
   "execution_count": 49,
   "id": "697078e8",
   "metadata": {},
   "outputs": [
    {
     "name": "stdout",
     "output_type": "stream",
     "text": [
      "Enter a number: 55\n",
      "Palindrome\n"
     ]
    }
   ],
   "source": [
    "original_num = int(input('Enter a number: '))\n",
    "copy_original_num = original_num\n",
    "\n",
    "reverse_num = 0\n",
    "\n",
    "#logic\n",
    "\n",
    "while original_num > 0:\n",
    "    rem = original_num % 10\n",
    "    original_num = original_num//10\n",
    "    reverse_num = reverse_num*10 + rem\n",
    "    \n",
    "if copy_original_num == reverse_num:\n",
    "    print('Palindrome')\n",
    "else:\n",
    "    print('Not Palindrome')"
   ]
  },
  {
   "cell_type": "markdown",
   "id": "48c82b32",
   "metadata": {},
   "source": [
    "#### Breaking down the logic:\n",
    "\n",
    "num_to_check = 123\n",
    "\n",
    "**Iteration 1:**\n",
    "\n",
    "`rem = 123 % 10 = 3 #extracting the last digit from the number`\n",
    "\n",
    "`original_num = 123 //10 = 12`\n",
    "\n",
    "`reverse_num = 0 *10 + 3 = 3`\n",
    "\n",
    "original_num is still greater than 0 so we can go on a second iteration\n",
    "\n",
    "**Iteration 2:**\n",
    "\n",
    "`rem = 12 % 10 = 2 #extracting the second to last digit`\n",
    "\n",
    "`original_num = 12//10 = 1`\n",
    "\n",
    "`reverse_num = 3 * 10 +2 = 32`\n",
    "\n",
    "original_num is still greater than 0, so we go on the third iteration\n",
    "\n",
    "**Iteration 3:**\n",
    "\n",
    "`rem = 1 % 10 = 1 #extracting the third digit`\n",
    "\n",
    "`original_num = 1//10 = 0`\n",
    "\n",
    "`reverse_num = 32*10+1 = 321`\n",
    "\n",
    "\n",
    "original_sum = 0 so we cannot go on another iteration\n",
    "\n",
    "\n",
    "\n",
    "#### Breaking down the logic:\n",
    "\n",
    "num_to_check = 55\n",
    "\n",
    "**Iteration 1:**\n",
    "\n",
    "`rem = 55 % 10 = 5 #extracting the last digit`\n",
    "\n",
    "`original_num = 55//10 = 5`\n",
    "\n",
    "`reverse_num = 0*10+5 = 5`\n",
    "\n",
    "original_num is still greater than 0 so we can go on the second iteration\n",
    "\n",
    "**Iteration 2:**\n",
    "\n",
    "`rem = 5 % 10 = 5 #extracting the last digit`\n",
    "\n",
    "`original_num = 5//10 = 0`\n",
    "\n",
    "`reverse_num = 5*10+5 = 55`\n",
    "\n",
    "original_num is 0, so we can stop our iteration."
   ]
  },
  {
   "cell_type": "code",
   "execution_count": 50,
   "id": "174a36dd",
   "metadata": {},
   "outputs": [
    {
     "name": "stdout",
     "output_type": "stream",
     "text": [
      "Enter a number: 123\n",
      "Not Palindrome\n"
     ]
    }
   ],
   "source": [
    "original_num = int(input('Enter a number: '))\n",
    "copy_original_num = original_num\n",
    "\n",
    "reverse_num = 0\n",
    "\n",
    "#logic\n",
    "\n",
    "while original_num > 0:\n",
    "    rem = original_num % 10\n",
    "    original_num = original_num//10\n",
    "    reverse_num = reverse_num*10 + rem\n",
    "    \n",
    "if copy_original_num == reverse_num:\n",
    "    print('Palindrome')\n",
    "else:\n",
    "    print('Not Palindrome')"
   ]
  },
  {
   "cell_type": "code",
   "execution_count": null,
   "id": "dab6d1a6",
   "metadata": {},
   "outputs": [],
   "source": []
  }
 ],
 "metadata": {
  "kernelspec": {
   "display_name": "Python 3 (ipykernel)",
   "language": "python",
   "name": "python3"
  },
  "language_info": {
   "codemirror_mode": {
    "name": "ipython",
    "version": 3
   },
   "file_extension": ".py",
   "mimetype": "text/x-python",
   "name": "python",
   "nbconvert_exporter": "python",
   "pygments_lexer": "ipython3",
   "version": "3.9.13"
  }
 },
 "nbformat": 4,
 "nbformat_minor": 5
}
