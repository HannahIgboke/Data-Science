{
 "cells": [
  {
   "cell_type": "markdown",
   "id": "5c1adad2",
   "metadata": {},
   "source": [
    "# Chi square test of independence"
   ]
  },
  {
   "cell_type": "markdown",
   "id": "ede50b34",
   "metadata": {},
   "source": [
    "Where do we start from? The beginning!\n",
    "\n",
    "## Contingency table\n",
    "A contingency table aka a two-way frequency table is a tabular mechanism with at least two rows and columns used in statistics to present categorical columns in terms of frequency counts. They provide a basic picture of the interrelation between betweem two variables and can help find interractions between them.\n",
    "\n",
    "The interest is in assessing whether one factor depends or is contingent on another or that a set of factors influence another set of factors.\n",
    "\n",
    "#### Uses of contigency tables\n",
    "- Assessment of joint and marginal probabilities.\n",
    "- Computation of expected frequencies.\n",
    "- Testing for independence of the two characterstics.\n",
    "\n",
    "In chi_square test of independence, the expected frequency for each cell is calculated and the assumption suggests that no cell should have expected frequency less than 5 but if any expected counts are less than 5, then some other test should be used such as the Fisher's exact test.\n",
    "\n",
    "The expected frequency value is given as:\n",
    "\n",
    "$$E_{ij} = \\frac{(sum \\ of \\ row_i) * (sum \\ of \\ column_i)}{sample \\ size}$$\n",
    "\n",
    "One of the major benefits of computing the expected frequencies is the ability to test whether the two variables being examined are actually independent as they have been assumed throughout. This is done by computing, for each cell, the expected frequency $E_{ij}$ and comparing it with the observed frequency $O_{ij}$\n",
    "\n",
    "## Chi-square tests\n",
    "Chi-square tests can be conducted on contigenecy tables to test whether or not a relationship exists between variables. The chi-square test statistic test for contigency is given as:\n",
    "\n",
    "$$x^2 = \\frac{(O_1 - E_1)^2}{E_1} + \\frac{(O_2 - E_2)^2}{E_2} + \\ ... \\ + \\frac{(O_k - E_k)^2}{E_k}$$\n",
    "\n",
    "Where the sum is taken over all cells in the contingency, k = rc (r=rows, c=columns)\n",
    "\n",
    "When the Chi-square statistic is small it means that there is little relationship betweem the categorical variables. A large chi-square value means that there is a definite relationship between the two variables.\n",
    "\n",
    "## Chi-sqaure test of independence\n",
    "How do we test the independence of two categorical variables? It is done using the chi-square test of independence. The interest is to research if two categorical variables are related or associated in the population from which the sample is drawn.\n",
    "\n",
    "Therefore, until we have evidence to suggest that they are dependent we must assume that they are independent. This is the concept behind the hypothesis for the chi-square test of independence:\n",
    "\n",
    "$H_0:$ In the population, the two categorical variables are independent (i.e., there is no relationship between the categorical variables)\n",
    "\n",
    "$H_1:$ In the population, two categorical variables are dependent (i.e., there is a relationship between the two categorical columns)\n",
    "\n",
    "We make our final decision by comparing the value of the test statistic to a critical value. The critical value for our chi-square test is:\n",
    "\n",
    "$\\chi^2_{\\alpha, (r-1)(c-1)}$\n",
    "\n",
    "For example, let's say that the chi-square test statistic $x_2$ = 22.152,\n",
    "\n",
    "with degrees of freedom equal to $\\chi^2_{0.05, (2-1)(3-1)} = \\chi^2{0.05, 2} = 5.99$ computed from the table.\n",
    "\n",
    "Where:\n",
    "\n",
    "$\\alpha$ = siginificance level\n",
    "\n",
    "r = number of rows = 2\n",
    "\n",
    "c = number of columns = 3\n",
    "\n",
    "Now since $\\chi^2 = 22.152 > \\chi^2_{0.05, 2} = 5.99$, we reject the null hypothesis which says that the categorical values are independent, and we can say that we are 95% confident that the categorical values in question are actually dependent."
   ]
  },
  {
   "cell_type": "code",
   "execution_count": 2,
   "id": "7a87f366",
   "metadata": {},
   "outputs": [
    {
     "name": "stderr",
     "output_type": "stream",
     "text": [
      "C:\\Users\\USER\\anaconda3\\lib\\site-packages\\pandas\\core\\arrays\\masked.py:60: UserWarning: Pandas requires version '1.3.6' or newer of 'bottleneck' (version '1.3.5' currently installed).\n",
      "  from pandas.core import (\n",
      "C:\\Users\\USER\\anaconda3\\lib\\site-packages\\scipy\\__init__.py:155: UserWarning: A NumPy version >=1.18.5 and <1.25.0 is required for this version of SciPy (detected version 1.26.4\n",
      "  warnings.warn(f\"A NumPy version >={np_minversion} and <{np_maxversion}\"\n"
     ]
    }
   ],
   "source": [
    "#importing libraries\n",
    "\n",
    "import numpy as np\n",
    "import pandas as pd\n",
    "import matplotlib.pyplot as plt\n",
    "\n",
    "from scipy.stats import chi2\n",
    "from scipy.stats import chi2_contingency\n",
    "\n",
    "'''\n",
    "where chi2_contingency returns the:\n",
    "- chi2 test statistic\n",
    "- p-value\n",
    "- degree of freedom\n",
    "- expected frequencies\n",
    "'''"
   ]
  },
  {
   "cell_type": "code",
   "execution_count": 3,
   "id": "eefa2366",
   "metadata": {},
   "outputs": [
    {
     "data": {
      "text/plain": [
       "[<matplotlib.lines.Line2D at 0x161136d3ac0>]"
      ]
     },
     "execution_count": 3,
     "metadata": {},
     "output_type": "execute_result"
    },
    {
     "data": {
      "image/png": "[encoded data removed]",
      "text/plain": [
       "<Figure size 640x480 with 1 Axes>"
      ]
     },
     "metadata": {},
     "output_type": "display_data"
    }
   ],
   "source": [
    "x_min = -10\n",
    "x_max = 100\n",
    "\n",
    "x = np.linspace(x_min, x_max, 100) #linspace generates an array of evenly spaced numbers over a specified interval\n",
    "y = chi2.pdf(x, df=4)\n",
    "plt.plot(x,y)"
   ]
  },
  {
   "cell_type": "code",
   "execution_count": 4,
   "id": "23b946c0",
   "metadata": {},
   "outputs": [
    {
     "data": {
      "text/html": [
       "<div>\n",
       "<style scoped>\n",
       "    .dataframe tbody tr th:only-of-type {\n",
       "        vertical-align: middle;\n",
       "    }\n",
       "\n",
       "    .dataframe tbody tr th {\n",
       "        vertical-align: top;\n",
       "    }\n",
       "\n",
       "    .dataframe thead th {\n",
       "        text-align: right;\n",
       "    }\n",
       "</style>\n",
       "<table border=\"1\" class=\"dataframe\">\n",
       "  <thead>\n",
       "    <tr style=\"text-align: right;\">\n",
       "      <th></th>\n",
       "      <th>age</th>\n",
       "      <th>workclass</th>\n",
       "      <th>fnlwgt</th>\n",
       "      <th>education</th>\n",
       "      <th>educational-num</th>\n",
       "      <th>marital-status</th>\n",
       "      <th>occupation</th>\n",
       "      <th>relationship</th>\n",
       "      <th>race</th>\n",
       "      <th>gender</th>\n",
       "      <th>capital-gain</th>\n",
       "      <th>capital-loss</th>\n",
       "      <th>hours-per-week</th>\n",
       "      <th>native-country</th>\n",
       "      <th>income</th>\n",
       "    </tr>\n",
       "  </thead>\n",
       "  <tbody>\n",
       "    <tr>\n",
       "      <th>0</th>\n",
       "      <td>25</td>\n",
       "      <td>Private</td>\n",
       "      <td>226802</td>\n",
       "      <td>11th</td>\n",
       "      <td>7</td>\n",
       "      <td>Never-married</td>\n",
       "      <td>Machine-op-inspct</td>\n",
       "      <td>Own-child</td>\n",
       "      <td>Black</td>\n",
       "      <td>Male</td>\n",
       "      <td>0</td>\n",
       "      <td>0</td>\n",
       "      <td>40</td>\n",
       "      <td>United-States</td>\n",
       "      <td>&lt;=50K</td>\n",
       "    </tr>\n",
       "    <tr>\n",
       "      <th>1</th>\n",
       "      <td>38</td>\n",
       "      <td>Private</td>\n",
       "      <td>89814</td>\n",
       "      <td>HS-grad</td>\n",
       "      <td>9</td>\n",
       "      <td>Married-civ-spouse</td>\n",
       "      <td>Farming-fishing</td>\n",
       "      <td>Husband</td>\n",
       "      <td>White</td>\n",
       "      <td>Male</td>\n",
       "      <td>0</td>\n",
       "      <td>0</td>\n",
       "      <td>50</td>\n",
       "      <td>United-States</td>\n",
       "      <td>&lt;=50K</td>\n",
       "    </tr>\n",
       "    <tr>\n",
       "      <th>2</th>\n",
       "      <td>28</td>\n",
       "      <td>Local-gov</td>\n",
       "      <td>336951</td>\n",
       "      <td>Assoc-acdm</td>\n",
       "      <td>12</td>\n",
       "      <td>Married-civ-spouse</td>\n",
       "      <td>Protective-serv</td>\n",
       "      <td>Husband</td>\n",
       "      <td>White</td>\n",
       "      <td>Male</td>\n",
       "      <td>0</td>\n",
       "      <td>0</td>\n",
       "      <td>40</td>\n",
       "      <td>United-States</td>\n",
       "      <td>&gt;50K</td>\n",
       "    </tr>\n",
       "    <tr>\n",
       "      <th>3</th>\n",
       "      <td>44</td>\n",
       "      <td>Private</td>\n",
       "      <td>160323</td>\n",
       "      <td>Some-college</td>\n",
       "      <td>10</td>\n",
       "      <td>Married-civ-spouse</td>\n",
       "      <td>Machine-op-inspct</td>\n",
       "      <td>Husband</td>\n",
       "      <td>Black</td>\n",
       "      <td>Male</td>\n",
       "      <td>7688</td>\n",
       "      <td>0</td>\n",
       "      <td>40</td>\n",
       "      <td>United-States</td>\n",
       "      <td>&gt;50K</td>\n",
       "    </tr>\n",
       "    <tr>\n",
       "      <th>4</th>\n",
       "      <td>18</td>\n",
       "      <td>?</td>\n",
       "      <td>103497</td>\n",
       "      <td>Some-college</td>\n",
       "      <td>10</td>\n",
       "      <td>Never-married</td>\n",
       "      <td>?</td>\n",
       "      <td>Own-child</td>\n",
       "      <td>White</td>\n",
       "      <td>Female</td>\n",
       "      <td>0</td>\n",
       "      <td>0</td>\n",
       "      <td>30</td>\n",
       "      <td>United-States</td>\n",
       "      <td>&lt;=50K</td>\n",
       "    </tr>\n",
       "  </tbody>\n",
       "</table>\n",
       "</div>"
      ],
      "text/plain": [
       "   age  workclass  fnlwgt     education  educational-num      marital-status  \\\n",
       "0   25    Private  226802          11th                7       Never-married   \n",
       "1   38    Private   89814       HS-grad                9  Married-civ-spouse   \n",
       "2   28  Local-gov  336951    Assoc-acdm               12  Married-civ-spouse   \n",
       "3   44    Private  160323  Some-college               10  Married-civ-spouse   \n",
       "4   18          ?  103497  Some-college               10       Never-married   \n",
       "\n",
       "          occupation relationship   race  gender  capital-gain  capital-loss  \\\n",
       "0  Machine-op-inspct    Own-child  Black    Male             0             0   \n",
       "1    Farming-fishing      Husband  White    Male             0             0   \n",
       "2    Protective-serv      Husband  White    Male             0             0   \n",
       "3  Machine-op-inspct      Husband  Black    Male          7688             0   \n",
       "4                  ?    Own-child  White  Female             0             0   \n",
       "\n",
       "   hours-per-week native-country income  \n",
       "0              40  United-States  <=50K  \n",
       "1              50  United-States  <=50K  \n",
       "2              40  United-States   >50K  \n",
       "3              40  United-States   >50K  \n",
       "4              30  United-States  <=50K  "
      ]
     },
     "execution_count": 4,
     "metadata": {},
     "output_type": "execute_result"
    }
   ],
   "source": [
    "data = pd.read_csv('Data/adult.csv')\n",
    "data.head()"
   ]
  },
  {
   "cell_type": "code",
   "execution_count": 14,
   "id": "a36a2cee",
   "metadata": {},
   "outputs": [
    {
     "data": {
      "text/plain": [
       "(48842, 15)"
      ]
     },
     "execution_count": 14,
     "metadata": {},
     "output_type": "execute_result"
    }
   ],
   "source": [
    "data.shape"
   ]
  },
  {
   "cell_type": "code",
   "execution_count": 5,
   "id": "0cdaebf6",
   "metadata": {},
   "outputs": [
    {
     "data": {
      "text/plain": [
       "Index(['age', 'workclass', 'fnlwgt', 'education', 'educational-num',\n",
       "       'marital-status', 'occupation', 'relationship', 'race', 'gender',\n",
       "       'capital-gain', 'capital-loss', 'hours-per-week', 'native-country',\n",
       "       'income'],\n",
       "      dtype='object')"
      ]
     },
     "execution_count": 5,
     "metadata": {},
     "output_type": "execute_result"
    }
   ],
   "source": [
    "data.columns"
   ]
  },
  {
   "cell_type": "markdown",
   "id": "c628f39d",
   "metadata": {},
   "source": [
    "### Question: is there a relationship between occupation and gender? (or does the preference of occupation depend on the gender)"
   ]
  },
  {
   "cell_type": "code",
   "execution_count": 6,
   "id": "be251ebc",
   "metadata": {},
   "outputs": [
    {
     "data": {
      "text/plain": [
       "gender\n",
       "Male      32650\n",
       "Female    16192\n",
       "Name: count, dtype: int64"
      ]
     },
     "execution_count": 6,
     "metadata": {},
     "output_type": "execute_result"
    }
   ],
   "source": [
    "data['gender'].value_counts()"
   ]
  },
  {
   "cell_type": "code",
   "execution_count": 8,
   "id": "483dd48e",
   "metadata": {},
   "outputs": [
    {
     "data": {
      "text/plain": [
       "occupation\n",
       "Prof-specialty       6172\n",
       "Craft-repair         6112\n",
       "Exec-managerial      6086\n",
       "Adm-clerical         5611\n",
       "Sales                5504\n",
       "Other-service        4923\n",
       "Machine-op-inspct    3022\n",
       "?                    2809\n",
       "Transport-moving     2355\n",
       "Handlers-cleaners    2072\n",
       "Farming-fishing      1490\n",
       "Tech-support         1446\n",
       "Protective-serv       983\n",
       "Priv-house-serv       242\n",
       "Armed-Forces           15\n",
       "Name: count, dtype: int64"
      ]
     },
     "execution_count": 8,
     "metadata": {},
     "output_type": "execute_result"
    }
   ],
   "source": [
    "data['occupation'].value_counts()"
   ]
  },
  {
   "cell_type": "markdown",
   "id": "a64e00e9",
   "metadata": {},
   "source": [
    "### Using the Chi2 test \n",
    "\n",
    "Let's make a bold claim that gender and occupation are dependent.\n",
    "\n",
    "**Step 1: state the hypothesis**\n",
    "\n",
    "$H_0:$ They are independent\n",
    "\n",
    "$H_1:$ They are dependent\n",
    "\n",
    "**Step 2:** \n",
    "\n",
    "- Collect the sample of size n\n",
    "- Compute the sample frequencies\n",
    "\n",
    "**Step 3: compute the $\\chi^2$ test statistic**\n",
    "\n",
    "We need to check if the difference in the observed and expected frequencies is too extreme to reject the null hypothesis.\n",
    "\n",
    "- Have a look at the observed frequencies (in the sample\n",
    "- Compute the expected frequencies (under the null hypothesis assumption)\n",
    "\n",
    "$$Expected \\ value = \\frac{row \\ total * col \\ total}{grand \\ total}$$\n",
    "\n",
    "Then, the test statistic can be computed using the below mentioned formula:\n",
    "\n",
    "$$\\chi^2 = \\Sigma \\frac{(o-e)^2}{e} $$\n",
    "\n",
    "**Step 4: decide $\\alpha$ and $df = (rows - 1)(cols - 1)$**\n",
    "\n",
    "**Step 5: apply decision rule**\n",
    "\n",
    "- Chi square test\n",
    "\n",
    "$$if \\chi^2 > \\chi^2_{df, \\alpha} \\Rightarrow Reject \\ H_0$$\n",
    "\n",
    "- p-value test\n",
    "\n",
    "$$p value = (1.0 - cdf(test \\ statistic))$$\n",
    "\n",
    "Now, \n",
    "\n",
    "$$if (p \\ value < \\alpha) \\Rightarrow Accept \\ H_1 or Reject \\ H_0$$"
   ]
  },
  {
   "cell_type": "code",
   "execution_count": 20,
   "id": "cc4eb926",
   "metadata": {},
   "outputs": [
    {
     "data": {
      "text/html": [
       "<div>\n",
       "<style scoped>\n",
       "    .dataframe tbody tr th:only-of-type {\n",
       "        vertical-align: middle;\n",
       "    }\n",
       "\n",
       "    .dataframe tbody tr th {\n",
       "        vertical-align: top;\n",
       "    }\n",
       "\n",
       "    .dataframe thead th {\n",
       "        text-align: right;\n",
       "    }\n",
       "</style>\n",
       "<table border=\"1\" class=\"dataframe\">\n",
       "  <thead>\n",
       "    <tr style=\"text-align: right;\">\n",
       "      <th>gender</th>\n",
       "      <th>Female</th>\n",
       "      <th>Male</th>\n",
       "      <th>All</th>\n",
       "    </tr>\n",
       "    <tr>\n",
       "      <th>occupation</th>\n",
       "      <th></th>\n",
       "      <th></th>\n",
       "      <th></th>\n",
       "    </tr>\n",
       "  </thead>\n",
       "  <tbody>\n",
       "    <tr>\n",
       "      <th>?</th>\n",
       "      <td>1273</td>\n",
       "      <td>1536</td>\n",
       "      <td>2809</td>\n",
       "    </tr>\n",
       "    <tr>\n",
       "      <th>Adm-clerical</th>\n",
       "      <td>3769</td>\n",
       "      <td>1842</td>\n",
       "      <td>5611</td>\n",
       "    </tr>\n",
       "    <tr>\n",
       "      <th>Armed-Forces</th>\n",
       "      <td>0</td>\n",
       "      <td>15</td>\n",
       "      <td>15</td>\n",
       "    </tr>\n",
       "    <tr>\n",
       "      <th>Craft-repair</th>\n",
       "      <td>323</td>\n",
       "      <td>5789</td>\n",
       "      <td>6112</td>\n",
       "    </tr>\n",
       "    <tr>\n",
       "      <th>Exec-managerial</th>\n",
       "      <td>1748</td>\n",
       "      <td>4338</td>\n",
       "      <td>6086</td>\n",
       "    </tr>\n",
       "    <tr>\n",
       "      <th>Farming-fishing</th>\n",
       "      <td>95</td>\n",
       "      <td>1395</td>\n",
       "      <td>1490</td>\n",
       "    </tr>\n",
       "    <tr>\n",
       "      <th>Handlers-cleaners</th>\n",
       "      <td>254</td>\n",
       "      <td>1818</td>\n",
       "      <td>2072</td>\n",
       "    </tr>\n",
       "    <tr>\n",
       "      <th>Machine-op-inspct</th>\n",
       "      <td>804</td>\n",
       "      <td>2218</td>\n",
       "      <td>3022</td>\n",
       "    </tr>\n",
       "    <tr>\n",
       "      <th>Other-service</th>\n",
       "      <td>2698</td>\n",
       "      <td>2225</td>\n",
       "      <td>4923</td>\n",
       "    </tr>\n",
       "    <tr>\n",
       "      <th>Priv-house-serv</th>\n",
       "      <td>228</td>\n",
       "      <td>14</td>\n",
       "      <td>242</td>\n",
       "    </tr>\n",
       "    <tr>\n",
       "      <th>Prof-specialty</th>\n",
       "      <td>2242</td>\n",
       "      <td>3930</td>\n",
       "      <td>6172</td>\n",
       "    </tr>\n",
       "    <tr>\n",
       "      <th>Protective-serv</th>\n",
       "      <td>122</td>\n",
       "      <td>861</td>\n",
       "      <td>983</td>\n",
       "    </tr>\n",
       "    <tr>\n",
       "      <th>Sales</th>\n",
       "      <td>1947</td>\n",
       "      <td>3557</td>\n",
       "      <td>5504</td>\n",
       "    </tr>\n",
       "    <tr>\n",
       "      <th>Tech-support</th>\n",
       "      <td>562</td>\n",
       "      <td>884</td>\n",
       "      <td>1446</td>\n",
       "    </tr>\n",
       "    <tr>\n",
       "      <th>Transport-moving</th>\n",
       "      <td>127</td>\n",
       "      <td>2228</td>\n",
       "      <td>2355</td>\n",
       "    </tr>\n",
       "    <tr>\n",
       "      <th>All</th>\n",
       "      <td>16192</td>\n",
       "      <td>32650</td>\n",
       "      <td>48842</td>\n",
       "    </tr>\n",
       "  </tbody>\n",
       "</table>\n",
       "</div>"
      ],
      "text/plain": [
       "gender             Female   Male    All\n",
       "occupation                             \n",
       "?                    1273   1536   2809\n",
       "Adm-clerical         3769   1842   5611\n",
       "Armed-Forces            0     15     15\n",
       "Craft-repair          323   5789   6112\n",
       "Exec-managerial      1748   4338   6086\n",
       "Farming-fishing        95   1395   1490\n",
       "Handlers-cleaners     254   1818   2072\n",
       "Machine-op-inspct     804   2218   3022\n",
       "Other-service        2698   2225   4923\n",
       "Priv-house-serv       228     14    242\n",
       "Prof-specialty       2242   3930   6172\n",
       "Protective-serv       122    861    983\n",
       "Sales                1947   3557   5504\n",
       "Tech-support          562    884   1446\n",
       "Transport-moving      127   2228   2355\n",
       "All                 16192  32650  48842"
      ]
     },
     "execution_count": 20,
     "metadata": {},
     "output_type": "execute_result"
    }
   ],
   "source": [
    "# Step 2: looking at the frequency distribution\n",
    "pd.crosstab(data.occupation, data.gender, margins = True)"
   ]
  },
  {
   "cell_type": "code",
   "execution_count": 21,
   "id": "ca0f9d25",
   "metadata": {},
   "outputs": [
    {
     "data": {
      "text/html": [
       "<div>\n",
       "<style scoped>\n",
       "    .dataframe tbody tr th:only-of-type {\n",
       "        vertical-align: middle;\n",
       "    }\n",
       "\n",
       "    .dataframe tbody tr th {\n",
       "        vertical-align: top;\n",
       "    }\n",
       "\n",
       "    .dataframe thead th {\n",
       "        text-align: right;\n",
       "    }\n",
       "</style>\n",
       "<table border=\"1\" class=\"dataframe\">\n",
       "  <thead>\n",
       "    <tr style=\"text-align: right;\">\n",
       "      <th>gender</th>\n",
       "      <th>Female</th>\n",
       "      <th>Male</th>\n",
       "    </tr>\n",
       "    <tr>\n",
       "      <th>occupation</th>\n",
       "      <th></th>\n",
       "      <th></th>\n",
       "    </tr>\n",
       "  </thead>\n",
       "  <tbody>\n",
       "    <tr>\n",
       "      <th>?</th>\n",
       "      <td>1273</td>\n",
       "      <td>1536</td>\n",
       "    </tr>\n",
       "    <tr>\n",
       "      <th>Adm-clerical</th>\n",
       "      <td>3769</td>\n",
       "      <td>1842</td>\n",
       "    </tr>\n",
       "    <tr>\n",
       "      <th>Armed-Forces</th>\n",
       "      <td>0</td>\n",
       "      <td>15</td>\n",
       "    </tr>\n",
       "    <tr>\n",
       "      <th>Craft-repair</th>\n",
       "      <td>323</td>\n",
       "      <td>5789</td>\n",
       "    </tr>\n",
       "    <tr>\n",
       "      <th>Exec-managerial</th>\n",
       "      <td>1748</td>\n",
       "      <td>4338</td>\n",
       "    </tr>\n",
       "    <tr>\n",
       "      <th>Farming-fishing</th>\n",
       "      <td>95</td>\n",
       "      <td>1395</td>\n",
       "    </tr>\n",
       "    <tr>\n",
       "      <th>Handlers-cleaners</th>\n",
       "      <td>254</td>\n",
       "      <td>1818</td>\n",
       "    </tr>\n",
       "    <tr>\n",
       "      <th>Machine-op-inspct</th>\n",
       "      <td>804</td>\n",
       "      <td>2218</td>\n",
       "    </tr>\n",
       "    <tr>\n",
       "      <th>Other-service</th>\n",
       "      <td>2698</td>\n",
       "      <td>2225</td>\n",
       "    </tr>\n",
       "    <tr>\n",
       "      <th>Priv-house-serv</th>\n",
       "      <td>228</td>\n",
       "      <td>14</td>\n",
       "    </tr>\n",
       "    <tr>\n",
       "      <th>Prof-specialty</th>\n",
       "      <td>2242</td>\n",
       "      <td>3930</td>\n",
       "    </tr>\n",
       "    <tr>\n",
       "      <th>Protective-serv</th>\n",
       "      <td>122</td>\n",
       "      <td>861</td>\n",
       "    </tr>\n",
       "    <tr>\n",
       "      <th>Sales</th>\n",
       "      <td>1947</td>\n",
       "      <td>3557</td>\n",
       "    </tr>\n",
       "    <tr>\n",
       "      <th>Tech-support</th>\n",
       "      <td>562</td>\n",
       "      <td>884</td>\n",
       "    </tr>\n",
       "    <tr>\n",
       "      <th>Transport-moving</th>\n",
       "      <td>127</td>\n",
       "      <td>2228</td>\n",
       "    </tr>\n",
       "  </tbody>\n",
       "</table>\n",
       "</div>"
      ],
      "text/plain": [
       "gender             Female  Male\n",
       "occupation                     \n",
       "?                    1273  1536\n",
       "Adm-clerical         3769  1842\n",
       "Armed-Forces            0    15\n",
       "Craft-repair          323  5789\n",
       "Exec-managerial      1748  4338\n",
       "Farming-fishing        95  1395\n",
       "Handlers-cleaners     254  1818\n",
       "Machine-op-inspct     804  2218\n",
       "Other-service        2698  2225\n",
       "Priv-house-serv       228    14\n",
       "Prof-specialty       2242  3930\n",
       "Protective-serv       122   861\n",
       "Sales                1947  3557\n",
       "Tech-support          562   884\n",
       "Transport-moving      127  2228"
      ]
     },
     "execution_count": 21,
     "metadata": {},
     "output_type": "execute_result"
    }
   ],
   "source": [
    "# this is known as the observed frequencies\n",
    "\n",
    "observed = pd.crosstab(data.occupation, data.gender)\n",
    "observed"
   ]
  },
  {
   "cell_type": "code",
   "execution_count": 22,
   "id": "32cad1e9",
   "metadata": {},
   "outputs": [
    {
     "data": {
      "text/plain": [
       "(8789.50801388705,\n",
       " 0.0,\n",
       " 14,\n",
       " array([[ 931.233938  , 1877.766062  ],\n",
       "        [1860.14725032, 3750.85274968],\n",
       "        [   4.97276934,   10.02723066],\n",
       "        [2026.2377462 , 4085.7622538 ],\n",
       "        [2017.61827935, 4068.38172065],\n",
       "        [ 493.96175423,  996.03824577],\n",
       "        [ 686.90520454, 1385.09479546],\n",
       "        [1001.8472626 , 2020.1527374 ],\n",
       "        [1632.06289669, 3290.93710331],\n",
       "        [  80.22734532,  161.77265468],\n",
       "        [2046.12882355, 4125.87117645],\n",
       "        [ 325.88215061,  657.11784939],\n",
       "        [1824.67482904, 3679.32517096],\n",
       "        [ 479.37496417,  966.62503583],\n",
       "        [ 780.72478604, 1574.27521396]]))"
      ]
     },
     "execution_count": 22,
     "metadata": {},
     "output_type": "execute_result"
    }
   ],
   "source": [
    "#to return chi2 parameters\n",
    "\n",
    "chi2_contingency(observed)"
   ]
  },
  {
   "cell_type": "code",
   "execution_count": 23,
   "id": "a40978df",
   "metadata": {},
   "outputs": [],
   "source": [
    "#the above result is a 1 by 4 shaped result\n",
    "#so we use [] to select each of the results and assign it to a variable name\n",
    "\n",
    "chi2_test_stat = chi2_contingency(observed)[0]\n",
    "p_val = chi2_contingency(observed)[1]\n",
    "df = chi2_contingency(observed)[2]"
   ]
  },
  {
   "cell_type": "code",
   "execution_count": 25,
   "id": "55683bd5",
   "metadata": {},
   "outputs": [
    {
     "data": {
      "text/plain": [
       "21.064144212997064"
      ]
     },
     "execution_count": 25,
     "metadata": {},
     "output_type": "execute_result"
    }
   ],
   "source": [
    "confidence_level = 0.90\n",
    "\n",
    "alpha = 1 - confidence_level\n",
    "\n",
    "chi2_critical = chi2.ppf(1-alpha, df)\n",
    "\n",
    "chi2_critical"
   ]
  },
  {
   "cell_type": "code",
   "execution_count": 27,
   "id": "cb9f939c",
   "metadata": {},
   "outputs": [
    {
     "data": {
      "text/plain": [
       "<matplotlib.collections.PolyCollection at 0x1611530fc70>"
      ]
     },
     "execution_count": 27,
     "metadata": {},
     "output_type": "execute_result"
    },
    {
     "data": {
      "image/png": "[encoded data removed]",
      "text/plain": [
       "<Figure size 640x480 with 1 Axes>"
      ]
     },
     "metadata": {},
     "output_type": "display_data"
    }
   ],
   "source": [
    "#plotting the chi2 distribution to visualize\n",
    "\n",
    "#defining the x minimum and x maximum\n",
    "x_min = 0\n",
    "x_max = 100\n",
    "\n",
    "#plotting the graph and setting the x limits\n",
    "x = np.linspace(x_min, x_max, 100)\n",
    "y = chi2.pdf(x, df)\n",
    "plt.xlim(x_min, x_max)\n",
    "plt.plot(x, y)\n",
    "\n",
    "#setting the chi2 critical value\n",
    "chi2_critical_right = chi2_critical\n",
    "\n",
    "#shading the right rejection region\n",
    "x1 = np.linspace(chi2_critical_right, x_max, 100)\n",
    "y1 = chi2.pdf(x1, df)\n",
    "\n",
    "plt.fill_between(x1, y1, color='orange')"
   ]
  },
  {
   "cell_type": "code",
   "execution_count": 28,
   "id": "3ea7b59e",
   "metadata": {},
   "outputs": [
    {
     "name": "stdout",
     "output_type": "stream",
     "text": [
      "Reject null hypothesis\n"
     ]
    }
   ],
   "source": [
    "#applying decision rule\n",
    "\n",
    "if (chi2_test_stat > chi2_critical):\n",
    "    print('Reject null hypothesis')\n",
    "else:\n",
    "    print('Fail to reject null hypothesis')"
   ]
  },
  {
   "cell_type": "code",
   "execution_count": 29,
   "id": "156c3bb2",
   "metadata": {},
   "outputs": [
    {
     "name": "stdout",
     "output_type": "stream",
     "text": [
      "Reject null hypothesis\n"
     ]
    }
   ],
   "source": [
    "if (p_val < alpha):\n",
    "    print('Reject null hypothesis')\n",
    "else: \n",
    "    print('Fail to reject null hypothesis')"
   ]
  },
  {
   "cell_type": "markdown",
   "id": "a83e6046",
   "metadata": {},
   "source": [
    "By rejecting the null hypothesis, it means that there is indeed a relationship between the gender and the occupation or in other words, the preference of occupation depends on the gender."
   ]
  },
  {
   "cell_type": "code",
   "execution_count": null,
   "id": "2f2df231",
   "metadata": {},
   "outputs": [],
   "source": []
  }
 ],
 "metadata": {
  "kernelspec": {
   "display_name": "Python 3 (ipykernel)",
   "language": "python",
   "name": "python3"
  },
  "language_info": {
   "codemirror_mode": {
    "name": "ipython",
    "version": 3
   },
   "file_extension": ".py",
   "mimetype": "text/x-python",
   "name": "python",
   "nbconvert_exporter": "python",
   "pygments_lexer": "ipython3",
   "version": "3.9.13"
  }
 },
 "nbformat": 4,
 "nbformat_minor": 5
}
